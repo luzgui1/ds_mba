{
  "cells": [
    {
      "cell_type": "markdown",
      "metadata": {
        "id": "p97FFCbo5qeD"
      },
      "source": [
        "#**Demostração - Aula 4**"
      ]
    },
    {
      "cell_type": "markdown",
      "metadata": {
        "id": "7TL4vwHbU-0b"
      },
      "source": [
        "###**Configuração inicial para a aula**\n",
        "\n",
        "- Download do arquivo **(cbow_s300.zip)** de Word Embeddings Pré-treinadas em Portugûes (CBOW)\n",
        " * Repositório original: http://nilc.icmc.usp.br/nilc/index.php/repositorio-de-word-embeddings-do-nilc\n",
        " * Repositório do professor: https://dados-ml-pln.s3-sa-east-1.amazonaws.com/cbow_s300.zip\n",
        "\n",
        "- Descompacte o arquivo (conforme exemplo abaixo)\n",
        "- Grave localmente ou no seu drive do Google Drive (conforme exemplo abaixo)\n",
        "- Exsecute os demais passos de processamento usando a biblioteca Gensim"
      ]
    },
    {
      "cell_type": "code",
      "execution_count": null,
      "metadata": {
        "id": "-ZlOqPuJbbRg"
      },
      "outputs": [],
      "source": [
        "# dependências de bibliotecas que vamos utilizar na Demo\n",
        "!python -m spacy download pt_core_news_sm\n",
        "!python -m spacy download pt_core_news_lg\n",
        "!python -m spacy download en_core_web_lg"
      ]
    },
    {
      "cell_type": "markdown",
      "metadata": {
        "id": "ojo9wxW0u3A2"
      },
      "source": [
        "**Obs:** pode ser necessário reunicar o runtime (ambiente) do colab"
      ]
    },
    {
      "cell_type": "code",
      "execution_count": null,
      "metadata": {
        "colab": {
          "background_save": true
        },
        "id": "DjtOsqNhPGLe",
        "outputId": "c00f04d3-3355-41a0-f4e7-2824245f09ee"
      },
      "outputs": [
        {
          "name": "stdout",
          "output_type": "stream",
          "text": [
            "--2023-11-28 18:55:19--  https://dados-ml-pln.s3-sa-east-1.amazonaws.com/cbow_s300.zip\n",
            "Resolving dados-ml-pln.s3-sa-east-1.amazonaws.com (dados-ml-pln.s3-sa-east-1.amazonaws.com)... 3.5.234.171, 16.12.0.66, 52.95.165.7, ...\n",
            "Connecting to dados-ml-pln.s3-sa-east-1.amazonaws.com (dados-ml-pln.s3-sa-east-1.amazonaws.com)|3.5.234.171|:443... connected.\n",
            "HTTP request sent, awaiting response... 200 OK\n",
            "Length: 929305948 (886M) [application/zip]\n",
            "Saving to: ‘cbow_s300.zip’\n",
            "\n",
            "cbow_s300.zip       100%[===================>] 886.25M  24.1MB/s    in 39s     \n",
            "\n",
            "2023-11-28 18:55:58 (22.8 MB/s) - ‘cbow_s300.zip’ saved [929305948/929305948]\n",
            "\n",
            "total 907548\n",
            "drwxr-xr-x 1 root root      4096 Nov 28 18:55 .\n",
            "drwxr-xr-x 1 root root      4096 Nov 28 18:53 ..\n",
            "-rw-r--r-- 1 root root 929305948 Feb 16  2021 cbow_s300.zip\n",
            "drwxr-xr-x 4 root root      4096 Nov 22 14:24 .config\n",
            "drwxr-xr-x 1 root root      4096 Nov 22 14:27 sample_data\n"
          ]
        }
      ],
      "source": [
        "# Download do arquivo no repositório do professor\n",
        "!wget 'https://dados-ml-pln.s3-sa-east-1.amazonaws.com/cbow_s300.zip'\n",
        "!ls -la\n",
        "# veja o nome do arquivo compactado salvo pelo download"
      ]
    },
    {
      "cell_type": "code",
      "execution_count": null,
      "metadata": {
        "colab": {
          "background_save": true
        },
        "id": "jyEAcCdvVrhw",
        "outputId": "c69352c3-c216-4c51-96c2-f5eaf27ea10c"
      },
      "outputs": [
        {
          "name": "stdout",
          "output_type": "stream",
          "text": [
            "Archive:  cbow_s300.zip\n",
            "  inflating: cbow_s300.txt           \n",
            "total 3501348\n",
            "drwxr-xr-x 1 root root       4096 Nov 28 18:55 .\n",
            "drwxr-xr-x 1 root root       4096 Nov 28 18:53 ..\n",
            "-rw-r--r-- 1 root root 2656045531 Oct  4  2018 cbow_s300.txt\n",
            "-rw-r--r-- 1 root root  929305948 Feb 16  2021 cbow_s300.zip\n",
            "drwxr-xr-x 4 root root       4096 Nov 22 14:24 .config\n",
            "drwxr-xr-x 1 root root       4096 Nov 22 14:27 sample_data\n"
          ]
        }
      ],
      "source": [
        "# Descompactação do arquivo\n",
        "!unzip 'cbow_s300.zip' # subistitua com nome do arquivo\n",
        "!ls -la"
      ]
    },
    {
      "cell_type": "code",
      "execution_count": null,
      "metadata": {
        "colab": {
          "background_save": true
        },
        "id": "fydCcyI8PHR0"
      },
      "outputs": [],
      "source": [
        "# Load do modelo pelo Gensim\n",
        "from gensim.models import KeyedVectors\n",
        "\n",
        "model_cbow = KeyedVectors.load_word2vec_format('cbow_s300.txt')"
      ]
    },
    {
      "cell_type": "code",
      "execution_count": 33,
      "metadata": {
        "colab": {
          "base_uri": "https://localhost:8080/"
        },
        "id": "8QSe1mwBPHFb",
        "outputId": "7b48e593-26b0-45cd-ee4e-ec8ddcff422c"
      },
      "outputs": [
        {
          "output_type": "execute_result",
          "data": {
            "text/plain": [
              "<gensim.models.keyedvectors.KeyedVectors at 0x7c1f64a00e20>"
            ]
          },
          "metadata": {},
          "execution_count": 33
        }
      ],
      "source": [
        "model_cbow"
      ]
    },
    {
      "cell_type": "markdown",
      "metadata": {
        "id": "-c0TpknyTFaF"
      },
      "source": [
        "**Obs:** Mantenha sua sessão do Colab ativa até o exercício."
      ]
    },
    {
      "cell_type": "markdown",
      "metadata": {
        "id": "nu0H9xIukm5c"
      },
      "source": [
        "<br>\n",
        "\n",
        "##**Análise Semântica em NLP**\n",
        "\n",
        "---\n",
        "\n",
        "<br>\n",
        "<font size=4>\n",
        "Como falamos, o próximo passo é realizar uma análise semântica dos dados, onde buscaremos entender o significado de cada palavra e como a mesma interage no texto!\n",
        "</font>\n",
        "</br>\n",
        "</br>\n",
        "\n",
        "---"
      ]
    },
    {
      "cell_type": "markdown",
      "metadata": {
        "id": "fA3eBlFSe1RA"
      },
      "source": [
        "### Outra técnica utilizada e considerada mais eficaz nesse processo é o **mapa de vetores multidimensional**, onde cada palavra é representada por coordenadas de forma matemática (números) e visa representar cada palavra ou sentença. Dessa forma conseguimos calcular a distância de cada vetor e analisar a proximidade linguística de cada palavra ou sentença e associar a um determinado contexto como exemplo. Veja abaixo um exemplo simbólico da representação desse vetor:"
      ]
    },
    {
      "cell_type": "markdown",
      "metadata": {
        "id": "jCqUe9gefGC_"
      },
      "source": [
        "![image.png](data:image/png;base64,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)"
      ]
    },
    {
      "cell_type": "markdown",
      "metadata": {
        "id": "qkMoJefb6tzj"
      },
      "source": [
        "<br/>\n",
        "\n",
        "## **Word Embeddings**\n",
        "\n",
        "## Word Embedding é conjunto de modelos para mineração de textos, ou seja, é mais uma técnica de pré-processamento em NLP, onde os textos são transformados e **as palavras representadas por um vetor na forma numérica**, ou seja, em uma representação matemática de cada palavra.\n",
        "<br/>\n",
        "\n",
        "## Até aqui vimos implementações usando modelos com **bag of words**, onde as palavras são representadas em vetores grandes e esparsos que podem representar todo o corpus ou documento, as implementações com modelos de **word embeddings** utilizam representações de **vetores densos de tamanho fixo** que são capazes de armazenar informações sobre o contexto e significado dos documentos.\n",
        "<br/>\n",
        "\n",
        "## Depois de definido a técnica e o vetor na abordagem com word embedding, cada palavra é representada por um ponto em um espaço multidimensional (**embedding space**) e como falamos, cada palavra é representada de forma numérica no vetor, que na verdade são os pontos/dimensões de cada palavra.\n",
        "<br/>\n"
      ]
    },
    {
      "cell_type": "markdown",
      "metadata": {
        "id": "Y4tWIExK8xmQ"
      },
      "source": [
        "![alt text](https://d17h27t6h515a5.cloudfront.net/topher/2017/March/58c0aaf4_linear-relationships/linear-relationships.png)"
      ]
    },
    {
      "cell_type": "markdown",
      "metadata": {
        "id": "orCg_BQTA_RJ"
      },
      "source": [
        "<br/>\n",
        "\n",
        "### Exemplo de visualização de um Embedding: https://projector.tensorflow.org/\n",
        "<br/>"
      ]
    },
    {
      "cell_type": "markdown",
      "metadata": {
        "id": "vFt4H0KL--8_"
      },
      "source": [
        "### Existem dois modelos mais conhecidos de aplicação Word Embeddings, são eles:\n",
        "\n",
        "-\n",
        "### **Word2Vec**, que foi desenvolvido por Tomas Mikolov e pode utilizar algoritmos diferentes e são baseados em redes neurais, são eles:\n",
        "  -\n",
        "###  **Continuous Bag-of-Words (CBOW)**: A ideia do algoritmo Continuous bag of words é prever qual a palavra que estamos buscando a partir de um determinado contexto. Para isto a entrada da rede é um vetor one-hot encoded que represente as palavras do contexto e a sua saída é a palavra que estamos buscando.\n",
        "  -\n",
        "###  **Skip-Gram**: A abordagem do Skip-gram é a inversa, tomando como ponto de partida uma determinada palavra, o objetivo é prever o contexto do qual esta palavra veio. Para isto a entrada da rede é um vetor one-hot encoded que represente a palavra que estamos buscando e a sua saída, as palavras do contexto.\n"
      ]
    },
    {
      "cell_type": "markdown",
      "metadata": {
        "id": "Q3bEWt9sKkoL"
      },
      "source": [
        "![image.png](data:image/png;base64,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)"
      ]
    },
    {
      "cell_type": "markdown",
      "metadata": {
        "id": "c7S5XFBXLP_U"
      },
      "source": [
        "Outro modelo conhecido:\n",
        "\n",
        "-\n",
        "###  **GloVe (Global Vectors for Word Representation)**, desenvolvido por Pennington em Stanford. É uma extensão do método Word2Vec, no entanto, ao invés de usar uma janela fixa para configurar o contexto, este método constrói a matriz co-occurrence usando estatísticas extraídas do próprio texto.\n",
        "\n",
        "<br/>\n",
        "\n",
        "https://wiki.pathmind.com/word2vec\n"
      ]
    },
    {
      "cell_type": "markdown",
      "metadata": {
        "id": "lKg34Lfrbkrd"
      },
      "source": [
        "<br/>\n",
        "\n",
        "---\n",
        "<br/>\n",
        "\n",
        "### Sendo mais especifico, **Word Embeddings** é um modelo de rede neural para representar dados com um grande número de classes de forma mais eficiente. Os Embeddings melhoram muito a capacidade das redes neurais de aprender com dados desse tipo, representando os dados com vetores de menor dimensão.\n",
        "\n",
        "### Word Embeddings em particular são interessantes porque as redes são capazes de aprender relações semânticas entre as palavras. Por exemplo, os embeddings saberão que o equivalente masculino de uma rainha é um rei.\n",
        "\n",
        "<br/>\n",
        "\n"
      ]
    },
    {
      "cell_type": "markdown",
      "metadata": {
        "id": "FcMh1BRpBhrz"
      },
      "source": [
        "<br/>\n",
        "\n",
        "### Para quem se interessar em saber mais sobre Word Embeddings, abaixo estão boas referências!\n",
        "\n",
        "  \n",
        "1.   [Uma visão geral conceitual muito boa do word2vec de Chris McCormick](http://mccormickml.com/2016/04/19/word2vec-tutorial-the-skip-gram-model/)<br/>\n",
        "2.   [Primeiro artigo sobre word2vec de Mikolov et al](https://arxiv.org/pdf/1301.3781.pdf)<br/>\n",
        "3.   [Video de ilustração e implementação em Tensorflow](https://www.youtube.com/watch?v=64qSgA66P-8)<br/>\n",
        "4.  [Modelos de Word Embeddings treinados em pt-br](http://nilc.icmc.usp.br/embeddings)\n",
        "\n",
        "\n",
        "</font>"
      ]
    },
    {
      "cell_type": "markdown",
      "metadata": {
        "id": "0eLgN1leCg7u"
      },
      "source": [
        "### Como o Word2Vec funciona?"
      ]
    },
    {
      "cell_type": "code",
      "execution_count": null,
      "metadata": {
        "colab": {
          "background_save": true
        },
        "id": "FiJdQuql80dG",
        "outputId": "700ffffd-e652-4d39-e9c9-629226b7d66c"
      },
      "outputs": [
        {
          "data": {
            "image/jpeg": "[encoded data removed]",
            "text/html": [
              "\n",
              "        <iframe\n",
              "            width=\"400\"\n",
              "            height=\"300\"\n",
              "            src=\"https://www.youtube.com/embed/64qSgA66P-8\"\n",
              "            frameborder=\"0\"\n",
              "            allowfullscreen\n",
              "            \n",
              "        ></iframe>\n",
              "        "
            ],
            "text/plain": [
              "<IPython.lib.display.YouTubeVideo at 0x7c1f2bea3b20>"
            ]
          },
          "execution_count": 6,
          "metadata": {},
          "output_type": "execute_result"
        }
      ],
      "source": [
        "from IPython.display import YouTubeVideo\n",
        "YouTubeVideo(\"64qSgA66P-8\")"
      ]
    },
    {
      "cell_type": "markdown",
      "metadata": {
        "id": "9EPx5_-hNGkx"
      },
      "source": [
        "https://www.youtube.com/watch?v=64qSgA66P-8"
      ]
    },
    {
      "cell_type": "markdown",
      "metadata": {
        "id": "vMIbL3vNQcRX"
      },
      "source": [
        "Outros modelos treinados com em Word2vec\n",
        "\n",
        "Modelo treinado para saúde: https://www.inf.pucrs.br/linatural/wordpress/recursos-e-ferramentas/word-embeddings-para-saude/\n",
        "<br/>\n",
        "Modelos treinados com bases genéricas: http://www.nilc.icmc.usp.br/embeddings"
      ]
    },
    {
      "cell_type": "markdown",
      "metadata": {
        "id": "qse_E7cWSfOo"
      },
      "source": [
        "<br/><br/>\n",
        "\n",
        "## **Word2Vec com Spacy**\n",
        "---\n",
        "\n",
        "<font size=4>\n",
        "Vamos utilizar os modelos em inglês e em português do SpaCy.\n",
        "<br/>\n",
        "Mais para frente vamos explorar outras formas de criar nosso próprio modelo Word2Vec.\n",
        "<br/>\n",
        "O modelo em português foi disponibilizado recentemente com o Word2Vec treinado.\n",
        "<br/><br/>\n",
        "</font>"
      ]
    },
    {
      "cell_type": "code",
      "execution_count": null,
      "metadata": {
        "colab": {
          "background_save": true
        },
        "id": "RDXA4aVWSfOp"
      },
      "outputs": [],
      "source": [
        "#!python -m spacy download en_core_web_lg\n",
        "# reinicie o Runtime do colab"
      ]
    },
    {
      "cell_type": "markdown",
      "metadata": {
        "id": "oVOOKEizSfOq"
      },
      "source": [
        "<font size=4>\n",
        "A forma mais simples de explorar a similaridade de palavras atravez do Word2Vec é usando o método `.similarity`.\n",
        "</font>\n"
      ]
    },
    {
      "cell_type": "code",
      "execution_count": 36,
      "metadata": {
        "colab": {
          "base_uri": "https://localhost:8080/"
        },
        "id": "BihxFlnfSfOr",
        "outputId": "3fbfe984-97e0-45d3-8dc1-c763831f7d8d"
      },
      "outputs": [
        {
          "output_type": "stream",
          "name": "stdout",
          "text": [
            "banana banana 1.0\n",
            "banana cat 0.2235882580280304\n",
            "banana dog 0.2090904712677002\n",
            "cat banana 0.2235882580280304\n",
            "cat cat 1.0\n",
            "cat dog 0.8220816850662231\n",
            "dog banana 0.2090904712677002\n",
            "dog cat 0.8220816850662231\n",
            "dog dog 1.0\n"
          ]
        }
      ],
      "source": [
        "import spacy\n",
        "\n",
        "en = spacy.load('en_core_web_lg')\n",
        "\n",
        "tokens = en(u'banana cat dog')\n",
        "\n",
        "for token1 in tokens:\n",
        "    for token2 in tokens:\n",
        "        print(token1.text, token2.text, token1.similarity(token2))"
      ]
    },
    {
      "cell_type": "code",
      "execution_count": null,
      "metadata": {
        "id": "HRbEllI9SfOs"
      },
      "outputs": [],
      "source": [
        "'''\n",
        "# Outra forma de carregar o Spacy\n",
        "import en_core_web_lg\n",
        "en = en_core_web_lg.load()\n",
        "'''"
      ]
    },
    {
      "cell_type": "markdown",
      "metadata": {
        "id": "Fn4fbs0cSfOs"
      },
      "source": [
        "<br/>\n",
        "\n",
        "Outro exemplo de similaridade:"
      ]
    },
    {
      "cell_type": "code",
      "execution_count": 38,
      "metadata": {
        "colab": {
          "base_uri": "https://localhost:8080/"
        },
        "id": "X43eZqkQSfOs",
        "outputId": "93a9739f-b7a5-44c6-bbb4-2143ad141c47"
      },
      "outputs": [
        {
          "output_type": "execute_result",
          "data": {
            "text/plain": [
              "['dog',\n",
              " 'dogs',\n",
              " 'cat',\n",
              " 'puppy',\n",
              " 'pet',\n",
              " 'pup',\n",
              " 'canine',\n",
              " 'wolfdogs',\n",
              " 'dogsled',\n",
              " 'uppy']"
            ]
          },
          "metadata": {},
          "execution_count": 38
        }
      ],
      "source": [
        "import spacy\n",
        "import numpy as np\n",
        "\n",
        "en = spacy.load('en_core_web_lg')\n",
        "\n",
        "def most_similar(word):\n",
        "  ms = en.vocab.vectors.most_similar(np.asarray([en.vocab.vectors[en.vocab.strings[word]]]), n=10)\n",
        "  palavras_similares = [en.vocab.strings[w] for w in ms[0][0]]\n",
        "  distances = ms[2]\n",
        "  return palavras_similares\n",
        "\n",
        "most_similar('dog')"
      ]
    },
    {
      "cell_type": "markdown",
      "metadata": {
        "id": "V7f9qRFnSfOt"
      },
      "source": [
        "###**Spacy com Word2Vec em Português**\n",
        "O Spacy implementou novos modelos além do padrão sem word2vec (pt = pt_core_news_sm)\n",
        "\n",
        "pt_core_news_sm = https://spacy.io/models/pt / https://spacy.io/models/pt#pt_core_news_sm\n",
        "<br>\n",
        "pt_core_news_md = https://spacy.io/models/pt#pt_core_news_md\n",
        "<br>\n",
        "pt_core_news_lg = https://spacy.io/models/pt#pt_core_news_lg\n"
      ]
    },
    {
      "cell_type": "markdown",
      "metadata": {
        "id": "XwSwmVzmSfOt"
      },
      "source": [
        "Exemplo 1: usando o Spacy em potuguês, porém o modelo pt (pt_core_news_sm) não é efetivo, pois não tem implementação do word2vec"
      ]
    },
    {
      "cell_type": "code",
      "execution_count": 39,
      "metadata": {
        "colab": {
          "base_uri": "https://localhost:8080/"
        },
        "id": "uo2ri4HWSfOt",
        "outputId": "e4c60433-36d1-430c-830c-beb06cd780d2"
      },
      "outputs": [
        {
          "output_type": "stream",
          "name": "stdout",
          "text": [
            "banana banana 1.0\n",
            "banana cachorro 0.21581971645355225\n",
            "banana gato 0.31536203622817993\n",
            "cachorro banana 0.21581971645355225\n",
            "cachorro cachorro 1.0\n",
            "cachorro gato 0.3709920048713684\n",
            "gato banana 0.31536203622817993\n",
            "gato cachorro 0.3709920048713684\n",
            "gato gato 1.0\n"
          ]
        },
        {
          "output_type": "stream",
          "name": "stderr",
          "text": [
            "<ipython-input-39-cf27e42794dd>:8: UserWarning: [W007] The model you're using has no word vectors loaded, so the result of the Token.similarity method will be based on the tagger, parser and NER, which may not give useful similarity judgements. This may happen if you're using one of the small models, e.g. `en_core_web_sm`, which don't ship with word vectors and only use context-sensitive tensors. You can always add your own word vectors, or use one of the larger models instead if available.\n",
            "  print(token1.text, token2.text, token1.similarity(token2))\n"
          ]
        }
      ],
      "source": [
        "import spacy\n",
        "pt = spacy.load('pt_core_news_sm')\n",
        "\n",
        "tokens = pt(u'banana cachorro gato')\n",
        "\n",
        "for token1 in tokens:\n",
        "    for token2 in tokens:\n",
        "        print(token1.text, token2.text, token1.similarity(token2))"
      ]
    },
    {
      "cell_type": "code",
      "execution_count": 40,
      "metadata": {
        "colab": {
          "base_uri": "https://localhost:8080/"
        },
        "id": "B3MWNay9SfOu",
        "outputId": "0bcfb968-f6d5-4c74-99ee-7c4313f53989"
      },
      "outputs": [
        {
          "output_type": "stream",
          "name": "stdout",
          "text": [
            "banana banana 1.0\n",
            "banana cachorro 0.3059433102607727\n",
            "banana gato 0.1974039524793625\n",
            "cachorro banana 0.3059433102607727\n",
            "cachorro cachorro 1.0\n",
            "cachorro gato 0.8368197083473206\n",
            "gato banana 0.1974039524793625\n",
            "gato cachorro 0.8368197083473206\n",
            "gato gato 1.0\n"
          ]
        }
      ],
      "source": [
        "# sando o Spacy em potuguês com o modelo de word2vec\n",
        "import spacy\n",
        "import pt_core_news_lg\n",
        "\n",
        "pt = spacy.load('pt_core_news_lg')\n",
        "\n",
        "tokens = pt(u'banana cachorro gato')\n",
        "\n",
        "for token1 in tokens:\n",
        "    for token2 in tokens:\n",
        "        print(token1.text, token2.text, token1.similarity(token2))"
      ]
    },
    {
      "cell_type": "markdown",
      "metadata": {
        "id": "Aa9Ha5I3SfOu"
      },
      "source": [
        "<font size=5>\n",
        "Dado que cada palavra tem seu vetor de representação que leva em consideração o contexto em que a mesma esta inserida, é possível calcular o cosseno de similaridade!\n",
        "</font>"
      ]
    },
    {
      "cell_type": "markdown",
      "metadata": {
        "id": "uP47ZWhXSfOu"
      },
      "source": [
        "![image.png](data:image/png;base64,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)"
      ]
    },
    {
      "cell_type": "code",
      "execution_count": null,
      "metadata": {
        "id": "6Tk-GpDbWaxP"
      },
      "outputs": [],
      "source": [
        "import spacy\n",
        "import numpy as np\n",
        "\n",
        "nlp = spacy.load('pt_core_news_lg')\n",
        "\n",
        "king = nlp.vocab['rei'].vector\n",
        "man = nlp.vocab['homem'].vector\n",
        "woman = nlp.vocab['mulher'].vector\n",
        "\n",
        "new_vector = (king - man) + woman\n",
        "\n",
        "new_vector"
      ]
    },
    {
      "cell_type": "code",
      "execution_count": 43,
      "metadata": {
        "id": "6iI3vJJ_WaxQ",
        "colab": {
          "base_uri": "https://localhost:8080/"
        },
        "outputId": "060bdd2c-39b2-4f24-c96b-ddd95e23191b"
      },
      "outputs": [
        {
          "output_type": "execute_result",
          "data": {
            "text/plain": [
              "[('rei', 0.8917216062545776),\n",
              " ('mulher', 0.36437276005744934),\n",
              " ('homem', 0.17508389055728912),\n",
              " ('dom', 0.14074578881263733)]"
            ]
          },
          "metadata": {},
          "execution_count": 43
        }
      ],
      "source": [
        "from scipy import spatial\n",
        "\n",
        "new_vector = (king - man) + woman\n",
        "\n",
        "cosine_similarity = lambda x, y: 1 - spatial.distance.cosine(x, y)\n",
        "computed_similarities = []\n",
        "\n",
        "for word in nlp.vocab:\n",
        "    if word.has_vector:\n",
        "        if word.is_lower:\n",
        "            if word.is_alpha:\n",
        "                similarity = cosine_similarity(new_vector, word.vector)\n",
        "                computed_similarities.append((word.text, similarity))\n",
        "\n",
        "computed_similarities = sorted(computed_similarities, key=lambda item: -item[1])\n",
        "\n",
        "computed_similarities[:4]"
      ]
    },
    {
      "cell_type": "markdown",
      "metadata": {
        "id": "wKPu2DAHSfOu"
      },
      "source": [
        "<br/>\n",
        "\n",
        "---\n",
        "<br/>\n",
        "\n",
        "### Acredito que estão se perguntando, onde vamos usar isso e como, certo?\n",
        "<br/>\n",
        "\n",
        "### Você pode usar este modelo em inúmeras aplicações, por exemplo, pesquisa de produtos ou serviços por meio de suas descrições ou até mesmo em aplicações mais complexas de análise de sentimentos e classificação de documentos.\n",
        "<br/>\n",
        "\n",
        "---\n",
        "<br/>\n"
      ]
    },
    {
      "cell_type": "markdown",
      "metadata": {
        "id": "ffgad2-bEmfN"
      },
      "source": [
        "<br/>\n",
        "\n",
        "## **Word2Vec com Gensim**\n",
        "\n",
        "<br/>\n",
        "<font size=4>\n",
        "Gensim é mais uma das libs disponíveis em Python para tarefas de NLP! Ao contrários das outras opções, essa é uma ferramenta mais especializada em tarefas de modelagem de tópicos e análise de similaridade!\n",
        "<br/><br/>\n",
        "Sua instalação é muito simples!\n",
        "<br/><br/>\n",
        "</font>\n"
      ]
    },
    {
      "cell_type": "code",
      "execution_count": null,
      "metadata": {
        "colab": {
          "background_save": true
        },
        "id": "zheMZCEwGOa6"
      },
      "outputs": [],
      "source": [
        "# Instalação do pacote Gensim e dependência\n",
        "#!pip install gensim==4.3.2"
      ]
    },
    {
      "cell_type": "code",
      "execution_count": 44,
      "metadata": {
        "colab": {
          "base_uri": "https://localhost:8080/"
        },
        "id": "-Fr3vRwUBmBI",
        "outputId": "3318decd-de02-4a69-9fbd-4b924b0c6d19"
      },
      "outputs": [
        {
          "output_type": "stream",
          "name": "stdout",
          "text": [
            "4.3.2\n"
          ]
        }
      ],
      "source": [
        "import gensim\n",
        "print(gensim.__version__)"
      ]
    },
    {
      "cell_type": "markdown",
      "metadata": {
        "id": "uDycqFy8E_pr"
      },
      "source": [
        "###**Configuração inicial para a aula**\n",
        "\n",
        "- Download do arquivo **(cbow_s300.zip)** de Word Embeddings Pré-treinadas em Portugûes (CBOW)\n",
        " * Repositório original: http://nilc.icmc.usp.br/nilc/index.php/repositorio-de-word-embeddings-do-nilc\n",
        " * Repositório do professor: https://dados-ml-pln.s3-sa-east-1.amazonaws.com/cbow_s300.zip\n",
        "\n",
        "- Descompacte o arquivo (conforme exemplo abaixo)\n",
        "- Grave localmente ou no seu drive do Google Drive (conforme exemplo abaixo)\n",
        "- Exsecute os demais passos de processamento usando a biblioteca Gensim"
      ]
    },
    {
      "cell_type": "code",
      "execution_count": null,
      "metadata": {
        "colab": {
          "background_save": true
        },
        "id": "KEv7n73sEz7H"
      },
      "outputs": [],
      "source": [
        "'''\n",
        "# Download do arquivo no repositório do professor\n",
        "!wget 'https://dados-ml-pln.s3-sa-east-1.amazonaws.com/cbow_s300.zip'\n",
        "!ls -la\n",
        "# veja o nome do arquivo compactado salvo pelo download\n",
        "\n",
        "# Descompactação do arquivo\n",
        "!unzip 'cbow_s300.zip' # subistitua com nome do arquivo\n",
        "!ls -la\n",
        "\n",
        "# Load do modelo pelo Gensim\n",
        "from gensim.models import KeyedVectors\n",
        "\n",
        "model = KeyedVectors.load_word2vec_format('cbow_s300.txt')\n",
        "'''"
      ]
    },
    {
      "cell_type": "markdown",
      "metadata": {
        "id": "fU9J-irEiw8I"
      },
      "source": [
        "###**Análise com CBOW em Português**"
      ]
    },
    {
      "cell_type": "code",
      "execution_count": 45,
      "metadata": {
        "id": "GJT1OCeTEz7a",
        "colab": {
          "base_uri": "https://localhost:8080/"
        },
        "outputId": "034cd05f-dba2-4c8d-8bd9-0e6535de9484"
      },
      "outputs": [
        {
          "output_type": "execute_result",
          "data": {
            "text/plain": [
              "<gensim.models.keyedvectors.KeyedVectors at 0x7c1f64a00e20>"
            ]
          },
          "metadata": {},
          "execution_count": 45
        }
      ],
      "source": [
        "model_cbow"
      ]
    },
    {
      "cell_type": "markdown",
      "metadata": {
        "id": "eHTnHpgdFWbt"
      },
      "source": [
        "<br/>\n",
        "<font size=4>\n",
        "O código acima vai baixar o modelo treinado de Word2Vec usando CBOW com 300 posições em português.\n",
        "\n",
        "\n",
        "Com o modelo disponível, podemos carrega-lo com a ajuda da classe **`KeyedVectors`** do Gensim e com esse modelo podemos fazer operações de análise semântica em português, veja:\n",
        "</font>\n",
        "\n",
        "\n",
        "<br/>"
      ]
    },
    {
      "cell_type": "code",
      "execution_count": 46,
      "metadata": {
        "id": "MScqYEfYHZ0Z",
        "colab": {
          "base_uri": "https://localhost:8080/"
        },
        "outputId": "64c8504c-8be9-49f6-b48d-4c37179fdcf8"
      },
      "outputs": [
        {
          "output_type": "execute_result",
          "data": {
            "text/plain": [
              "array([-4.35630e-02, -3.28700e-02,  1.52735e-01, -1.56780e-02,\n",
              "        1.21885e-01, -1.67688e-01, -1.02211e-01, -8.61910e-02,\n",
              "        7.20490e-02, -9.83480e-02, -1.32587e-01, -5.61530e-02,\n",
              "       -2.27587e-01, -4.27520e-02, -1.19845e-01,  9.87550e-02,\n",
              "       -4.37438e-01, -3.22793e-01,  1.24080e-02,  4.43268e-01,\n",
              "       -7.31800e-02,  6.97510e-02, -1.43725e-01,  5.14352e-01,\n",
              "       -1.16800e-03, -1.34310e-02, -3.70520e-02, -8.89080e-02,\n",
              "        1.96335e-01,  4.87740e-01,  2.35393e-01, -1.07754e-01,\n",
              "        1.87188e-01,  2.02846e-01,  2.27027e-01, -2.00064e-01,\n",
              "        1.33436e-01,  8.17870e-02, -8.45000e-02, -4.21550e-02,\n",
              "        2.71060e-02,  2.91997e-01, -2.40926e-01,  2.06865e-01,\n",
              "        4.74000e-04,  2.06211e-01,  1.27639e-01,  3.85590e-02,\n",
              "        1.77177e-01, -1.23831e-01, -8.69900e-02, -1.10168e-01,\n",
              "       -1.31033e-01,  3.20510e-02, -7.07600e-03, -8.86480e-02,\n",
              "        2.12310e-02,  2.30504e-01,  1.59084e-01,  3.89300e-02,\n",
              "        4.15100e-03, -9.12450e-02, -1.90750e-02,  6.80980e-02,\n",
              "        1.27872e-01, -5.00970e-02,  3.30622e-01, -2.76164e-01,\n",
              "       -4.32270e-02, -1.34375e-01, -2.24914e-01, -8.75850e-02,\n",
              "        9.54200e-02, -2.58712e-01,  1.44641e-01, -1.03106e-01,\n",
              "       -5.91370e-02,  6.44000e-03,  1.40766e-01,  2.39140e-02,\n",
              "       -2.80189e-01,  1.92963e-01, -1.88977e-01, -1.32568e-01,\n",
              "       -2.26807e-01,  1.62429e-01,  1.05587e-01, -1.41894e-01,\n",
              "        6.27120e-02,  3.53580e-02, -1.23615e-01,  1.32674e-01,\n",
              "        2.54130e-02,  3.03500e-03, -1.10321e-01,  8.66650e-02,\n",
              "        2.03623e-01,  2.21620e-02, -1.40750e-02,  4.82190e-02,\n",
              "        8.27100e-02, -4.14680e-02,  7.75810e-02, -4.11710e-01,\n",
              "        2.42984e-01,  2.96093e-01, -5.39030e-02, -1.16040e-02,\n",
              "        5.43620e-02, -1.76533e-01, -1.43393e-01, -1.58539e-01,\n",
              "       -6.95340e-02, -2.00590e-01, -1.44095e-01, -2.31036e-01,\n",
              "        3.67749e-01, -1.09290e-01, -4.77340e-02,  1.54845e-01,\n",
              "        8.61660e-02,  1.01452e-01, -4.25030e-02,  1.33433e-01,\n",
              "       -1.46477e-01,  1.59262e-01, -2.38998e-01, -9.73180e-02,\n",
              "        8.77730e-02,  1.49956e-01,  1.34979e-01,  3.24097e-01,\n",
              "        6.52400e-02,  1.91273e-01,  1.09909e-01, -9.16430e-02,\n",
              "       -1.83040e-02,  1.03607e-01, -1.01331e-01,  1.08863e-01,\n",
              "       -4.93900e-03, -7.14550e-02,  1.20600e-02,  2.66620e-01,\n",
              "        3.41900e-03, -1.06731e-01,  2.51584e-01, -1.08611e-01,\n",
              "       -8.70400e-03, -2.05765e-01, -8.04540e-02,  3.16240e-02,\n",
              "       -1.63429e-01, -3.34510e-01,  3.21573e-01,  3.40530e-02,\n",
              "        1.66389e-01, -7.34960e-02, -2.47250e-02, -1.36300e-03,\n",
              "        3.80740e-02, -4.07450e-02, -6.32250e-02, -1.64021e-01,\n",
              "        1.50341e-01,  4.74010e-02,  3.27686e-01, -1.34400e-03,\n",
              "        2.65812e-01, -2.94860e-02, -1.73953e-01,  1.74550e-02,\n",
              "       -1.21403e-01,  1.95187e-01, -1.52284e-01,  7.02210e-02,\n",
              "        3.38830e-02,  1.73529e-01,  4.12150e-02,  1.37290e-01,\n",
              "        3.01280e-02,  7.61460e-02, -1.72707e-01, -2.08500e-02,\n",
              "       -1.33006e-01, -2.33012e-01, -1.51882e-01, -5.45710e-02,\n",
              "       -5.31090e-02, -8.87130e-02, -6.47260e-02,  3.01300e-02,\n",
              "        9.46260e-02,  2.77651e-01,  3.83520e-02,  1.76938e-01,\n",
              "        7.68680e-02, -2.06270e-01,  8.48040e-02,  2.58999e-01,\n",
              "        1.60780e-02, -2.64250e-02,  1.33218e-01,  1.46280e-01,\n",
              "       -2.65017e-01,  2.87792e-01, -4.19934e-01,  4.07151e-01,\n",
              "        2.10561e-01,  2.97685e-01,  3.47620e-01, -2.45785e-01,\n",
              "        2.95900e-02,  1.35368e-01,  1.29441e-01,  3.89350e-02,\n",
              "        2.26682e-01,  4.67060e-02, -3.05335e-01,  2.77992e-01,\n",
              "       -1.50698e-01, -2.96040e-02, -8.16900e-02, -4.95090e-02,\n",
              "       -1.26848e-01, -8.17800e-02, -8.49440e-02, -4.47450e-02,\n",
              "        9.47710e-02, -1.77780e-02, -6.86500e-03,  1.22002e-01,\n",
              "        9.55110e-02, -1.77303e-01, -1.39418e-01, -1.02686e-01,\n",
              "        1.61451e-01,  4.31350e-02, -3.53300e-03,  1.58092e-01,\n",
              "        6.64000e-04, -2.30166e-01,  9.97570e-02,  7.52950e-02,\n",
              "        3.12500e-03, -3.61448e-01, -7.29630e-02,  1.09954e-01,\n",
              "        6.43430e-02, -8.79870e-02,  3.33580e-02,  6.75250e-02,\n",
              "        7.42270e-02, -1.92451e-01,  2.82909e-01,  4.81760e-02,\n",
              "        1.02168e-01,  1.94744e-01,  2.15856e-01, -1.48772e-01,\n",
              "       -1.59500e-03, -2.05599e-01,  1.85040e-01, -3.57777e-01,\n",
              "       -1.58540e-02,  7.26990e-02, -1.89341e-01,  1.94270e-01,\n",
              "       -3.61000e-02, -1.27709e-01,  5.55810e-02, -1.75065e-01,\n",
              "       -1.76619e-01,  4.03782e-01,  1.65247e-01,  2.36580e-01,\n",
              "       -7.06380e-02,  5.42630e-02, -2.27136e-01,  3.05142e-01,\n",
              "        2.49928e-01,  1.16972e-01, -1.13400e-02, -2.57340e-02,\n",
              "        2.46584e-01, -7.48550e-02,  2.34149e-01, -8.18760e-02,\n",
              "       -1.80051e-01,  4.69230e-02, -2.22503e-01,  2.31269e-01,\n",
              "        8.51680e-02, -4.13340e-02, -1.11994e-01,  1.26052e-01,\n",
              "        3.52663e-01, -1.24796e-01, -2.70837e-01,  3.64520e-02],\n",
              "      dtype=float32)"
            ]
          },
          "metadata": {},
          "execution_count": 46
        }
      ],
      "source": [
        "# cada palavra é representada por um vetor de 300 posições\n",
        "model_cbow['cachorro']"
      ]
    },
    {
      "cell_type": "code",
      "execution_count": 47,
      "metadata": {
        "id": "_dPeMPRKHyXT",
        "colab": {
          "base_uri": "https://localhost:8080/"
        },
        "outputId": "b6521420-c090-4203-9033-2820e413dbe4"
      },
      "outputs": [
        {
          "output_type": "execute_result",
          "data": {
            "text/plain": [
              "300"
            ]
          },
          "metadata": {},
          "execution_count": 47
        }
      ],
      "source": [
        "len(model_cbow['cachorro'])"
      ]
    },
    {
      "cell_type": "markdown",
      "metadata": {
        "id": "K9xXw3_THrrW"
      },
      "source": [
        "Análise de similaridade"
      ]
    },
    {
      "cell_type": "code",
      "execution_count": 48,
      "metadata": {
        "id": "3OdJH4i0G1-U",
        "colab": {
          "base_uri": "https://localhost:8080/"
        },
        "outputId": "1cbda627-ccde-42f8-b719-e9ebf8cd72bc"
      },
      "outputs": [
        {
          "output_type": "execute_result",
          "data": {
            "text/plain": [
              "0.5658017"
            ]
          },
          "metadata": {},
          "execution_count": 48
        }
      ],
      "source": [
        "model_cbow.similarity('cachorro', 'gato')"
      ]
    },
    {
      "cell_type": "code",
      "execution_count": 49,
      "metadata": {
        "id": "4jIsODOeHNLH",
        "colab": {
          "base_uri": "https://localhost:8080/"
        },
        "outputId": "5f17adbf-9828-46a4-9546-e649ef6e1eb0"
      },
      "outputs": [
        {
          "output_type": "execute_result",
          "data": {
            "text/plain": [
              "0.21468098"
            ]
          },
          "metadata": {},
          "execution_count": 49
        }
      ],
      "source": [
        "model_cbow.similarity('cachorro', 'banana')"
      ]
    },
    {
      "cell_type": "code",
      "execution_count": 50,
      "metadata": {
        "id": "75GUxnXRH98p",
        "colab": {
          "base_uri": "https://localhost:8080/"
        },
        "outputId": "58ec0d2a-9f90-4ec0-9437-07b5f4adf72e"
      },
      "outputs": [
        {
          "output_type": "stream",
          "name": "stdout",
          "text": [
            "'carro'\t'jipe'\t0.68\n",
            "'carro'\t'avião'\t0.61\n",
            "'carro'\t'bicicleta'\t0.42\n",
            "'carro'\t'cereal'\t0.24\n",
            "'carro'\t'filosofia'\t0.05\n"
          ]
        }
      ],
      "source": [
        "pairs = [\n",
        "    ('carro', 'jipe'),\n",
        "    ('carro', 'avião'),\n",
        "    ('carro', 'bicicleta'),\n",
        "    ('carro', 'cereal'),\n",
        "    ('carro', 'filosofia'),\n",
        "]\n",
        "for w1, w2 in pairs:\n",
        "    print('%r\\t%r\\t%.2f' % (w1, w2, model_cbow.similarity(w1, w2)))"
      ]
    },
    {
      "cell_type": "code",
      "execution_count": 51,
      "metadata": {
        "id": "IP776_GkF7Kd",
        "colab": {
          "base_uri": "https://localhost:8080/"
        },
        "outputId": "f5c18544-30b3-47e3-9997-8db017517ebc"
      },
      "outputs": [
        {
          "output_type": "execute_result",
          "data": {
            "text/plain": [
              "[('cão', 0.8745832443237305),\n",
              " ('cachorrinho', 0.8369466662406921),\n",
              " ('gambá', 0.8245760798454285),\n",
              " ('cãozinho', 0.8212025761604309)]"
            ]
          },
          "metadata": {},
          "execution_count": 51
        }
      ],
      "source": [
        "model_cbow.most_similar_cosmul(positive=['cachorro'], topn=4)"
      ]
    },
    {
      "cell_type": "code",
      "execution_count": 52,
      "metadata": {
        "id": "t4yY4DaKM10H",
        "colab": {
          "base_uri": "https://localhost:8080/"
        },
        "outputId": "49088b75-2b04-42ed-a2be-b6868745e0ed"
      },
      "outputs": [
        {
          "output_type": "execute_result",
          "data": {
            "text/plain": [
              "[('golo', 0.7651616930961609),\n",
              " ('golaço', 0.7137529253959656),\n",
              " ('hat-trick', 0.687732994556427),\n",
              " ('golaã§o', 0.6514890789985657),\n",
              " ('gol.', 0.6381649374961853),\n",
              " ('tento', 0.6108596324920654),\n",
              " ('pênalti', 0.5985515117645264),\n",
              " ('gols', 0.5833502411842346),\n",
              " ('penalti', 0.541047990322113),\n",
              " ('pãªnalti', 0.519834578037262)]"
            ]
          },
          "metadata": {},
          "execution_count": 52
        }
      ],
      "source": [
        "model_cbow.most_similar(positive=['gol'])"
      ]
    },
    {
      "cell_type": "code",
      "execution_count": 53,
      "metadata": {
        "id": "ZqrigBacJIdZ",
        "colab": {
          "base_uri": "https://localhost:8080/"
        },
        "outputId": "76592f3c-7c48-4477-f26d-ceb2efa2a3e4"
      },
      "outputs": [
        {
          "output_type": "execute_result",
          "data": {
            "text/plain": [
              "[('veículo', 0.6377103924751282),\n",
              " ('volkswagen', 0.5706163644790649),\n",
              " ('jetta', 0.5651793479919434),\n",
              " ('fusca', 0.5585430860519409),\n",
              " ('caminhão', 0.5496240258216858),\n",
              " ('passat', 0.5447294116020203),\n",
              " ('suv', 0.5398237705230713),\n",
              " ('chevette', 0.5388899445533752),\n",
              " ('jipe', 0.5376667380332947),\n",
              " ('gol.', 0.5262673497200012)]"
            ]
          },
          "metadata": {},
          "execution_count": 53
        }
      ],
      "source": [
        "model_cbow.most_similar(positive=['gol','carro','vw'])"
      ]
    },
    {
      "cell_type": "code",
      "execution_count": 54,
      "metadata": {
        "id": "2n2Rr_vZJIa0",
        "colab": {
          "base_uri": "https://localhost:8080/"
        },
        "outputId": "fe591836-d5c8-43f4-a459-82b24f2203ed"
      },
      "outputs": [
        {
          "output_type": "execute_result",
          "data": {
            "text/plain": [
              "[('rei', 0.8870742321014404),\n",
              " ('monarca', 0.8194573521614075),\n",
              " ('epigrama', 0.8095493316650391),\n",
              " ('mito', 0.8062155246734619),\n",
              " ('cardeal-rei', 0.7996988892555237),\n",
              " ('faraó', 0.797191321849823),\n",
              " ('pro-blema', 0.7968766093254089),\n",
              " ('fontanário', 0.7921295762062073),\n",
              " ('mago', 0.791897714138031),\n",
              " ('vídeo-clipe', 0.7916083335876465)]"
            ]
          },
          "metadata": {},
          "execution_count": 54
        }
      ],
      "source": [
        "model_cbow.most_similar_cosmul(positive=['rainha', 'homem'], negative=['mulher'])"
      ]
    },
    {
      "cell_type": "code",
      "execution_count": null,
      "metadata": {
        "id": "ObXIpocaYTP-"
      },
      "outputs": [],
      "source": []
    },
    {
      "cell_type": "code",
      "execution_count": 55,
      "metadata": {
        "id": "3nL5Xr-AJTt5",
        "colab": {
          "base_uri": "https://localhost:8080/",
          "height": 35
        },
        "outputId": "e396d72b-6463-4581-b4c8-628b8de164ce"
      },
      "outputs": [
        {
          "output_type": "execute_result",
          "data": {
            "text/plain": [
              "'carro'"
            ],
            "application/vnd.google.colaboratory.intrinsic+json": {
              "type": "string"
            }
          },
          "metadata": {},
          "execution_count": 55
        }
      ],
      "source": [
        "model_cbow.doesnt_match(['fogo', 'água', 'terra', 'mar', 'ar', 'carro'])"
      ]
    },
    {
      "cell_type": "code",
      "execution_count": 56,
      "metadata": {
        "id": "1dF1QFNTRUjI",
        "colab": {
          "base_uri": "https://localhost:8080/",
          "height": 35
        },
        "outputId": "c830ae5b-8b3b-4157-8069-e5529aab0fc3"
      },
      "outputs": [
        {
          "output_type": "execute_result",
          "data": {
            "text/plain": [
              "'almoço'"
            ],
            "application/vnd.google.colaboratory.intrinsic+json": {
              "type": "string"
            }
          },
          "metadata": {},
          "execution_count": 56
        }
      ],
      "source": [
        "model_cbow.doesnt_match(\"cachorro almoço gato passarinho\".split())"
      ]
    },
    {
      "cell_type": "code",
      "execution_count": null,
      "metadata": {
        "id": "64lrB3D2cXCp"
      },
      "outputs": [],
      "source": [
        "# pode ser necessário instalar essa dependência do Gensim\n",
        "!pip install POT==0.4.0"
      ]
    },
    {
      "cell_type": "code",
      "execution_count": 59,
      "metadata": {
        "id": "-NUZaWOURrir",
        "colab": {
          "base_uri": "https://localhost:8080/"
        },
        "outputId": "71c5cbf5-ced8-4a23-a10b-b932b50fca7d"
      },
      "outputs": [
        {
          "output_type": "execute_result",
          "data": {
            "text/plain": [
              "0.4503943517881298"
            ]
          },
          "metadata": {},
          "execution_count": 59
        }
      ],
      "source": [
        "model_cbow.wmdistance('falou', 'taguarelou')"
      ]
    },
    {
      "cell_type": "code",
      "execution_count": 62,
      "metadata": {
        "id": "l7rKe35PVSCy",
        "colab": {
          "base_uri": "https://localhost:8080/"
        },
        "outputId": "6accf7b8-7f7c-4616-900c-479d4ea0d40b"
      },
      "outputs": [
        {
          "output_type": "execute_result",
          "data": {
            "text/plain": [
              "0.6247409742175248"
            ]
          },
          "metadata": {},
          "execution_count": 62
        }
      ],
      "source": [
        "model_cbow.wmdistance('Batatinha quando nasce', 'Pirulito que bate bate')"
      ]
    },
    {
      "cell_type": "code",
      "execution_count": 63,
      "metadata": {
        "id": "9M10x_QTaMkZ",
        "colab": {
          "base_uri": "https://localhost:8080/"
        },
        "outputId": "6422795e-e0ea-4c95-e3ea-3041985def26"
      },
      "outputs": [
        {
          "output_type": "execute_result",
          "data": {
            "text/plain": [
              "0.44451569085446885"
            ]
          },
          "metadata": {},
          "execution_count": 63
        }
      ],
      "source": [
        "model_cbow.wmdistance('Batatinha quando nasce', 'Batatinha se esparrama')"
      ]
    },
    {
      "cell_type": "code",
      "execution_count": null,
      "metadata": {
        "id": "6-hCcuEqREZN"
      },
      "outputs": [],
      "source": []
    },
    {
      "cell_type": "markdown",
      "metadata": {
        "id": "RVM13u4LPDIB"
      },
      "source": [
        "### Análise de Componente Principal - PCA (Principal Component Analysis)"
      ]
    },
    {
      "cell_type": "code",
      "execution_count": 64,
      "metadata": {
        "id": "58TQC6LyKy49"
      },
      "outputs": [],
      "source": [
        "palavras = ['um', 'dois', 'três', 'quatro', 'dez', 'onze', 'vinte', 'homem', 'mulher', 'marido', 'esposa', 'casa', 'mesa', 'cadeira']"
      ]
    },
    {
      "cell_type": "code",
      "execution_count": 65,
      "metadata": {
        "id": "ffemamuvLZSS",
        "colab": {
          "base_uri": "https://localhost:8080/"
        },
        "outputId": "5b095d8a-815c-4bba-b421-900bd3e7695b"
      },
      "outputs": [
        {
          "output_type": "execute_result",
          "data": {
            "text/plain": [
              "array([[-0.0453743 ,  0.33772764],\n",
              "       [-1.2444258 ,  0.07335746],\n",
              "       [-1.4411286 ,  0.21697314],\n",
              "       [-1.4246814 ,  0.24888164],\n",
              "       [-1.6386641 ,  0.23907901],\n",
              "       [-1.5718281 ,  0.07380209],\n",
              "       [-1.4920576 , -0.02855898],\n",
              "       [ 0.43695548, -0.8767222 ],\n",
              "       [ 1.3898493 , -0.79357296],\n",
              "       [ 0.67999953, -1.7405599 ],\n",
              "       [ 1.6267622 , -1.6740521 ],\n",
              "       [ 1.3778124 ,  0.26950768],\n",
              "       [ 1.4439391 ,  1.5093452 ],\n",
              "       [ 1.9028431 ,  2.1447928 ]], dtype=float32)"
            ]
          },
          "metadata": {},
          "execution_count": 65
        }
      ],
      "source": [
        "# Selecionares os dois principais componentes e os mostraremos em um scatter plot.\n",
        "from sklearn.decomposition import PCA\n",
        "import numpy as np\n",
        "\n",
        "sample_vectors = np.array([model_cbow[palavra] for palavra in palavras])\n",
        "pca = PCA(n_components=2)\n",
        "result = pca.fit_transform(sample_vectors)\n",
        "result"
      ]
    },
    {
      "cell_type": "code",
      "execution_count": 66,
      "metadata": {
        "id": "CSTdhEg8LJ8k",
        "colab": {
          "base_uri": "https://localhost:8080/",
          "height": 676
        },
        "outputId": "e69d5120-7340-45b0-afe5-e1a5c16e47bc"
      },
      "outputs": [
        {
          "output_type": "display_data",
          "data": {
            "text/plain": [
              "<Figure size 1200x800 with 1 Axes>"
            ],
            "image/png": "[encoded data removed]"
          },
          "metadata": {}
        }
      ],
      "source": [
        "import matplotlib.pyplot as plt\n",
        "\n",
        "plt.figure(figsize=(12,8))\n",
        "plt.scatter(result[:,0], result[:,1])\n",
        "for i, word in enumerate(palavras):\n",
        "    plt.annotate(word, xy=(result[i, 0], result[i, 1]))\n",
        "plt.show()"
      ]
    },
    {
      "cell_type": "markdown",
      "metadata": {
        "id": "qqiwmK00QRff"
      },
      "source": [
        "[Mais sobre PCA](https://pt.wikipedia.org/wiki/An%C3%A1lise_de_componentes_principais)"
      ]
    },
    {
      "cell_type": "code",
      "execution_count": 67,
      "metadata": {
        "id": "am5n-i5OY_Sy",
        "colab": {
          "base_uri": "https://localhost:8080/",
          "height": 447
        },
        "outputId": "766c112b-4767-49d8-c901-8f47458d347c"
      },
      "outputs": [
        {
          "output_type": "stream",
          "name": "stdout",
          "text": [
            "['rei', 'rainha']\n"
          ]
        },
        {
          "output_type": "display_data",
          "data": {
            "text/plain": [
              "<Figure size 640x480 with 1 Axes>"
            ],
            "image/png": "[encoded data removed]"
          },
          "metadata": {}
        }
      ],
      "source": [
        "# Nesta etapa vamos usar PCA (Principal Component Analysis) para visualizar o modelo embedding que criamos.\n",
        "# Selecionares os dois principais componentes e os mostraremos em um scatter plot.\n",
        "\n",
        "from sklearn.decomposition import PCA\n",
        "import matplotlib.pyplot as plt\n",
        "\n",
        "X = model_cbow[model_cbow.index_to_key]\n",
        "pca = PCA(n_components=2)\n",
        "result = pca.fit_transform(X)\n",
        "\n",
        "# criando o scatter plot (Gráfico de dispersão)\n",
        "plt.scatter(result[:, 0], result[:, 1])\n",
        "\n",
        "# selecionamos apenas duas palavras para aparecer na visualização\n",
        "words = ['rei','rainha']\n",
        "\n",
        "print(words)\n",
        "for i, word in enumerate(words):\n",
        "    plt.annotate(word, xy=(result[i, 0], result[i, 1]))\n",
        "plt.show()"
      ]
    },
    {
      "cell_type": "markdown",
      "metadata": {
        "id": "rw038NegYaxz"
      },
      "source": [
        "###**Exercício**\n",
        "\n",
        "1.   Crie uma função que substitua uma ou mais palavras de um texto um uma palavra similar com base na sua classe gramatical."
      ]
    },
    {
      "cell_type": "markdown",
      "metadata": {
        "id": "mD3xpU1YTSdF"
      },
      "source": [
        "### Dicas:\n",
        "- Crie uma função que receba como parâmetro: a frase, a classe gramatical e o sentido (palavra no mesmo sentido - positivo)\n",
        "- Use o Spacy para localizar a marcação POS Tag\n",
        "- Use o modelo Word2Vec que treinanmos para localizar a similaridade\n"
      ]
    },
    {
      "cell_type": "code",
      "execution_count": null,
      "metadata": {
        "id": "E4iEEoZDXqc6"
      },
      "outputs": [],
      "source": [
        "# resposta"
      ]
    },
    {
      "cell_type": "code",
      "execution_count": null,
      "metadata": {
        "id": "vFYq51bNelET"
      },
      "outputs": [],
      "source": []
    },
    {
      "cell_type": "markdown",
      "metadata": {
        "id": "zlTb3yWtORmd"
      },
      "source": [
        "## **Criando nosso próprio modelo de similaridade**\n",
        "\n",
        "---"
      ]
    },
    {
      "cell_type": "markdown",
      "metadata": {
        "id": "3_ess2xmOSqZ"
      },
      "source": [
        "Vamos usar modelos de Word Embedding através de vetores."
      ]
    },
    {
      "cell_type": "code",
      "execution_count": 68,
      "metadata": {
        "id": "TdxmNauiN_Tw",
        "colab": {
          "base_uri": "https://localhost:8080/"
        },
        "outputId": "dc2e5e02-05b4-4e7b-f9c6-25859f253538"
      },
      "outputs": [
        {
          "output_type": "stream",
          "name": "stderr",
          "text": [
            "[nltk_data] Downloading package punkt to /root/nltk_data...\n",
            "[nltk_data]   Unzipping tokenizers/punkt.zip.\n"
          ]
        }
      ],
      "source": [
        "import pandas as pd\n",
        "from nltk.tokenize import word_tokenize\n",
        "import nltk\n",
        "nltk.download('punkt')\n",
        "from gensim.models import Word2Vec"
      ]
    },
    {
      "cell_type": "code",
      "execution_count": 69,
      "metadata": {
        "id": "NuVOxDrkN_RS"
      },
      "outputs": [],
      "source": [
        "# Vamos usar nosso dataframe de produtos\n",
        "df = pd.read_csv(\"https://dados-ml-pln.s3-sa-east-1.amazonaws.com/produtos.csv\", delimiter=\";\", encoding='utf-8')\n",
        "df.dropna(inplace=True)\n",
        "df[\"texto\"] = df['nome'] + \" \" + df['descricao']"
      ]
    },
    {
      "cell_type": "code",
      "execution_count": 70,
      "metadata": {
        "id": "Kpe-T6j3N_O8"
      },
      "outputs": [],
      "source": [
        "# Tokenizando o texto\n",
        "df['tokens'] = df.texto.apply(word_tokenize)"
      ]
    },
    {
      "cell_type": "code",
      "execution_count": 71,
      "metadata": {
        "id": "qfNTPjlkN_Mm"
      },
      "outputs": [],
      "source": [
        "# Treinando nosso modelo com o nosso vocabulário\n",
        "modelo_produto = Word2Vec(df['tokens'], vector_size=100, min_count=5, sg=0)\n",
        "\n",
        "# Treina o modelo. Note que estamos setando o parametro sd = 0, ou seja, o algoritmo utilizado sera o CBOW\n",
        "# Outro ponto de destaque é que quando setamos o parametro min_count para 1 estamos forcando o uso de todas as palavras."
      ]
    },
    {
      "cell_type": "markdown",
      "metadata": {
        "id": "NrIOFzMpOcRF"
      },
      "source": [
        "**size**: (default 100) The number of dimensions of the embedding, e.g. the length of the dense vector to represent each token (word). <br/>\n",
        "**window**: (default 5) The maximum distance between a target word and words around the target word.<br/>\n",
        "**min_count**: (default 5) The minimum count of words to consider when training the model; words with an occurrence less than this count will be ignored.<br/>\n",
        "**workers**: (default 3) The number of threads to use while training.<br/>\n",
        "**sg**: (default 0 or CBOW) The training algorithm, either CBOW (0) or skip gram (1).<br/>\n",
        "\n",
        "Referência: https://machinelearningmastery.com/develop-word-embeddings-python-gensim/"
      ]
    },
    {
      "cell_type": "code",
      "execution_count": null,
      "metadata": {
        "id": "Nrm89ENcIsFA"
      },
      "outputs": [],
      "source": [
        "'''\n",
        "from google.colab import drive\n",
        "drive.mount('/content/gdrive')\n",
        "\n",
        "# Salva o modelo\n",
        "modelo_produto.save('/content/gdrive/MyDrive/model.bin')\n",
        "!ls -la /content/gdrive/MyDrive/model.bin\n",
        "\n",
        "# Carrega o modelo\n",
        "modelo_produto = Word2Vec.load('/content/gdrive/MyDrive/model.bin')\n",
        "'''"
      ]
    },
    {
      "cell_type": "code",
      "execution_count": 72,
      "metadata": {
        "id": "lVtqaNtqYBQ3"
      },
      "outputs": [],
      "source": [
        "# Salva o modelo\n",
        "modelo_produto.save('model.bin')"
      ]
    },
    {
      "cell_type": "code",
      "execution_count": 73,
      "metadata": {
        "id": "-t4ck3UkYDaU",
        "colab": {
          "base_uri": "https://localhost:8080/"
        },
        "outputId": "7009e912-0491-44e3-fec4-53a8aebcf40e"
      },
      "outputs": [
        {
          "output_type": "stream",
          "name": "stdout",
          "text": [
            "total 3510216\n",
            "drwxr-xr-x 1 root root       4096 Nov 28 19:46 .\n",
            "drwxr-xr-x 1 root root       4096 Nov 28 18:53 ..\n",
            "-rw-r--r-- 1 root root 2656045531 Oct  4  2018 cbow_s300.txt\n",
            "-rw-r--r-- 1 root root  929305948 Feb 16  2021 cbow_s300.zip\n",
            "drwxr-xr-x 4 root root       4096 Nov 22 14:24 .config\n",
            "-rw-r--r-- 1 root root    9079925 Nov 28 19:46 model.bin\n",
            "drwxr-xr-x 1 root root       4096 Nov 22 14:27 sample_data\n"
          ]
        }
      ],
      "source": [
        "!ls -la"
      ]
    },
    {
      "cell_type": "code",
      "execution_count": 74,
      "metadata": {
        "id": "7fK5cGj3YFzm",
        "colab": {
          "base_uri": "https://localhost:8080/"
        },
        "outputId": "5a9c08c7-5520-46a7-9797-d3f1145c934d"
      },
      "outputs": [
        {
          "output_type": "stream",
          "name": "stdout",
          "text": [
            "Word2Vec<vocab=10930, vector_size=100, alpha=0.025>\n"
          ]
        }
      ],
      "source": [
        "# Carrega o modelo\n",
        "model_novo = Word2Vec.load('model.bin')\n",
        "\n",
        "# Exibe os parametros do meodelo treinado\n",
        "print(model_novo)"
      ]
    },
    {
      "cell_type": "code",
      "execution_count": 75,
      "metadata": {
        "id": "dR5EoyfIYFw1",
        "colab": {
          "base_uri": "https://localhost:8080/"
        },
        "outputId": "8bf6a3ab-03ce-41dd-a837-258cbbc13cc8"
      },
      "outputs": [
        {
          "output_type": "execute_result",
          "data": {
            "text/plain": [
              "[('auxilia', 0.9070642590522766),\n",
              " ('profissional', 0.8972384333610535),\n",
              " ('base', 0.8969401717185974),\n",
              " ('aplicar', 0.8594491481781006),\n",
              " ('corretivo', 0.8486472368240356),\n",
              " ('blush', 0.8402973413467407),\n",
              " ('ideal', 0.8308839201927185),\n",
              " ('delicada.Material', 0.8259078860282898),\n",
              " ('perfeita', 0.8246539831161499),\n",
              " ('sobrancelhas', 0.8239556550979614)]"
            ]
          },
          "metadata": {},
          "execution_count": 75
        }
      ],
      "source": [
        "# Buscando similaridade de palavras com o nosso vocabulário\n",
        "model_novo.wv.most_similar(positive=['maquiagem'], topn=10)"
      ]
    },
    {
      "cell_type": "code",
      "execution_count": 76,
      "metadata": {
        "id": "--HnPKpaYFuo",
        "colab": {
          "base_uri": "https://localhost:8080/"
        },
        "outputId": "c77a2147-eeeb-4d3f-8516-926490b2c497"
      },
      "outputs": [
        {
          "output_type": "execute_result",
          "data": {
            "text/plain": [
              "[('antigo', 0.9710010886192322),\n",
              " ('reino', 0.9697025418281555),\n",
              " ('acidente', 0.9680251479148865),\n",
              " ('misterioso', 0.967445969581604),\n",
              " ('crime', 0.9671403765678406),\n",
              " ('último', 0.9663380980491638),\n",
              " ('bruxo', 0.9655529856681824),\n",
              " ('maravilhoso', 0.9639176726341248),\n",
              " ('isolado', 0.9636073708534241),\n",
              " ('sob', 0.9634446501731873)]"
            ]
          },
          "metadata": {},
          "execution_count": 76
        }
      ],
      "source": [
        "# Buscando similaridade de palavras com o nosso vocabulário\n",
        "model_novo.wv.most_similar_cosmul(positive=['romance'])\n",
        "model_novo.wv.most_similar_cosmul(positive=['mistério'])"
      ]
    },
    {
      "cell_type": "code",
      "execution_count": null,
      "metadata": {
        "id": "EcEQ9l6db5Rs"
      },
      "outputs": [],
      "source": [
        "#!pip install POT==0.4.0"
      ]
    },
    {
      "cell_type": "code",
      "execution_count": 77,
      "metadata": {
        "id": "qyS_A6kCYOu8",
        "colab": {
          "base_uri": "https://localhost:8080/"
        },
        "outputId": "c90f5fe8-b9c2-4e3a-88ed-3a1867ae8c29"
      },
      "outputs": [
        {
          "output_type": "execute_result",
          "data": {
            "text/plain": [
              "0.41871847449205574"
            ]
          },
          "metadata": {},
          "execution_count": 77
        }
      ],
      "source": [
        "# Comparando duas palavras\n",
        "model_novo.wv.wmdistance('maquiagem', 'base')"
      ]
    },
    {
      "cell_type": "code",
      "execution_count": 78,
      "metadata": {
        "id": "qFd16OSrYOsL",
        "colab": {
          "base_uri": "https://localhost:8080/"
        },
        "outputId": "67944562-9289-4cee-cb4d-246ed69e08c5"
      },
      "outputs": [
        {
          "output_type": "execute_result",
          "data": {
            "text/plain": [
              "0.7501624568771974"
            ]
          },
          "metadata": {},
          "execution_count": 78
        }
      ],
      "source": [
        "# Comparando duas palavras\n",
        "model_novo.wv.wmdistance('maquiagem', 'brinquedo')"
      ]
    },
    {
      "cell_type": "markdown",
      "metadata": {
        "id": "oKHWUrnPYyMk"
      },
      "source": [
        "#Extra!\n",
        "\n",
        "\n",
        "## **Outra forma de criar modelos de similaridade (mais simples)**\n",
        "\n",
        "---\n",
        "\n",
        "\n",
        "Usando matrix de similaridade e TF-IDF\n",
        "\n",
        "\n",
        "Referência: https://hackinganalytics.com/2020/03/01/comparando-textos-com-tf-idf-e-cosine-similarity-no-gensim/\n",
        "\n",
        "###### Sou autorizado a replicar esse conteúdo\n"
      ]
    },
    {
      "cell_type": "code",
      "execution_count": 79,
      "metadata": {
        "id": "AE8o3Qb_YyMk",
        "colab": {
          "base_uri": "https://localhost:8080/"
        },
        "outputId": "1b132c22-963f-43ec-cf09-88e0e66f5025"
      },
      "outputs": [
        {
          "output_type": "stream",
          "name": "stderr",
          "text": [
            "[nltk_data] Downloading package punkt to /root/nltk_data...\n",
            "[nltk_data]   Package punkt is already up-to-date!\n"
          ]
        }
      ],
      "source": [
        "import pandas as pd\n",
        "from nltk.tokenize import word_tokenize\n",
        "import nltk\n",
        "nltk.download('punkt')\n",
        "from gensim.corpora import Dictionary\n",
        "from gensim.models import TfidfModel\n",
        "from gensim import similarities\n",
        "\n",
        "#import gensim.downloader as api"
      ]
    },
    {
      "cell_type": "code",
      "execution_count": 80,
      "metadata": {
        "id": "lZ3q2gVWYyMk",
        "colab": {
          "base_uri": "https://localhost:8080/",
          "height": 175
        },
        "outputId": "c0b23423-b627-482e-f117-88e8b14ea94f"
      },
      "outputs": [
        {
          "output_type": "execute_result",
          "data": {
            "text/plain": [
              "   id                                    descicao\n",
              "0   1       Este servico e oferecido em Sao Paulo\n",
              "1   2  Este servico e oferecido no Rio de Janeiro\n",
              "2   3       Este servico e oferecido em Tocantins\n",
              "3   4           Este servico e oferecido na Bahia"
            ],
            "text/html": [
              "\n",
              "  <div id=\"df-c6e346d8-2f22-496f-b3ad-092eb3356e8d\" class=\"colab-df-container\">\n",
              "    <div>\n",
              "<style scoped>\n",
              "    .dataframe tbody tr th:only-of-type {\n",
              "        vertical-align: middle;\n",
              "    }\n",
              "\n",
              "    .dataframe tbody tr th {\n",
              "        vertical-align: top;\n",
              "    }\n",
              "\n",
              "    .dataframe thead th {\n",
              "        text-align: right;\n",
              "    }\n",
              "</style>\n",
              "<table border=\"1\" class=\"dataframe\">\n",
              "  <thead>\n",
              "    <tr style=\"text-align: right;\">\n",
              "      <th></th>\n",
              "      <th>id</th>\n",
              "      <th>descicao</th>\n",
              "    </tr>\n",
              "  </thead>\n",
              "  <tbody>\n",
              "    <tr>\n",
              "      <th>0</th>\n",
              "      <td>1</td>\n",
              "      <td>Este servico e oferecido em Sao Paulo</td>\n",
              "    </tr>\n",
              "    <tr>\n",
              "      <th>1</th>\n",
              "      <td>2</td>\n",
              "      <td>Este servico e oferecido no Rio de Janeiro</td>\n",
              "    </tr>\n",
              "    <tr>\n",
              "      <th>2</th>\n",
              "      <td>3</td>\n",
              "      <td>Este servico e oferecido em Tocantins</td>\n",
              "    </tr>\n",
              "    <tr>\n",
              "      <th>3</th>\n",
              "      <td>4</td>\n",
              "      <td>Este servico e oferecido na Bahia</td>\n",
              "    </tr>\n",
              "  </tbody>\n",
              "</table>\n",
              "</div>\n",
              "    <div class=\"colab-df-buttons\">\n",
              "\n",
              "  <div class=\"colab-df-container\">\n",
              "    <button class=\"colab-df-convert\" onclick=\"convertToInteractive('df-c6e346d8-2f22-496f-b3ad-092eb3356e8d')\"\n",
              "            title=\"Convert this dataframe to an interactive table.\"\n",
              "            style=\"display:none;\">\n",
              "\n",
              "  <svg xmlns=\"http://www.w3.org/2000/svg\" height=\"24px\" viewBox=\"0 -960 960 960\">\n",
              "    <path d=\"M120-120v-720h720v720H120Zm60-500h600v-160H180v160Zm220 220h160v-160H400v160Zm0 220h160v-160H400v160ZM180-400h160v-160H180v160Zm440 0h160v-160H620v160ZM180-180h160v-160H180v160Zm440 0h160v-160H620v160Z\"/>\n",
              "  </svg>\n",
              "    </button>\n",
              "\n",
              "  <style>\n",
              "    .colab-df-container {\n",
              "      display:flex;\n",
              "      gap: 12px;\n",
              "    }\n",
              "\n",
              "    .colab-df-convert {\n",
              "      background-color: #E8F0FE;\n",
              "      border: none;\n",
              "      border-radius: 50%;\n",
              "      cursor: pointer;\n",
              "      display: none;\n",
              "      fill: #1967D2;\n",
              "      height: 32px;\n",
              "      padding: 0 0 0 0;\n",
              "      width: 32px;\n",
              "    }\n",
              "\n",
              "    .colab-df-convert:hover {\n",
              "      background-color: #E2EBFA;\n",
              "      box-shadow: 0px 1px 2px rgba(60, 64, 67, 0.3), 0px 1px 3px 1px rgba(60, 64, 67, 0.15);\n",
              "      fill: #174EA6;\n",
              "    }\n",
              "\n",
              "    .colab-df-buttons div {\n",
              "      margin-bottom: 4px;\n",
              "    }\n",
              "\n",
              "    [theme=dark] .colab-df-convert {\n",
              "      background-color: #3B4455;\n",
              "      fill: #D2E3FC;\n",
              "    }\n",
              "\n",
              "    [theme=dark] .colab-df-convert:hover {\n",
              "      background-color: #434B5C;\n",
              "      box-shadow: 0px 1px 3px 1px rgba(0, 0, 0, 0.15);\n",
              "      filter: drop-shadow(0px 1px 2px rgba(0, 0, 0, 0.3));\n",
              "      fill: #FFFFFF;\n",
              "    }\n",
              "  </style>\n",
              "\n",
              "    <script>\n",
              "      const buttonEl =\n",
              "        document.querySelector('#df-c6e346d8-2f22-496f-b3ad-092eb3356e8d button.colab-df-convert');\n",
              "      buttonEl.style.display =\n",
              "        google.colab.kernel.accessAllowed ? 'block' : 'none';\n",
              "\n",
              "      async function convertToInteractive(key) {\n",
              "        const element = document.querySelector('#df-c6e346d8-2f22-496f-b3ad-092eb3356e8d');\n",
              "        const dataTable =\n",
              "          await google.colab.kernel.invokeFunction('convertToInteractive',\n",
              "                                                    [key], {});\n",
              "        if (!dataTable) return;\n",
              "\n",
              "        const docLinkHtml = 'Like what you see? Visit the ' +\n",
              "          '<a target=\"_blank\" href=https://colab.research.google.com/notebooks/data_table.ipynb>data table notebook</a>'\n",
              "          + ' to learn more about interactive tables.';\n",
              "        element.innerHTML = '';\n",
              "        dataTable['output_type'] = 'display_data';\n",
              "        await google.colab.output.renderOutput(dataTable, element);\n",
              "        const docLink = document.createElement('div');\n",
              "        docLink.innerHTML = docLinkHtml;\n",
              "        element.appendChild(docLink);\n",
              "      }\n",
              "    </script>\n",
              "  </div>\n",
              "\n",
              "\n",
              "<div id=\"df-f4a4d568-7faa-427f-9461-82943cd6413f\">\n",
              "  <button class=\"colab-df-quickchart\" onclick=\"quickchart('df-f4a4d568-7faa-427f-9461-82943cd6413f')\"\n",
              "            title=\"Suggest charts\"\n",
              "            style=\"display:none;\">\n",
              "\n",
              "<svg xmlns=\"http://www.w3.org/2000/svg\" height=\"24px\"viewBox=\"0 0 24 24\"\n",
              "     width=\"24px\">\n",
              "    <g>\n",
              "        <path d=\"M19 3H5c-1.1 0-2 .9-2 2v14c0 1.1.9 2 2 2h14c1.1 0 2-.9 2-2V5c0-1.1-.9-2-2-2zM9 17H7v-7h2v7zm4 0h-2V7h2v10zm4 0h-2v-4h2v4z\"/>\n",
              "    </g>\n",
              "</svg>\n",
              "  </button>\n",
              "\n",
              "<style>\n",
              "  .colab-df-quickchart {\n",
              "      --bg-color: #E8F0FE;\n",
              "      --fill-color: #1967D2;\n",
              "      --hover-bg-color: #E2EBFA;\n",
              "      --hover-fill-color: #174EA6;\n",
              "      --disabled-fill-color: #AAA;\n",
              "      --disabled-bg-color: #DDD;\n",
              "  }\n",
              "\n",
              "  [theme=dark] .colab-df-quickchart {\n",
              "      --bg-color: #3B4455;\n",
              "      --fill-color: #D2E3FC;\n",
              "      --hover-bg-color: #434B5C;\n",
              "      --hover-fill-color: #FFFFFF;\n",
              "      --disabled-bg-color: #3B4455;\n",
              "      --disabled-fill-color: #666;\n",
              "  }\n",
              "\n",
              "  .colab-df-quickchart {\n",
              "    background-color: var(--bg-color);\n",
              "    border: none;\n",
              "    border-radius: 50%;\n",
              "    cursor: pointer;\n",
              "    display: none;\n",
              "    fill: var(--fill-color);\n",
              "    height: 32px;\n",
              "    padding: 0;\n",
              "    width: 32px;\n",
              "  }\n",
              "\n",
              "  .colab-df-quickchart:hover {\n",
              "    background-color: var(--hover-bg-color);\n",
              "    box-shadow: 0 1px 2px rgba(60, 64, 67, 0.3), 0 1px 3px 1px rgba(60, 64, 67, 0.15);\n",
              "    fill: var(--button-hover-fill-color);\n",
              "  }\n",
              "\n",
              "  .colab-df-quickchart-complete:disabled,\n",
              "  .colab-df-quickchart-complete:disabled:hover {\n",
              "    background-color: var(--disabled-bg-color);\n",
              "    fill: var(--disabled-fill-color);\n",
              "    box-shadow: none;\n",
              "  }\n",
              "\n",
              "  .colab-df-spinner {\n",
              "    border: 2px solid var(--fill-color);\n",
              "    border-color: transparent;\n",
              "    border-bottom-color: var(--fill-color);\n",
              "    animation:\n",
              "      spin 1s steps(1) infinite;\n",
              "  }\n",
              "\n",
              "  @keyframes spin {\n",
              "    0% {\n",
              "      border-color: transparent;\n",
              "      border-bottom-color: var(--fill-color);\n",
              "      border-left-color: var(--fill-color);\n",
              "    }\n",
              "    20% {\n",
              "      border-color: transparent;\n",
              "      border-left-color: var(--fill-color);\n",
              "      border-top-color: var(--fill-color);\n",
              "    }\n",
              "    30% {\n",
              "      border-color: transparent;\n",
              "      border-left-color: var(--fill-color);\n",
              "      border-top-color: var(--fill-color);\n",
              "      border-right-color: var(--fill-color);\n",
              "    }\n",
              "    40% {\n",
              "      border-color: transparent;\n",
              "      border-right-color: var(--fill-color);\n",
              "      border-top-color: var(--fill-color);\n",
              "    }\n",
              "    60% {\n",
              "      border-color: transparent;\n",
              "      border-right-color: var(--fill-color);\n",
              "    }\n",
              "    80% {\n",
              "      border-color: transparent;\n",
              "      border-right-color: var(--fill-color);\n",
              "      border-bottom-color: var(--fill-color);\n",
              "    }\n",
              "    90% {\n",
              "      border-color: transparent;\n",
              "      border-bottom-color: var(--fill-color);\n",
              "    }\n",
              "  }\n",
              "</style>\n",
              "\n",
              "  <script>\n",
              "    async function quickchart(key) {\n",
              "      const quickchartButtonEl =\n",
              "        document.querySelector('#' + key + ' button');\n",
              "      quickchartButtonEl.disabled = true;  // To prevent multiple clicks.\n",
              "      quickchartButtonEl.classList.add('colab-df-spinner');\n",
              "      try {\n",
              "        const charts = await google.colab.kernel.invokeFunction(\n",
              "            'suggestCharts', [key], {});\n",
              "      } catch (error) {\n",
              "        console.error('Error during call to suggestCharts:', error);\n",
              "      }\n",
              "      quickchartButtonEl.classList.remove('colab-df-spinner');\n",
              "      quickchartButtonEl.classList.add('colab-df-quickchart-complete');\n",
              "    }\n",
              "    (() => {\n",
              "      let quickchartButtonEl =\n",
              "        document.querySelector('#df-f4a4d568-7faa-427f-9461-82943cd6413f button');\n",
              "      quickchartButtonEl.style.display =\n",
              "        google.colab.kernel.accessAllowed ? 'block' : 'none';\n",
              "    })();\n",
              "  </script>\n",
              "</div>\n",
              "    </div>\n",
              "  </div>\n"
            ]
          },
          "metadata": {},
          "execution_count": 80
        }
      ],
      "source": [
        "# Cria os dados de treino. Exemplo simples para fins didático.\n",
        "lista = [\n",
        "    [1, 'Este servico e oferecido em Sao Paulo'],\n",
        "    [2, 'Este servico e oferecido no Rio de Janeiro'],\n",
        "    [3, 'Este servico e oferecido em Tocantins'],\n",
        "    [4, 'Este servico e oferecido na Bahia']]\n",
        "\n",
        "df = pd.DataFrame(data = lista, columns = ['id', 'descicao'])\n",
        "df.head()"
      ]
    },
    {
      "cell_type": "code",
      "execution_count": 81,
      "metadata": {
        "id": "ME2fpOx-YyMl"
      },
      "outputs": [],
      "source": [
        "# Transforma a descrição em tokens\n",
        "df['tokens'] = df.descicao.apply(word_tokenize)\n",
        "\n",
        "# Cria um dicionario com os tokens do dataframe\n",
        "dct = Dictionary(df['tokens'])\n",
        "\n",
        "# Converte corpus para o formato BOW (Bag Of Words)\n",
        "corpus = [dct.doc2bow(line) for line in df['tokens']]\n",
        "\n",
        "# Cria um modelo TF-IDF usando o gensim\n",
        "model = TfidfModel(corpus)"
      ]
    },
    {
      "cell_type": "markdown",
      "metadata": {
        "id": "-96EneEkYyMl"
      },
      "source": [
        "Analisando cada objeto criado"
      ]
    },
    {
      "cell_type": "code",
      "execution_count": 82,
      "metadata": {
        "id": "xLPBiGqnYyMl",
        "colab": {
          "base_uri": "https://localhost:8080/"
        },
        "outputId": "ae1cdc52-8a6d-49a4-de75-9b87dd89cb27"
      },
      "outputs": [
        {
          "output_type": "execute_result",
          "data": {
            "text/plain": [
              "0        [Este, servico, e, oferecido, em, Sao, Paulo]\n",
              "1    [Este, servico, e, oferecido, no, Rio, de, Jan...\n",
              "2         [Este, servico, e, oferecido, em, Tocantins]\n",
              "3             [Este, servico, e, oferecido, na, Bahia]\n",
              "Name: tokens, dtype: object"
            ]
          },
          "metadata": {},
          "execution_count": 82
        }
      ],
      "source": [
        "# Sentença em tokens\n",
        "df['tokens']"
      ]
    },
    {
      "cell_type": "code",
      "execution_count": 83,
      "metadata": {
        "id": "EDshdhZgYyMl",
        "colab": {
          "base_uri": "https://localhost:8080/"
        },
        "outputId": "d74733ec-09a3-468a-c60d-ac5623fe4665"
      },
      "outputs": [
        {
          "output_type": "execute_result",
          "data": {
            "text/plain": [
              "{'Este': 0,\n",
              " 'Paulo': 1,\n",
              " 'Sao': 2,\n",
              " 'e': 3,\n",
              " 'em': 4,\n",
              " 'oferecido': 5,\n",
              " 'servico': 6,\n",
              " 'Janeiro': 7,\n",
              " 'Rio': 8,\n",
              " 'de': 9,\n",
              " 'no': 10,\n",
              " 'Tocantins': 11,\n",
              " 'Bahia': 12,\n",
              " 'na': 13}"
            ]
          },
          "metadata": {},
          "execution_count": 83
        }
      ],
      "source": [
        "# Cada plavra com sua identificação (id)\n",
        "dct.token2id"
      ]
    },
    {
      "cell_type": "code",
      "execution_count": 84,
      "metadata": {
        "id": "mGd-IfA1YyMl",
        "colab": {
          "base_uri": "https://localhost:8080/"
        },
        "outputId": "286f3bcb-e830-4d17-88fa-53d943ff0102"
      },
      "outputs": [
        {
          "output_type": "execute_result",
          "data": {
            "text/plain": [
              "[[(0, 1), (1, 1), (2, 1), (3, 1), (4, 1), (5, 1), (6, 1)],\n",
              " [(0, 1), (3, 1), (5, 1), (6, 1), (7, 1), (8, 1), (9, 1), (10, 1)],\n",
              " [(0, 1), (3, 1), (4, 1), (5, 1), (6, 1), (11, 1)],\n",
              " [(0, 1), (3, 1), (5, 1), (6, 1), (12, 1), (13, 1)]]"
            ]
          },
          "metadata": {},
          "execution_count": 84
        }
      ],
      "source": [
        "# Contagem de termos simples\n",
        "corpus"
      ]
    },
    {
      "cell_type": "code",
      "execution_count": 85,
      "metadata": {
        "id": "2uELuNV_YyMl",
        "colab": {
          "base_uri": "https://localhost:8080/"
        },
        "outputId": "dfb630dd-eb41-49b2-b87d-358e3ddc0571"
      },
      "outputs": [
        {
          "output_type": "execute_result",
          "data": {
            "text/plain": [
              "[(0, 1), (1, 1), (2, 1), (3, 1), (4, 1), (5, 1), (6, 1)]"
            ]
          },
          "metadata": {},
          "execution_count": 85
        }
      ],
      "source": [
        "# Deswcrição: Este servico e oferecido em Sao Paulo\n",
        "corpus[0]"
      ]
    },
    {
      "cell_type": "code",
      "execution_count": 86,
      "metadata": {
        "id": "S3uO93IgYyMm",
        "colab": {
          "base_uri": "https://localhost:8080/"
        },
        "outputId": "aec1d4ff-ebc3-442c-af38-c8c3e597c801"
      },
      "outputs": [
        {
          "output_type": "execute_result",
          "data": {
            "text/plain": [
              "[(1, 0.6666666666666666), (2, 0.6666666666666666), (4, 0.3333333333333333)]"
            ]
          },
          "metadata": {},
          "execution_count": 86
        }
      ],
      "source": [
        "# TF-IDF da deswcrição \"Este servico e oferecido em Sao Paulo\"\n",
        "model[corpus[0]]"
      ]
    },
    {
      "cell_type": "code",
      "execution_count": 87,
      "metadata": {
        "id": "7urdv3m8YyMm"
      },
      "outputs": [],
      "source": [
        "# Outro forma de salvar o modelo para reutilizar e produtizar\n",
        "dct.save('dct')\n",
        "model.save('model')"
      ]
    },
    {
      "cell_type": "code",
      "execution_count": 88,
      "metadata": {
        "id": "xtxvrFFwYyMm",
        "colab": {
          "base_uri": "https://localhost:8080/"
        },
        "outputId": "6ec9ef0f-8309-4e9b-c796-58e5d389e880"
      },
      "outputs": [
        {
          "output_type": "stream",
          "name": "stdout",
          "text": [
            "total 3510224\n",
            "drwxr-xr-x 1 root root       4096 Nov 28 19:47 .\n",
            "drwxr-xr-x 1 root root       4096 Nov 28 18:53 ..\n",
            "-rw-r--r-- 1 root root 2656045531 Oct  4  2018 cbow_s300.txt\n",
            "-rw-r--r-- 1 root root  929305948 Feb 16  2021 cbow_s300.zip\n",
            "drwxr-xr-x 4 root root       4096 Nov 22 14:24 .config\n",
            "-rw-r--r-- 1 root root        932 Nov 28 19:47 dct\n",
            "-rw-r--r-- 1 root root       1235 Nov 28 19:47 model\n",
            "-rw-r--r-- 1 root root    9079925 Nov 28 19:46 model.bin\n",
            "drwxr-xr-x 1 root root       4096 Nov 22 14:27 sample_data\n"
          ]
        }
      ],
      "source": [
        "!ls -la"
      ]
    },
    {
      "cell_type": "markdown",
      "metadata": {
        "id": "hhqN7ar6YyMm"
      },
      "source": [
        "Aplicando as tranformações com a matriz TF-IDF treinada"
      ]
    },
    {
      "cell_type": "code",
      "execution_count": 89,
      "metadata": {
        "id": "zmsDLg-CYyMm"
      },
      "outputs": [],
      "source": [
        "dct_novo = Dictionary.load('dct')\n",
        "model_novo = TfidfModel.load('model')"
      ]
    },
    {
      "cell_type": "code",
      "execution_count": 90,
      "metadata": {
        "id": "-uHFF1p7YyMm",
        "colab": {
          "base_uri": "https://localhost:8080/"
        },
        "outputId": "a01890bb-d327-4d24-c733-0ac8f8fb3504"
      },
      "outputs": [
        {
          "output_type": "execute_result",
          "data": {
            "text/plain": [
              "[(4, 1.0)]"
            ]
          },
          "metadata": {},
          "execution_count": 90
        }
      ],
      "source": [
        "# Criando um texto de exemplo\n",
        "novo_texto = 'Este servico e oferecido em Goias'\n",
        "#novo_texto = 'Esse texto não tem nada haver'\n",
        "\n",
        "# Transforma a descricao do servico em tokens de palavras\n",
        "novo_texto_tokens = word_tokenize(novo_texto)\n",
        "\n",
        "# Converte corpus para o formato BOW (Bag Of Words)\n",
        "novo_texto_corpus = dct_novo.doc2bow(novo_texto_tokens)\n",
        "\n",
        "# Extrai a matrix TF-IDF do novo texto\n",
        "model_novo[novo_texto_corpus]"
      ]
    },
    {
      "cell_type": "markdown",
      "metadata": {
        "id": "rps4LYRuYyMn"
      },
      "source": [
        "Criando uma matriz de similaridades"
      ]
    },
    {
      "cell_type": "code",
      "execution_count": 91,
      "metadata": {
        "id": "-G97RbdMYyMn"
      },
      "outputs": [],
      "source": [
        "# Cria a matriz de similaridade com base no corpus de entrada\n",
        "#model_novo[corpus[0]]\n",
        "#dct_novo.token2id\n",
        "index = similarities.SparseMatrixSimilarity(model_novo[corpus], num_features=len(dct_novo))\n",
        "\n",
        "# Salva a matriz\n",
        "index.save('index')"
      ]
    },
    {
      "cell_type": "markdown",
      "metadata": {
        "id": "RlDVZyu6YyMn"
      },
      "source": [
        "Simulando"
      ]
    },
    {
      "cell_type": "code",
      "execution_count": 92,
      "metadata": {
        "id": "UBu3z7rYYyMn",
        "colab": {
          "base_uri": "https://localhost:8080/"
        },
        "outputId": "c96f79de-62dd-4722-d261-4279c8b6d270"
      },
      "outputs": [
        {
          "output_type": "execute_result",
          "data": {
            "text/plain": [
              "array([0.33333334, 0.        , 0.4472136 , 0.        ], dtype=float32)"
            ]
          },
          "metadata": {},
          "execution_count": 92
        }
      ],
      "source": [
        "# Carregando as dependencias dos modelos\n",
        "dct_novo = Dictionary.load('dct')\n",
        "model_novo = TfidfModel.load('model')\n",
        "index_novo = similarities.Similarity.load('index')\n",
        "\n",
        "# Texto de exemplo\n",
        "novo_texto = 'Este servico e oferecido em Goias'\n",
        "#novo_texto = 'Esse texto não tem nada haver'\n",
        "#novo_texto = 'Este servico e oferecido em Sao Paulo'\n",
        "\n",
        "# Transforma a descricao em tokens\n",
        "novo_texto_tokens = word_tokenize(novo_texto)\n",
        "\n",
        "# Converte corpus para o formato BOW (Bag Of Words)\n",
        "novo_texto_corpus = dct_novo.doc2bow(novo_texto_tokens)\n",
        "\n",
        "tfidf = model_novo[novo_texto_corpus]\n",
        "\n",
        "# Buscando a similaridade\n",
        "sim = index_novo[tfidf]\n",
        "sim"
      ]
    },
    {
      "cell_type": "code",
      "execution_count": 93,
      "metadata": {
        "id": "Y4ksK3Q6YyMn",
        "colab": {
          "base_uri": "https://localhost:8080/",
          "height": 175
        },
        "outputId": "bcbaf596-4984-40ec-ce69-1f4f2b56de95"
      },
      "outputs": [
        {
          "output_type": "execute_result",
          "data": {
            "text/plain": [
              "   id                                    descicao  \\\n",
              "0   1       Este servico e oferecido em Sao Paulo   \n",
              "1   2  Este servico e oferecido no Rio de Janeiro   \n",
              "2   3       Este servico e oferecido em Tocantins   \n",
              "3   4           Este servico e oferecido na Bahia   \n",
              "\n",
              "                                              tokens       sim  \n",
              "0      [Este, servico, e, oferecido, em, Sao, Paulo]  0.333333  \n",
              "1  [Este, servico, e, oferecido, no, Rio, de, Jan...  0.000000  \n",
              "2       [Este, servico, e, oferecido, em, Tocantins]  0.447214  \n",
              "3           [Este, servico, e, oferecido, na, Bahia]  0.000000  "
            ],
            "text/html": [
              "\n",
              "  <div id=\"df-7f0c95c5-fafc-4733-8790-75e11a0f9f11\" class=\"colab-df-container\">\n",
              "    <div>\n",
              "<style scoped>\n",
              "    .dataframe tbody tr th:only-of-type {\n",
              "        vertical-align: middle;\n",
              "    }\n",
              "\n",
              "    .dataframe tbody tr th {\n",
              "        vertical-align: top;\n",
              "    }\n",
              "\n",
              "    .dataframe thead th {\n",
              "        text-align: right;\n",
              "    }\n",
              "</style>\n",
              "<table border=\"1\" class=\"dataframe\">\n",
              "  <thead>\n",
              "    <tr style=\"text-align: right;\">\n",
              "      <th></th>\n",
              "      <th>id</th>\n",
              "      <th>descicao</th>\n",
              "      <th>tokens</th>\n",
              "      <th>sim</th>\n",
              "    </tr>\n",
              "  </thead>\n",
              "  <tbody>\n",
              "    <tr>\n",
              "      <th>0</th>\n",
              "      <td>1</td>\n",
              "      <td>Este servico e oferecido em Sao Paulo</td>\n",
              "      <td>[Este, servico, e, oferecido, em, Sao, Paulo]</td>\n",
              "      <td>0.333333</td>\n",
              "    </tr>\n",
              "    <tr>\n",
              "      <th>1</th>\n",
              "      <td>2</td>\n",
              "      <td>Este servico e oferecido no Rio de Janeiro</td>\n",
              "      <td>[Este, servico, e, oferecido, no, Rio, de, Jan...</td>\n",
              "      <td>0.000000</td>\n",
              "    </tr>\n",
              "    <tr>\n",
              "      <th>2</th>\n",
              "      <td>3</td>\n",
              "      <td>Este servico e oferecido em Tocantins</td>\n",
              "      <td>[Este, servico, e, oferecido, em, Tocantins]</td>\n",
              "      <td>0.447214</td>\n",
              "    </tr>\n",
              "    <tr>\n",
              "      <th>3</th>\n",
              "      <td>4</td>\n",
              "      <td>Este servico e oferecido na Bahia</td>\n",
              "      <td>[Este, servico, e, oferecido, na, Bahia]</td>\n",
              "      <td>0.000000</td>\n",
              "    </tr>\n",
              "  </tbody>\n",
              "</table>\n",
              "</div>\n",
              "    <div class=\"colab-df-buttons\">\n",
              "\n",
              "  <div class=\"colab-df-container\">\n",
              "    <button class=\"colab-df-convert\" onclick=\"convertToInteractive('df-7f0c95c5-fafc-4733-8790-75e11a0f9f11')\"\n",
              "            title=\"Convert this dataframe to an interactive table.\"\n",
              "            style=\"display:none;\">\n",
              "\n",
              "  <svg xmlns=\"http://www.w3.org/2000/svg\" height=\"24px\" viewBox=\"0 -960 960 960\">\n",
              "    <path d=\"M120-120v-720h720v720H120Zm60-500h600v-160H180v160Zm220 220h160v-160H400v160Zm0 220h160v-160H400v160ZM180-400h160v-160H180v160Zm440 0h160v-160H620v160ZM180-180h160v-160H180v160Zm440 0h160v-160H620v160Z\"/>\n",
              "  </svg>\n",
              "    </button>\n",
              "\n",
              "  <style>\n",
              "    .colab-df-container {\n",
              "      display:flex;\n",
              "      gap: 12px;\n",
              "    }\n",
              "\n",
              "    .colab-df-convert {\n",
              "      background-color: #E8F0FE;\n",
              "      border: none;\n",
              "      border-radius: 50%;\n",
              "      cursor: pointer;\n",
              "      display: none;\n",
              "      fill: #1967D2;\n",
              "      height: 32px;\n",
              "      padding: 0 0 0 0;\n",
              "      width: 32px;\n",
              "    }\n",
              "\n",
              "    .colab-df-convert:hover {\n",
              "      background-color: #E2EBFA;\n",
              "      box-shadow: 0px 1px 2px rgba(60, 64, 67, 0.3), 0px 1px 3px 1px rgba(60, 64, 67, 0.15);\n",
              "      fill: #174EA6;\n",
              "    }\n",
              "\n",
              "    .colab-df-buttons div {\n",
              "      margin-bottom: 4px;\n",
              "    }\n",
              "\n",
              "    [theme=dark] .colab-df-convert {\n",
              "      background-color: #3B4455;\n",
              "      fill: #D2E3FC;\n",
              "    }\n",
              "\n",
              "    [theme=dark] .colab-df-convert:hover {\n",
              "      background-color: #434B5C;\n",
              "      box-shadow: 0px 1px 3px 1px rgba(0, 0, 0, 0.15);\n",
              "      filter: drop-shadow(0px 1px 2px rgba(0, 0, 0, 0.3));\n",
              "      fill: #FFFFFF;\n",
              "    }\n",
              "  </style>\n",
              "\n",
              "    <script>\n",
              "      const buttonEl =\n",
              "        document.querySelector('#df-7f0c95c5-fafc-4733-8790-75e11a0f9f11 button.colab-df-convert');\n",
              "      buttonEl.style.display =\n",
              "        google.colab.kernel.accessAllowed ? 'block' : 'none';\n",
              "\n",
              "      async function convertToInteractive(key) {\n",
              "        const element = document.querySelector('#df-7f0c95c5-fafc-4733-8790-75e11a0f9f11');\n",
              "        const dataTable =\n",
              "          await google.colab.kernel.invokeFunction('convertToInteractive',\n",
              "                                                    [key], {});\n",
              "        if (!dataTable) return;\n",
              "\n",
              "        const docLinkHtml = 'Like what you see? Visit the ' +\n",
              "          '<a target=\"_blank\" href=https://colab.research.google.com/notebooks/data_table.ipynb>data table notebook</a>'\n",
              "          + ' to learn more about interactive tables.';\n",
              "        element.innerHTML = '';\n",
              "        dataTable['output_type'] = 'display_data';\n",
              "        await google.colab.output.renderOutput(dataTable, element);\n",
              "        const docLink = document.createElement('div');\n",
              "        docLink.innerHTML = docLinkHtml;\n",
              "        element.appendChild(docLink);\n",
              "      }\n",
              "    </script>\n",
              "  </div>\n",
              "\n",
              "\n",
              "<div id=\"df-95fe3cc3-747b-4367-9a2b-38686b9999da\">\n",
              "  <button class=\"colab-df-quickchart\" onclick=\"quickchart('df-95fe3cc3-747b-4367-9a2b-38686b9999da')\"\n",
              "            title=\"Suggest charts\"\n",
              "            style=\"display:none;\">\n",
              "\n",
              "<svg xmlns=\"http://www.w3.org/2000/svg\" height=\"24px\"viewBox=\"0 0 24 24\"\n",
              "     width=\"24px\">\n",
              "    <g>\n",
              "        <path d=\"M19 3H5c-1.1 0-2 .9-2 2v14c0 1.1.9 2 2 2h14c1.1 0 2-.9 2-2V5c0-1.1-.9-2-2-2zM9 17H7v-7h2v7zm4 0h-2V7h2v10zm4 0h-2v-4h2v4z\"/>\n",
              "    </g>\n",
              "</svg>\n",
              "  </button>\n",
              "\n",
              "<style>\n",
              "  .colab-df-quickchart {\n",
              "      --bg-color: #E8F0FE;\n",
              "      --fill-color: #1967D2;\n",
              "      --hover-bg-color: #E2EBFA;\n",
              "      --hover-fill-color: #174EA6;\n",
              "      --disabled-fill-color: #AAA;\n",
              "      --disabled-bg-color: #DDD;\n",
              "  }\n",
              "\n",
              "  [theme=dark] .colab-df-quickchart {\n",
              "      --bg-color: #3B4455;\n",
              "      --fill-color: #D2E3FC;\n",
              "      --hover-bg-color: #434B5C;\n",
              "      --hover-fill-color: #FFFFFF;\n",
              "      --disabled-bg-color: #3B4455;\n",
              "      --disabled-fill-color: #666;\n",
              "  }\n",
              "\n",
              "  .colab-df-quickchart {\n",
              "    background-color: var(--bg-color);\n",
              "    border: none;\n",
              "    border-radius: 50%;\n",
              "    cursor: pointer;\n",
              "    display: none;\n",
              "    fill: var(--fill-color);\n",
              "    height: 32px;\n",
              "    padding: 0;\n",
              "    width: 32px;\n",
              "  }\n",
              "\n",
              "  .colab-df-quickchart:hover {\n",
              "    background-color: var(--hover-bg-color);\n",
              "    box-shadow: 0 1px 2px rgba(60, 64, 67, 0.3), 0 1px 3px 1px rgba(60, 64, 67, 0.15);\n",
              "    fill: var(--button-hover-fill-color);\n",
              "  }\n",
              "\n",
              "  .colab-df-quickchart-complete:disabled,\n",
              "  .colab-df-quickchart-complete:disabled:hover {\n",
              "    background-color: var(--disabled-bg-color);\n",
              "    fill: var(--disabled-fill-color);\n",
              "    box-shadow: none;\n",
              "  }\n",
              "\n",
              "  .colab-df-spinner {\n",
              "    border: 2px solid var(--fill-color);\n",
              "    border-color: transparent;\n",
              "    border-bottom-color: var(--fill-color);\n",
              "    animation:\n",
              "      spin 1s steps(1) infinite;\n",
              "  }\n",
              "\n",
              "  @keyframes spin {\n",
              "    0% {\n",
              "      border-color: transparent;\n",
              "      border-bottom-color: var(--fill-color);\n",
              "      border-left-color: var(--fill-color);\n",
              "    }\n",
              "    20% {\n",
              "      border-color: transparent;\n",
              "      border-left-color: var(--fill-color);\n",
              "      border-top-color: var(--fill-color);\n",
              "    }\n",
              "    30% {\n",
              "      border-color: transparent;\n",
              "      border-left-color: var(--fill-color);\n",
              "      border-top-color: var(--fill-color);\n",
              "      border-right-color: var(--fill-color);\n",
              "    }\n",
              "    40% {\n",
              "      border-color: transparent;\n",
              "      border-right-color: var(--fill-color);\n",
              "      border-top-color: var(--fill-color);\n",
              "    }\n",
              "    60% {\n",
              "      border-color: transparent;\n",
              "      border-right-color: var(--fill-color);\n",
              "    }\n",
              "    80% {\n",
              "      border-color: transparent;\n",
              "      border-right-color: var(--fill-color);\n",
              "      border-bottom-color: var(--fill-color);\n",
              "    }\n",
              "    90% {\n",
              "      border-color: transparent;\n",
              "      border-bottom-color: var(--fill-color);\n",
              "    }\n",
              "  }\n",
              "</style>\n",
              "\n",
              "  <script>\n",
              "    async function quickchart(key) {\n",
              "      const quickchartButtonEl =\n",
              "        document.querySelector('#' + key + ' button');\n",
              "      quickchartButtonEl.disabled = true;  // To prevent multiple clicks.\n",
              "      quickchartButtonEl.classList.add('colab-df-spinner');\n",
              "      try {\n",
              "        const charts = await google.colab.kernel.invokeFunction(\n",
              "            'suggestCharts', [key], {});\n",
              "      } catch (error) {\n",
              "        console.error('Error during call to suggestCharts:', error);\n",
              "      }\n",
              "      quickchartButtonEl.classList.remove('colab-df-spinner');\n",
              "      quickchartButtonEl.classList.add('colab-df-quickchart-complete');\n",
              "    }\n",
              "    (() => {\n",
              "      let quickchartButtonEl =\n",
              "        document.querySelector('#df-95fe3cc3-747b-4367-9a2b-38686b9999da button');\n",
              "      quickchartButtonEl.style.display =\n",
              "        google.colab.kernel.accessAllowed ? 'block' : 'none';\n",
              "    })();\n",
              "  </script>\n",
              "</div>\n",
              "    </div>\n",
              "  </div>\n"
            ]
          },
          "metadata": {},
          "execution_count": 93
        }
      ],
      "source": [
        "df['sim'] = sim\n",
        "df.head()"
      ]
    },
    {
      "cell_type": "markdown",
      "metadata": {
        "id": "_lUzullJYyMn"
      },
      "source": [
        "### Analisando o resultado:\n",
        "\n",
        "Veja que a matriz de similaridade compra os resultados com base na similadidades das palavras encontradas no corpus de origem"
      ]
    },
    {
      "cell_type": "code",
      "execution_count": null,
      "metadata": {
        "id": "L6z-NRxMYyMn"
      },
      "outputs": [],
      "source": []
    },
    {
      "cell_type": "code",
      "execution_count": null,
      "metadata": {
        "id": "OCV_qmBpc7gm"
      },
      "outputs": [],
      "source": []
    },
    {
      "cell_type": "markdown",
      "metadata": {
        "id": "YHFhH3J7Y_IE"
      },
      "source": [
        "#***O que você achou da aula de hoje?***\n",
        "\n",
        "Pelo aplicativo da FIAP ou pelo site\n",
        "\n",
        "(Entrar no FIAP, e no menu clicar em Experience Survey)"
      ]
    },
    {
      "cell_type": "markdown",
      "metadata": {
        "id": "tfZ9rmPlY_IE"
      },
      "source": [
        "![image.png](data:image/png;base64,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)"
      ]
    }
  ],
  "metadata": {
    "colab": {
      "provenance": []
    },
    "kernelspec": {
      "display_name": "Python 3",
      "name": "python3"
    },
    "language_info": {
      "name": "python"
    }
  },
  "nbformat": 4,
  "nbformat_minor": 0
}
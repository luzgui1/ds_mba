{
  "cells": [
    {
      "cell_type": "markdown",
      "metadata": {
        "id": "1FdxZAH6TWPH"
      },
      "source": [
        "#**Exercícios - Aula 2**"
      ]
    },
    {
      "cell_type": "markdown",
      "metadata": {
        "id": "b_lUc0-cLsVn"
      },
      "source": [
        "Dado o dataset de produtos [1], desenvolva os seguintes pipelines:\n",
        "\n",
        "[1] - https://dados-ml-pln.s3-sa-east-1.amazonaws.com/produtos.csv\n",
        "\n",
        "Obs.: em todos os pipelines use:\n",
        "- normalização renovendo valores faltantes\n",
        "- criem uma nova coluna concatenando as colunas nome e descrição.\n",
        "- randon_state igual a 42 para permitir a comparação com seus colegas e separe uma amostra de 30% para teste.\n"
      ]
    },
    {
      "cell_type": "code",
      "execution_count": 1,
      "metadata": {
        "id": "UUDRZ7FrI4fk"
      },
      "outputs": [],
      "source": [
        "import pandas as pd\n",
        "\n",
        "df = pd.read_csv(\"https://dados-ml-pln.s3-sa-east-1.amazonaws.com/produtos.csv\", delimiter=\";\", encoding='utf-8')"
      ]
    },
    {
      "cell_type": "code",
      "execution_count": 6,
      "metadata": {},
      "outputs": [],
      "source": [
        "df.dropna(inplace=True)"
      ]
    },
    {
      "cell_type": "markdown",
      "metadata": {
        "id": "hEgJjADlSCWM"
      },
      "source": [
        "**1. ) Treine um modelo de classificação DecisionTreeClassifier do pacote scikit-learn para classificar os produtos em suas categorias, com as seguintes configurações usando a nova coluna (nome + descricao):**\n",
        "\n",
        "- 1.1 Contagem de termos simples com unigrama e sem stop-words.\n",
        "- 1.2 Contagem de termos simples com unigrama + brigrama e sem stop-words.\n",
        "- 1.3 TF-IDF com unigrama e com stop-words.\n",
        "- 1.4 TF-IDF com unigrama e sem stop-words.\n",
        "- 1.5 TF-IDF com unigrama e sem stop-words em textos lematizados (Dica: crie uma função para lematizar o texto usando o Spacy)."
      ]
    },
    {
      "cell_type": "code",
      "execution_count": 8,
      "metadata": {
        "id": "NgGpOZiISyb3"
      },
      "outputs": [
        {
          "name": "stderr",
          "output_type": "stream",
          "text": [
            "[nltk_data] Downloading package stopwords to\n",
            "[nltk_data]     C:\\Users\\guilherme.luz\\AppData\\Roaming\\nltk_data...\n",
            "[nltk_data]   Package stopwords is already up-to-date!\n"
          ]
        },
        {
          "name": "stdout",
          "output_type": "stream",
          "text": [
            "Acurácia: 0.96\n"
          ]
        }
      ],
      "source": [
        "# respostas\n",
        "from sklearn.feature_extraction.text import CountVectorizer, TfidfVectorizer\n",
        "import nltk\n",
        "nltk.download('stopwords')\n",
        "\n",
        "import spacy\n",
        "from sklearn.tree import DecisionTreeClassifier\n",
        "from sklearn.model_selection import train_test_split\n",
        "from sklearn.metrics import accuracy_score\n",
        "\n",
        "stopwords_nltk = nltk.corpus.stopwords.words('portuguese')\n",
        "\n",
        "df['texto'] = df['nome'] + ' ' + df['descricao']\n",
        "\n",
        "vectorizer = CountVectorizer(stop_words=stopwords_nltk)\n",
        "\n",
        "X = vectorizer.fit_transform(df['texto'])\n",
        "y = df['categoria']\n",
        "\n",
        "X_train, X_test, y_train, y_test = train_test_split(X, y, test_size=0.3, random_state=42)\n",
        "\n",
        "clf = DecisionTreeClassifier()\n",
        "clf.fit(X_train, y_train)\n",
        "y_pred = clf.predict(X_test)\n",
        "print('Acurácia:', accuracy_score(y_test, y_pred))\n"
      ]
    },
    {
      "cell_type": "markdown",
      "metadata": {
        "id": "6I_PEQasSIUu"
      },
      "source": [
        "**2. ) Treine um modelo de classificação LogisticRegression do pacote scikit-learn para classificar os produtos em suas categorias, com as seguintes configurações:**\n",
        "\n",
        "- 2.1 Contagem de termos simples com unigrama e com stop-words.\n",
        "- 2.2 Contagem de termos simples com unigrama + brigrama e sem stop-words.\n",
        "- 2.3 TF-IDF com unigrama e sem stop-words.\n",
        "- 2.4 TF-IDF com unigrama e sem stop-words em textos lematizados.\n",
        "\n",
        "Extra:\n",
        "- 2.5 Contagem de termos simples (BoW) com unigrama, sem stop-words (combinando Spacy e NLTK) em textos com apenas verbos lematizados.\n",
        "\n",
        "Dica: crie uma função para lematizar o texto usando o Spacy, não esqueça de usar o POS-Tag quando necessário."
      ]
    },
    {
      "cell_type": "code",
      "execution_count": null,
      "metadata": {
        "id": "SbWyWKz8EDaS"
      },
      "outputs": [],
      "source": [
        "# reposta"
      ]
    }
  ],
  "metadata": {
    "colab": {
      "provenance": []
    },
    "kernelspec": {
      "display_name": "ai-env",
      "language": "python",
      "name": "python3"
    },
    "language_info": {
      "codemirror_mode": {
        "name": "ipython",
        "version": 3
      },
      "file_extension": ".py",
      "mimetype": "text/x-python",
      "name": "python",
      "nbconvert_exporter": "python",
      "pygments_lexer": "ipython3",
      "version": "3.12.4"
    }
  },
  "nbformat": 4,
  "nbformat_minor": 0
}

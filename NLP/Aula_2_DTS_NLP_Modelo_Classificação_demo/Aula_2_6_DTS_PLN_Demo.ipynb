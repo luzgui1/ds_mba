{
  "nbformat": 4,
  "nbformat_minor": 0,
  "metadata": {
    "colab": {
      "provenance": []
    },
    "kernelspec": {
      "name": "python3",
      "display_name": "Python 3"
    },
    "language_info": {
      "name": "python"
    }
  },
  "cells": [
    {
      "cell_type": "markdown",
      "metadata": {
        "id": "z0yEiWk6TWwA"
      },
      "source": [
        "#**Demostração - Aula 2**"
      ]
    },
    {
      "cell_type": "markdown",
      "metadata": {
        "id": "c8771948-01b8-43b4-bb64-7bf67af323e7"
      },
      "source": [
        "#**Classificação de textos**\n",
        "\n",
        "Para entender melhor o problema de classificação de textos, vamos começar com um exemplo básico que servirá como base para nos aprofundarmos depois."
      ]
    },
    {
      "cell_type": "code",
      "execution_count": 5,
      "metadata": {
        "id": "246f6771-b566-4260-afa0-1d706e06d6c8",
        "colab": {
          "base_uri": "https://localhost:8080/",
          "height": 112
        },
        "outputId": "21f4173f-5a8a-420b-b976-75b94482faf9"
      },
      "outputs": [
        {
          "output_type": "execute_result",
          "data": {
            "text/plain": [
              "                                            text     class\n",
              "0     Sobre MBA ? Eu gostei muito do MBA da FIAP  positivo\n",
              "1  O MBA da FIAP pode melhorar, não gostei muito  negativo"
            ],
            "text/html": [
              "\n",
              "  <div id=\"df-461509bb-2f18-4f6f-a313-3858d76b3925\" class=\"colab-df-container\">\n",
              "    <div>\n",
              "<style scoped>\n",
              "    .dataframe tbody tr th:only-of-type {\n",
              "        vertical-align: middle;\n",
              "    }\n",
              "\n",
              "    .dataframe tbody tr th {\n",
              "        vertical-align: top;\n",
              "    }\n",
              "\n",
              "    .dataframe thead th {\n",
              "        text-align: right;\n",
              "    }\n",
              "</style>\n",
              "<table border=\"1\" class=\"dataframe\">\n",
              "  <thead>\n",
              "    <tr style=\"text-align: right;\">\n",
              "      <th></th>\n",
              "      <th>text</th>\n",
              "      <th>class</th>\n",
              "    </tr>\n",
              "  </thead>\n",
              "  <tbody>\n",
              "    <tr>\n",
              "      <th>0</th>\n",
              "      <td>Sobre MBA ? Eu gostei muito do MBA da FIAP</td>\n",
              "      <td>positivo</td>\n",
              "    </tr>\n",
              "    <tr>\n",
              "      <th>1</th>\n",
              "      <td>O MBA da FIAP pode melhorar, não gostei muito</td>\n",
              "      <td>negativo</td>\n",
              "    </tr>\n",
              "  </tbody>\n",
              "</table>\n",
              "</div>\n",
              "    <div class=\"colab-df-buttons\">\n",
              "\n",
              "  <div class=\"colab-df-container\">\n",
              "    <button class=\"colab-df-convert\" onclick=\"convertToInteractive('df-461509bb-2f18-4f6f-a313-3858d76b3925')\"\n",
              "            title=\"Convert this dataframe to an interactive table.\"\n",
              "            style=\"display:none;\">\n",
              "\n",
              "  <svg xmlns=\"http://www.w3.org/2000/svg\" height=\"24px\" viewBox=\"0 -960 960 960\">\n",
              "    <path d=\"M120-120v-720h720v720H120Zm60-500h600v-160H180v160Zm220 220h160v-160H400v160Zm0 220h160v-160H400v160ZM180-400h160v-160H180v160Zm440 0h160v-160H620v160ZM180-180h160v-160H180v160Zm440 0h160v-160H620v160Z\"/>\n",
              "  </svg>\n",
              "    </button>\n",
              "\n",
              "  <style>\n",
              "    .colab-df-container {\n",
              "      display:flex;\n",
              "      gap: 12px;\n",
              "    }\n",
              "\n",
              "    .colab-df-convert {\n",
              "      background-color: #E8F0FE;\n",
              "      border: none;\n",
              "      border-radius: 50%;\n",
              "      cursor: pointer;\n",
              "      display: none;\n",
              "      fill: #1967D2;\n",
              "      height: 32px;\n",
              "      padding: 0 0 0 0;\n",
              "      width: 32px;\n",
              "    }\n",
              "\n",
              "    .colab-df-convert:hover {\n",
              "      background-color: #E2EBFA;\n",
              "      box-shadow: 0px 1px 2px rgba(60, 64, 67, 0.3), 0px 1px 3px 1px rgba(60, 64, 67, 0.15);\n",
              "      fill: #174EA6;\n",
              "    }\n",
              "\n",
              "    .colab-df-buttons div {\n",
              "      margin-bottom: 4px;\n",
              "    }\n",
              "\n",
              "    [theme=dark] .colab-df-convert {\n",
              "      background-color: #3B4455;\n",
              "      fill: #D2E3FC;\n",
              "    }\n",
              "\n",
              "    [theme=dark] .colab-df-convert:hover {\n",
              "      background-color: #434B5C;\n",
              "      box-shadow: 0px 1px 3px 1px rgba(0, 0, 0, 0.15);\n",
              "      filter: drop-shadow(0px 1px 2px rgba(0, 0, 0, 0.3));\n",
              "      fill: #FFFFFF;\n",
              "    }\n",
              "  </style>\n",
              "\n",
              "    <script>\n",
              "      const buttonEl =\n",
              "        document.querySelector('#df-461509bb-2f18-4f6f-a313-3858d76b3925 button.colab-df-convert');\n",
              "      buttonEl.style.display =\n",
              "        google.colab.kernel.accessAllowed ? 'block' : 'none';\n",
              "\n",
              "      async function convertToInteractive(key) {\n",
              "        const element = document.querySelector('#df-461509bb-2f18-4f6f-a313-3858d76b3925');\n",
              "        const dataTable =\n",
              "          await google.colab.kernel.invokeFunction('convertToInteractive',\n",
              "                                                    [key], {});\n",
              "        if (!dataTable) return;\n",
              "\n",
              "        const docLinkHtml = 'Like what you see? Visit the ' +\n",
              "          '<a target=\"_blank\" href=https://colab.research.google.com/notebooks/data_table.ipynb>data table notebook</a>'\n",
              "          + ' to learn more about interactive tables.';\n",
              "        element.innerHTML = '';\n",
              "        dataTable['output_type'] = 'display_data';\n",
              "        await google.colab.output.renderOutput(dataTable, element);\n",
              "        const docLink = document.createElement('div');\n",
              "        docLink.innerHTML = docLinkHtml;\n",
              "        element.appendChild(docLink);\n",
              "      }\n",
              "    </script>\n",
              "  </div>\n",
              "\n",
              "\n",
              "<div id=\"df-4c2c8967-7f6d-4fd4-8f11-a0adc488e3f5\">\n",
              "  <button class=\"colab-df-quickchart\" onclick=\"quickchart('df-4c2c8967-7f6d-4fd4-8f11-a0adc488e3f5')\"\n",
              "            title=\"Suggest charts\"\n",
              "            style=\"display:none;\">\n",
              "\n",
              "<svg xmlns=\"http://www.w3.org/2000/svg\" height=\"24px\"viewBox=\"0 0 24 24\"\n",
              "     width=\"24px\">\n",
              "    <g>\n",
              "        <path d=\"M19 3H5c-1.1 0-2 .9-2 2v14c0 1.1.9 2 2 2h14c1.1 0 2-.9 2-2V5c0-1.1-.9-2-2-2zM9 17H7v-7h2v7zm4 0h-2V7h2v10zm4 0h-2v-4h2v4z\"/>\n",
              "    </g>\n",
              "</svg>\n",
              "  </button>\n",
              "\n",
              "<style>\n",
              "  .colab-df-quickchart {\n",
              "      --bg-color: #E8F0FE;\n",
              "      --fill-color: #1967D2;\n",
              "      --hover-bg-color: #E2EBFA;\n",
              "      --hover-fill-color: #174EA6;\n",
              "      --disabled-fill-color: #AAA;\n",
              "      --disabled-bg-color: #DDD;\n",
              "  }\n",
              "\n",
              "  [theme=dark] .colab-df-quickchart {\n",
              "      --bg-color: #3B4455;\n",
              "      --fill-color: #D2E3FC;\n",
              "      --hover-bg-color: #434B5C;\n",
              "      --hover-fill-color: #FFFFFF;\n",
              "      --disabled-bg-color: #3B4455;\n",
              "      --disabled-fill-color: #666;\n",
              "  }\n",
              "\n",
              "  .colab-df-quickchart {\n",
              "    background-color: var(--bg-color);\n",
              "    border: none;\n",
              "    border-radius: 50%;\n",
              "    cursor: pointer;\n",
              "    display: none;\n",
              "    fill: var(--fill-color);\n",
              "    height: 32px;\n",
              "    padding: 0;\n",
              "    width: 32px;\n",
              "  }\n",
              "\n",
              "  .colab-df-quickchart:hover {\n",
              "    background-color: var(--hover-bg-color);\n",
              "    box-shadow: 0 1px 2px rgba(60, 64, 67, 0.3), 0 1px 3px 1px rgba(60, 64, 67, 0.15);\n",
              "    fill: var(--button-hover-fill-color);\n",
              "  }\n",
              "\n",
              "  .colab-df-quickchart-complete:disabled,\n",
              "  .colab-df-quickchart-complete:disabled:hover {\n",
              "    background-color: var(--disabled-bg-color);\n",
              "    fill: var(--disabled-fill-color);\n",
              "    box-shadow: none;\n",
              "  }\n",
              "\n",
              "  .colab-df-spinner {\n",
              "    border: 2px solid var(--fill-color);\n",
              "    border-color: transparent;\n",
              "    border-bottom-color: var(--fill-color);\n",
              "    animation:\n",
              "      spin 1s steps(1) infinite;\n",
              "  }\n",
              "\n",
              "  @keyframes spin {\n",
              "    0% {\n",
              "      border-color: transparent;\n",
              "      border-bottom-color: var(--fill-color);\n",
              "      border-left-color: var(--fill-color);\n",
              "    }\n",
              "    20% {\n",
              "      border-color: transparent;\n",
              "      border-left-color: var(--fill-color);\n",
              "      border-top-color: var(--fill-color);\n",
              "    }\n",
              "    30% {\n",
              "      border-color: transparent;\n",
              "      border-left-color: var(--fill-color);\n",
              "      border-top-color: var(--fill-color);\n",
              "      border-right-color: var(--fill-color);\n",
              "    }\n",
              "    40% {\n",
              "      border-color: transparent;\n",
              "      border-right-color: var(--fill-color);\n",
              "      border-top-color: var(--fill-color);\n",
              "    }\n",
              "    60% {\n",
              "      border-color: transparent;\n",
              "      border-right-color: var(--fill-color);\n",
              "    }\n",
              "    80% {\n",
              "      border-color: transparent;\n",
              "      border-right-color: var(--fill-color);\n",
              "      border-bottom-color: var(--fill-color);\n",
              "    }\n",
              "    90% {\n",
              "      border-color: transparent;\n",
              "      border-bottom-color: var(--fill-color);\n",
              "    }\n",
              "  }\n",
              "</style>\n",
              "\n",
              "  <script>\n",
              "    async function quickchart(key) {\n",
              "      const quickchartButtonEl =\n",
              "        document.querySelector('#' + key + ' button');\n",
              "      quickchartButtonEl.disabled = true;  // To prevent multiple clicks.\n",
              "      quickchartButtonEl.classList.add('colab-df-spinner');\n",
              "      try {\n",
              "        const charts = await google.colab.kernel.invokeFunction(\n",
              "            'suggestCharts', [key], {});\n",
              "      } catch (error) {\n",
              "        console.error('Error during call to suggestCharts:', error);\n",
              "      }\n",
              "      quickchartButtonEl.classList.remove('colab-df-spinner');\n",
              "      quickchartButtonEl.classList.add('colab-df-quickchart-complete');\n",
              "    }\n",
              "    (() => {\n",
              "      let quickchartButtonEl =\n",
              "        document.querySelector('#df-4c2c8967-7f6d-4fd4-8f11-a0adc488e3f5 button');\n",
              "      quickchartButtonEl.style.display =\n",
              "        google.colab.kernel.accessAllowed ? 'block' : 'none';\n",
              "    })();\n",
              "  </script>\n",
              "</div>\n",
              "    </div>\n",
              "  </div>\n"
            ]
          },
          "metadata": {},
          "execution_count": 5
        }
      ],
      "source": [
        "import pandas as pd\n",
        "\n",
        "df = pd.DataFrame({\n",
        "    'text': [\n",
        "      'Sobre MBA ? Eu gostei muito do MBA da FIAP',\n",
        "      'O MBA da FIAP pode melhorar, não gostei muito'\n",
        "    ],\n",
        "    'class': [\n",
        "        'positivo',\n",
        "        'negativo'\n",
        "    ]})\n",
        "\n",
        "df"
      ]
    },
    {
      "cell_type": "markdown",
      "source": [
        "####**Para criar um modelo de classificação precisamos transformar os dados em uma linguagem a máquina entenda, qual é? como fazemos isso?**"
      ],
      "metadata": {
        "id": "_4BXEZJKjAEl"
      }
    },
    {
      "cell_type": "markdown",
      "source": [
        "Temos que transformar os dados/textos em números."
      ],
      "metadata": {
        "id": "2xi311Bsjsi7"
      }
    },
    {
      "cell_type": "markdown",
      "metadata": {
        "id": "f9e2f64b-6020-4bad-af4a-1732382594bf"
      },
      "source": [
        "\n",
        "Podemos vetorizar os dados e ver como fica o espaço de características nesse caso. Vamos usar a mesma solução que vimos aula passada, porém agora dando nome para a técnica:"
      ]
    },
    {
      "cell_type": "markdown",
      "source": [
        "##BoW - Contagem de termos simples"
      ],
      "metadata": {
        "id": "XusKDXWKENaf"
      }
    },
    {
      "cell_type": "markdown",
      "source": [
        "**Vetorização** de contagem de termos, combinando com normalização e unigrama."
      ],
      "metadata": {
        "id": "oRHPX2cfCTwm"
      }
    },
    {
      "cell_type": "code",
      "execution_count": 7,
      "metadata": {
        "id": "c7190b62-b23b-438f-9244-453a620208af",
        "outputId": "afe61cfa-b9d9-4b0c-a4c7-d95e118f5baf",
        "colab": {
          "base_uri": "https://localhost:8080/"
        }
      },
      "outputs": [
        {
          "output_type": "stream",
          "name": "stdout",
          "text": [
            "   da  do  eu  fiap  gostei  mba  melhorar  muito  não  pode  sobre\n",
            "0   1   1   1     1       1    2         0      1    0     0      1\n",
            "1   1   0   0     1       1    1         1      1    1     1      0\n"
          ]
        }
      ],
      "source": [
        "from sklearn.feature_extraction.text import CountVectorizer\n",
        "\n",
        "vect = CountVectorizer(ngram_range=(1,1))\n",
        "#vect = CountVectorizer(ngram_range=(1,2))\n",
        "vect.fit(df.text)\n",
        "count_vect = vect.transform(df.text)\n",
        "\n",
        "print(pd.DataFrame(count_vect.A, columns=vect.get_feature_names_out()).to_string())\n",
        "#print(pd.DataFrame(count_vect.A, columns=vect.get_feature_names_out()).T.to_string())"
      ]
    },
    {
      "cell_type": "markdown",
      "metadata": {
        "id": "dbea5769-9a41-438e-825d-6166ebf6f756"
      },
      "source": [
        "Usando Bigrama"
      ]
    },
    {
      "cell_type": "code",
      "execution_count": 8,
      "metadata": {
        "id": "c3aec8ef-66dd-454b-ac81-a2245303526e",
        "outputId": "127ea1d6-5a80-4e3d-8531-5c9969a94f26",
        "colab": {
          "base_uri": "https://localhost:8080/"
        }
      },
      "outputs": [
        {
          "output_type": "stream",
          "name": "stdout",
          "text": [
            "   da fiap  do mba  eu gostei  fiap pode  gostei muito  mba da  mba eu  melhorar não  muito do  não gostei  pode melhorar  sobre mba\n",
            "0        1       1          1          0             1       1       1             0         1           0              0          1\n",
            "1        1       0          0          1             1       1       0             1         0           1              1          0\n"
          ]
        }
      ],
      "source": [
        "from sklearn.feature_extraction.text import CountVectorizer\n",
        "\n",
        "vect = CountVectorizer(ngram_range=(2,2))\n",
        "vect.fit(df.text)\n",
        "count_vect = vect.transform(df.text)\n",
        "\n",
        "print(pd.DataFrame(count_vect.A, columns=vect.get_feature_names_out()).to_string())"
      ]
    },
    {
      "cell_type": "markdown",
      "metadata": {
        "id": "690d3ab2-3a44-4704-a730-0c5cc67c8f50"
      },
      "source": [
        "Usando Trigrama"
      ]
    },
    {
      "cell_type": "code",
      "execution_count": 9,
      "metadata": {
        "id": "df591a61-4d3b-405a-949c-09e01540e323",
        "colab": {
          "base_uri": "https://localhost:8080/"
        },
        "outputId": "c9fe7f24-ecd7-435e-a973-5d1273145c9c"
      },
      "outputs": [
        {
          "output_type": "stream",
          "name": "stdout",
          "text": [
            "   da fiap pode  do mba da  eu gostei muito  fiap pode melhorar  gostei muito do  mba da fiap  mba eu gostei  melhorar não gostei  muito do mba  não gostei muito  pode melhorar não  sobre mba eu\n",
            "0             0          1                1                   0                1            1              1                    0             1                 0                  0             1\n",
            "1             1          0                0                   1                0            1              0                    1             0                 1                  1             0\n"
          ]
        }
      ],
      "source": [
        "from sklearn.feature_extraction.text import CountVectorizer\n",
        "\n",
        "vect = CountVectorizer(ngram_range=(3,3))\n",
        "vect.fit(df.text)\n",
        "count_vect = vect.transform(df.text)\n",
        "\n",
        "print(pd.DataFrame(count_vect.A, columns=vect.get_feature_names_out()).to_string())"
      ]
    },
    {
      "cell_type": "markdown",
      "source": [
        "##TF"
      ],
      "metadata": {
        "id": "A0LxdHMMFEGn"
      }
    },
    {
      "cell_type": "code",
      "source": [
        "from sklearn.feature_extraction.text import TfidfVectorizer\n",
        "\n",
        "# ao usar o TfidfVectorizer() o default ngram_range=unigrama, use_idf=True, norm='l2', lowercase=True, max_df e min_df=1, smooth_idf=True, sublinear_tf=False\n",
        "vect = TfidfVectorizer(ngram_range=(1,1), use_idf=False, norm='l1')\n",
        "vect.fit(df.text)\n",
        "tf_vect = vect.transform(df.text)\n",
        "\n",
        "print(pd.DataFrame(tf_vect.A, columns=vect.get_feature_names_out()).to_string())"
      ],
      "metadata": {
        "colab": {
          "base_uri": "https://localhost:8080/"
        },
        "id": "JVQX1_uWFAPP",
        "outputId": "c6a3b18e-bfce-46e1-9711-c3ca8e88c60c"
      },
      "execution_count": 10,
      "outputs": [
        {
          "output_type": "stream",
          "name": "stdout",
          "text": [
            "         da        do        eu      fiap    gostei       mba  melhorar     muito    não   pode     sobre\n",
            "0  0.111111  0.111111  0.111111  0.111111  0.111111  0.222222     0.000  0.111111  0.000  0.000  0.111111\n",
            "1  0.125000  0.000000  0.000000  0.125000  0.125000  0.125000     0.125  0.125000  0.125  0.125  0.000000\n"
          ]
        }
      ]
    },
    {
      "cell_type": "markdown",
      "source": [
        "##TF-IDF"
      ],
      "metadata": {
        "id": "6Wxs-rKqFVZC"
      }
    },
    {
      "cell_type": "code",
      "source": [
        "from sklearn.feature_extraction.text import TfidfVectorizer\n",
        "\n",
        "# ao usar o TfidfVectorizer() o default ngram_range=unigrama, use_idf=True, norm='l2', lowercase=True, max_df e min_df=1, smooth_idf=True, sublinear_tf=False\n",
        "vect = TfidfVectorizer(ngram_range=(1,1), use_idf=True)\n",
        "vect.fit(df.text)\n",
        "tfidf_vect = vect.transform(df.text)\n",
        "\n",
        "print(pd.DataFrame(tfidf_vect.A, columns=vect.get_feature_names_out()).to_string())"
      ],
      "metadata": {
        "colab": {
          "base_uri": "https://localhost:8080/"
        },
        "outputId": "6f7d847c-4754-4def-ef1b-a9037c8885ee",
        "id": "DTzCdXY5FVZD"
      },
      "execution_count": 11,
      "outputs": [
        {
          "output_type": "stream",
          "name": "stdout",
          "text": [
            "         da        do        eu      fiap    gostei       mba  melhorar     muito       não      pode     sobre\n",
            "0  0.267970  0.376623  0.376623  0.267970  0.267970  0.535941  0.000000  0.267970  0.000000  0.000000  0.376623\n",
            "1  0.302531  0.000000  0.000000  0.302531  0.302531  0.302531  0.425196  0.302531  0.425196  0.425196  0.000000\n"
          ]
        }
      ]
    },
    {
      "cell_type": "markdown",
      "metadata": {
        "id": "zb4iAoq2ZoqW"
      },
      "source": [
        "Existe uma diferenca no cálculo original do TF-IDF apresentados pelos livros em relação ao padrão urilizado pelo Scikit Learn. A ideia dessa diferença é evitar divisões por zero.\n",
        "\n",
        "Formúla original:\n",
        "\n",
        "    TF-IDFw1 = TFw1 * IDFw1\n",
        "    IDFw1 = loge(D/Dw1)\n",
        "    D = total de documentos | Dw1 = Quantidade de documentos em que o termo aparece\n",
        "\n",
        "----\n",
        "Formúla do sklearn:\n",
        "Muda o cálculo do IDFw1\n",
        "\n",
        "    IDFw! = loge(1+D/1+Dw1)+1\n",
        "\n",
        "Com o paâmetro smooth_idf=False\n",
        "\n",
        "    IDFw! = loge(D/Dw1)+1\n",
        "\n"
      ]
    },
    {
      "cell_type": "markdown",
      "metadata": {
        "id": "i0WHVK8HYG5r"
      },
      "source": [
        "https://scikit-learn.org/stable/modules/generated/sklearn.feature_extraction.text.TfidfVectorizer.html#sklearn.feature_extraction.text.TfidfVectorizer\n",
        "\n",
        "\n",
        "https://scikit-learn.org/stable/modules/feature_extraction.html\n",
        "\n",
        "O cáculo do TF-IDF das classes TfidfTransformer e TfidfVectorizer do scikit-learn diferem ligeiramente da notação padrão de livros didáticos que define o IDF.\n"
      ]
    },
    {
      "cell_type": "code",
      "source": [
        "'''\n",
        "tfidf_vect.data\n",
        "tfidf_vect.A\n",
        "vect.get_feature_names()\n",
        "'''"
      ],
      "metadata": {
        "id": "d2At2NaJFAMu"
      },
      "execution_count": null,
      "outputs": []
    },
    {
      "cell_type": "markdown",
      "source": [
        "##Combinando as técnicas"
      ],
      "metadata": {
        "id": "qQj1twYPkH6b"
      }
    },
    {
      "cell_type": "code",
      "source": [
        "from nltk.tokenize import word_tokenize\n",
        "import nltk\n",
        "nltk.download('punkt')"
      ],
      "metadata": {
        "id": "2IKQQvhxGYzL",
        "colab": {
          "base_uri": "https://localhost:8080/"
        },
        "outputId": "7e50d5f6-1b97-4d74-95bf-86040a9e8cdc"
      },
      "execution_count": 12,
      "outputs": [
        {
          "output_type": "stream",
          "name": "stderr",
          "text": [
            "[nltk_data] Downloading package punkt to /root/nltk_data...\n",
            "[nltk_data]   Unzipping tokenizers/punkt.zip.\n"
          ]
        },
        {
          "output_type": "execute_result",
          "data": {
            "text/plain": [
              "True"
            ]
          },
          "metadata": {},
          "execution_count": 12
        }
      ]
    },
    {
      "cell_type": "code",
      "source": [
        "import nltk\n",
        "import string\n",
        "nltk.download('stopwords')\n",
        "\n",
        "# lista de stopwords do NLTK\n",
        "stopwords = nltk.corpus.stopwords.words('portuguese')\n",
        "\n",
        "# lista de stopwords customizada\n",
        "stopwords_new = [x for x in stopwords if x not in ('muito','não')]\n",
        "stopwords_new = stopwords_new + [\"mba\", \"fiap\"]\n",
        "\n",
        "# função que remove pontuação\n",
        "def remove_punctuation(text):\n",
        "    punctuations = string.punctuation\n",
        "    table = str.maketrans({key: \" \" for key in punctuations})\n",
        "    text = text.translate(table)\n",
        "    return text\n",
        "\n",
        "remove_punctuation(\"Exemplo$ xx de 12 normalização, deixa o não!!\")\n",
        "\n",
        "# função que normaliza o texto e remove stopwords\n",
        "def normalize_str(text):\n",
        "    text = text.lower()\n",
        "    text = remove_punctuation(text)\n",
        "    text = \"\".join([w for w in text if not w.isdigit()])\n",
        "    text = word_tokenize(text)\n",
        "    text = [x for x in text if x not in stopwords_new]\n",
        "    text = [y for y in text if len(y) > 2]\n",
        "    return \" \".join([t for t in text])\n",
        "    return text\n",
        "\n",
        "normalize_str(\"Exemplo$ xx de 12 normalização, deixa o não!!\")"
      ],
      "metadata": {
        "colab": {
          "base_uri": "https://localhost:8080/",
          "height": 72
        },
        "id": "ZRPgARLrqGNM",
        "outputId": "abff4a7a-6c1a-414a-9588-9e6be0a8e377"
      },
      "execution_count": 14,
      "outputs": [
        {
          "output_type": "stream",
          "name": "stderr",
          "text": [
            "[nltk_data] Downloading package stopwords to /root/nltk_data...\n",
            "[nltk_data]   Package stopwords is already up-to-date!\n"
          ]
        },
        {
          "output_type": "execute_result",
          "data": {
            "text/plain": [
              "'exemplo normalização deixa não'"
            ],
            "application/vnd.google.colaboratory.intrinsic+json": {
              "type": "string"
            }
          },
          "metadata": {},
          "execution_count": 14
        }
      ]
    },
    {
      "cell_type": "code",
      "source": [
        "df['text_trat'] = df.text.apply(normalize_str)"
      ],
      "metadata": {
        "id": "v6pi9Tk3qGES"
      },
      "execution_count": 15,
      "outputs": []
    },
    {
      "cell_type": "code",
      "source": [
        "df['tokens'] = df.text_trat.apply(word_tokenize)"
      ],
      "metadata": {
        "id": "f0boTa6eGYwu"
      },
      "execution_count": 16,
      "outputs": []
    },
    {
      "cell_type": "code",
      "source": [
        "from nltk.stem.rslp import RSLPStemmer\n",
        "import nltk\n",
        "nltk.download('rslp')\n",
        "\n",
        "rslp = RSLPStemmer()\n",
        "\n",
        "def stem_pandas(line):\n",
        "  return ' '.join([rslp.stem(token) for token in line])\n",
        "\n",
        "df['stemmer'] = df.tokens.apply(stem_pandas)\n",
        "\n",
        "df.head()"
      ],
      "metadata": {
        "id": "bbriyFGkGYrG",
        "colab": {
          "base_uri": "https://localhost:8080/",
          "height": 148
        },
        "outputId": "95b84006-a7e6-4327-a704-83395561908c"
      },
      "execution_count": 17,
      "outputs": [
        {
          "output_type": "stream",
          "name": "stderr",
          "text": [
            "[nltk_data] Downloading package rslp to /root/nltk_data...\n",
            "[nltk_data]   Unzipping stemmers/rslp.zip.\n"
          ]
        },
        {
          "output_type": "execute_result",
          "data": {
            "text/plain": [
              "                                            text     class  \\\n",
              "0     Sobre MBA ? Eu gostei muito do MBA da FIAP  positivo   \n",
              "1  O MBA da FIAP pode melhorar, não gostei muito  negativo   \n",
              "\n",
              "                        text_trat                                tokens  \\\n",
              "0              sobre gostei muito                [sobre, gostei, muito]   \n",
              "1  pode melhorar não gostei muito  [pode, melhorar, não, gostei, muito]   \n",
              "\n",
              "                    stemmer  \n",
              "0            sobr gost muit  \n",
              "1  pod melhor não gost muit  "
            ],
            "text/html": [
              "\n",
              "  <div id=\"df-fe08d9fb-4ac1-4100-a9c7-86ea6b1ff727\" class=\"colab-df-container\">\n",
              "    <div>\n",
              "<style scoped>\n",
              "    .dataframe tbody tr th:only-of-type {\n",
              "        vertical-align: middle;\n",
              "    }\n",
              "\n",
              "    .dataframe tbody tr th {\n",
              "        vertical-align: top;\n",
              "    }\n",
              "\n",
              "    .dataframe thead th {\n",
              "        text-align: right;\n",
              "    }\n",
              "</style>\n",
              "<table border=\"1\" class=\"dataframe\">\n",
              "  <thead>\n",
              "    <tr style=\"text-align: right;\">\n",
              "      <th></th>\n",
              "      <th>text</th>\n",
              "      <th>class</th>\n",
              "      <th>text_trat</th>\n",
              "      <th>tokens</th>\n",
              "      <th>stemmer</th>\n",
              "    </tr>\n",
              "  </thead>\n",
              "  <tbody>\n",
              "    <tr>\n",
              "      <th>0</th>\n",
              "      <td>Sobre MBA ? Eu gostei muito do MBA da FIAP</td>\n",
              "      <td>positivo</td>\n",
              "      <td>sobre gostei muito</td>\n",
              "      <td>[sobre, gostei, muito]</td>\n",
              "      <td>sobr gost muit</td>\n",
              "    </tr>\n",
              "    <tr>\n",
              "      <th>1</th>\n",
              "      <td>O MBA da FIAP pode melhorar, não gostei muito</td>\n",
              "      <td>negativo</td>\n",
              "      <td>pode melhorar não gostei muito</td>\n",
              "      <td>[pode, melhorar, não, gostei, muito]</td>\n",
              "      <td>pod melhor não gost muit</td>\n",
              "    </tr>\n",
              "  </tbody>\n",
              "</table>\n",
              "</div>\n",
              "    <div class=\"colab-df-buttons\">\n",
              "\n",
              "  <div class=\"colab-df-container\">\n",
              "    <button class=\"colab-df-convert\" onclick=\"convertToInteractive('df-fe08d9fb-4ac1-4100-a9c7-86ea6b1ff727')\"\n",
              "            title=\"Convert this dataframe to an interactive table.\"\n",
              "            style=\"display:none;\">\n",
              "\n",
              "  <svg xmlns=\"http://www.w3.org/2000/svg\" height=\"24px\" viewBox=\"0 -960 960 960\">\n",
              "    <path d=\"M120-120v-720h720v720H120Zm60-500h600v-160H180v160Zm220 220h160v-160H400v160Zm0 220h160v-160H400v160ZM180-400h160v-160H180v160Zm440 0h160v-160H620v160ZM180-180h160v-160H180v160Zm440 0h160v-160H620v160Z\"/>\n",
              "  </svg>\n",
              "    </button>\n",
              "\n",
              "  <style>\n",
              "    .colab-df-container {\n",
              "      display:flex;\n",
              "      gap: 12px;\n",
              "    }\n",
              "\n",
              "    .colab-df-convert {\n",
              "      background-color: #E8F0FE;\n",
              "      border: none;\n",
              "      border-radius: 50%;\n",
              "      cursor: pointer;\n",
              "      display: none;\n",
              "      fill: #1967D2;\n",
              "      height: 32px;\n",
              "      padding: 0 0 0 0;\n",
              "      width: 32px;\n",
              "    }\n",
              "\n",
              "    .colab-df-convert:hover {\n",
              "      background-color: #E2EBFA;\n",
              "      box-shadow: 0px 1px 2px rgba(60, 64, 67, 0.3), 0px 1px 3px 1px rgba(60, 64, 67, 0.15);\n",
              "      fill: #174EA6;\n",
              "    }\n",
              "\n",
              "    .colab-df-buttons div {\n",
              "      margin-bottom: 4px;\n",
              "    }\n",
              "\n",
              "    [theme=dark] .colab-df-convert {\n",
              "      background-color: #3B4455;\n",
              "      fill: #D2E3FC;\n",
              "    }\n",
              "\n",
              "    [theme=dark] .colab-df-convert:hover {\n",
              "      background-color: #434B5C;\n",
              "      box-shadow: 0px 1px 3px 1px rgba(0, 0, 0, 0.15);\n",
              "      filter: drop-shadow(0px 1px 2px rgba(0, 0, 0, 0.3));\n",
              "      fill: #FFFFFF;\n",
              "    }\n",
              "  </style>\n",
              "\n",
              "    <script>\n",
              "      const buttonEl =\n",
              "        document.querySelector('#df-fe08d9fb-4ac1-4100-a9c7-86ea6b1ff727 button.colab-df-convert');\n",
              "      buttonEl.style.display =\n",
              "        google.colab.kernel.accessAllowed ? 'block' : 'none';\n",
              "\n",
              "      async function convertToInteractive(key) {\n",
              "        const element = document.querySelector('#df-fe08d9fb-4ac1-4100-a9c7-86ea6b1ff727');\n",
              "        const dataTable =\n",
              "          await google.colab.kernel.invokeFunction('convertToInteractive',\n",
              "                                                    [key], {});\n",
              "        if (!dataTable) return;\n",
              "\n",
              "        const docLinkHtml = 'Like what you see? Visit the ' +\n",
              "          '<a target=\"_blank\" href=https://colab.research.google.com/notebooks/data_table.ipynb>data table notebook</a>'\n",
              "          + ' to learn more about interactive tables.';\n",
              "        element.innerHTML = '';\n",
              "        dataTable['output_type'] = 'display_data';\n",
              "        await google.colab.output.renderOutput(dataTable, element);\n",
              "        const docLink = document.createElement('div');\n",
              "        docLink.innerHTML = docLinkHtml;\n",
              "        element.appendChild(docLink);\n",
              "      }\n",
              "    </script>\n",
              "  </div>\n",
              "\n",
              "\n",
              "<div id=\"df-2feb17fb-466e-43ce-98ce-94ed648088e8\">\n",
              "  <button class=\"colab-df-quickchart\" onclick=\"quickchart('df-2feb17fb-466e-43ce-98ce-94ed648088e8')\"\n",
              "            title=\"Suggest charts\"\n",
              "            style=\"display:none;\">\n",
              "\n",
              "<svg xmlns=\"http://www.w3.org/2000/svg\" height=\"24px\"viewBox=\"0 0 24 24\"\n",
              "     width=\"24px\">\n",
              "    <g>\n",
              "        <path d=\"M19 3H5c-1.1 0-2 .9-2 2v14c0 1.1.9 2 2 2h14c1.1 0 2-.9 2-2V5c0-1.1-.9-2-2-2zM9 17H7v-7h2v7zm4 0h-2V7h2v10zm4 0h-2v-4h2v4z\"/>\n",
              "    </g>\n",
              "</svg>\n",
              "  </button>\n",
              "\n",
              "<style>\n",
              "  .colab-df-quickchart {\n",
              "      --bg-color: #E8F0FE;\n",
              "      --fill-color: #1967D2;\n",
              "      --hover-bg-color: #E2EBFA;\n",
              "      --hover-fill-color: #174EA6;\n",
              "      --disabled-fill-color: #AAA;\n",
              "      --disabled-bg-color: #DDD;\n",
              "  }\n",
              "\n",
              "  [theme=dark] .colab-df-quickchart {\n",
              "      --bg-color: #3B4455;\n",
              "      --fill-color: #D2E3FC;\n",
              "      --hover-bg-color: #434B5C;\n",
              "      --hover-fill-color: #FFFFFF;\n",
              "      --disabled-bg-color: #3B4455;\n",
              "      --disabled-fill-color: #666;\n",
              "  }\n",
              "\n",
              "  .colab-df-quickchart {\n",
              "    background-color: var(--bg-color);\n",
              "    border: none;\n",
              "    border-radius: 50%;\n",
              "    cursor: pointer;\n",
              "    display: none;\n",
              "    fill: var(--fill-color);\n",
              "    height: 32px;\n",
              "    padding: 0;\n",
              "    width: 32px;\n",
              "  }\n",
              "\n",
              "  .colab-df-quickchart:hover {\n",
              "    background-color: var(--hover-bg-color);\n",
              "    box-shadow: 0 1px 2px rgba(60, 64, 67, 0.3), 0 1px 3px 1px rgba(60, 64, 67, 0.15);\n",
              "    fill: var(--button-hover-fill-color);\n",
              "  }\n",
              "\n",
              "  .colab-df-quickchart-complete:disabled,\n",
              "  .colab-df-quickchart-complete:disabled:hover {\n",
              "    background-color: var(--disabled-bg-color);\n",
              "    fill: var(--disabled-fill-color);\n",
              "    box-shadow: none;\n",
              "  }\n",
              "\n",
              "  .colab-df-spinner {\n",
              "    border: 2px solid var(--fill-color);\n",
              "    border-color: transparent;\n",
              "    border-bottom-color: var(--fill-color);\n",
              "    animation:\n",
              "      spin 1s steps(1) infinite;\n",
              "  }\n",
              "\n",
              "  @keyframes spin {\n",
              "    0% {\n",
              "      border-color: transparent;\n",
              "      border-bottom-color: var(--fill-color);\n",
              "      border-left-color: var(--fill-color);\n",
              "    }\n",
              "    20% {\n",
              "      border-color: transparent;\n",
              "      border-left-color: var(--fill-color);\n",
              "      border-top-color: var(--fill-color);\n",
              "    }\n",
              "    30% {\n",
              "      border-color: transparent;\n",
              "      border-left-color: var(--fill-color);\n",
              "      border-top-color: var(--fill-color);\n",
              "      border-right-color: var(--fill-color);\n",
              "    }\n",
              "    40% {\n",
              "      border-color: transparent;\n",
              "      border-right-color: var(--fill-color);\n",
              "      border-top-color: var(--fill-color);\n",
              "    }\n",
              "    60% {\n",
              "      border-color: transparent;\n",
              "      border-right-color: var(--fill-color);\n",
              "    }\n",
              "    80% {\n",
              "      border-color: transparent;\n",
              "      border-right-color: var(--fill-color);\n",
              "      border-bottom-color: var(--fill-color);\n",
              "    }\n",
              "    90% {\n",
              "      border-color: transparent;\n",
              "      border-bottom-color: var(--fill-color);\n",
              "    }\n",
              "  }\n",
              "</style>\n",
              "\n",
              "  <script>\n",
              "    async function quickchart(key) {\n",
              "      const quickchartButtonEl =\n",
              "        document.querySelector('#' + key + ' button');\n",
              "      quickchartButtonEl.disabled = true;  // To prevent multiple clicks.\n",
              "      quickchartButtonEl.classList.add('colab-df-spinner');\n",
              "      try {\n",
              "        const charts = await google.colab.kernel.invokeFunction(\n",
              "            'suggestCharts', [key], {});\n",
              "      } catch (error) {\n",
              "        console.error('Error during call to suggestCharts:', error);\n",
              "      }\n",
              "      quickchartButtonEl.classList.remove('colab-df-spinner');\n",
              "      quickchartButtonEl.classList.add('colab-df-quickchart-complete');\n",
              "    }\n",
              "    (() => {\n",
              "      let quickchartButtonEl =\n",
              "        document.querySelector('#df-2feb17fb-466e-43ce-98ce-94ed648088e8 button');\n",
              "      quickchartButtonEl.style.display =\n",
              "        google.colab.kernel.accessAllowed ? 'block' : 'none';\n",
              "    })();\n",
              "  </script>\n",
              "</div>\n",
              "    </div>\n",
              "  </div>\n"
            ]
          },
          "metadata": {},
          "execution_count": 17
        }
      ]
    },
    {
      "cell_type": "code",
      "source": [
        "vect = TfidfVectorizer()\n",
        "#vect = TfidfVectorizer(ngram_range=(1,2), use_idf=True)\n",
        "vect.fit(df.stemmer)\n",
        "\n",
        "text_vect = vect.transform(df.stemmer)\n",
        "\n",
        "print('UNIGRAMAS sem STOPWORDS e TEXTO COM STEMMER aplicado', text_vect.shape[1])\n",
        "print(pd.DataFrame(text_vect.A, columns=vect.get_feature_names_out()).to_string())"
      ],
      "metadata": {
        "id": "q7j6tWm3GxgQ",
        "colab": {
          "base_uri": "https://localhost:8080/"
        },
        "outputId": "7ccfd499-ccac-4483-feac-5a8396bae7ed"
      },
      "execution_count": 18,
      "outputs": [
        {
          "output_type": "stream",
          "name": "stdout",
          "text": [
            "UNIGRAMAS sem STOPWORDS e TEXTO COM STEMMER aplicado 6\n",
            "       gost    melhor      muit       não       pod      sobr\n",
            "0  0.501549  0.000000  0.501549  0.000000  0.000000  0.704909\n",
            "1  0.355200  0.499221  0.355200  0.499221  0.499221  0.000000\n"
          ]
        }
      ]
    },
    {
      "cell_type": "markdown",
      "source": [
        "**Alternativa para lista de Stop-Words mais completa**\n",
        "\n",
        "---\n"
      ],
      "metadata": {
        "id": "5985P3XJltM2"
      }
    },
    {
      "cell_type": "code",
      "source": [
        "#!pip install spacy\n",
        "!python -m spacy download pt_core_news_sm"
      ],
      "metadata": {
        "id": "aH4OAYximUxG"
      },
      "execution_count": null,
      "outputs": []
    },
    {
      "cell_type": "code",
      "source": [
        "## lista de stopwords do NLTK\n",
        "import nltk\n",
        "nltk.download('stopwords')\n",
        "stopwords_nltk = nltk.corpus.stopwords.words('portuguese')\n",
        "print(\"Stop-Words NLTK: \", len(stopwords_nltk))\n",
        "\n",
        "## lista de stopwords do Spack\n",
        "import spacy\n",
        "nlp = spacy.load('pt_core_news_sm')\n",
        "stopwords_spacy = nlp.Defaults.stop_words\n",
        "print(\"Stop-Words Spacy: \", len(stopwords_spacy))\n",
        "\n",
        "# Carrega as stopwords do SpaCy e NLTK combinadas\n",
        "stopwords = list(set(nlp.Defaults.stop_words).union(set(nltk.corpus.stopwords.words('portuguese'))))\n",
        "print(\"Stop-Words Spacy + NLTK: \", len(stopwords))\n",
        "\n",
        "# agora é só usar igual vimos antes, façam os testes!"
      ],
      "metadata": {
        "colab": {
          "base_uri": "https://localhost:8080/"
        },
        "id": "NqA2XXgekP6R",
        "outputId": "84ad6de8-e324-4eb3-86df-9c8602b6839b"
      },
      "execution_count": 21,
      "outputs": [
        {
          "output_type": "stream",
          "name": "stderr",
          "text": [
            "[nltk_data] Downloading package stopwords to /root/nltk_data...\n",
            "[nltk_data]   Package stopwords is already up-to-date!\n"
          ]
        },
        {
          "output_type": "stream",
          "name": "stdout",
          "text": [
            "Stop-Words NLTK:  207\n",
            "Stop-Words Spacy:  416\n",
            "Stop-Words Spacy + NLTK:  500\n"
          ]
        }
      ]
    },
    {
      "cell_type": "markdown",
      "metadata": {
        "id": "owZf_DaUomwT"
      },
      "source": [
        "##**Modelo com n-grama**\n",
        "---"
      ]
    },
    {
      "cell_type": "code",
      "metadata": {
        "id": "pbiAa2z89dy3"
      },
      "source": [
        "import pandas as pd\n",
        "\n",
        "df = pd.DataFrame({\n",
        "    'text': [\n",
        "      'Sobre MBA ? Eu gostei muito do MBA da FIAP',\n",
        "      'O MBA da FIAP pode melhorar, não gostei muito',\n",
        "      'O curso pode melhorar'\n",
        "    ],\n",
        "    'class': [\n",
        "        'positivo',\n",
        "        'negativo',\n",
        "        'negativo'\n",
        "    ]})"
      ],
      "execution_count": 22,
      "outputs": []
    },
    {
      "cell_type": "code",
      "metadata": {
        "id": "M4lp9qev2BwO",
        "colab": {
          "base_uri": "https://localhost:8080/"
        },
        "outputId": "0c3ca1b0-bd3b-4cfd-f0b2-8d2e1c20c439"
      },
      "source": [
        "df['class']"
      ],
      "execution_count": 23,
      "outputs": [
        {
          "output_type": "execute_result",
          "data": {
            "text/plain": [
              "0    positivo\n",
              "1    negativo\n",
              "2    negativo\n",
              "Name: class, dtype: object"
            ]
          },
          "metadata": {},
          "execution_count": 23
        }
      ]
    },
    {
      "cell_type": "markdown",
      "metadata": {
        "id": "L9OOZ2uwFO9O"
      },
      "source": [
        "###Transformando os textos/dados em uma \"linguagem\" para o modelo"
      ]
    },
    {
      "cell_type": "code",
      "metadata": {
        "id": "scb7PSMRFZoi",
        "colab": {
          "base_uri": "https://localhost:8080/"
        },
        "outputId": "bd0fb296-fb5c-4c4f-aec7-59a465cae3fb"
      },
      "source": [
        "from sklearn.feature_extraction.text import TfidfVectorizer\n",
        "\n",
        "# ao usar o TfidfVectorizer() o default ngram_range=unigrama, use_idf=True, norm='l2', lowercase=True, max_df e min_df=1, smooth_idf=True, sublinear_tf=False\n",
        "vect = TfidfVectorizer()\n",
        "vect.fit(df.text)\n",
        "tfidf_vect = vect.transform(df.text)\n",
        "\n",
        "print(pd.DataFrame(tfidf_vect.A, columns=vect.get_feature_names_out()).to_string())"
      ],
      "execution_count": 25,
      "outputs": [
        {
          "output_type": "stream",
          "name": "stdout",
          "text": [
            "      curso        da        do        eu      fiap    gostei       mba  melhorar     muito       não      pode     sobre\n",
            "0  0.000000  0.275379  0.362091  0.362091  0.275379  0.275379  0.550759  0.000000  0.275379  0.000000  0.000000  0.362091\n",
            "1  0.000000  0.338470  0.000000  0.000000  0.338470  0.338470  0.338470  0.338470  0.338470  0.445047  0.338470  0.000000\n",
            "2  0.680919  0.000000  0.000000  0.000000  0.000000  0.000000  0.000000  0.517856  0.000000  0.000000  0.517856  0.000000\n"
          ]
        }
      ]
    },
    {
      "cell_type": "markdown",
      "metadata": {
        "id": "tQW-5k0FFetx"
      },
      "source": [
        "###Treinando um modelo de Árvore de Decisão\n"
      ]
    },
    {
      "cell_type": "code",
      "metadata": {
        "id": "A3p0_VlNmzAY",
        "colab": {
          "base_uri": "https://localhost:8080/"
        },
        "outputId": "9a23ad8f-8c01-4a6c-8257-86d30733238a"
      },
      "source": [
        "# treinando um modelo de árevore de decisão\n",
        "from sklearn.tree import DecisionTreeClassifier\n",
        "\n",
        "tree = DecisionTreeClassifier(random_state=42)\n",
        "tree.fit(tfidf_vect, df['class'])\n",
        "\n",
        "print('D Tree: ', tree.score(tfidf_vect, df['class'])) # retorna a acurracy - precisão do modelo"
      ],
      "execution_count": 26,
      "outputs": [
        {
          "output_type": "stream",
          "name": "stdout",
          "text": [
            "D Tree:  1.0\n"
          ]
        }
      ]
    },
    {
      "cell_type": "code",
      "metadata": {
        "id": "MD07UNay3hA5"
      },
      "source": [
        "#tree.score(tfidf_vect, df['class'])\n",
        "\n",
        "# na prática, temos que validar o modelo com a base de teste, aqui é só um exemplo e não estamos usando uma amostragem completa.\n",
        "# vamos praticar mais em um exercício"
      ],
      "execution_count": null,
      "outputs": []
    },
    {
      "cell_type": "markdown",
      "metadata": {
        "id": "seivhEQFFpFp"
      },
      "source": [
        "###Aplicando o conhecimento do modelo em um novo documento"
      ]
    },
    {
      "cell_type": "code",
      "metadata": {
        "id": "OuGLwdhUpuIZ",
        "colab": {
          "base_uri": "https://localhost:8080/"
        },
        "outputId": "1ffde349-6e61-4e0e-cca6-11bb52fec070"
      },
      "source": [
        "doc_valid = ['o curso tem oportunidade de melhorar, não gostei']\n",
        "\n",
        "vetor = vect.transform(doc_valid)\n",
        "#vetor.A\n",
        "print(pd.DataFrame(vetor.A, columns=vect.get_feature_names_out()).to_string())\n",
        "\n",
        "print('D Tree: ', tree.predict(vetor))"
      ],
      "execution_count": 27,
      "outputs": [
        {
          "output_type": "stream",
          "name": "stdout",
          "text": [
            "      curso   da   do   eu  fiap    gostei  mba  melhorar  muito       não  pode  sobre\n",
            "0  0.562829  0.0  0.0  0.0   0.0  0.428046  0.0  0.428046    0.0  0.562829   0.0    0.0\n",
            "D Tree:  ['negativo']\n"
          ]
        }
      ]
    },
    {
      "cell_type": "markdown",
      "metadata": {
        "id": "SwKKm5BdIDPi"
      },
      "source": [
        "# **Montando nossa amostra**\n",
        "\n",
        "---"
      ]
    },
    {
      "cell_type": "code",
      "metadata": {
        "id": "DJiSowwqF-Mx",
        "colab": {
          "base_uri": "https://localhost:8080/"
        },
        "outputId": "042bcbf8-4c55-40c3-ac5e-5f37cd3dafe5"
      },
      "source": [
        "from google.colab import drive\n",
        "drive.mount('/content/gdrive', force_remount=True)\n",
        "\n",
        "# mostrar a estrutura de pastas do google drive montado\n",
        "!ls -la\n",
        "!ls -la gdrive/MyDrive/FIAP/NLP/dados # aqui é o diretório do professor, coloquem o diretório de vocês"
      ],
      "execution_count": 28,
      "outputs": [
        {
          "output_type": "stream",
          "name": "stdout",
          "text": [
            "Mounted at /content/gdrive\n",
            "total 20\n",
            "drwxr-xr-x 1 root root 4096 Nov 13 12:54 .\n",
            "drwxr-xr-x 1 root root 4096 Nov 13 12:39 ..\n",
            "drwxr-xr-x 4 root root 4096 Nov  9 14:24 .config\n",
            "drwx------ 6 root root 4096 Nov 13 12:54 gdrive\n",
            "drwxr-xr-x 1 root root 4096 Nov  9 14:25 sample_data\n",
            "total 1514419\n",
            "-rw------- 1 root root 929305948 Mar 11  2020 cbow_s300.zip\n",
            "-rw------- 1 root root  83392514 Feb 23  2022 complaints-2021-05-14_08_16_.json\n",
            "-rw------- 1 root root 127066935 Mar 29  2020 imdb-reviews-pt-br.csv\n",
            "-rw------- 1 root root   3776170 Mar 29  2020 produtos.csv\n",
            "-rw------- 1 root root 203269084 Jun 11  2020 pt.zip\n",
            "-rw------- 1 root root   5592702 Nov  8  2022 reviews_apps_completa.csv\n",
            "-rw------- 1 root root   2890644 Nov  8  2022 reviews_apps.csv\n",
            "-rw------- 1 root root  62690718 Jun 16  2022 tickets_complaint_classified_en.csv\n",
            "-rw------- 1 root root  33020135 Jun 18  2022 tickets_reclamacoes_classificados.csv\n",
            "-rw------- 1 root root  34551408 Jun 17  2022 tickets_reclamacoes_classificados_pt.csv\n",
            "-rw------- 1 root root  62434855 Jun 18  2022 tickets_reclamacoes_classificados_pt_tblob.csv\n",
            "-rw------- 1 root root    924489 Nov 15  2022 tweets_classificados.csv\n",
            "-rw------- 1 root root   1845398 Sep 26  2019 Tweets_Mg.csv\n"
          ]
        }
      ]
    },
    {
      "cell_type": "markdown",
      "metadata": {
        "id": "KKFntlmBJlP-"
      },
      "source": [
        "### Selecioando dados aleatórios direto do arquivo:"
      ]
    },
    {
      "cell_type": "code",
      "metadata": {
        "id": "604kMteIF-Kj",
        "colab": {
          "base_uri": "https://localhost:8080/",
          "height": 175
        },
        "outputId": "178ff020-e546-4c81-ee83-1fa07e975ef6"
      },
      "source": [
        "import pandas as pd\n",
        "\n",
        "df = pd.read_csv(\n",
        "    \"gdrive/MyDrive/FIAP/NLP/dados/produtos.csv\",\n",
        "    delimiter=\";\",\n",
        "    encoding='utf-8'\n",
        "  ).sample(frac=0.5, random_state=42)\n",
        "\n",
        "df.dropna(inplace=True)\n",
        "df[\"texto\"] = df['nome'] + \" \" + df['descricao']\n",
        "df.describe()\n",
        "\n",
        "#df.sample(frac=0.5, random_state=42)"
      ],
      "execution_count": 29,
      "outputs": [
        {
          "output_type": "execute_result",
          "data": {
            "text/plain": [
              "                                     nome  \\\n",
              "count                                1424   \n",
              "unique                               1307   \n",
              "top      Boneco Dragon Ball Z Son Gokou     \n",
              "freq                                   11   \n",
              "\n",
              "                                                descricao categoria  \\\n",
              "count                                                1424      1424   \n",
              "unique                                               1257         4   \n",
              "top     JOGO ORIGINAL. NOVO. LACRADO. PRONTA ENTREGA. ...     livro   \n",
              "freq                                                   19       411   \n",
              "\n",
              "                                                    texto  \n",
              "count                                                1424  \n",
              "unique                                               1320  \n",
              "top      Box A Garota Do Calendário Novo No Plástico F...  \n",
              "freq                                                   11  "
            ],
            "text/html": [
              "\n",
              "  <div id=\"df-6454ffaf-5c76-404a-b2c5-320deaf8c801\" class=\"colab-df-container\">\n",
              "    <div>\n",
              "<style scoped>\n",
              "    .dataframe tbody tr th:only-of-type {\n",
              "        vertical-align: middle;\n",
              "    }\n",
              "\n",
              "    .dataframe tbody tr th {\n",
              "        vertical-align: top;\n",
              "    }\n",
              "\n",
              "    .dataframe thead th {\n",
              "        text-align: right;\n",
              "    }\n",
              "</style>\n",
              "<table border=\"1\" class=\"dataframe\">\n",
              "  <thead>\n",
              "    <tr style=\"text-align: right;\">\n",
              "      <th></th>\n",
              "      <th>nome</th>\n",
              "      <th>descricao</th>\n",
              "      <th>categoria</th>\n",
              "      <th>texto</th>\n",
              "    </tr>\n",
              "  </thead>\n",
              "  <tbody>\n",
              "    <tr>\n",
              "      <th>count</th>\n",
              "      <td>1424</td>\n",
              "      <td>1424</td>\n",
              "      <td>1424</td>\n",
              "      <td>1424</td>\n",
              "    </tr>\n",
              "    <tr>\n",
              "      <th>unique</th>\n",
              "      <td>1307</td>\n",
              "      <td>1257</td>\n",
              "      <td>4</td>\n",
              "      <td>1320</td>\n",
              "    </tr>\n",
              "    <tr>\n",
              "      <th>top</th>\n",
              "      <td>Boneco Dragon Ball Z Son Gokou</td>\n",
              "      <td>JOGO ORIGINAL. NOVO. LACRADO. PRONTA ENTREGA. ...</td>\n",
              "      <td>livro</td>\n",
              "      <td>Box A Garota Do Calendário Novo No Plástico F...</td>\n",
              "    </tr>\n",
              "    <tr>\n",
              "      <th>freq</th>\n",
              "      <td>11</td>\n",
              "      <td>19</td>\n",
              "      <td>411</td>\n",
              "      <td>11</td>\n",
              "    </tr>\n",
              "  </tbody>\n",
              "</table>\n",
              "</div>\n",
              "    <div class=\"colab-df-buttons\">\n",
              "\n",
              "  <div class=\"colab-df-container\">\n",
              "    <button class=\"colab-df-convert\" onclick=\"convertToInteractive('df-6454ffaf-5c76-404a-b2c5-320deaf8c801')\"\n",
              "            title=\"Convert this dataframe to an interactive table.\"\n",
              "            style=\"display:none;\">\n",
              "\n",
              "  <svg xmlns=\"http://www.w3.org/2000/svg\" height=\"24px\" viewBox=\"0 -960 960 960\">\n",
              "    <path d=\"M120-120v-720h720v720H120Zm60-500h600v-160H180v160Zm220 220h160v-160H400v160Zm0 220h160v-160H400v160ZM180-400h160v-160H180v160Zm440 0h160v-160H620v160ZM180-180h160v-160H180v160Zm440 0h160v-160H620v160Z\"/>\n",
              "  </svg>\n",
              "    </button>\n",
              "\n",
              "  <style>\n",
              "    .colab-df-container {\n",
              "      display:flex;\n",
              "      gap: 12px;\n",
              "    }\n",
              "\n",
              "    .colab-df-convert {\n",
              "      background-color: #E8F0FE;\n",
              "      border: none;\n",
              "      border-radius: 50%;\n",
              "      cursor: pointer;\n",
              "      display: none;\n",
              "      fill: #1967D2;\n",
              "      height: 32px;\n",
              "      padding: 0 0 0 0;\n",
              "      width: 32px;\n",
              "    }\n",
              "\n",
              "    .colab-df-convert:hover {\n",
              "      background-color: #E2EBFA;\n",
              "      box-shadow: 0px 1px 2px rgba(60, 64, 67, 0.3), 0px 1px 3px 1px rgba(60, 64, 67, 0.15);\n",
              "      fill: #174EA6;\n",
              "    }\n",
              "\n",
              "    .colab-df-buttons div {\n",
              "      margin-bottom: 4px;\n",
              "    }\n",
              "\n",
              "    [theme=dark] .colab-df-convert {\n",
              "      background-color: #3B4455;\n",
              "      fill: #D2E3FC;\n",
              "    }\n",
              "\n",
              "    [theme=dark] .colab-df-convert:hover {\n",
              "      background-color: #434B5C;\n",
              "      box-shadow: 0px 1px 3px 1px rgba(0, 0, 0, 0.15);\n",
              "      filter: drop-shadow(0px 1px 2px rgba(0, 0, 0, 0.3));\n",
              "      fill: #FFFFFF;\n",
              "    }\n",
              "  </style>\n",
              "\n",
              "    <script>\n",
              "      const buttonEl =\n",
              "        document.querySelector('#df-6454ffaf-5c76-404a-b2c5-320deaf8c801 button.colab-df-convert');\n",
              "      buttonEl.style.display =\n",
              "        google.colab.kernel.accessAllowed ? 'block' : 'none';\n",
              "\n",
              "      async function convertToInteractive(key) {\n",
              "        const element = document.querySelector('#df-6454ffaf-5c76-404a-b2c5-320deaf8c801');\n",
              "        const dataTable =\n",
              "          await google.colab.kernel.invokeFunction('convertToInteractive',\n",
              "                                                    [key], {});\n",
              "        if (!dataTable) return;\n",
              "\n",
              "        const docLinkHtml = 'Like what you see? Visit the ' +\n",
              "          '<a target=\"_blank\" href=https://colab.research.google.com/notebooks/data_table.ipynb>data table notebook</a>'\n",
              "          + ' to learn more about interactive tables.';\n",
              "        element.innerHTML = '';\n",
              "        dataTable['output_type'] = 'display_data';\n",
              "        await google.colab.output.renderOutput(dataTable, element);\n",
              "        const docLink = document.createElement('div');\n",
              "        docLink.innerHTML = docLinkHtml;\n",
              "        element.appendChild(docLink);\n",
              "      }\n",
              "    </script>\n",
              "  </div>\n",
              "\n",
              "\n",
              "<div id=\"df-923a9fac-0245-4f5c-8464-20cad473a750\">\n",
              "  <button class=\"colab-df-quickchart\" onclick=\"quickchart('df-923a9fac-0245-4f5c-8464-20cad473a750')\"\n",
              "            title=\"Suggest charts\"\n",
              "            style=\"display:none;\">\n",
              "\n",
              "<svg xmlns=\"http://www.w3.org/2000/svg\" height=\"24px\"viewBox=\"0 0 24 24\"\n",
              "     width=\"24px\">\n",
              "    <g>\n",
              "        <path d=\"M19 3H5c-1.1 0-2 .9-2 2v14c0 1.1.9 2 2 2h14c1.1 0 2-.9 2-2V5c0-1.1-.9-2-2-2zM9 17H7v-7h2v7zm4 0h-2V7h2v10zm4 0h-2v-4h2v4z\"/>\n",
              "    </g>\n",
              "</svg>\n",
              "  </button>\n",
              "\n",
              "<style>\n",
              "  .colab-df-quickchart {\n",
              "      --bg-color: #E8F0FE;\n",
              "      --fill-color: #1967D2;\n",
              "      --hover-bg-color: #E2EBFA;\n",
              "      --hover-fill-color: #174EA6;\n",
              "      --disabled-fill-color: #AAA;\n",
              "      --disabled-bg-color: #DDD;\n",
              "  }\n",
              "\n",
              "  [theme=dark] .colab-df-quickchart {\n",
              "      --bg-color: #3B4455;\n",
              "      --fill-color: #D2E3FC;\n",
              "      --hover-bg-color: #434B5C;\n",
              "      --hover-fill-color: #FFFFFF;\n",
              "      --disabled-bg-color: #3B4455;\n",
              "      --disabled-fill-color: #666;\n",
              "  }\n",
              "\n",
              "  .colab-df-quickchart {\n",
              "    background-color: var(--bg-color);\n",
              "    border: none;\n",
              "    border-radius: 50%;\n",
              "    cursor: pointer;\n",
              "    display: none;\n",
              "    fill: var(--fill-color);\n",
              "    height: 32px;\n",
              "    padding: 0;\n",
              "    width: 32px;\n",
              "  }\n",
              "\n",
              "  .colab-df-quickchart:hover {\n",
              "    background-color: var(--hover-bg-color);\n",
              "    box-shadow: 0 1px 2px rgba(60, 64, 67, 0.3), 0 1px 3px 1px rgba(60, 64, 67, 0.15);\n",
              "    fill: var(--button-hover-fill-color);\n",
              "  }\n",
              "\n",
              "  .colab-df-quickchart-complete:disabled,\n",
              "  .colab-df-quickchart-complete:disabled:hover {\n",
              "    background-color: var(--disabled-bg-color);\n",
              "    fill: var(--disabled-fill-color);\n",
              "    box-shadow: none;\n",
              "  }\n",
              "\n",
              "  .colab-df-spinner {\n",
              "    border: 2px solid var(--fill-color);\n",
              "    border-color: transparent;\n",
              "    border-bottom-color: var(--fill-color);\n",
              "    animation:\n",
              "      spin 1s steps(1) infinite;\n",
              "  }\n",
              "\n",
              "  @keyframes spin {\n",
              "    0% {\n",
              "      border-color: transparent;\n",
              "      border-bottom-color: var(--fill-color);\n",
              "      border-left-color: var(--fill-color);\n",
              "    }\n",
              "    20% {\n",
              "      border-color: transparent;\n",
              "      border-left-color: var(--fill-color);\n",
              "      border-top-color: var(--fill-color);\n",
              "    }\n",
              "    30% {\n",
              "      border-color: transparent;\n",
              "      border-left-color: var(--fill-color);\n",
              "      border-top-color: var(--fill-color);\n",
              "      border-right-color: var(--fill-color);\n",
              "    }\n",
              "    40% {\n",
              "      border-color: transparent;\n",
              "      border-right-color: var(--fill-color);\n",
              "      border-top-color: var(--fill-color);\n",
              "    }\n",
              "    60% {\n",
              "      border-color: transparent;\n",
              "      border-right-color: var(--fill-color);\n",
              "    }\n",
              "    80% {\n",
              "      border-color: transparent;\n",
              "      border-right-color: var(--fill-color);\n",
              "      border-bottom-color: var(--fill-color);\n",
              "    }\n",
              "    90% {\n",
              "      border-color: transparent;\n",
              "      border-bottom-color: var(--fill-color);\n",
              "    }\n",
              "  }\n",
              "</style>\n",
              "\n",
              "  <script>\n",
              "    async function quickchart(key) {\n",
              "      const quickchartButtonEl =\n",
              "        document.querySelector('#' + key + ' button');\n",
              "      quickchartButtonEl.disabled = true;  // To prevent multiple clicks.\n",
              "      quickchartButtonEl.classList.add('colab-df-spinner');\n",
              "      try {\n",
              "        const charts = await google.colab.kernel.invokeFunction(\n",
              "            'suggestCharts', [key], {});\n",
              "      } catch (error) {\n",
              "        console.error('Error during call to suggestCharts:', error);\n",
              "      }\n",
              "      quickchartButtonEl.classList.remove('colab-df-spinner');\n",
              "      quickchartButtonEl.classList.add('colab-df-quickchart-complete');\n",
              "    }\n",
              "    (() => {\n",
              "      let quickchartButtonEl =\n",
              "        document.querySelector('#df-923a9fac-0245-4f5c-8464-20cad473a750 button');\n",
              "      quickchartButtonEl.style.display =\n",
              "        google.colab.kernel.accessAllowed ? 'block' : 'none';\n",
              "    })();\n",
              "  </script>\n",
              "</div>\n",
              "    </div>\n",
              "  </div>\n"
            ]
          },
          "metadata": {},
          "execution_count": 29
        }
      ]
    },
    {
      "cell_type": "code",
      "metadata": {
        "id": "vtn8Zq0aF-IM"
      },
      "source": [
        "'''\n",
        "df = pd.read_csv(\n",
        "    \"https://dados-ml-pln.s3-sa-east-1.amazonaws.com/produtos.csv\", delimiter=\";\", encoding='utf-8'\n",
        "  ).sample(frac=0.5, random_state=42)\n",
        "'''"
      ],
      "execution_count": null,
      "outputs": []
    },
    {
      "cell_type": "code",
      "metadata": {
        "id": "-ttBs2VFF-Ft"
      },
      "source": [
        "'''\n",
        "df = pd.read_csv(\n",
        "    \"https://dados-ml-pln.s3-sa-east-1.amazonaws.com/produtos.csv\", delimiter=\";\", encoding='utf-8'\n",
        "  ).sample(1000)\n",
        "'''"
      ],
      "execution_count": null,
      "outputs": []
    },
    {
      "cell_type": "markdown",
      "metadata": {
        "id": "OZWAbXji7NJB"
      },
      "source": [
        "### Divisão do dataframe em amostras de treino e teste:"
      ]
    },
    {
      "cell_type": "code",
      "metadata": {
        "id": "cIdfftBkF-AV",
        "colab": {
          "base_uri": "https://localhost:8080/",
          "height": 175
        },
        "outputId": "6cb6e04b-5536-4ab1-81a4-f6d92e605ec5"
      },
      "source": [
        "import pandas as pd\n",
        "\n",
        "df = pd.read_csv(\"https://dados-ml-pln.s3-sa-east-1.amazonaws.com/produtos.csv\", delimiter=\";\", encoding='utf-8')\n",
        "\n",
        "df.dropna(inplace=True)\n",
        "df[\"texto\"] = df['nome'] + \" \" + df['descricao']\n",
        "\n",
        "df.describe()"
      ],
      "execution_count": 31,
      "outputs": [
        {
          "output_type": "execute_result",
          "data": {
            "text/plain": [
              "                                     nome  \\\n",
              "count                                2916   \n",
              "unique                               2584   \n",
              "top      Boneco Dragon Ball Z Son Gokou     \n",
              "freq                                   20   \n",
              "\n",
              "                                                descricao categoria  \\\n",
              "count                                                2916      2916   \n",
              "unique                                               2460         4   \n",
              "top     JOGO ORIGINAL. NOVO. LACRADO. PRONTA ENTREGA. ...     livro   \n",
              "freq                                                   39       838   \n",
              "\n",
              "                                                 texto  \n",
              "count                                             2916  \n",
              "unique                                            2646  \n",
              "top      Boneco Dragon Ball Z Son Gokou   Produto novo  \n",
              "freq                                                20  "
            ],
            "text/html": [
              "\n",
              "  <div id=\"df-8f3154bc-dba5-4f1f-a45f-5ae75aa1db51\" class=\"colab-df-container\">\n",
              "    <div>\n",
              "<style scoped>\n",
              "    .dataframe tbody tr th:only-of-type {\n",
              "        vertical-align: middle;\n",
              "    }\n",
              "\n",
              "    .dataframe tbody tr th {\n",
              "        vertical-align: top;\n",
              "    }\n",
              "\n",
              "    .dataframe thead th {\n",
              "        text-align: right;\n",
              "    }\n",
              "</style>\n",
              "<table border=\"1\" class=\"dataframe\">\n",
              "  <thead>\n",
              "    <tr style=\"text-align: right;\">\n",
              "      <th></th>\n",
              "      <th>nome</th>\n",
              "      <th>descricao</th>\n",
              "      <th>categoria</th>\n",
              "      <th>texto</th>\n",
              "    </tr>\n",
              "  </thead>\n",
              "  <tbody>\n",
              "    <tr>\n",
              "      <th>count</th>\n",
              "      <td>2916</td>\n",
              "      <td>2916</td>\n",
              "      <td>2916</td>\n",
              "      <td>2916</td>\n",
              "    </tr>\n",
              "    <tr>\n",
              "      <th>unique</th>\n",
              "      <td>2584</td>\n",
              "      <td>2460</td>\n",
              "      <td>4</td>\n",
              "      <td>2646</td>\n",
              "    </tr>\n",
              "    <tr>\n",
              "      <th>top</th>\n",
              "      <td>Boneco Dragon Ball Z Son Gokou</td>\n",
              "      <td>JOGO ORIGINAL. NOVO. LACRADO. PRONTA ENTREGA. ...</td>\n",
              "      <td>livro</td>\n",
              "      <td>Boneco Dragon Ball Z Son Gokou   Produto novo</td>\n",
              "    </tr>\n",
              "    <tr>\n",
              "      <th>freq</th>\n",
              "      <td>20</td>\n",
              "      <td>39</td>\n",
              "      <td>838</td>\n",
              "      <td>20</td>\n",
              "    </tr>\n",
              "  </tbody>\n",
              "</table>\n",
              "</div>\n",
              "    <div class=\"colab-df-buttons\">\n",
              "\n",
              "  <div class=\"colab-df-container\">\n",
              "    <button class=\"colab-df-convert\" onclick=\"convertToInteractive('df-8f3154bc-dba5-4f1f-a45f-5ae75aa1db51')\"\n",
              "            title=\"Convert this dataframe to an interactive table.\"\n",
              "            style=\"display:none;\">\n",
              "\n",
              "  <svg xmlns=\"http://www.w3.org/2000/svg\" height=\"24px\" viewBox=\"0 -960 960 960\">\n",
              "    <path d=\"M120-120v-720h720v720H120Zm60-500h600v-160H180v160Zm220 220h160v-160H400v160Zm0 220h160v-160H400v160ZM180-400h160v-160H180v160Zm440 0h160v-160H620v160ZM180-180h160v-160H180v160Zm440 0h160v-160H620v160Z\"/>\n",
              "  </svg>\n",
              "    </button>\n",
              "\n",
              "  <style>\n",
              "    .colab-df-container {\n",
              "      display:flex;\n",
              "      gap: 12px;\n",
              "    }\n",
              "\n",
              "    .colab-df-convert {\n",
              "      background-color: #E8F0FE;\n",
              "      border: none;\n",
              "      border-radius: 50%;\n",
              "      cursor: pointer;\n",
              "      display: none;\n",
              "      fill: #1967D2;\n",
              "      height: 32px;\n",
              "      padding: 0 0 0 0;\n",
              "      width: 32px;\n",
              "    }\n",
              "\n",
              "    .colab-df-convert:hover {\n",
              "      background-color: #E2EBFA;\n",
              "      box-shadow: 0px 1px 2px rgba(60, 64, 67, 0.3), 0px 1px 3px 1px rgba(60, 64, 67, 0.15);\n",
              "      fill: #174EA6;\n",
              "    }\n",
              "\n",
              "    .colab-df-buttons div {\n",
              "      margin-bottom: 4px;\n",
              "    }\n",
              "\n",
              "    [theme=dark] .colab-df-convert {\n",
              "      background-color: #3B4455;\n",
              "      fill: #D2E3FC;\n",
              "    }\n",
              "\n",
              "    [theme=dark] .colab-df-convert:hover {\n",
              "      background-color: #434B5C;\n",
              "      box-shadow: 0px 1px 3px 1px rgba(0, 0, 0, 0.15);\n",
              "      filter: drop-shadow(0px 1px 2px rgba(0, 0, 0, 0.3));\n",
              "      fill: #FFFFFF;\n",
              "    }\n",
              "  </style>\n",
              "\n",
              "    <script>\n",
              "      const buttonEl =\n",
              "        document.querySelector('#df-8f3154bc-dba5-4f1f-a45f-5ae75aa1db51 button.colab-df-convert');\n",
              "      buttonEl.style.display =\n",
              "        google.colab.kernel.accessAllowed ? 'block' : 'none';\n",
              "\n",
              "      async function convertToInteractive(key) {\n",
              "        const element = document.querySelector('#df-8f3154bc-dba5-4f1f-a45f-5ae75aa1db51');\n",
              "        const dataTable =\n",
              "          await google.colab.kernel.invokeFunction('convertToInteractive',\n",
              "                                                    [key], {});\n",
              "        if (!dataTable) return;\n",
              "\n",
              "        const docLinkHtml = 'Like what you see? Visit the ' +\n",
              "          '<a target=\"_blank\" href=https://colab.research.google.com/notebooks/data_table.ipynb>data table notebook</a>'\n",
              "          + ' to learn more about interactive tables.';\n",
              "        element.innerHTML = '';\n",
              "        dataTable['output_type'] = 'display_data';\n",
              "        await google.colab.output.renderOutput(dataTable, element);\n",
              "        const docLink = document.createElement('div');\n",
              "        docLink.innerHTML = docLinkHtml;\n",
              "        element.appendChild(docLink);\n",
              "      }\n",
              "    </script>\n",
              "  </div>\n",
              "\n",
              "\n",
              "<div id=\"df-38569c62-38b2-4b14-9fcc-ecfa86651ebd\">\n",
              "  <button class=\"colab-df-quickchart\" onclick=\"quickchart('df-38569c62-38b2-4b14-9fcc-ecfa86651ebd')\"\n",
              "            title=\"Suggest charts\"\n",
              "            style=\"display:none;\">\n",
              "\n",
              "<svg xmlns=\"http://www.w3.org/2000/svg\" height=\"24px\"viewBox=\"0 0 24 24\"\n",
              "     width=\"24px\">\n",
              "    <g>\n",
              "        <path d=\"M19 3H5c-1.1 0-2 .9-2 2v14c0 1.1.9 2 2 2h14c1.1 0 2-.9 2-2V5c0-1.1-.9-2-2-2zM9 17H7v-7h2v7zm4 0h-2V7h2v10zm4 0h-2v-4h2v4z\"/>\n",
              "    </g>\n",
              "</svg>\n",
              "  </button>\n",
              "\n",
              "<style>\n",
              "  .colab-df-quickchart {\n",
              "      --bg-color: #E8F0FE;\n",
              "      --fill-color: #1967D2;\n",
              "      --hover-bg-color: #E2EBFA;\n",
              "      --hover-fill-color: #174EA6;\n",
              "      --disabled-fill-color: #AAA;\n",
              "      --disabled-bg-color: #DDD;\n",
              "  }\n",
              "\n",
              "  [theme=dark] .colab-df-quickchart {\n",
              "      --bg-color: #3B4455;\n",
              "      --fill-color: #D2E3FC;\n",
              "      --hover-bg-color: #434B5C;\n",
              "      --hover-fill-color: #FFFFFF;\n",
              "      --disabled-bg-color: #3B4455;\n",
              "      --disabled-fill-color: #666;\n",
              "  }\n",
              "\n",
              "  .colab-df-quickchart {\n",
              "    background-color: var(--bg-color);\n",
              "    border: none;\n",
              "    border-radius: 50%;\n",
              "    cursor: pointer;\n",
              "    display: none;\n",
              "    fill: var(--fill-color);\n",
              "    height: 32px;\n",
              "    padding: 0;\n",
              "    width: 32px;\n",
              "  }\n",
              "\n",
              "  .colab-df-quickchart:hover {\n",
              "    background-color: var(--hover-bg-color);\n",
              "    box-shadow: 0 1px 2px rgba(60, 64, 67, 0.3), 0 1px 3px 1px rgba(60, 64, 67, 0.15);\n",
              "    fill: var(--button-hover-fill-color);\n",
              "  }\n",
              "\n",
              "  .colab-df-quickchart-complete:disabled,\n",
              "  .colab-df-quickchart-complete:disabled:hover {\n",
              "    background-color: var(--disabled-bg-color);\n",
              "    fill: var(--disabled-fill-color);\n",
              "    box-shadow: none;\n",
              "  }\n",
              "\n",
              "  .colab-df-spinner {\n",
              "    border: 2px solid var(--fill-color);\n",
              "    border-color: transparent;\n",
              "    border-bottom-color: var(--fill-color);\n",
              "    animation:\n",
              "      spin 1s steps(1) infinite;\n",
              "  }\n",
              "\n",
              "  @keyframes spin {\n",
              "    0% {\n",
              "      border-color: transparent;\n",
              "      border-bottom-color: var(--fill-color);\n",
              "      border-left-color: var(--fill-color);\n",
              "    }\n",
              "    20% {\n",
              "      border-color: transparent;\n",
              "      border-left-color: var(--fill-color);\n",
              "      border-top-color: var(--fill-color);\n",
              "    }\n",
              "    30% {\n",
              "      border-color: transparent;\n",
              "      border-left-color: var(--fill-color);\n",
              "      border-top-color: var(--fill-color);\n",
              "      border-right-color: var(--fill-color);\n",
              "    }\n",
              "    40% {\n",
              "      border-color: transparent;\n",
              "      border-right-color: var(--fill-color);\n",
              "      border-top-color: var(--fill-color);\n",
              "    }\n",
              "    60% {\n",
              "      border-color: transparent;\n",
              "      border-right-color: var(--fill-color);\n",
              "    }\n",
              "    80% {\n",
              "      border-color: transparent;\n",
              "      border-right-color: var(--fill-color);\n",
              "      border-bottom-color: var(--fill-color);\n",
              "    }\n",
              "    90% {\n",
              "      border-color: transparent;\n",
              "      border-bottom-color: var(--fill-color);\n",
              "    }\n",
              "  }\n",
              "</style>\n",
              "\n",
              "  <script>\n",
              "    async function quickchart(key) {\n",
              "      const quickchartButtonEl =\n",
              "        document.querySelector('#' + key + ' button');\n",
              "      quickchartButtonEl.disabled = true;  // To prevent multiple clicks.\n",
              "      quickchartButtonEl.classList.add('colab-df-spinner');\n",
              "      try {\n",
              "        const charts = await google.colab.kernel.invokeFunction(\n",
              "            'suggestCharts', [key], {});\n",
              "      } catch (error) {\n",
              "        console.error('Error during call to suggestCharts:', error);\n",
              "      }\n",
              "      quickchartButtonEl.classList.remove('colab-df-spinner');\n",
              "      quickchartButtonEl.classList.add('colab-df-quickchart-complete');\n",
              "    }\n",
              "    (() => {\n",
              "      let quickchartButtonEl =\n",
              "        document.querySelector('#df-38569c62-38b2-4b14-9fcc-ecfa86651ebd button');\n",
              "      quickchartButtonEl.style.display =\n",
              "        google.colab.kernel.accessAllowed ? 'block' : 'none';\n",
              "    })();\n",
              "  </script>\n",
              "</div>\n",
              "    </div>\n",
              "  </div>\n"
            ]
          },
          "metadata": {},
          "execution_count": 31
        }
      ]
    },
    {
      "cell_type": "code",
      "metadata": {
        "id": "M6ZAv9oSF99k"
      },
      "source": [
        "from sklearn.model_selection import train_test_split\n",
        "\n",
        "# divisão da amostra entre treino e teste\n",
        "df_train, df_test = train_test_split(\n",
        "      df,\n",
        "      #test_size = 0.3,\n",
        "      test_size = 0.2,\n",
        "      random_state = 42\n",
        "  )"
      ],
      "execution_count": 32,
      "outputs": []
    },
    {
      "cell_type": "markdown",
      "metadata": {
        "id": "jMJYGtkfJ_GT"
      },
      "source": [
        "Analisando a distribuição das amostras em relação ao total"
      ]
    },
    {
      "cell_type": "code",
      "metadata": {
        "id": "zeMEAc-wJvkk",
        "colab": {
          "base_uri": "https://localhost:8080/"
        },
        "outputId": "e8289a5b-0289-4159-e62c-e0fb45cabc46"
      },
      "source": [
        "print(\"Original\")\n",
        "print(df.categoria.value_counts())\n",
        "print(\"\\nTreino\")\n",
        "print(df_train.categoria.value_counts())\n",
        "print(\"\\nTeste\")\n",
        "print(df_test.categoria.value_counts())"
      ],
      "execution_count": 34,
      "outputs": [
        {
          "output_type": "stream",
          "name": "stdout",
          "text": [
            "Original\n",
            "livro        838\n",
            "maquiagem    788\n",
            "brinquedo    668\n",
            "game         622\n",
            "Name: categoria, dtype: int64\n",
            "\n",
            "Treino\n",
            "livro        656\n",
            "maquiagem    645\n",
            "brinquedo    547\n",
            "game         484\n",
            "Name: categoria, dtype: int64\n",
            "\n",
            "Teste\n",
            "livro        182\n",
            "maquiagem    143\n",
            "game         138\n",
            "brinquedo    121\n",
            "Name: categoria, dtype: int64\n"
          ]
        }
      ]
    },
    {
      "cell_type": "code",
      "metadata": {
        "id": "aE5jXycNJvhr",
        "colab": {
          "base_uri": "https://localhost:8080/"
        },
        "outputId": "33745a43-4f79-4cfd-8eff-20ba4be4de59"
      },
      "source": [
        "print(\"Original\")\n",
        "print(df.categoria.value_counts()/df.shape[0])\n",
        "print(\"\\nTreino\")\n",
        "print(df_train.categoria.value_counts()/df_train.shape[0])\n",
        "print(\"\\nTeste\")\n",
        "print(df_test.categoria.value_counts()/df_test.shape[0])"
      ],
      "execution_count": 35,
      "outputs": [
        {
          "output_type": "stream",
          "name": "stdout",
          "text": [
            "Original\n",
            "livro        0.287380\n",
            "maquiagem    0.270233\n",
            "brinquedo    0.229081\n",
            "game         0.213306\n",
            "Name: categoria, dtype: float64\n",
            "\n",
            "Treino\n",
            "livro        0.281304\n",
            "maquiagem    0.276587\n",
            "brinquedo    0.234563\n",
            "game         0.207547\n",
            "Name: categoria, dtype: float64\n",
            "\n",
            "Teste\n",
            "livro        0.311644\n",
            "maquiagem    0.244863\n",
            "game         0.236301\n",
            "brinquedo    0.207192\n",
            "Name: categoria, dtype: float64\n"
          ]
        }
      ]
    },
    {
      "cell_type": "code",
      "metadata": {
        "id": "j54cIH5rJvfT",
        "colab": {
          "base_uri": "https://localhost:8080/",
          "height": 383
        },
        "outputId": "77ab927f-8c8c-4257-af8e-3d80cc33ef50"
      },
      "source": [
        "(df.categoria.value_counts()/df.shape[0]).plot(kind='bar', figsize=(3,3))"
      ],
      "execution_count": 36,
      "outputs": [
        {
          "output_type": "execute_result",
          "data": {
            "text/plain": [
              "<Axes: >"
            ]
          },
          "metadata": {},
          "execution_count": 36
        },
        {
          "output_type": "display_data",
          "data": {
            "text/plain": [
              "<Figure size 300x300 with 1 Axes>"
            ],
            "image/png": "[encoded data removed]"
          },
          "metadata": {}
        }
      ]
    },
    {
      "cell_type": "markdown",
      "metadata": {
        "id": "CTOcIpOAKclR"
      },
      "source": [
        "# **Montando um pipeline simples**\n",
        "\n",
        "---\n",
        "\n",
        "Data Loader > Text Normalization > Text Vectorization > Estimator"
      ]
    },
    {
      "cell_type": "markdown",
      "metadata": {
        "id": "f4CCjQ2G7tXK"
      },
      "source": [
        "Trestando o modelo de uma forma mais simples"
      ]
    },
    {
      "cell_type": "code",
      "source": [
        "from sklearn.model_selection import train_test_split\n",
        "from sklearn.feature_extraction.text import CountVectorizer\n",
        "from sklearn.tree import DecisionTreeClassifier\n",
        "from sklearn.metrics import accuracy_score\n",
        "import pandas as pd\n",
        "\n",
        "# carregar dataframe\n",
        "df = pd.read_csv(\n",
        "    \"https://dados-ml-pln.s3-sa-east-1.amazonaws.com/produtos.csv\", delimiter=\";\", encoding='utf-8'\n",
        "  )\n",
        "\n",
        "# limpeza inicial (normalização)\n",
        "df.dropna(inplace=True)\n",
        "df[\"texto\"] = df['nome'] + \" \" + df['descricao']\n",
        "\n",
        "# divisão da amostra entre treino e teste\n",
        "df_train, df_test = train_test_split(\n",
        "      df,\n",
        "      test_size = 0.3,\n",
        "      random_state = 42\n",
        "  )\n",
        "\n",
        "# vetorização do dataframe de treino\n",
        "vect = CountVectorizer()\n",
        "vect.fit(df_train.texto)\n",
        "x_train = vect.transform(df_train.texto)\n",
        "y_train = df_train[\"categoria\"]\n",
        "\n",
        "# treinamento do modelo ávore de decisão com o dataframe de treino\n",
        "model = DecisionTreeClassifier(random_state=42)\n",
        "model.fit(x_train, y_train)\n",
        "\n",
        "# transforma o dataframe de teste em vetor (features)\n",
        "x_test = vect.transform(df_test.texto)\n",
        "\n",
        "# escoragem da classificação na amostra de teste\n",
        "y_prediction = model.predict(x_test)\n",
        "\n",
        "# mensuração do resultado pela acurácia\n",
        "y_test = df_test[\"categoria\"]\n",
        "accuracy = accuracy_score(y_prediction, y_test)\n",
        "print(accuracy)"
      ],
      "metadata": {
        "colab": {
          "base_uri": "https://localhost:8080/"
        },
        "id": "oUliXxq811NF",
        "outputId": "e81f9906-ff7e-4d31-d7c6-78b58a5d9319"
      },
      "execution_count": 37,
      "outputs": [
        {
          "output_type": "stream",
          "name": "stdout",
          "text": [
            "0.9565714285714285\n"
          ]
        }
      ]
    },
    {
      "cell_type": "code",
      "metadata": {
        "id": "LuL7BaYXKXoS",
        "colab": {
          "base_uri": "https://localhost:8080/"
        },
        "outputId": "261ba8a5-6dba-4bb4-d782-45d2aeb72c63"
      },
      "source": [
        "print(\" \")\n",
        "print(x_train.shape)\n",
        "print(x_test.shape)"
      ],
      "execution_count": 38,
      "outputs": [
        {
          "output_type": "stream",
          "name": "stdout",
          "text": [
            " \n",
            "(2041, 29957)\n",
            "(875, 29957)\n"
          ]
        }
      ]
    },
    {
      "cell_type": "code",
      "metadata": {
        "id": "a8eK3HihJvXu",
        "colab": {
          "base_uri": "https://localhost:8080/"
        },
        "outputId": "f05a82fc-5e74-43a9-cea0-5bf5314bb064"
      },
      "source": [
        "vect.get_params()"
      ],
      "execution_count": 39,
      "outputs": [
        {
          "output_type": "execute_result",
          "data": {
            "text/plain": [
              "{'analyzer': 'word',\n",
              " 'binary': False,\n",
              " 'decode_error': 'strict',\n",
              " 'dtype': numpy.int64,\n",
              " 'encoding': 'utf-8',\n",
              " 'input': 'content',\n",
              " 'lowercase': True,\n",
              " 'max_df': 1.0,\n",
              " 'max_features': None,\n",
              " 'min_df': 1,\n",
              " 'ngram_range': (1, 1),\n",
              " 'preprocessor': None,\n",
              " 'stop_words': None,\n",
              " 'strip_accents': None,\n",
              " 'token_pattern': '(?u)\\\\b\\\\w\\\\w+\\\\b',\n",
              " 'tokenizer': None,\n",
              " 'vocabulary': None}"
            ]
          },
          "metadata": {},
          "execution_count": 39
        }
      ]
    },
    {
      "cell_type": "code",
      "metadata": {
        "id": "-dXC-mF7yFRl",
        "colab": {
          "base_uri": "https://localhost:8080/"
        },
        "outputId": "ee67f1e2-70a1-4507-b76f-fe197ff30e9e"
      },
      "source": [
        "tree.get_params()"
      ],
      "execution_count": 40,
      "outputs": [
        {
          "output_type": "execute_result",
          "data": {
            "text/plain": [
              "{'ccp_alpha': 0.0,\n",
              " 'class_weight': None,\n",
              " 'criterion': 'gini',\n",
              " 'max_depth': None,\n",
              " 'max_features': None,\n",
              " 'max_leaf_nodes': None,\n",
              " 'min_impurity_decrease': 0.0,\n",
              " 'min_samples_leaf': 1,\n",
              " 'min_samples_split': 2,\n",
              " 'min_weight_fraction_leaf': 0.0,\n",
              " 'random_state': 42,\n",
              " 'splitter': 'best'}"
            ]
          },
          "metadata": {},
          "execution_count": 40
        }
      ]
    },
    {
      "cell_type": "markdown",
      "metadata": {
        "id": "32luCbaKV4ko"
      },
      "source": [
        "#**Outros modelos de classificação**\n",
        "---\n",
        "<br>\n",
        "\n",
        "###O ***Scikit-Learn*** nos permite explorar mais modelos de classificação além da Árvore de Decisão (DecisionTreeClassifier), veja:\n",
        "<br>\n",
        "\n",
        "- Regressão Logistica (LogisticRegression)\n",
        "- Random Forest (RandomForestClassifier)\n",
        "- Naive Bayes (MultinomialNB e BernoulliNB)\n",
        "\n",
        "Entre outros..."
      ]
    },
    {
      "cell_type": "code",
      "metadata": {
        "id": "ZHJhQ4QwVmtD"
      },
      "source": [
        "# Modelos de Regressão\n",
        "from sklearn.linear_model import LogisticRegression\n",
        "\n",
        "# Random Forest (baseados em Ávores de Decisões)\n",
        "from sklearn.ensemble import RandomForestClassifier\n",
        "\n",
        "# Naive Bayes, bastante utilizado para classificar textos baseado na frequência das palavras independnetemente do contexto (classificação de SPAM)\n",
        "from sklearn.naive_bayes import MultinomialNB\n",
        "from sklearn.naive_bayes import BernoulliNB"
      ],
      "execution_count": null,
      "outputs": []
    },
    {
      "cell_type": "markdown",
      "metadata": {
        "id": "gdsbc8EqV_OP"
      },
      "source": [
        "https://scikit-learn.org/stable/modules/linear_model.html\n",
        "\n",
        "https://scikit-learn.org/stable/modules/naive_bayes.html\n",
        "\n",
        "https://scikit-learn.org/stable/modules/generated/sklearn.ensemble.RandomForestClassifier.html#sklearn.ensemble.RandomForestClassifier\n",
        "\n"
      ]
    },
    {
      "cell_type": "markdown",
      "source": [
        "#**Exercícios - Aula 2**\n",
        "\n",
        "Dado o dataset de produtos [1], desenvolva os seguintes pipelines:\n",
        "\n",
        "[1] - https://dados-ml-pln.s3-sa-east-1.amazonaws.com/produtos.csv\n",
        "\n",
        "Obs.: em todos os pipelines use:\n",
        "- normalização renovendo valores faltantes\n",
        "- criem uma nova coluna concatenando as colunas nome e descrição.\n",
        "- randon_state igual a 42 para permitir a comparação com seus colegas e separe uma amostra de 30% para teste.\n"
      ],
      "metadata": {
        "id": "b_lUc0-cLsVn"
      }
    },
    {
      "cell_type": "code",
      "source": [
        "import pandas as pd\n",
        "\n",
        "df = pd.read_csv(\"https://dados-ml-pln.s3-sa-east-1.amazonaws.com/produtos.csv\", delimiter=\";\", encoding='utf-8')"
      ],
      "metadata": {
        "id": "UUDRZ7FrI4fk"
      },
      "execution_count": null,
      "outputs": []
    },
    {
      "cell_type": "markdown",
      "source": [
        "**1. ) Treine um modelo de classificação DecisionTreeClassifier do pacote scikit-learn para classificar os produtos em suas categorias, com as seguintes configurações usando a nova coluna (nome + descricao):**\n",
        "\n",
        "- 1.1 Contagem de termos simples com unigrama e sem stop-words.\n",
        "- 1.2 Contagem de termos simples com unigrama + brigrama e sem stop-words.\n",
        "- 1.3 TF-IDF com unigrama e com stop-words.\n",
        "- 1.4 TF-IDF com unigrama e sem stop-words.\n",
        "- 1.5 TF-IDF com unigrama e sem stop-words em textos lematizados (Dica: crie uma função para lematizar o texto usando o Spacy)."
      ],
      "metadata": {
        "id": "hEgJjADlSCWM"
      }
    },
    {
      "cell_type": "code",
      "source": [
        "# respostas"
      ],
      "metadata": {
        "id": "NgGpOZiISyb3"
      },
      "execution_count": null,
      "outputs": []
    },
    {
      "cell_type": "markdown",
      "source": [
        "**2. ) Treine um modelo de classificação LogisticRegression do pacote scikit-learn para classificar os produtos em suas categorias, com as seguintes configurações:**\n",
        "\n",
        "- 2.1 Contagem de termos simples com unigrama e com stop-words.\n",
        "- 2.2 Contagem de termos simples com unigrama + brigrama e sem stop-words.\n",
        "- 2.3 TF-IDF com unigrama e sem stop-words.\n",
        "- 2.4 TF-IDF com unigrama e sem stop-words em textos lematizados.\n",
        "\n",
        "Extra:\n",
        "- 2.5 Contagem de termos simples (BoW) com unigrama, sem stop-words (combinando Spacy e NLTK) em textos com apenas verbos lematizados.\n",
        "\n",
        "Dica: crie uma função para lematizar o texto usando o Spacy, não esqueça de usar o POS-Tag quando necessário."
      ],
      "metadata": {
        "id": "6I_PEQasSIUu"
      }
    },
    {
      "cell_type": "code",
      "source": [
        "# reposta"
      ],
      "metadata": {
        "id": "SbWyWKz8EDaS"
      },
      "execution_count": null,
      "outputs": []
    },
    {
      "cell_type": "markdown",
      "source": [
        "#**Simulando a \"produtização\" de um pipe line**"
      ],
      "metadata": {
        "id": "y1Ku4wbhUvJV"
      }
    },
    {
      "cell_type": "markdown",
      "source": [
        "Pipeline do modelo campeão:"
      ],
      "metadata": {
        "id": "cWduPCOeS-8p"
      }
    },
    {
      "cell_type": "code",
      "source": [
        "from sklearn.model_selection import train_test_split\n",
        "from sklearn.feature_extraction.text import CountVectorizer\n",
        "from sklearn.tree import DecisionTreeClassifier\n",
        "from sklearn.metrics import accuracy_score\n",
        "import pandas as pd\n",
        "\n",
        "# carregar dataframe\n",
        "df = pd.read_csv(\n",
        "    \"https://dados-ml-pln.s3-sa-east-1.amazonaws.com/produtos.csv\", delimiter=\";\", encoding='utf-8'\n",
        "  )\n",
        "\n",
        "# limpeza inicial (normalização)\n",
        "df.dropna(inplace=True)\n",
        "df[\"texto\"] = df['nome'] + \" \" + df['descricao']\n",
        "\n",
        "# divisão da amostra entre treino e teste\n",
        "df_train, df_test = train_test_split(\n",
        "      df,\n",
        "      test_size = 0.3,\n",
        "      random_state = 42\n",
        "  )\n",
        "\n",
        "# vetorização do dataframe de treino\n",
        "vect = CountVectorizer()\n",
        "vect.fit(df_train.texto)\n",
        "x_train = vect.transform(df_train.texto)\n",
        "y_train = df_train[\"categoria\"]\n",
        "\n",
        "# treinamento do modelo ávore de decisão com o dataframe de treino\n",
        "model = DecisionTreeClassifier(random_state=42)\n",
        "model.fit(x_train, y_train)\n",
        "\n",
        "# transforma o dataframe de teste em vetor (features)\n",
        "x_test = vect.transform(df_test.texto)\n",
        "\n",
        "# escoragem da classificação na amostra de teste\n",
        "y_prediction = model.predict(x_test)\n",
        "\n",
        "# mensuração do resultado pela acurácia\n",
        "y_test = df_test[\"categoria\"]\n",
        "accuracy = accuracy_score(y_prediction, y_test)\n",
        "print(accuracy)"
      ],
      "metadata": {
        "id": "JXlGSNcjTEEl",
        "colab": {
          "base_uri": "https://localhost:8080/"
        },
        "outputId": "50822ad6-bcad-4bdf-b97c-b717e6e92b42"
      },
      "execution_count": 41,
      "outputs": [
        {
          "output_type": "stream",
          "name": "stdout",
          "text": [
            "0.9565714285714285\n"
          ]
        }
      ]
    },
    {
      "cell_type": "markdown",
      "metadata": {
        "id": "R2-ZCeUkYiJ1"
      },
      "source": [
        "Salvando o modelo treinado e o vetor de transformação."
      ]
    },
    {
      "cell_type": "code",
      "source": [
        "!ls -la"
      ],
      "metadata": {
        "colab": {
          "base_uri": "https://localhost:8080/"
        },
        "id": "O0aYigB1VzcV",
        "outputId": "f37899dd-b328-4ac1-ec6b-1e7abeac9cf5"
      },
      "execution_count": 42,
      "outputs": [
        {
          "output_type": "stream",
          "name": "stdout",
          "text": [
            "total 20\n",
            "drwxr-xr-x 1 root root 4096 Nov 13 12:54 .\n",
            "drwxr-xr-x 1 root root 4096 Nov 13 12:39 ..\n",
            "drwxr-xr-x 4 root root 4096 Nov  9 14:24 .config\n",
            "drwx------ 6 root root 4096 Nov 13 12:54 gdrive\n",
            "drwxr-xr-x 1 root root 4096 Nov  9 14:25 sample_data\n"
          ]
        }
      ]
    },
    {
      "cell_type": "code",
      "metadata": {
        "id": "2R6-1s4wqEiq"
      },
      "source": [
        "import pickle\n",
        "\n",
        "pickle.dump(model, open('minhaarvore.pkl', 'wb'))\n",
        "pickle.dump(vect, open('vetorizador.pkl', 'wb'))"
      ],
      "execution_count": 43,
      "outputs": []
    },
    {
      "cell_type": "code",
      "metadata": {
        "id": "_DE_UGqF1tI8",
        "colab": {
          "base_uri": "https://localhost:8080/"
        },
        "outputId": "c2b11581-2857-43af-cc8d-17dfd4eddbff"
      },
      "source": [
        "!ls -la"
      ],
      "execution_count": 44,
      "outputs": [
        {
          "output_type": "stream",
          "name": "stdout",
          "text": [
            "total 464\n",
            "drwxr-xr-x 1 root root   4096 Nov 13 13:20 .\n",
            "drwxr-xr-x 1 root root   4096 Nov 13 12:39 ..\n",
            "drwxr-xr-x 4 root root   4096 Nov  9 14:24 .config\n",
            "drwx------ 6 root root   4096 Nov 13 12:54 gdrive\n",
            "-rw-r--r-- 1 root root  14588 Nov 13 13:20 minhaarvore.pkl\n",
            "drwxr-xr-x 1 root root   4096 Nov  9 14:25 sample_data\n",
            "-rw-r--r-- 1 root root 438161 Nov 13 13:20 vetorizador.pkl\n"
          ]
        }
      ]
    },
    {
      "cell_type": "code",
      "metadata": {
        "id": "4CsH-JyC3rGI"
      },
      "source": [
        "vetorizador_bla = pickle.load(open('vetorizador.pkl', 'rb'))\n",
        "modelo_classificador_bla = pickle.load(open('minhaarvore.pkl', 'rb'))"
      ],
      "execution_count": 45,
      "outputs": []
    },
    {
      "cell_type": "code",
      "metadata": {
        "id": "8-eIdy4Gu1xq"
      },
      "source": [
        "vetor_teste = vetorizador_bla.transform(df_test.texto)"
      ],
      "execution_count": 46,
      "outputs": []
    },
    {
      "cell_type": "code",
      "source": [
        "predito = modelo_classificador_bla.predict(vetor_teste)"
      ],
      "metadata": {
        "id": "aDrTel2yz5d9"
      },
      "execution_count": 47,
      "outputs": []
    },
    {
      "cell_type": "code",
      "metadata": {
        "id": "DLsZNb1R4EIk"
      },
      "source": [
        "print('D Tree: ', modelo_classificador_bla.predict(vetor_teste)) # texto = vetor"
      ],
      "execution_count": null,
      "outputs": []
    },
    {
      "cell_type": "code",
      "source": [
        "texto = \"\"\"\n",
        "Maleta Exclusiva Ruby Rose Profissional Completa.\n",
        "\"\"\"\n",
        "\n",
        "texto_vetor = vetorizador_bla.transform([texto])"
      ],
      "metadata": {
        "id": "bm-0XrDlTArb"
      },
      "execution_count": 49,
      "outputs": []
    },
    {
      "cell_type": "code",
      "metadata": {
        "id": "gdpRPqCjAyth",
        "colab": {
          "base_uri": "https://localhost:8080/"
        },
        "outputId": "e6062f8e-25ad-4a30-aaea-8aaab3e6d2f8"
      },
      "source": [
        "modelo_classificador_bla.predict(texto_vetor)"
      ],
      "execution_count": 50,
      "outputs": [
        {
          "output_type": "execute_result",
          "data": {
            "text/plain": [
              "array(['maquiagem'], dtype=object)"
            ]
          },
          "metadata": {},
          "execution_count": 50
        }
      ]
    },
    {
      "cell_type": "markdown",
      "source": [
        "Salvando no google drive"
      ],
      "metadata": {
        "id": "b315UTYcTKTb"
      }
    },
    {
      "cell_type": "code",
      "metadata": {
        "id": "_vdnmYmE4PYL",
        "colab": {
          "base_uri": "https://localhost:8080/"
        },
        "outputId": "4e543770-2669-44f0-dbda-f80b33168ab0"
      },
      "source": [
        "from google.colab import drive\n",
        "drive.mount('/content/gdrive', force_remount=True)\n",
        "\n",
        "# mostrar a estrutura de pastas do google drive montado\n",
        "!ls -la"
      ],
      "execution_count": 51,
      "outputs": [
        {
          "output_type": "stream",
          "name": "stdout",
          "text": [
            "Mounted at /content/gdrive\n",
            "total 464\n",
            "drwxr-xr-x 1 root root   4096 Nov 13 13:21 .\n",
            "drwxr-xr-x 1 root root   4096 Nov 13 12:39 ..\n",
            "drwxr-xr-x 4 root root   4096 Nov  9 14:24 .config\n",
            "drwx------ 6 root root   4096 Nov 13 13:21 gdrive\n",
            "-rw-r--r-- 1 root root  14588 Nov 13 13:20 minhaarvore.pkl\n",
            "drwxr-xr-x 1 root root   4096 Nov  9 14:25 sample_data\n",
            "-rw-r--r-- 1 root root 438161 Nov 13 13:20 vetorizador.pkl\n"
          ]
        }
      ]
    },
    {
      "cell_type": "code",
      "metadata": {
        "id": "hKUrqfZ_ABaC"
      },
      "source": [
        "# Exemplo salvando no google drive\n",
        "import pickle\n",
        "\n",
        "pickle.dump(model, open('/content/gdrive/My Drive/minhaarvore.pkl', 'wb'))\n",
        "pickle.dump(vect, open('/content/gdrive/My Drive/vetorizador.pkl', 'wb'))"
      ],
      "execution_count": null,
      "outputs": []
    }
  ]
}
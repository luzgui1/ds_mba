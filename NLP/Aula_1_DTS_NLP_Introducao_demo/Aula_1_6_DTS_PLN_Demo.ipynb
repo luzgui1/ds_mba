{
  "nbformat": 4,
  "nbformat_minor": 0,
  "metadata": {
    "colab": {
      "provenance": [],
      "collapsed_sections": [
        "8dcSHDfuIYUs"
      ]
    },
    "kernelspec": {
      "name": "python3",
      "display_name": "Python 3"
    },
    "language_info": {
      "name": "python"
    }
  },
  "cells": [
    {
      "cell_type": "markdown",
      "metadata": {
        "id": "z0yEiWk6TWwA"
      },
      "source": [
        "#**Demostração - Aula 1**"
      ]
    },
    {
      "cell_type": "markdown",
      "source": [
        "# **Técnicas de pré-processamento de textos**"
      ],
      "metadata": {
        "id": "FAk8jXj9mQkL"
      }
    },
    {
      "cell_type": "markdown",
      "metadata": {
        "id": "DYBafSEiUfDd"
      },
      "source": [
        "## DOCUMENTO / CORPUS\n",
        "\n",
        "\n",
        "---"
      ]
    },
    {
      "cell_type": "code",
      "metadata": {
        "colab": {
          "base_uri": "https://localhost:8080/",
          "height": 112
        },
        "outputId": "805f6dc8-cbbf-48ca-fe95-532346b0e063",
        "id": "JtwyQyTNUfDd"
      },
      "source": [
        "import pandas as pd\n",
        "\n",
        "# Documento e Corpus\n",
        "df = pd.DataFrame({\n",
        "    'text': [\n",
        "      'Sobre MBA? Eu gostei muito do MBA da FIAP',\n",
        "      'O MBA da FIAP pode melhorar, não gostei muito'\n",
        "    ],\n",
        "    'class': [\n",
        "        'positivo',\n",
        "        'negativo'\n",
        "    ]})\n",
        "\n",
        "df.head()"
      ],
      "execution_count": 1,
      "outputs": [
        {
          "output_type": "execute_result",
          "data": {
            "text/plain": [
              "                                            text     class\n",
              "0      Sobre MBA? Eu gostei muito do MBA da FIAP  positivo\n",
              "1  O MBA da FIAP pode melhorar, não gostei muito  negativo"
            ],
            "text/html": [
              "\n",
              "  <div id=\"df-73fffba9-4bd6-44e1-ad4e-3180343f925d\" class=\"colab-df-container\">\n",
              "    <div>\n",
              "<style scoped>\n",
              "    .dataframe tbody tr th:only-of-type {\n",
              "        vertical-align: middle;\n",
              "    }\n",
              "\n",
              "    .dataframe tbody tr th {\n",
              "        vertical-align: top;\n",
              "    }\n",
              "\n",
              "    .dataframe thead th {\n",
              "        text-align: right;\n",
              "    }\n",
              "</style>\n",
              "<table border=\"1\" class=\"dataframe\">\n",
              "  <thead>\n",
              "    <tr style=\"text-align: right;\">\n",
              "      <th></th>\n",
              "      <th>text</th>\n",
              "      <th>class</th>\n",
              "    </tr>\n",
              "  </thead>\n",
              "  <tbody>\n",
              "    <tr>\n",
              "      <th>0</th>\n",
              "      <td>Sobre MBA? Eu gostei muito do MBA da FIAP</td>\n",
              "      <td>positivo</td>\n",
              "    </tr>\n",
              "    <tr>\n",
              "      <th>1</th>\n",
              "      <td>O MBA da FIAP pode melhorar, não gostei muito</td>\n",
              "      <td>negativo</td>\n",
              "    </tr>\n",
              "  </tbody>\n",
              "</table>\n",
              "</div>\n",
              "    <div class=\"colab-df-buttons\">\n",
              "\n",
              "  <div class=\"colab-df-container\">\n",
              "    <button class=\"colab-df-convert\" onclick=\"convertToInteractive('df-73fffba9-4bd6-44e1-ad4e-3180343f925d')\"\n",
              "            title=\"Convert this dataframe to an interactive table.\"\n",
              "            style=\"display:none;\">\n",
              "\n",
              "  <svg xmlns=\"http://www.w3.org/2000/svg\" height=\"24px\" viewBox=\"0 -960 960 960\">\n",
              "    <path d=\"M120-120v-720h720v720H120Zm60-500h600v-160H180v160Zm220 220h160v-160H400v160Zm0 220h160v-160H400v160ZM180-400h160v-160H180v160Zm440 0h160v-160H620v160ZM180-180h160v-160H180v160Zm440 0h160v-160H620v160Z\"/>\n",
              "  </svg>\n",
              "    </button>\n",
              "\n",
              "  <style>\n",
              "    .colab-df-container {\n",
              "      display:flex;\n",
              "      gap: 12px;\n",
              "    }\n",
              "\n",
              "    .colab-df-convert {\n",
              "      background-color: #E8F0FE;\n",
              "      border: none;\n",
              "      border-radius: 50%;\n",
              "      cursor: pointer;\n",
              "      display: none;\n",
              "      fill: #1967D2;\n",
              "      height: 32px;\n",
              "      padding: 0 0 0 0;\n",
              "      width: 32px;\n",
              "    }\n",
              "\n",
              "    .colab-df-convert:hover {\n",
              "      background-color: #E2EBFA;\n",
              "      box-shadow: 0px 1px 2px rgba(60, 64, 67, 0.3), 0px 1px 3px 1px rgba(60, 64, 67, 0.15);\n",
              "      fill: #174EA6;\n",
              "    }\n",
              "\n",
              "    .colab-df-buttons div {\n",
              "      margin-bottom: 4px;\n",
              "    }\n",
              "\n",
              "    [theme=dark] .colab-df-convert {\n",
              "      background-color: #3B4455;\n",
              "      fill: #D2E3FC;\n",
              "    }\n",
              "\n",
              "    [theme=dark] .colab-df-convert:hover {\n",
              "      background-color: #434B5C;\n",
              "      box-shadow: 0px 1px 3px 1px rgba(0, 0, 0, 0.15);\n",
              "      filter: drop-shadow(0px 1px 2px rgba(0, 0, 0, 0.3));\n",
              "      fill: #FFFFFF;\n",
              "    }\n",
              "  </style>\n",
              "\n",
              "    <script>\n",
              "      const buttonEl =\n",
              "        document.querySelector('#df-73fffba9-4bd6-44e1-ad4e-3180343f925d button.colab-df-convert');\n",
              "      buttonEl.style.display =\n",
              "        google.colab.kernel.accessAllowed ? 'block' : 'none';\n",
              "\n",
              "      async function convertToInteractive(key) {\n",
              "        const element = document.querySelector('#df-73fffba9-4bd6-44e1-ad4e-3180343f925d');\n",
              "        const dataTable =\n",
              "          await google.colab.kernel.invokeFunction('convertToInteractive',\n",
              "                                                    [key], {});\n",
              "        if (!dataTable) return;\n",
              "\n",
              "        const docLinkHtml = 'Like what you see? Visit the ' +\n",
              "          '<a target=\"_blank\" href=https://colab.research.google.com/notebooks/data_table.ipynb>data table notebook</a>'\n",
              "          + ' to learn more about interactive tables.';\n",
              "        element.innerHTML = '';\n",
              "        dataTable['output_type'] = 'display_data';\n",
              "        await google.colab.output.renderOutput(dataTable, element);\n",
              "        const docLink = document.createElement('div');\n",
              "        docLink.innerHTML = docLinkHtml;\n",
              "        element.appendChild(docLink);\n",
              "      }\n",
              "    </script>\n",
              "  </div>\n",
              "\n",
              "\n",
              "<div id=\"df-6df32145-1642-4498-8aaf-090d9156f9e1\">\n",
              "  <button class=\"colab-df-quickchart\" onclick=\"quickchart('df-6df32145-1642-4498-8aaf-090d9156f9e1')\"\n",
              "            title=\"Suggest charts\"\n",
              "            style=\"display:none;\">\n",
              "\n",
              "<svg xmlns=\"http://www.w3.org/2000/svg\" height=\"24px\"viewBox=\"0 0 24 24\"\n",
              "     width=\"24px\">\n",
              "    <g>\n",
              "        <path d=\"M19 3H5c-1.1 0-2 .9-2 2v14c0 1.1.9 2 2 2h14c1.1 0 2-.9 2-2V5c0-1.1-.9-2-2-2zM9 17H7v-7h2v7zm4 0h-2V7h2v10zm4 0h-2v-4h2v4z\"/>\n",
              "    </g>\n",
              "</svg>\n",
              "  </button>\n",
              "\n",
              "<style>\n",
              "  .colab-df-quickchart {\n",
              "      --bg-color: #E8F0FE;\n",
              "      --fill-color: #1967D2;\n",
              "      --hover-bg-color: #E2EBFA;\n",
              "      --hover-fill-color: #174EA6;\n",
              "      --disabled-fill-color: #AAA;\n",
              "      --disabled-bg-color: #DDD;\n",
              "  }\n",
              "\n",
              "  [theme=dark] .colab-df-quickchart {\n",
              "      --bg-color: #3B4455;\n",
              "      --fill-color: #D2E3FC;\n",
              "      --hover-bg-color: #434B5C;\n",
              "      --hover-fill-color: #FFFFFF;\n",
              "      --disabled-bg-color: #3B4455;\n",
              "      --disabled-fill-color: #666;\n",
              "  }\n",
              "\n",
              "  .colab-df-quickchart {\n",
              "    background-color: var(--bg-color);\n",
              "    border: none;\n",
              "    border-radius: 50%;\n",
              "    cursor: pointer;\n",
              "    display: none;\n",
              "    fill: var(--fill-color);\n",
              "    height: 32px;\n",
              "    padding: 0;\n",
              "    width: 32px;\n",
              "  }\n",
              "\n",
              "  .colab-df-quickchart:hover {\n",
              "    background-color: var(--hover-bg-color);\n",
              "    box-shadow: 0 1px 2px rgba(60, 64, 67, 0.3), 0 1px 3px 1px rgba(60, 64, 67, 0.15);\n",
              "    fill: var(--button-hover-fill-color);\n",
              "  }\n",
              "\n",
              "  .colab-df-quickchart-complete:disabled,\n",
              "  .colab-df-quickchart-complete:disabled:hover {\n",
              "    background-color: var(--disabled-bg-color);\n",
              "    fill: var(--disabled-fill-color);\n",
              "    box-shadow: none;\n",
              "  }\n",
              "\n",
              "  .colab-df-spinner {\n",
              "    border: 2px solid var(--fill-color);\n",
              "    border-color: transparent;\n",
              "    border-bottom-color: var(--fill-color);\n",
              "    animation:\n",
              "      spin 1s steps(1) infinite;\n",
              "  }\n",
              "\n",
              "  @keyframes spin {\n",
              "    0% {\n",
              "      border-color: transparent;\n",
              "      border-bottom-color: var(--fill-color);\n",
              "      border-left-color: var(--fill-color);\n",
              "    }\n",
              "    20% {\n",
              "      border-color: transparent;\n",
              "      border-left-color: var(--fill-color);\n",
              "      border-top-color: var(--fill-color);\n",
              "    }\n",
              "    30% {\n",
              "      border-color: transparent;\n",
              "      border-left-color: var(--fill-color);\n",
              "      border-top-color: var(--fill-color);\n",
              "      border-right-color: var(--fill-color);\n",
              "    }\n",
              "    40% {\n",
              "      border-color: transparent;\n",
              "      border-right-color: var(--fill-color);\n",
              "      border-top-color: var(--fill-color);\n",
              "    }\n",
              "    60% {\n",
              "      border-color: transparent;\n",
              "      border-right-color: var(--fill-color);\n",
              "    }\n",
              "    80% {\n",
              "      border-color: transparent;\n",
              "      border-right-color: var(--fill-color);\n",
              "      border-bottom-color: var(--fill-color);\n",
              "    }\n",
              "    90% {\n",
              "      border-color: transparent;\n",
              "      border-bottom-color: var(--fill-color);\n",
              "    }\n",
              "  }\n",
              "</style>\n",
              "\n",
              "  <script>\n",
              "    async function quickchart(key) {\n",
              "      const quickchartButtonEl =\n",
              "        document.querySelector('#' + key + ' button');\n",
              "      quickchartButtonEl.disabled = true;  // To prevent multiple clicks.\n",
              "      quickchartButtonEl.classList.add('colab-df-spinner');\n",
              "      try {\n",
              "        const charts = await google.colab.kernel.invokeFunction(\n",
              "            'suggestCharts', [key], {});\n",
              "      } catch (error) {\n",
              "        console.error('Error during call to suggestCharts:', error);\n",
              "      }\n",
              "      quickchartButtonEl.classList.remove('colab-df-spinner');\n",
              "      quickchartButtonEl.classList.add('colab-df-quickchart-complete');\n",
              "    }\n",
              "    (() => {\n",
              "      let quickchartButtonEl =\n",
              "        document.querySelector('#df-6df32145-1642-4498-8aaf-090d9156f9e1 button');\n",
              "      quickchartButtonEl.style.display =\n",
              "        google.colab.kernel.accessAllowed ? 'block' : 'none';\n",
              "    })();\n",
              "  </script>\n",
              "</div>\n",
              "    </div>\n",
              "  </div>\n"
            ]
          },
          "metadata": {},
          "execution_count": 1
        }
      ]
    },
    {
      "cell_type": "markdown",
      "metadata": {
        "id": "x3Kb4Wb2elpd"
      },
      "source": [
        "## TOKENIZAÇÃO\n",
        "\n",
        "---"
      ]
    },
    {
      "cell_type": "code",
      "metadata": {
        "id": "WZoqP0WKfm2d",
        "colab": {
          "base_uri": "https://localhost:8080/"
        },
        "outputId": "4b10bef4-8f28-4a62-d4a7-b944cd32ddff"
      },
      "source": [
        "# aplica tokenização em uma string comprando o módulo de tokenização do NLTK e o split do Python\n",
        "from nltk.tokenize import word_tokenize\n",
        "import nltk\n",
        "nltk.download('punkt')\n",
        "\n",
        "nome = 'Vamos aprender o que é processamento de linguagem natural.'\n",
        "\n",
        "print(word_tokenize(nome))\n",
        "print(nome.split())"
      ],
      "execution_count": 2,
      "outputs": [
        {
          "output_type": "stream",
          "name": "stderr",
          "text": [
            "[nltk_data] Downloading package punkt to /root/nltk_data...\n",
            "[nltk_data]   Unzipping tokenizers/punkt.zip.\n"
          ]
        },
        {
          "output_type": "stream",
          "name": "stdout",
          "text": [
            "['Vamos', 'aprender', 'o', 'que', 'é', 'processamento', 'de', 'linguagem', 'natural', '.']\n",
            "['Vamos', 'aprender', 'o', 'que', 'é', 'processamento', 'de', 'linguagem', 'natural.']\n"
          ]
        }
      ]
    },
    {
      "cell_type": "markdown",
      "metadata": {
        "id": "bSPOPQi1cuSL"
      },
      "source": [
        "NLTK = Natural Language Tool Kit"
      ]
    },
    {
      "cell_type": "code",
      "metadata": {
        "id": "iA79KVRcg2Di",
        "colab": {
          "base_uri": "https://localhost:8080/"
        },
        "outputId": "d2bfa8dd-6bec-4d99-96d5-0a05e2db9b21"
      },
      "source": [
        "# aplica tokenização em uma lista\n",
        "texto = ['Vamos aprender o que é processamento de linguagem natural.','um dois, três']\n",
        "type(texto)\n",
        "\n",
        "# usando o split\n",
        "print(texto[1].split())\n",
        "[t.split() for t in texto]"
      ],
      "execution_count": 3,
      "outputs": [
        {
          "output_type": "stream",
          "name": "stdout",
          "text": [
            "['um', 'dois,', 'três']\n"
          ]
        },
        {
          "output_type": "execute_result",
          "data": {
            "text/plain": [
              "[['Vamos',\n",
              "  'aprender',\n",
              "  'o',\n",
              "  'que',\n",
              "  'é',\n",
              "  'processamento',\n",
              "  'de',\n",
              "  'linguagem',\n",
              "  'natural.'],\n",
              " ['um', 'dois,', 'três']]"
            ]
          },
          "metadata": {},
          "execution_count": 3
        }
      ]
    },
    {
      "cell_type": "code",
      "metadata": {
        "id": "iXRuWWdjkZtr",
        "colab": {
          "base_uri": "https://localhost:8080/"
        },
        "outputId": "2d5c0f65-b51c-4ab8-fb37-88523aa3c76e"
      },
      "source": [
        "#from nltk.tokenize import word_tokenize\n",
        "#import nltk\n",
        "#nltk.download('punkt')\n",
        "\n",
        "[word_tokenize(t) for t in texto]"
      ],
      "execution_count": 4,
      "outputs": [
        {
          "output_type": "execute_result",
          "data": {
            "text/plain": [
              "[['Vamos',\n",
              "  'aprender',\n",
              "  'o',\n",
              "  'que',\n",
              "  'é',\n",
              "  'processamento',\n",
              "  'de',\n",
              "  'linguagem',\n",
              "  'natural',\n",
              "  '.'],\n",
              " ['um', 'dois', ',', 'três']]"
            ]
          },
          "metadata": {},
          "execution_count": 4
        }
      ]
    },
    {
      "cell_type": "code",
      "metadata": {
        "id": "weMWMKoGljZx",
        "colab": {
          "base_uri": "https://localhost:8080/"
        },
        "outputId": "84e1e99c-8f8a-440b-c4d2-f077c203790b"
      },
      "source": [
        "# aplica tokenização em um dataframe\n",
        "#from nltk.tokenize import word_tokenize\n",
        "#import nltk\n",
        "#nltk.download('punkt')\n",
        "\n",
        "print(df)\n",
        "print(df.text.apply(word_tokenize))\n",
        "\n",
        "df['tokens'] = df.text.apply(word_tokenize)"
      ],
      "execution_count": 5,
      "outputs": [
        {
          "output_type": "stream",
          "name": "stdout",
          "text": [
            "                                            text     class\n",
            "0      Sobre MBA? Eu gostei muito do MBA da FIAP  positivo\n",
            "1  O MBA da FIAP pode melhorar, não gostei muito  negativo\n",
            "0    [Sobre, MBA, ?, Eu, gostei, muito, do, MBA, da...\n",
            "1    [O, MBA, da, FIAP, pode, melhorar, ,, não, gos...\n",
            "Name: text, dtype: object\n"
          ]
        }
      ]
    },
    {
      "cell_type": "code",
      "metadata": {
        "id": "Y9ws_prkmJUz",
        "colab": {
          "base_uri": "https://localhost:8080/"
        },
        "outputId": "0c0f3a67-2779-4bae-9edd-64a85504be12"
      },
      "source": [
        "# em uma sentança (representada pelo ponto final)\n",
        "from nltk.tokenize import sent_tokenize, word_tokenize\n",
        "\n",
        "s = 'Vamos aprender o que é processamento de linguagem natural.\\nBora, vamos sim'\n",
        "\n",
        "print(sent_tokenize(s))\n",
        "print([word_tokenize(t) for t in sent_tokenize(s)])"
      ],
      "execution_count": 6,
      "outputs": [
        {
          "output_type": "stream",
          "name": "stdout",
          "text": [
            "['Vamos aprender o que é processamento de linguagem natural.', 'Bora, vamos sim']\n",
            "[['Vamos', 'aprender', 'o', 'que', 'é', 'processamento', 'de', 'linguagem', 'natural', '.'], ['Bora', ',', 'vamos', 'sim']]\n"
          ]
        }
      ]
    },
    {
      "cell_type": "code",
      "metadata": {
        "id": "VAo3WqWhjfg1"
      },
      "source": [
        "#from nltk.tokenize import wordpunct_tokenize (separa por qualquer pontuação, inclusive números R$3,50 = 'R','$','3',',','50')"
      ],
      "execution_count": 7,
      "outputs": []
    },
    {
      "cell_type": "markdown",
      "metadata": {
        "id": "IqCkOL0C5-FC"
      },
      "source": [
        "## UNIGRAMA\n",
        "\n",
        "---"
      ]
    },
    {
      "cell_type": "code",
      "source": [
        "Documento/Texto: “um dois três quatro um três”\n",
        "\n",
        "\t•\tUnigrama [“um”,”dois”,”três”,”quatro”], temos 4 unigramas.\n",
        "\t•\tBigrama [“um dois”,”dois três”,”três quatro”], temos três bigramas.\n",
        "\t•\tTrigrama [“um dois três”,”dois três quatro”], temos dois trigramas.\n",
        "\t•\t4-grama [“um dois três quatro”], temos um 4-grama.\n"
      ],
      "metadata": {
        "id": "9LspXwMhTzyB"
      },
      "execution_count": null,
      "outputs": []
    },
    {
      "cell_type": "code",
      "metadata": {
        "id": "1rhnMqaq6Bgc",
        "colab": {
          "base_uri": "https://localhost:8080/"
        },
        "outputId": "d2b5a6c2-6334-4357-a6ee-9eb05c1e1399"
      },
      "source": [
        "df.text"
      ],
      "execution_count": 8,
      "outputs": [
        {
          "output_type": "execute_result",
          "data": {
            "text/plain": [
              "0        Sobre MBA? Eu gostei muito do MBA da FIAP\n",
              "1    O MBA da FIAP pode melhorar, não gostei muito\n",
              "Name: text, dtype: object"
            ]
          },
          "metadata": {},
          "execution_count": 8
        }
      ]
    },
    {
      "cell_type": "code",
      "metadata": {
        "id": "G6kSv69h2jKs",
        "colab": {
          "base_uri": "https://localhost:8080/"
        },
        "outputId": "0194022a-6d6e-478a-c542-b328c31d9f18"
      },
      "source": [
        "from sklearn.feature_extraction.text import CountVectorizer\n",
        "\n",
        "vect = CountVectorizer(ngram_range=(1,1))\n",
        "vect.fit(df.text)\n",
        "text_vect = vect.transform(df.text)\n",
        "\n",
        "print(pd.DataFrame(text_vect.A, columns=vect.get_feature_names_out()).to_string())"
      ],
      "execution_count": 9,
      "outputs": [
        {
          "output_type": "stream",
          "name": "stdout",
          "text": [
            "   da  do  eu  fiap  gostei  mba  melhorar  muito  não  pode  sobre\n",
            "0   1   1   1     1       1    2         0      1    0     0      1\n",
            "1   1   0   0     1       1    1         1      1    1     1      0\n"
          ]
        }
      ]
    },
    {
      "cell_type": "code",
      "metadata": {
        "colab": {
          "base_uri": "https://localhost:8080/"
        },
        "id": "-FBUtL0jbk0n",
        "outputId": "d9870950-fc2b-48cb-d8e7-34e799c29631"
      },
      "source": [
        "text_vect.shape"
      ],
      "execution_count": 10,
      "outputs": [
        {
          "output_type": "execute_result",
          "data": {
            "text/plain": [
              "(2, 11)"
            ]
          },
          "metadata": {},
          "execution_count": 10
        }
      ]
    },
    {
      "cell_type": "code",
      "metadata": {
        "id": "DqaSvPft7oMJ",
        "colab": {
          "base_uri": "https://localhost:8080/"
        },
        "outputId": "0f1a1a45-f640-4521-c2ed-48282c2589bb"
      },
      "source": [
        "len(vect.get_feature_names_out())"
      ],
      "execution_count": 11,
      "outputs": [
        {
          "output_type": "execute_result",
          "data": {
            "text/plain": [
              "11"
            ]
          },
          "metadata": {},
          "execution_count": 11
        }
      ]
    },
    {
      "cell_type": "markdown",
      "metadata": {
        "id": "PHfqBTzH6LQm"
      },
      "source": [
        "## BIGRAMA\n",
        "\n",
        "---"
      ]
    },
    {
      "cell_type": "code",
      "metadata": {
        "id": "qDLdamcR2q4e",
        "colab": {
          "base_uri": "https://localhost:8080/"
        },
        "outputId": "e1e153e9-676c-4f92-81bb-3109eccafea1"
      },
      "source": [
        "from sklearn.feature_extraction.text import CountVectorizer\n",
        "\n",
        "vect = CountVectorizer(ngram_range=(2,2))\n",
        "vect.fit(df.text)\n",
        "text_vect = vect.transform(df.text)\n",
        "\n",
        "print(pd.DataFrame(text_vect.A, columns=vect.get_feature_names_out()).to_string())"
      ],
      "execution_count": 12,
      "outputs": [
        {
          "output_type": "stream",
          "name": "stdout",
          "text": [
            "   da fiap  do mba  eu gostei  fiap pode  gostei muito  mba da  mba eu  melhorar não  muito do  não gostei  pode melhorar  sobre mba\n",
            "0        1       1          1          0             1       1       1             0         1           0              0          1\n",
            "1        1       0          0          1             1       1       0             1         0           1              1          0\n"
          ]
        }
      ]
    },
    {
      "cell_type": "markdown",
      "metadata": {
        "id": "QIFnNUdM6SvU"
      },
      "source": [
        "## TRIGRAMA\n",
        "\n",
        "---"
      ]
    },
    {
      "cell_type": "code",
      "metadata": {
        "id": "xalnPjjG2u7k",
        "colab": {
          "base_uri": "https://localhost:8080/"
        },
        "outputId": "6dd75f28-b351-4f48-ef36-1ef8b3be1916"
      },
      "source": [
        "from sklearn.feature_extraction.text import CountVectorizer\n",
        "\n",
        "vect = CountVectorizer(ngram_range=(3,3))\n",
        "vect.fit(df.text)\n",
        "text_vect = vect.transform(df.text)\n",
        "\n",
        "print(pd.DataFrame(text_vect.A, columns=vect.get_feature_names_out()).T.to_string())"
      ],
      "execution_count": 13,
      "outputs": [
        {
          "output_type": "stream",
          "name": "stdout",
          "text": [
            "                     0  1\n",
            "da fiap pode         0  1\n",
            "do mba da            1  0\n",
            "eu gostei muito      1  0\n",
            "fiap pode melhorar   0  1\n",
            "gostei muito do      1  0\n",
            "mba da fiap          1  1\n",
            "mba eu gostei        1  0\n",
            "melhorar não gostei  0  1\n",
            "muito do mba         1  0\n",
            "não gostei muito     0  1\n",
            "pode melhorar não    0  1\n",
            "sobre mba eu         1  0\n"
          ]
        }
      ]
    },
    {
      "cell_type": "markdown",
      "metadata": {
        "id": "swmx7vR65mdb"
      },
      "source": [
        "## REGEX\n",
        "\n",
        "---"
      ]
    },
    {
      "cell_type": "code",
      "metadata": {
        "id": "9YlTu0v36jmy"
      },
      "source": [
        "email = \"professor@gmail.com\""
      ],
      "execution_count": 14,
      "outputs": []
    },
    {
      "cell_type": "code",
      "metadata": {
        "id": "0DLpiJZvUT86",
        "colab": {
          "base_uri": "https://localhost:8080/",
          "height": 36
        },
        "outputId": "e4873183-253d-406d-b06b-bf82611d24ef"
      },
      "source": [
        "# função split do Python\n",
        "email.split(\"@\")[1].split(\".\")[0]\n",
        "\n",
        "#\"dourado@gmail.com\".split(\"@\")[1].split('.')[0]"
      ],
      "execution_count": 15,
      "outputs": [
        {
          "output_type": "execute_result",
          "data": {
            "text/plain": [
              "'gmail'"
            ],
            "application/vnd.google.colaboratory.intrinsic+json": {
              "type": "string"
            }
          },
          "metadata": {},
          "execution_count": 15
        }
      ]
    },
    {
      "cell_type": "code",
      "metadata": {
        "id": "QLP8WEzi_i7j",
        "colab": {
          "base_uri": "https://localhost:8080/",
          "height": 36
        },
        "outputId": "79a07ef7-1532-4e01-b241-d8ef14482871"
      },
      "source": [
        "\"professor @ gmail . com\".split(\"@\")[1].split(\".\")[0]"
      ],
      "execution_count": 16,
      "outputs": [
        {
          "output_type": "execute_result",
          "data": {
            "text/plain": [
              "' gmail '"
            ],
            "application/vnd.google.colaboratory.intrinsic+json": {
              "type": "string"
            }
          },
          "metadata": {},
          "execution_count": 16
        }
      ]
    },
    {
      "cell_type": "code",
      "metadata": {
        "id": "LSUYkTSFEK7l",
        "colab": {
          "base_uri": "https://localhost:8080/"
        },
        "outputId": "8755ae84-5f27-4172-a78e-12c6bd1d8558"
      },
      "source": [
        "# importa pacote de regular expression\n",
        "import re\n",
        "\n",
        "regex = r\"(?<=@)[^.]+(?=\\.)\"\n",
        "re.findall(regex, email)"
      ],
      "execution_count": 17,
      "outputs": [
        {
          "output_type": "execute_result",
          "data": {
            "text/plain": [
              "['gmail']"
            ]
          },
          "metadata": {},
          "execution_count": 17
        }
      ]
    },
    {
      "cell_type": "code",
      "metadata": {
        "id": "oP7VTbtgDkYq",
        "colab": {
          "base_uri": "https://localhost:8080/"
        },
        "outputId": "e72753e1-0352-4cce-9c00-9252ccd2866c"
      },
      "source": [
        "# mede o tempo de execução de um trecho de código\n",
        "import timeit\n",
        "\n",
        "timeit.Timer(\n",
        " 're.findall(regex, \"professor@gmail.com\")',\n",
        " 'import re; regex = r\"(?<=@)[^.]+(?=\\.)\"'\n",
        ").repeat(2)"
      ],
      "execution_count": 18,
      "outputs": [
        {
          "output_type": "execute_result",
          "data": {
            "text/plain": [
              "[1.243251009000005, 1.2646326389999842]"
            ]
          },
          "metadata": {},
          "execution_count": 18
        }
      ]
    },
    {
      "cell_type": "code",
      "metadata": {
        "id": "rBmaBfknD0l7",
        "colab": {
          "base_uri": "https://localhost:8080/"
        },
        "outputId": "21c4fc0a-89bb-4c65-9551-614c032f106f"
      },
      "source": [
        "import timeit\n",
        "\n",
        "timeit.Timer(\n",
        " '\"professor@gmail.com\".split(\"@\")[1].split(\".\")[0]'\n",
        ").repeat(2)"
      ],
      "execution_count": 19,
      "outputs": [
        {
          "output_type": "execute_result",
          "data": {
            "text/plain": [
              "[0.3407311160000006, 0.3468000490000236]"
            ]
          },
          "metadata": {},
          "execution_count": 19
        }
      ]
    },
    {
      "cell_type": "code",
      "metadata": {
        "id": "UHiGfhPskQDH",
        "colab": {
          "base_uri": "https://localhost:8080/"
        },
        "outputId": "9728eb18-bef5-46a9-dc5a-e8cadafc3e5b"
      },
      "source": [
        "import re\n",
        "print(email)\n",
        "\n",
        "re.findall(r'.',email)\n",
        "re.findall(r'[a-z]',email)\n",
        "re.findall(r'[0-9]',email)\n",
        "re.findall(r'.*',email)\n",
        "re.findall(r'$',email)\n",
        "\n",
        "re.findall(r'[a-z]+',email)\n",
        "\n",
        "re.findall(r'^.',email)\n",
        "re.findall(r'^d',email)"
      ],
      "execution_count": 20,
      "outputs": [
        {
          "output_type": "stream",
          "name": "stdout",
          "text": [
            "professor@gmail.com\n"
          ]
        },
        {
          "output_type": "execute_result",
          "data": {
            "text/plain": [
              "[]"
            ]
          },
          "metadata": {},
          "execution_count": 20
        }
      ]
    },
    {
      "cell_type": "code",
      "execution_count": 21,
      "metadata": {
        "id": "HEOZP_bYTWwF",
        "colab": {
          "base_uri": "https://localhost:8080/"
        },
        "outputId": "b9699eee-3ffd-49e9-9224-be704b590db9"
      },
      "outputs": [
        {
          "output_type": "stream",
          "name": "stdout",
          "text": [
            "Queen, Aerosmith & Beatles -> ['Queen', 'Aerosmith', 'Beatles']\n",
            "Phone Num :  2004-959-559 \n",
            "Phone Num :  2004959559\n"
          ]
        }
      ],
      "source": [
        "import re\n",
        "rex = re.compile('\\w+') #qualquer caracter alfanumérico - compilado\n",
        "bandas = 'Queen, Aerosmith & Beatles'\n",
        "print (bandas, '->', rex.findall(bandas))\n",
        "phone = \"2004-959-559 # This is Phone Number\"\n",
        "num = re.sub('#.*$', \"\", phone) #elimina tudo após #\n",
        "print (\"Phone Num : \", num)\n",
        "num = re.sub(r'\\D', \"\", phone)# só deixa número\n",
        "print (\"Phone Num : \", num)"
      ]
    },
    {
      "cell_type": "markdown",
      "metadata": {
        "id": "GzrIMF-vkQUW"
      },
      "source": [
        "Caracteres ou metacaracteres\n",
        "\n",
        "    meta - O que faz?\n",
        "    ---------------------\n",
        "    . - Qualquer caractere\n",
        "    [] - Lista de caracteres\n",
        "    [^] - Lista negada\n",
        "    ? - Anterior pode existir ou não\n",
        "    .* - Qualquer coisa\n",
        "    {x} - Anterior aparece x vezes\n",
        "    $ - Fim da linha\n",
        "    + - Anterior ao menos ums vez\n",
        "    (xy) - Cria grupos\n",
        "    ^ - Começo da linha\n",
        "    \\ - escapa o meta (ignora)\n",
        "    | - ou\n",
        "    \n"
      ]
    },
    {
      "cell_type": "markdown",
      "source": [
        "Teste seu código aqui:\n",
        "\n",
        "https://regex101.com/"
      ],
      "metadata": {
        "id": "_7qBq20BLSJo"
      }
    },
    {
      "cell_type": "markdown",
      "source": [
        "Curiosidade"
      ],
      "metadata": {
        "id": "JgZ-V_J_bRnn"
      }
    },
    {
      "cell_type": "code",
      "metadata": {
        "id": "OiOFT26cD-W6",
        "colab": {
          "base_uri": "https://localhost:8080/"
        },
        "outputId": "c11ee939-9732-40d8-f5d7-4c7dec5f665e"
      },
      "source": [
        "import this"
      ],
      "execution_count": 22,
      "outputs": [
        {
          "output_type": "stream",
          "name": "stdout",
          "text": [
            "The Zen of Python, by Tim Peters\n",
            "\n",
            "Beautiful is better than ugly.\n",
            "Explicit is better than implicit.\n",
            "Simple is better than complex.\n",
            "Complex is better than complicated.\n",
            "Flat is better than nested.\n",
            "Sparse is better than dense.\n",
            "Readability counts.\n",
            "Special cases aren't special enough to break the rules.\n",
            "Although practicality beats purity.\n",
            "Errors should never pass silently.\n",
            "Unless explicitly silenced.\n",
            "In the face of ambiguity, refuse the temptation to guess.\n",
            "There should be one-- and preferably only one --obvious way to do it.\n",
            "Although that way may not be obvious at first unless you're Dutch.\n",
            "Now is better than never.\n",
            "Although never is often better than *right* now.\n",
            "If the implementation is hard to explain, it's a bad idea.\n",
            "If the implementation is easy to explain, it may be a good idea.\n",
            "Namespaces are one honking great idea -- let's do more of those!\n"
          ]
        }
      ]
    },
    {
      "cell_type": "markdown",
      "metadata": {
        "id": "poR8p3MAKOIG"
      },
      "source": [
        "    Bonito é melhor que feio.\n",
        "    Explícito é melhor que implícito.\n",
        "    Simples é melhor que Complexo.\n",
        "    Complexo é melhor que complicado.\n",
        "    Achatado é melhor que aninhado.\n",
        "    Disperso é melhor que compacto.\n",
        "    Legibilidade conta.\n",
        "    Casos especiais não são especiais o suficiente para quebrar as regras.\n",
        "    Apesar de praticidade vencer a pureza.\n",
        "    Erros nunca devem passar despercebidos.\n",
        "    A menos que passem explicitamente \"despercebidos\".\n",
        "    Diante de ambiguidades, recuse a tentação de deduzir.\n",
        "    Deve haver uma --e preferencialmente só uma-- maneira fácil de fazer isto.\n",
        "    Apesar de que a maneira não pode ser óbvia de primeira, a não ser que você seja \"asiático\".\n",
        "    Agora é melhor do que nunca.\n",
        "    Porém, muitas vezes nunca é melhor do que *agora*.\n",
        "    Se a implementação é difícil de explicar, é uma péssima ideia.\n",
        "    Se a implementação é fácil de explicar, pode ser uma boa ideia.\n",
        "    Namespaces são uma grande ideia gritante -- vamos fazer mais dessas!"
      ]
    },
    {
      "cell_type": "markdown",
      "metadata": {
        "id": "SSK6DZRdmKo8"
      },
      "source": [
        "## STOPWORDS\n",
        "\n",
        "---"
      ]
    },
    {
      "cell_type": "code",
      "metadata": {
        "id": "hp5M3u_XrGqY",
        "colab": {
          "base_uri": "https://localhost:8080/"
        },
        "outputId": "8e4d589c-286d-45ce-fd5a-ff8e9d4cb856"
      },
      "source": [
        "import nltk\n",
        "nltk.download('stopwords')\n",
        "\n",
        "# lista de stopwords do NLTK\n",
        "stops = nltk.corpus.stopwords.words('english')"
      ],
      "execution_count": 23,
      "outputs": [
        {
          "output_type": "stream",
          "name": "stderr",
          "text": [
            "[nltk_data] Downloading package stopwords to /root/nltk_data...\n",
            "[nltk_data]   Unzipping corpora/stopwords.zip.\n"
          ]
        }
      ]
    },
    {
      "cell_type": "code",
      "metadata": {
        "id": "VI2P65ED96Vp",
        "colab": {
          "base_uri": "https://localhost:8080/"
        },
        "outputId": "e98b9593-efa2-4328-f737-10b38606752a"
      },
      "source": [
        "len(stops)"
      ],
      "execution_count": 24,
      "outputs": [
        {
          "output_type": "execute_result",
          "data": {
            "text/plain": [
              "179"
            ]
          },
          "metadata": {},
          "execution_count": 24
        }
      ]
    },
    {
      "cell_type": "code",
      "metadata": {
        "colab": {
          "base_uri": "https://localhost:8080/"
        },
        "outputId": "82579e6b-1c93-45c1-c088-8765d18e23a6",
        "id": "6n0DjIc-eXfx"
      },
      "source": [
        "# lista as 10 primeiras stopwords\n",
        "stops[:10]"
      ],
      "execution_count": 25,
      "outputs": [
        {
          "output_type": "execute_result",
          "data": {
            "text/plain": [
              "['i', 'me', 'my', 'myself', 'we', 'our', 'ours', 'ourselves', 'you', \"you're\"]"
            ]
          },
          "metadata": {},
          "execution_count": 25
        }
      ]
    },
    {
      "cell_type": "code",
      "metadata": {
        "id": "IB8EYOCU9--r",
        "colab": {
          "base_uri": "https://localhost:8080/",
          "height": 36
        },
        "outputId": "c5734895-cd1c-4bef-e769-5853a637684e"
      },
      "source": [
        "# remove uma stopword da lista\n",
        "stops.pop(3)"
      ],
      "execution_count": 26,
      "outputs": [
        {
          "output_type": "execute_result",
          "data": {
            "text/plain": [
              "'myself'"
            ],
            "application/vnd.google.colaboratory.intrinsic+json": {
              "type": "string"
            }
          },
          "metadata": {},
          "execution_count": 26
        }
      ]
    },
    {
      "cell_type": "code",
      "metadata": {
        "id": "N-gT5nMg91FW",
        "colab": {
          "base_uri": "https://localhost:8080/"
        },
        "outputId": "51e1d1b2-8ff7-4d21-993a-cc35abd75c26"
      },
      "source": [
        "# lista as 10 primeiras stopwords\n",
        "stops[:10]"
      ],
      "execution_count": 27,
      "outputs": [
        {
          "output_type": "execute_result",
          "data": {
            "text/plain": [
              "['i', 'me', 'my', 'we', 'our', 'ours', 'ourselves', 'you', \"you're\", \"you've\"]"
            ]
          },
          "metadata": {},
          "execution_count": 27
        }
      ]
    },
    {
      "cell_type": "code",
      "metadata": {
        "id": "GoE1kJ6UZ_oA"
      },
      "source": [
        "# podemos criar nossa propria lista\n",
        "stops = stops + [\"mba\", \"fiap\"]"
      ],
      "execution_count": 28,
      "outputs": []
    },
    {
      "cell_type": "code",
      "metadata": {
        "id": "3vvZzFQS9zjq"
      },
      "source": [
        "# lista todas as stopwords\n",
        "stops"
      ],
      "execution_count": null,
      "outputs": []
    },
    {
      "cell_type": "code",
      "metadata": {
        "id": "niXXv3e-6kb0",
        "colab": {
          "base_uri": "https://localhost:8080/"
        },
        "outputId": "9741052f-08ad-4cd7-b8a7-6e0f0ecc5146"
      },
      "source": [
        "import nltk\n",
        "nltk.download('stopwords')"
      ],
      "execution_count": 30,
      "outputs": [
        {
          "output_type": "stream",
          "name": "stderr",
          "text": [
            "[nltk_data] Downloading package stopwords to /root/nltk_data...\n",
            "[nltk_data]   Package stopwords is already up-to-date!\n"
          ]
        },
        {
          "output_type": "execute_result",
          "data": {
            "text/plain": [
              "True"
            ]
          },
          "metadata": {},
          "execution_count": 30
        }
      ]
    },
    {
      "cell_type": "code",
      "metadata": {
        "id": "Sc4YJdb96m5z",
        "colab": {
          "base_uri": "https://localhost:8080/"
        },
        "outputId": "11c3a29d-5716-4b4f-b860-2b9feb3a02b6"
      },
      "source": [
        "print(nltk.corpus.stopwords.words('portuguese')[:10])"
      ],
      "execution_count": 31,
      "outputs": [
        {
          "output_type": "stream",
          "name": "stdout",
          "text": [
            "['a', 'à', 'ao', 'aos', 'aquela', 'aquelas', 'aquele', 'aqueles', 'aquilo', 'as']\n"
          ]
        }
      ]
    },
    {
      "cell_type": "code",
      "metadata": {
        "id": "Dj6gDOA2bxWO",
        "colab": {
          "base_uri": "https://localhost:8080/"
        },
        "outputId": "005352b8-9aec-412d-90d1-25c6ff591213"
      },
      "source": [
        "len(nltk.corpus.stopwords.words('portuguese'))"
      ],
      "execution_count": 32,
      "outputs": [
        {
          "output_type": "execute_result",
          "data": {
            "text/plain": [
              "207"
            ]
          },
          "metadata": {},
          "execution_count": 32
        }
      ]
    },
    {
      "cell_type": "code",
      "metadata": {
        "id": "nhi1oSyK6ekI",
        "colab": {
          "base_uri": "https://localhost:8080/"
        },
        "outputId": "5cf6e0de-efc3-4dde-8f5b-28a4b6872930"
      },
      "source": [
        "# aplicando a utilização das stopwords\n",
        "from sklearn.feature_extraction.text import CountVectorizer\n",
        "\n",
        "stops = nltk.corpus.stopwords.words('portuguese') + [\"fiap\", \"mba\"]\n",
        "\n",
        "vect = CountVectorizer(ngram_range=(1,1), stop_words=stops)\n",
        "vect.fit(df.text)\n",
        "text_vect = vect.transform(df.text)\n",
        "\n",
        "print(pd.DataFrame(text_vect.A, columns=vect.get_feature_names_out()).to_string())"
      ],
      "execution_count": 33,
      "outputs": [
        {
          "output_type": "stream",
          "name": "stdout",
          "text": [
            "   gostei  melhorar  pode  sobre\n",
            "0       1         0     0      1\n",
            "1       1         1     1      0\n"
          ]
        }
      ]
    },
    {
      "cell_type": "markdown",
      "metadata": {
        "id": "nLf4ItcOaDvj"
      },
      "source": [
        "## NORMALIZAÇÃO DE TEXTOS\n",
        "\n",
        "---"
      ]
    },
    {
      "cell_type": "code",
      "source": [
        "print(df)"
      ],
      "metadata": {
        "colab": {
          "base_uri": "https://localhost:8080/"
        },
        "id": "N6_8vEqXaY-u",
        "outputId": "b8abd634-d2b8-486c-f8c4-79d82ff31c92"
      },
      "execution_count": 34,
      "outputs": [
        {
          "output_type": "stream",
          "name": "stdout",
          "text": [
            "                                            text     class  \\\n",
            "0      Sobre MBA? Eu gostei muito do MBA da FIAP  positivo   \n",
            "1  O MBA da FIAP pode melhorar, não gostei muito  negativo   \n",
            "\n",
            "                                              tokens  \n",
            "0  [Sobre, MBA, ?, Eu, gostei, muito, do, MBA, da...  \n",
            "1  [O, MBA, da, FIAP, pode, melhorar, ,, não, gos...  \n"
          ]
        }
      ]
    },
    {
      "cell_type": "code",
      "source": [
        "# aplicando a utilização das stopwords\n",
        "from sklearn.feature_extraction.text import CountVectorizer\n",
        "\n",
        "vect = CountVectorizer(ngram_range=(1,1))\n",
        "vect.fit(df.text)\n",
        "text_vect = vect.transform(df.text)\n",
        "\n",
        "print(pd.DataFrame(text_vect.A, columns=vect.get_feature_names_out()).to_string())"
      ],
      "metadata": {
        "colab": {
          "base_uri": "https://localhost:8080/"
        },
        "id": "DKvAPd_6afgy",
        "outputId": "036ff76a-ce0d-4ab0-c7d2-18fa2b58e3ce"
      },
      "execution_count": 35,
      "outputs": [
        {
          "output_type": "stream",
          "name": "stdout",
          "text": [
            "   da  do  eu  fiap  gostei  mba  melhorar  muito  não  pode  sobre\n",
            "0   1   1   1     1       1    2         0      1    0     0      1\n",
            "1   1   0   0     1       1    1         1      1    1     1      0\n"
          ]
        }
      ]
    },
    {
      "cell_type": "markdown",
      "metadata": {
        "id": "Q38W_insTWwI"
      },
      "source": [
        "**Importante:** note que intrinsicamente o CountVectorizer já realiza um processo de normalização, passando as palavras para minúscula por padrão. Acesse a documentação e veja [link](https://scikit-learn.org/stable/modules/generated/sklearn.feature_extraction.text.CountVectorizer.html)"
      ]
    },
    {
      "cell_type": "code",
      "source": [
        "vect.get_params()"
      ],
      "metadata": {
        "id": "0M3-OWoYlpN8",
        "colab": {
          "base_uri": "https://localhost:8080/"
        },
        "outputId": "5d9811be-ac76-44e7-ec98-13da6672b43f"
      },
      "execution_count": 36,
      "outputs": [
        {
          "output_type": "execute_result",
          "data": {
            "text/plain": [
              "{'analyzer': 'word',\n",
              " 'binary': False,\n",
              " 'decode_error': 'strict',\n",
              " 'dtype': numpy.int64,\n",
              " 'encoding': 'utf-8',\n",
              " 'input': 'content',\n",
              " 'lowercase': True,\n",
              " 'max_df': 1.0,\n",
              " 'max_features': None,\n",
              " 'min_df': 1,\n",
              " 'ngram_range': (1, 1),\n",
              " 'preprocessor': None,\n",
              " 'stop_words': None,\n",
              " 'strip_accents': None,\n",
              " 'token_pattern': '(?u)\\\\b\\\\w\\\\w+\\\\b',\n",
              " 'tokenizer': None,\n",
              " 'vocabulary': None}"
            ]
          },
          "metadata": {},
          "execution_count": 36
        }
      ]
    },
    {
      "cell_type": "markdown",
      "source": [
        "Vamos aplicar o processo de normalização mais completo por uma função mais para frente."
      ],
      "metadata": {
        "id": "dsj1RYu5bAHo"
      }
    },
    {
      "cell_type": "markdown",
      "metadata": {
        "id": "K0wg8wf1GSeD"
      },
      "source": [
        "## Stemmer (Stemização)\n",
        "\n",
        "---"
      ]
    },
    {
      "cell_type": "code",
      "metadata": {
        "id": "yfwMue5RGR8B",
        "colab": {
          "base_uri": "https://localhost:8080/"
        },
        "outputId": "b52099fa-7e5e-4017-efc5-cbec1b31593e"
      },
      "source": [
        "from nltk.stem import PorterStemmer\n",
        "\n",
        "ps = PorterStemmer()\n",
        "exemplos = [\"connection\",\"connections\",\"connective\",\"connecting\",\"connected\"]\n",
        "print(exemplos)\n",
        "\n",
        "for word in exemplos:\n",
        "  print(ps.stem(word))"
      ],
      "execution_count": 37,
      "outputs": [
        {
          "output_type": "stream",
          "name": "stdout",
          "text": [
            "['connection', 'connections', 'connective', 'connecting', 'connected']\n",
            "connect\n",
            "connect\n",
            "connect\n",
            "connect\n",
            "connect\n"
          ]
        }
      ]
    },
    {
      "cell_type": "code",
      "metadata": {
        "id": "YiXeQyMcAx4Y",
        "colab": {
          "base_uri": "https://localhost:8080/"
        },
        "outputId": "4a1fae7c-4287-4219-a9b0-3fa0adcbb58b"
      },
      "source": [
        "# Outro exemplo\n",
        "ps = PorterStemmer()\n",
        "exemplos = [\"go\",\"going\",\"goes\",\"gone\",\"went\"]\n",
        "print(exemplos)\n",
        "\n",
        "for word in exemplos:\n",
        "  print(ps.stem(word))"
      ],
      "execution_count": 38,
      "outputs": [
        {
          "output_type": "stream",
          "name": "stdout",
          "text": [
            "['go', 'going', 'goes', 'gone', 'went']\n",
            "go\n",
            "go\n",
            "goe\n",
            "gone\n",
            "went\n"
          ]
        }
      ]
    },
    {
      "cell_type": "markdown",
      "metadata": {
        "id": "9QGwgdjvSW7L"
      },
      "source": [
        "RSLP = Removedor de Sulfixos da Língua Portuguesa\n"
      ]
    },
    {
      "cell_type": "code",
      "metadata": {
        "id": "aIvuXLMeqUd9",
        "colab": {
          "base_uri": "https://localhost:8080/"
        },
        "outputId": "f88be781-919c-4ae2-c4eb-b33f2c7ed762"
      },
      "source": [
        "# Stemização\n",
        "from nltk.stem import PorterStemmer\n",
        "from nltk.stem.rslp import RSLPStemmer\n",
        "import nltk\n",
        "nltk.download('rslp')\n",
        "\n",
        "doc = [\"pedra\",\"pedreira\",\"pedreiro\"]\n",
        "print(doc)\n",
        "\n",
        "ps = PorterStemmer()\n",
        "rslp = RSLPStemmer()\n",
        "\n",
        "for word in doc:\n",
        "    print(ps.stem(word), ' - ', rslp.stem(word))"
      ],
      "execution_count": 39,
      "outputs": [
        {
          "output_type": "stream",
          "name": "stdout",
          "text": [
            "['pedra', 'pedreira', 'pedreiro']\n",
            "pedra  -  pedr\n",
            "pedreira  -  pedr\n",
            "pedreiro  -  pedr\n"
          ]
        },
        {
          "output_type": "stream",
          "name": "stderr",
          "text": [
            "[nltk_data] Downloading package rslp to /root/nltk_data...\n",
            "[nltk_data]   Unzipping stemmers/rslp.zip.\n"
          ]
        }
      ]
    },
    {
      "cell_type": "markdown",
      "metadata": {
        "id": "bVDjrt-eT4MV"
      },
      "source": [
        "### Aplicar Stemmer em uma frase"
      ]
    },
    {
      "cell_type": "code",
      "metadata": {
        "id": "nGuydG4xrJFd",
        "colab": {
          "base_uri": "https://localhost:8080/",
          "height": 112
        },
        "outputId": "ae6d0c2d-6bd1-42ae-b31d-745289361e11"
      },
      "source": [
        "import pandas as pd\n",
        "\n",
        "df = pd.DataFrame({\n",
        "    'text': [\n",
        "      'Sobre MBA? Eu gostei muito do MBA da FIAP',\n",
        "      'O MBA da FIAP pode melhorar, não gostei muito'\n",
        "    ],\n",
        "    'class': [\n",
        "        'positivo',\n",
        "        'negativo'\n",
        "    ]})\n",
        "\n",
        "df.head()"
      ],
      "execution_count": 40,
      "outputs": [
        {
          "output_type": "execute_result",
          "data": {
            "text/plain": [
              "                                            text     class\n",
              "0      Sobre MBA? Eu gostei muito do MBA da FIAP  positivo\n",
              "1  O MBA da FIAP pode melhorar, não gostei muito  negativo"
            ],
            "text/html": [
              "\n",
              "  <div id=\"df-24899bb5-df28-469e-8e4e-e2ad088f29bc\" class=\"colab-df-container\">\n",
              "    <div>\n",
              "<style scoped>\n",
              "    .dataframe tbody tr th:only-of-type {\n",
              "        vertical-align: middle;\n",
              "    }\n",
              "\n",
              "    .dataframe tbody tr th {\n",
              "        vertical-align: top;\n",
              "    }\n",
              "\n",
              "    .dataframe thead th {\n",
              "        text-align: right;\n",
              "    }\n",
              "</style>\n",
              "<table border=\"1\" class=\"dataframe\">\n",
              "  <thead>\n",
              "    <tr style=\"text-align: right;\">\n",
              "      <th></th>\n",
              "      <th>text</th>\n",
              "      <th>class</th>\n",
              "    </tr>\n",
              "  </thead>\n",
              "  <tbody>\n",
              "    <tr>\n",
              "      <th>0</th>\n",
              "      <td>Sobre MBA? Eu gostei muito do MBA da FIAP</td>\n",
              "      <td>positivo</td>\n",
              "    </tr>\n",
              "    <tr>\n",
              "      <th>1</th>\n",
              "      <td>O MBA da FIAP pode melhorar, não gostei muito</td>\n",
              "      <td>negativo</td>\n",
              "    </tr>\n",
              "  </tbody>\n",
              "</table>\n",
              "</div>\n",
              "    <div class=\"colab-df-buttons\">\n",
              "\n",
              "  <div class=\"colab-df-container\">\n",
              "    <button class=\"colab-df-convert\" onclick=\"convertToInteractive('df-24899bb5-df28-469e-8e4e-e2ad088f29bc')\"\n",
              "            title=\"Convert this dataframe to an interactive table.\"\n",
              "            style=\"display:none;\">\n",
              "\n",
              "  <svg xmlns=\"http://www.w3.org/2000/svg\" height=\"24px\" viewBox=\"0 -960 960 960\">\n",
              "    <path d=\"M120-120v-720h720v720H120Zm60-500h600v-160H180v160Zm220 220h160v-160H400v160Zm0 220h160v-160H400v160ZM180-400h160v-160H180v160Zm440 0h160v-160H620v160ZM180-180h160v-160H180v160Zm440 0h160v-160H620v160Z\"/>\n",
              "  </svg>\n",
              "    </button>\n",
              "\n",
              "  <style>\n",
              "    .colab-df-container {\n",
              "      display:flex;\n",
              "      gap: 12px;\n",
              "    }\n",
              "\n",
              "    .colab-df-convert {\n",
              "      background-color: #E8F0FE;\n",
              "      border: none;\n",
              "      border-radius: 50%;\n",
              "      cursor: pointer;\n",
              "      display: none;\n",
              "      fill: #1967D2;\n",
              "      height: 32px;\n",
              "      padding: 0 0 0 0;\n",
              "      width: 32px;\n",
              "    }\n",
              "\n",
              "    .colab-df-convert:hover {\n",
              "      background-color: #E2EBFA;\n",
              "      box-shadow: 0px 1px 2px rgba(60, 64, 67, 0.3), 0px 1px 3px 1px rgba(60, 64, 67, 0.15);\n",
              "      fill: #174EA6;\n",
              "    }\n",
              "\n",
              "    .colab-df-buttons div {\n",
              "      margin-bottom: 4px;\n",
              "    }\n",
              "\n",
              "    [theme=dark] .colab-df-convert {\n",
              "      background-color: #3B4455;\n",
              "      fill: #D2E3FC;\n",
              "    }\n",
              "\n",
              "    [theme=dark] .colab-df-convert:hover {\n",
              "      background-color: #434B5C;\n",
              "      box-shadow: 0px 1px 3px 1px rgba(0, 0, 0, 0.15);\n",
              "      filter: drop-shadow(0px 1px 2px rgba(0, 0, 0, 0.3));\n",
              "      fill: #FFFFFF;\n",
              "    }\n",
              "  </style>\n",
              "\n",
              "    <script>\n",
              "      const buttonEl =\n",
              "        document.querySelector('#df-24899bb5-df28-469e-8e4e-e2ad088f29bc button.colab-df-convert');\n",
              "      buttonEl.style.display =\n",
              "        google.colab.kernel.accessAllowed ? 'block' : 'none';\n",
              "\n",
              "      async function convertToInteractive(key) {\n",
              "        const element = document.querySelector('#df-24899bb5-df28-469e-8e4e-e2ad088f29bc');\n",
              "        const dataTable =\n",
              "          await google.colab.kernel.invokeFunction('convertToInteractive',\n",
              "                                                    [key], {});\n",
              "        if (!dataTable) return;\n",
              "\n",
              "        const docLinkHtml = 'Like what you see? Visit the ' +\n",
              "          '<a target=\"_blank\" href=https://colab.research.google.com/notebooks/data_table.ipynb>data table notebook</a>'\n",
              "          + ' to learn more about interactive tables.';\n",
              "        element.innerHTML = '';\n",
              "        dataTable['output_type'] = 'display_data';\n",
              "        await google.colab.output.renderOutput(dataTable, element);\n",
              "        const docLink = document.createElement('div');\n",
              "        docLink.innerHTML = docLinkHtml;\n",
              "        element.appendChild(docLink);\n",
              "      }\n",
              "    </script>\n",
              "  </div>\n",
              "\n",
              "\n",
              "<div id=\"df-6f3aa956-ed12-4bbe-9427-64e20931fc30\">\n",
              "  <button class=\"colab-df-quickchart\" onclick=\"quickchart('df-6f3aa956-ed12-4bbe-9427-64e20931fc30')\"\n",
              "            title=\"Suggest charts\"\n",
              "            style=\"display:none;\">\n",
              "\n",
              "<svg xmlns=\"http://www.w3.org/2000/svg\" height=\"24px\"viewBox=\"0 0 24 24\"\n",
              "     width=\"24px\">\n",
              "    <g>\n",
              "        <path d=\"M19 3H5c-1.1 0-2 .9-2 2v14c0 1.1.9 2 2 2h14c1.1 0 2-.9 2-2V5c0-1.1-.9-2-2-2zM9 17H7v-7h2v7zm4 0h-2V7h2v10zm4 0h-2v-4h2v4z\"/>\n",
              "    </g>\n",
              "</svg>\n",
              "  </button>\n",
              "\n",
              "<style>\n",
              "  .colab-df-quickchart {\n",
              "      --bg-color: #E8F0FE;\n",
              "      --fill-color: #1967D2;\n",
              "      --hover-bg-color: #E2EBFA;\n",
              "      --hover-fill-color: #174EA6;\n",
              "      --disabled-fill-color: #AAA;\n",
              "      --disabled-bg-color: #DDD;\n",
              "  }\n",
              "\n",
              "  [theme=dark] .colab-df-quickchart {\n",
              "      --bg-color: #3B4455;\n",
              "      --fill-color: #D2E3FC;\n",
              "      --hover-bg-color: #434B5C;\n",
              "      --hover-fill-color: #FFFFFF;\n",
              "      --disabled-bg-color: #3B4455;\n",
              "      --disabled-fill-color: #666;\n",
              "  }\n",
              "\n",
              "  .colab-df-quickchart {\n",
              "    background-color: var(--bg-color);\n",
              "    border: none;\n",
              "    border-radius: 50%;\n",
              "    cursor: pointer;\n",
              "    display: none;\n",
              "    fill: var(--fill-color);\n",
              "    height: 32px;\n",
              "    padding: 0;\n",
              "    width: 32px;\n",
              "  }\n",
              "\n",
              "  .colab-df-quickchart:hover {\n",
              "    background-color: var(--hover-bg-color);\n",
              "    box-shadow: 0 1px 2px rgba(60, 64, 67, 0.3), 0 1px 3px 1px rgba(60, 64, 67, 0.15);\n",
              "    fill: var(--button-hover-fill-color);\n",
              "  }\n",
              "\n",
              "  .colab-df-quickchart-complete:disabled,\n",
              "  .colab-df-quickchart-complete:disabled:hover {\n",
              "    background-color: var(--disabled-bg-color);\n",
              "    fill: var(--disabled-fill-color);\n",
              "    box-shadow: none;\n",
              "  }\n",
              "\n",
              "  .colab-df-spinner {\n",
              "    border: 2px solid var(--fill-color);\n",
              "    border-color: transparent;\n",
              "    border-bottom-color: var(--fill-color);\n",
              "    animation:\n",
              "      spin 1s steps(1) infinite;\n",
              "  }\n",
              "\n",
              "  @keyframes spin {\n",
              "    0% {\n",
              "      border-color: transparent;\n",
              "      border-bottom-color: var(--fill-color);\n",
              "      border-left-color: var(--fill-color);\n",
              "    }\n",
              "    20% {\n",
              "      border-color: transparent;\n",
              "      border-left-color: var(--fill-color);\n",
              "      border-top-color: var(--fill-color);\n",
              "    }\n",
              "    30% {\n",
              "      border-color: transparent;\n",
              "      border-left-color: var(--fill-color);\n",
              "      border-top-color: var(--fill-color);\n",
              "      border-right-color: var(--fill-color);\n",
              "    }\n",
              "    40% {\n",
              "      border-color: transparent;\n",
              "      border-right-color: var(--fill-color);\n",
              "      border-top-color: var(--fill-color);\n",
              "    }\n",
              "    60% {\n",
              "      border-color: transparent;\n",
              "      border-right-color: var(--fill-color);\n",
              "    }\n",
              "    80% {\n",
              "      border-color: transparent;\n",
              "      border-right-color: var(--fill-color);\n",
              "      border-bottom-color: var(--fill-color);\n",
              "    }\n",
              "    90% {\n",
              "      border-color: transparent;\n",
              "      border-bottom-color: var(--fill-color);\n",
              "    }\n",
              "  }\n",
              "</style>\n",
              "\n",
              "  <script>\n",
              "    async function quickchart(key) {\n",
              "      const quickchartButtonEl =\n",
              "        document.querySelector('#' + key + ' button');\n",
              "      quickchartButtonEl.disabled = true;  // To prevent multiple clicks.\n",
              "      quickchartButtonEl.classList.add('colab-df-spinner');\n",
              "      try {\n",
              "        const charts = await google.colab.kernel.invokeFunction(\n",
              "            'suggestCharts', [key], {});\n",
              "      } catch (error) {\n",
              "        console.error('Error during call to suggestCharts:', error);\n",
              "      }\n",
              "      quickchartButtonEl.classList.remove('colab-df-spinner');\n",
              "      quickchartButtonEl.classList.add('colab-df-quickchart-complete');\n",
              "    }\n",
              "    (() => {\n",
              "      let quickchartButtonEl =\n",
              "        document.querySelector('#df-6f3aa956-ed12-4bbe-9427-64e20931fc30 button');\n",
              "      quickchartButtonEl.style.display =\n",
              "        google.colab.kernel.accessAllowed ? 'block' : 'none';\n",
              "    })();\n",
              "  </script>\n",
              "</div>\n",
              "    </div>\n",
              "  </div>\n"
            ]
          },
          "metadata": {},
          "execution_count": 40
        }
      ]
    },
    {
      "cell_type": "code",
      "metadata": {
        "id": "S6_SwqMGibny",
        "colab": {
          "base_uri": "https://localhost:8080/"
        },
        "outputId": "79cef4d7-281b-44e8-e3ff-d543ef329540"
      },
      "source": [
        "from nltk.tokenize import word_tokenize\n",
        "import nltk\n",
        "nltk.download('punkt')\n",
        "\n",
        "df['tokens'] = df.text.apply(word_tokenize)\n",
        "df['tokens']"
      ],
      "execution_count": 41,
      "outputs": [
        {
          "output_type": "stream",
          "name": "stderr",
          "text": [
            "[nltk_data] Downloading package punkt to /root/nltk_data...\n",
            "[nltk_data]   Package punkt is already up-to-date!\n"
          ]
        },
        {
          "output_type": "execute_result",
          "data": {
            "text/plain": [
              "0    [Sobre, MBA, ?, Eu, gostei, muito, do, MBA, da...\n",
              "1    [O, MBA, da, FIAP, pode, melhorar, ,, não, gos...\n",
              "Name: tokens, dtype: object"
            ]
          },
          "metadata": {},
          "execution_count": 41
        }
      ]
    },
    {
      "cell_type": "code",
      "metadata": {
        "id": "HBJ-oLU9T3jT",
        "colab": {
          "base_uri": "https://localhost:8080/"
        },
        "outputId": "37dd6d03-dd18-4a62-fabe-a62ca432af06"
      },
      "source": [
        "from nltk.stem.rslp import RSLPStemmer\n",
        "import nltk\n",
        "nltk.download('rslp')\n",
        "\n",
        "tokens = df.tokens[0]\n",
        "tokens = tokens + df.tokens[1]\n",
        "\n",
        "rslp = RSLPStemmer()\n",
        "\n",
        "for tok in tokens:\n",
        "  #print('Original: %s \\t\\t RSLPStemmer: %s' % (tok, ps.stem(tok), rslp.stem(tok)))\n",
        "  print(f'Original: {tok:{11}} RSLPStemmer: {rslp.stem(tok):{10}}')\n"
      ],
      "execution_count": 42,
      "outputs": [
        {
          "output_type": "stream",
          "name": "stdout",
          "text": [
            "Original: Sobre       RSLPStemmer: sobr      \n",
            "Original: MBA         RSLPStemmer: mba       \n",
            "Original: ?           RSLPStemmer: ?         \n",
            "Original: Eu          RSLPStemmer: eu        \n",
            "Original: gostei      RSLPStemmer: gost      \n",
            "Original: muito       RSLPStemmer: muit      \n",
            "Original: do          RSLPStemmer: do        \n",
            "Original: MBA         RSLPStemmer: mba       \n",
            "Original: da          RSLPStemmer: da        \n",
            "Original: FIAP        RSLPStemmer: fiap      \n",
            "Original: O           RSLPStemmer: o         \n",
            "Original: MBA         RSLPStemmer: mba       \n",
            "Original: da          RSLPStemmer: da        \n",
            "Original: FIAP        RSLPStemmer: fiap      \n",
            "Original: pode        RSLPStemmer: pod       \n",
            "Original: melhorar    RSLPStemmer: melhor    \n",
            "Original: ,           RSLPStemmer: ,         \n",
            "Original: não         RSLPStemmer: não       \n",
            "Original: gostei      RSLPStemmer: gost      \n",
            "Original: muito       RSLPStemmer: muit      \n"
          ]
        },
        {
          "output_type": "stream",
          "name": "stderr",
          "text": [
            "[nltk_data] Downloading package rslp to /root/nltk_data...\n",
            "[nltk_data]   Package rslp is already up-to-date!\n"
          ]
        }
      ]
    },
    {
      "cell_type": "code",
      "metadata": {
        "id": "37nqnDh-qVnA"
      },
      "source": [
        "# O Porter foi criado para o inglês e o RSLP para o português"
      ],
      "execution_count": null,
      "outputs": []
    },
    {
      "cell_type": "markdown",
      "metadata": {
        "id": "zhTMo3h0oFA7"
      },
      "source": [
        "### Quantos unigramas existem após aplicar Stemmer?"
      ]
    },
    {
      "cell_type": "code",
      "metadata": {
        "id": "YlUI2NgDhufq",
        "colab": {
          "base_uri": "https://localhost:8080/",
          "height": 36
        },
        "outputId": "0f04b56f-39ba-4dd4-a511-28fef100bb05"
      },
      "source": [
        "' '.join(['Professor', 'MBA'])"
      ],
      "execution_count": 43,
      "outputs": [
        {
          "output_type": "execute_result",
          "data": {
            "text/plain": [
              "'Professor MBA'"
            ],
            "application/vnd.google.colaboratory.intrinsic+json": {
              "type": "string"
            }
          },
          "metadata": {},
          "execution_count": 43
        }
      ]
    },
    {
      "cell_type": "code",
      "metadata": {
        "id": "k_3LR9sO0hRm",
        "colab": {
          "base_uri": "https://localhost:8080/"
        },
        "outputId": "91aca6d9-6d06-4f12-bf00-e1ff339c7dd1"
      },
      "source": [
        "from nltk.stem.rslp import RSLPStemmer\n",
        "from sklearn.feature_extraction.text import CountVectorizer\n",
        "\n",
        "rslp = RSLPStemmer()\n",
        "\n",
        "# aplica o stemmer no database\n",
        "def stem_pandas(line):\n",
        "  return ' '.join([rslp.stem(token) for token in line])\n",
        "\n",
        "df['stemmer'] = df.tokens.apply(stem_pandas)\n",
        "\n",
        "df.stemmer.head()"
      ],
      "execution_count": 44,
      "outputs": [
        {
          "output_type": "execute_result",
          "data": {
            "text/plain": [
              "0      sobr mba ? eu gost muit do mba da fiap\n",
              "1    o mba da fiap pod melhor , não gost muit\n",
              "Name: stemmer, dtype: object"
            ]
          },
          "metadata": {},
          "execution_count": 44
        }
      ]
    },
    {
      "cell_type": "code",
      "metadata": {
        "id": "NFiA2cAORmpc",
        "colab": {
          "base_uri": "https://localhost:8080/"
        },
        "outputId": "296171db-998e-477d-a6ab-08a85992554e"
      },
      "source": [
        "import nltk\n",
        "\n",
        "vect = CountVectorizer(ngram_range=(1,1))\n",
        "vect.fit(df.stemmer)\n",
        "\n",
        "text_vect = vect.transform(df.stemmer)\n",
        "\n",
        "print('UNIGRAMAS', text_vect.shape[1])\n",
        "\n",
        "#print(text_vect.shape[0])\n",
        "#print(text_vect.shape[1])"
      ],
      "execution_count": 45,
      "outputs": [
        {
          "output_type": "stream",
          "name": "stdout",
          "text": [
            "UNIGRAMAS 11\n"
          ]
        }
      ]
    },
    {
      "cell_type": "markdown",
      "metadata": {
        "id": "ofA1n_IMkb_t"
      },
      "source": [
        "Unigramas sem aplicar o stemmer"
      ]
    },
    {
      "cell_type": "code",
      "metadata": {
        "id": "QAfnfeu8kbSI",
        "colab": {
          "base_uri": "https://localhost:8080/"
        },
        "outputId": "c16dc51b-90ea-4556-c0ae-9748bb02da34"
      },
      "source": [
        "vect = CountVectorizer(ngram_range=(1,1))\n",
        "vect.fit(df.text)\n",
        "\n",
        "text_vect = vect.transform(df.text)\n",
        "\n",
        "print('UNIGRAMAS sem STOPWORDS', text_vect.shape[1])"
      ],
      "execution_count": 46,
      "outputs": [
        {
          "output_type": "stream",
          "name": "stdout",
          "text": [
            "UNIGRAMAS sem STOPWORDS 11\n"
          ]
        }
      ]
    },
    {
      "cell_type": "code",
      "metadata": {
        "id": "wCHgWx60kbPq"
      },
      "source": [
        "# Não diferença pois o texto não tem muitas variações de palavras que possam ser reduzidas"
      ],
      "execution_count": null,
      "outputs": []
    },
    {
      "cell_type": "markdown",
      "metadata": {
        "id": "2tezvv72eGoK"
      },
      "source": [
        "Unigramas sem aplicar o stemmer e removendo stopwords"
      ]
    },
    {
      "cell_type": "code",
      "metadata": {
        "colab": {
          "base_uri": "https://localhost:8080/"
        },
        "outputId": "f1298689-02ea-49dd-e191-65fb8acc7ca1",
        "id": "YZ3Df1MHd8r4"
      },
      "source": [
        "nltk.download('stopwords')\n",
        "\n",
        "stopwords = nltk.corpus.stopwords.words('portuguese')\n",
        "vect = CountVectorizer(ngram_range=(1,1), stop_words=stopwords)\n",
        "vect.fit(df.text)\n",
        "\n",
        "text_vect = vect.transform(df.text)\n",
        "\n",
        "print('UNIGRAMAS sem STOPWORDS', text_vect.shape[1])"
      ],
      "execution_count": 47,
      "outputs": [
        {
          "output_type": "stream",
          "name": "stdout",
          "text": [
            "UNIGRAMAS sem STOPWORDS 6\n"
          ]
        },
        {
          "output_type": "stream",
          "name": "stderr",
          "text": [
            "[nltk_data] Downloading package stopwords to /root/nltk_data...\n",
            "[nltk_data]   Package stopwords is already up-to-date!\n"
          ]
        }
      ]
    },
    {
      "cell_type": "markdown",
      "metadata": {
        "id": "kr8ZxTp-pVPC"
      },
      "source": [
        "Outra função de stematização do NLTK"
      ]
    },
    {
      "cell_type": "code",
      "metadata": {
        "id": "ngaGMoCjpL4Q",
        "colab": {
          "base_uri": "https://localhost:8080/"
        },
        "outputId": "59529664-4578-4869-bf2f-0170218b1445"
      },
      "source": [
        "from nltk.stem import SnowballStemmer\n",
        "\n",
        "print(\" \".join(SnowballStemmer.languages)) # See which languages are supported"
      ],
      "execution_count": 48,
      "outputs": [
        {
          "output_type": "stream",
          "name": "stdout",
          "text": [
            "arabic danish dutch english finnish french german hungarian italian norwegian porter portuguese romanian russian spanish swedish\n"
          ]
        }
      ]
    },
    {
      "cell_type": "code",
      "metadata": {
        "id": "v1inKMGdpLu4",
        "colab": {
          "base_uri": "https://localhost:8080/"
        },
        "outputId": "ac9fe615-34a5-4378-ef37-2b1e7680c69f"
      },
      "source": [
        "stemmer = SnowballStemmer(\"portuguese\") # Escolha a linguagem\n",
        "\n",
        "palavras = ['pedra','pedreira','criar']\n",
        "\n",
        "for p in palavras:\n",
        "  print(stemmer.stem(p)) # Stem a palavra"
      ],
      "execution_count": 49,
      "outputs": [
        {
          "output_type": "stream",
          "name": "stdout",
          "text": [
            "pedr\n",
            "pedreir\n",
            "cri\n"
          ]
        }
      ]
    },
    {
      "cell_type": "markdown",
      "source": [
        "##**Exercício 2**"
      ],
      "metadata": {
        "id": "7lO_ESnY-BZj"
      }
    },
    {
      "cell_type": "markdown",
      "metadata": {
        "id": "cDR2TTl-EnXs"
      },
      "source": [
        "## Lemmatizer (Lematização)\n",
        "\n",
        "---"
      ]
    },
    {
      "cell_type": "markdown",
      "source": [
        "com NLTK"
      ],
      "metadata": {
        "id": "GletomL_mWia"
      }
    },
    {
      "cell_type": "code",
      "execution_count": 50,
      "metadata": {
        "id": "8EeW7M6TTWwI",
        "colab": {
          "base_uri": "https://localhost:8080/"
        },
        "outputId": "718d8e1c-415a-4c74-ee3c-2912a76fa20f"
      },
      "outputs": [
        {
          "output_type": "stream",
          "name": "stderr",
          "text": [
            "[nltk_data] Downloading package wordnet to /root/nltk_data...\n",
            "[nltk_data] Downloading package omw-1.4 to /root/nltk_data...\n"
          ]
        },
        {
          "output_type": "stream",
          "name": "stdout",
          "text": [
            "go\n",
            "go\n",
            "go\n",
            "go\n",
            "go\n"
          ]
        }
      ],
      "source": [
        "import nltk\n",
        "nltk.download('wordnet')\n",
        "nltk.download('omw-1.4')\n",
        "from nltk.stem import WordNetLemmatizer\n",
        "\n",
        "examples = [\n",
        "   \"go\",\"going\",\n",
        "   \"goes\",\"gone\",\"went\"\n",
        "]\n",
        "\n",
        "wnl = WordNetLemmatizer()\n",
        "\n",
        "for word in examples:\n",
        "  print(wnl.lemmatize(word, 'v'))"
      ]
    },
    {
      "cell_type": "markdown",
      "source": [
        "**Importante:** O NLTK só tem suporte para inglês na lematização!"
      ],
      "metadata": {
        "id": "DgkMHbUxfkN0"
      }
    },
    {
      "cell_type": "markdown",
      "source": [
        "com Spacy"
      ],
      "metadata": {
        "id": "Ph4oLQL3ma2k"
      }
    },
    {
      "cell_type": "code",
      "execution_count": null,
      "metadata": {
        "id": "CgL8_8PoTWwJ"
      },
      "outputs": [],
      "source": [
        "#!pip install spacy\n",
        "!python -m spacy download pt_core_news_sm"
      ]
    },
    {
      "cell_type": "code",
      "execution_count": 52,
      "metadata": {
        "id": "iASAuqb9TWwJ",
        "colab": {
          "base_uri": "https://localhost:8080/"
        },
        "outputId": "a9d5f7aa-a975-426c-8fa5-c3c480a605fc"
      },
      "outputs": [
        {
          "output_type": "execute_result",
          "data": {
            "text/plain": [
              "['quebrar', ',', 'quebrar', ',', 'quebrar', ',', 'quebrar']"
            ]
          },
          "metadata": {},
          "execution_count": 52
        }
      ],
      "source": [
        "import spacy\n",
        "nlp = spacy.load('pt_core_news_sm')\n",
        "\n",
        "doc = nlp(u'quebrou,quebraram,quebrado,quebrariam')\n",
        "\n",
        "[token.lemma_ for token in doc]"
      ]
    },
    {
      "cell_type": "code",
      "source": [
        "doc[2].lemma_"
      ],
      "metadata": {
        "id": "q25EVg3-JTQE",
        "colab": {
          "base_uri": "https://localhost:8080/",
          "height": 36
        },
        "outputId": "85a36eb0-ad2f-49d9-d4b0-8abca95cbf3c"
      },
      "execution_count": 53,
      "outputs": [
        {
          "output_type": "execute_result",
          "data": {
            "text/plain": [
              "'quebrar'"
            ],
            "application/vnd.google.colaboratory.intrinsic+json": {
              "type": "string"
            }
          },
          "metadata": {},
          "execution_count": 53
        }
      ]
    },
    {
      "cell_type": "code",
      "source": [
        "# aplicando lematização só em verbos\n",
        "[token.lemma_ for token in doc if token.pos_ == 'VERB']"
      ],
      "metadata": {
        "colab": {
          "base_uri": "https://localhost:8080/"
        },
        "id": "fR4h-A1kgAfW",
        "outputId": "13d8dda4-378f-48d7-e9a6-6bcde5e47bdc"
      },
      "execution_count": 54,
      "outputs": [
        {
          "output_type": "execute_result",
          "data": {
            "text/plain": [
              "['quebrar', 'quebrar', 'quebrar', 'quebrar']"
            ]
          },
          "metadata": {},
          "execution_count": 54
        }
      ]
    },
    {
      "cell_type": "markdown",
      "source": [
        "#**Material complementar**"
      ],
      "metadata": {
        "id": "F2EEnthNECmE"
      }
    },
    {
      "cell_type": "code",
      "metadata": {
        "colab": {
          "base_uri": "https://localhost:8080/",
          "height": 112
        },
        "outputId": "756619d2-aa3b-4659-fa3f-32de60a0e78a",
        "id": "gUrKbOyxFGbp"
      },
      "source": [
        "import pandas as pd\n",
        "\n",
        "# Documento e Corpus\n",
        "df = pd.DataFrame({\n",
        "    'text': [\n",
        "      'Sobre MBA? Eu gostei muito do MBA da FIAP',\n",
        "      'O MBA da FIAP pode melhorar, não gostei muito'\n",
        "    ],\n",
        "    'class': [\n",
        "        'positivo',\n",
        "        'negativo'\n",
        "    ]})\n",
        "\n",
        "df.head()"
      ],
      "execution_count": 55,
      "outputs": [
        {
          "output_type": "execute_result",
          "data": {
            "text/plain": [
              "                                            text     class\n",
              "0      Sobre MBA? Eu gostei muito do MBA da FIAP  positivo\n",
              "1  O MBA da FIAP pode melhorar, não gostei muito  negativo"
            ],
            "text/html": [
              "\n",
              "  <div id=\"df-92622fd1-4c2b-49f8-ab10-e61724fe30eb\" class=\"colab-df-container\">\n",
              "    <div>\n",
              "<style scoped>\n",
              "    .dataframe tbody tr th:only-of-type {\n",
              "        vertical-align: middle;\n",
              "    }\n",
              "\n",
              "    .dataframe tbody tr th {\n",
              "        vertical-align: top;\n",
              "    }\n",
              "\n",
              "    .dataframe thead th {\n",
              "        text-align: right;\n",
              "    }\n",
              "</style>\n",
              "<table border=\"1\" class=\"dataframe\">\n",
              "  <thead>\n",
              "    <tr style=\"text-align: right;\">\n",
              "      <th></th>\n",
              "      <th>text</th>\n",
              "      <th>class</th>\n",
              "    </tr>\n",
              "  </thead>\n",
              "  <tbody>\n",
              "    <tr>\n",
              "      <th>0</th>\n",
              "      <td>Sobre MBA? Eu gostei muito do MBA da FIAP</td>\n",
              "      <td>positivo</td>\n",
              "    </tr>\n",
              "    <tr>\n",
              "      <th>1</th>\n",
              "      <td>O MBA da FIAP pode melhorar, não gostei muito</td>\n",
              "      <td>negativo</td>\n",
              "    </tr>\n",
              "  </tbody>\n",
              "</table>\n",
              "</div>\n",
              "    <div class=\"colab-df-buttons\">\n",
              "\n",
              "  <div class=\"colab-df-container\">\n",
              "    <button class=\"colab-df-convert\" onclick=\"convertToInteractive('df-92622fd1-4c2b-49f8-ab10-e61724fe30eb')\"\n",
              "            title=\"Convert this dataframe to an interactive table.\"\n",
              "            style=\"display:none;\">\n",
              "\n",
              "  <svg xmlns=\"http://www.w3.org/2000/svg\" height=\"24px\" viewBox=\"0 -960 960 960\">\n",
              "    <path d=\"M120-120v-720h720v720H120Zm60-500h600v-160H180v160Zm220 220h160v-160H400v160Zm0 220h160v-160H400v160ZM180-400h160v-160H180v160Zm440 0h160v-160H620v160ZM180-180h160v-160H180v160Zm440 0h160v-160H620v160Z\"/>\n",
              "  </svg>\n",
              "    </button>\n",
              "\n",
              "  <style>\n",
              "    .colab-df-container {\n",
              "      display:flex;\n",
              "      gap: 12px;\n",
              "    }\n",
              "\n",
              "    .colab-df-convert {\n",
              "      background-color: #E8F0FE;\n",
              "      border: none;\n",
              "      border-radius: 50%;\n",
              "      cursor: pointer;\n",
              "      display: none;\n",
              "      fill: #1967D2;\n",
              "      height: 32px;\n",
              "      padding: 0 0 0 0;\n",
              "      width: 32px;\n",
              "    }\n",
              "\n",
              "    .colab-df-convert:hover {\n",
              "      background-color: #E2EBFA;\n",
              "      box-shadow: 0px 1px 2px rgba(60, 64, 67, 0.3), 0px 1px 3px 1px rgba(60, 64, 67, 0.15);\n",
              "      fill: #174EA6;\n",
              "    }\n",
              "\n",
              "    .colab-df-buttons div {\n",
              "      margin-bottom: 4px;\n",
              "    }\n",
              "\n",
              "    [theme=dark] .colab-df-convert {\n",
              "      background-color: #3B4455;\n",
              "      fill: #D2E3FC;\n",
              "    }\n",
              "\n",
              "    [theme=dark] .colab-df-convert:hover {\n",
              "      background-color: #434B5C;\n",
              "      box-shadow: 0px 1px 3px 1px rgba(0, 0, 0, 0.15);\n",
              "      filter: drop-shadow(0px 1px 2px rgba(0, 0, 0, 0.3));\n",
              "      fill: #FFFFFF;\n",
              "    }\n",
              "  </style>\n",
              "\n",
              "    <script>\n",
              "      const buttonEl =\n",
              "        document.querySelector('#df-92622fd1-4c2b-49f8-ab10-e61724fe30eb button.colab-df-convert');\n",
              "      buttonEl.style.display =\n",
              "        google.colab.kernel.accessAllowed ? 'block' : 'none';\n",
              "\n",
              "      async function convertToInteractive(key) {\n",
              "        const element = document.querySelector('#df-92622fd1-4c2b-49f8-ab10-e61724fe30eb');\n",
              "        const dataTable =\n",
              "          await google.colab.kernel.invokeFunction('convertToInteractive',\n",
              "                                                    [key], {});\n",
              "        if (!dataTable) return;\n",
              "\n",
              "        const docLinkHtml = 'Like what you see? Visit the ' +\n",
              "          '<a target=\"_blank\" href=https://colab.research.google.com/notebooks/data_table.ipynb>data table notebook</a>'\n",
              "          + ' to learn more about interactive tables.';\n",
              "        element.innerHTML = '';\n",
              "        dataTable['output_type'] = 'display_data';\n",
              "        await google.colab.output.renderOutput(dataTable, element);\n",
              "        const docLink = document.createElement('div');\n",
              "        docLink.innerHTML = docLinkHtml;\n",
              "        element.appendChild(docLink);\n",
              "      }\n",
              "    </script>\n",
              "  </div>\n",
              "\n",
              "\n",
              "<div id=\"df-72f42f44-b992-46cc-80a8-0140ba3f934e\">\n",
              "  <button class=\"colab-df-quickchart\" onclick=\"quickchart('df-72f42f44-b992-46cc-80a8-0140ba3f934e')\"\n",
              "            title=\"Suggest charts\"\n",
              "            style=\"display:none;\">\n",
              "\n",
              "<svg xmlns=\"http://www.w3.org/2000/svg\" height=\"24px\"viewBox=\"0 0 24 24\"\n",
              "     width=\"24px\">\n",
              "    <g>\n",
              "        <path d=\"M19 3H5c-1.1 0-2 .9-2 2v14c0 1.1.9 2 2 2h14c1.1 0 2-.9 2-2V5c0-1.1-.9-2-2-2zM9 17H7v-7h2v7zm4 0h-2V7h2v10zm4 0h-2v-4h2v4z\"/>\n",
              "    </g>\n",
              "</svg>\n",
              "  </button>\n",
              "\n",
              "<style>\n",
              "  .colab-df-quickchart {\n",
              "      --bg-color: #E8F0FE;\n",
              "      --fill-color: #1967D2;\n",
              "      --hover-bg-color: #E2EBFA;\n",
              "      --hover-fill-color: #174EA6;\n",
              "      --disabled-fill-color: #AAA;\n",
              "      --disabled-bg-color: #DDD;\n",
              "  }\n",
              "\n",
              "  [theme=dark] .colab-df-quickchart {\n",
              "      --bg-color: #3B4455;\n",
              "      --fill-color: #D2E3FC;\n",
              "      --hover-bg-color: #434B5C;\n",
              "      --hover-fill-color: #FFFFFF;\n",
              "      --disabled-bg-color: #3B4455;\n",
              "      --disabled-fill-color: #666;\n",
              "  }\n",
              "\n",
              "  .colab-df-quickchart {\n",
              "    background-color: var(--bg-color);\n",
              "    border: none;\n",
              "    border-radius: 50%;\n",
              "    cursor: pointer;\n",
              "    display: none;\n",
              "    fill: var(--fill-color);\n",
              "    height: 32px;\n",
              "    padding: 0;\n",
              "    width: 32px;\n",
              "  }\n",
              "\n",
              "  .colab-df-quickchart:hover {\n",
              "    background-color: var(--hover-bg-color);\n",
              "    box-shadow: 0 1px 2px rgba(60, 64, 67, 0.3), 0 1px 3px 1px rgba(60, 64, 67, 0.15);\n",
              "    fill: var(--button-hover-fill-color);\n",
              "  }\n",
              "\n",
              "  .colab-df-quickchart-complete:disabled,\n",
              "  .colab-df-quickchart-complete:disabled:hover {\n",
              "    background-color: var(--disabled-bg-color);\n",
              "    fill: var(--disabled-fill-color);\n",
              "    box-shadow: none;\n",
              "  }\n",
              "\n",
              "  .colab-df-spinner {\n",
              "    border: 2px solid var(--fill-color);\n",
              "    border-color: transparent;\n",
              "    border-bottom-color: var(--fill-color);\n",
              "    animation:\n",
              "      spin 1s steps(1) infinite;\n",
              "  }\n",
              "\n",
              "  @keyframes spin {\n",
              "    0% {\n",
              "      border-color: transparent;\n",
              "      border-bottom-color: var(--fill-color);\n",
              "      border-left-color: var(--fill-color);\n",
              "    }\n",
              "    20% {\n",
              "      border-color: transparent;\n",
              "      border-left-color: var(--fill-color);\n",
              "      border-top-color: var(--fill-color);\n",
              "    }\n",
              "    30% {\n",
              "      border-color: transparent;\n",
              "      border-left-color: var(--fill-color);\n",
              "      border-top-color: var(--fill-color);\n",
              "      border-right-color: var(--fill-color);\n",
              "    }\n",
              "    40% {\n",
              "      border-color: transparent;\n",
              "      border-right-color: var(--fill-color);\n",
              "      border-top-color: var(--fill-color);\n",
              "    }\n",
              "    60% {\n",
              "      border-color: transparent;\n",
              "      border-right-color: var(--fill-color);\n",
              "    }\n",
              "    80% {\n",
              "      border-color: transparent;\n",
              "      border-right-color: var(--fill-color);\n",
              "      border-bottom-color: var(--fill-color);\n",
              "    }\n",
              "    90% {\n",
              "      border-color: transparent;\n",
              "      border-bottom-color: var(--fill-color);\n",
              "    }\n",
              "  }\n",
              "</style>\n",
              "\n",
              "  <script>\n",
              "    async function quickchart(key) {\n",
              "      const quickchartButtonEl =\n",
              "        document.querySelector('#' + key + ' button');\n",
              "      quickchartButtonEl.disabled = true;  // To prevent multiple clicks.\n",
              "      quickchartButtonEl.classList.add('colab-df-spinner');\n",
              "      try {\n",
              "        const charts = await google.colab.kernel.invokeFunction(\n",
              "            'suggestCharts', [key], {});\n",
              "      } catch (error) {\n",
              "        console.error('Error during call to suggestCharts:', error);\n",
              "      }\n",
              "      quickchartButtonEl.classList.remove('colab-df-spinner');\n",
              "      quickchartButtonEl.classList.add('colab-df-quickchart-complete');\n",
              "    }\n",
              "    (() => {\n",
              "      let quickchartButtonEl =\n",
              "        document.querySelector('#df-72f42f44-b992-46cc-80a8-0140ba3f934e button');\n",
              "      quickchartButtonEl.style.display =\n",
              "        google.colab.kernel.accessAllowed ? 'block' : 'none';\n",
              "    })();\n",
              "  </script>\n",
              "</div>\n",
              "    </div>\n",
              "  </div>\n"
            ]
          },
          "metadata": {},
          "execution_count": 55
        }
      ]
    },
    {
      "cell_type": "markdown",
      "metadata": {
        "id": "8Y9kNz9WXUDP"
      },
      "source": [
        "## PART-OF-SPEECH TAGGER (POS-Tag)\n",
        "\n",
        "---"
      ]
    },
    {
      "cell_type": "markdown",
      "source": [
        "com NLTK"
      ],
      "metadata": {
        "id": "5dF29p_JEpuG"
      }
    },
    {
      "cell_type": "code",
      "metadata": {
        "id": "sXlbSKvRBr4u",
        "colab": {
          "base_uri": "https://localhost:8080/"
        },
        "outputId": "0993746e-eb43-4974-8eff-1d96c4af1730"
      },
      "source": [
        "# Tokenizxação\n",
        "from nltk.tokenize import word_tokenize\n",
        "from nltk.tag import pos_tag\n",
        "import nltk\n",
        "nltk.download('punkt')\n",
        "nltk.download('averaged_perceptron_tagger')\n",
        "nltk.download('universal_tagset')\n",
        "\n",
        "doc = word_tokenize(\"John's big idea isn't all that bad.\")\n",
        "doc_tag = pos_tag(doc)\n",
        "doc_tag"
      ],
      "execution_count": 56,
      "outputs": [
        {
          "output_type": "stream",
          "name": "stderr",
          "text": [
            "[nltk_data] Downloading package punkt to /root/nltk_data...\n",
            "[nltk_data]   Package punkt is already up-to-date!\n",
            "[nltk_data] Downloading package averaged_perceptron_tagger to\n",
            "[nltk_data]     /root/nltk_data...\n",
            "[nltk_data]   Unzipping taggers/averaged_perceptron_tagger.zip.\n",
            "[nltk_data] Downloading package universal_tagset to /root/nltk_data...\n",
            "[nltk_data]   Unzipping taggers/universal_tagset.zip.\n"
          ]
        },
        {
          "output_type": "execute_result",
          "data": {
            "text/plain": [
              "[('John', 'NNP'),\n",
              " (\"'s\", 'POS'),\n",
              " ('big', 'JJ'),\n",
              " ('idea', 'NN'),\n",
              " ('is', 'VBZ'),\n",
              " (\"n't\", 'RB'),\n",
              " ('all', 'PDT'),\n",
              " ('that', 'DT'),\n",
              " ('bad', 'JJ'),\n",
              " ('.', '.')]"
            ]
          },
          "metadata": {},
          "execution_count": 56
        }
      ]
    },
    {
      "cell_type": "code",
      "execution_count": 57,
      "metadata": {
        "id": "Wf8UE4ssTWwL",
        "colab": {
          "base_uri": "https://localhost:8080/"
        },
        "outputId": "03613b1b-1236-443a-a467-ea52a11e2bb4"
      },
      "outputs": [
        {
          "output_type": "execute_result",
          "data": {
            "text/plain": [
              "[('They', 'PRP'),\n",
              " ('refuse', 'VBP'),\n",
              " ('to', 'TO'),\n",
              " ('permit', 'VB'),\n",
              " ('us', 'PRP'),\n",
              " ('to', 'TO'),\n",
              " ('obtain', 'VB'),\n",
              " ('the', 'DT'),\n",
              " ('refuse', 'NN'),\n",
              " ('permit', 'NN')]"
            ]
          },
          "metadata": {},
          "execution_count": 57
        }
      ],
      "source": [
        "text1 = nltk.word_tokenize(\"They refuse to permit us to obtain the refuse permit\")\n",
        "nltk.pos_tag(text1)"
      ]
    },
    {
      "cell_type": "code",
      "metadata": {
        "id": "oqqNTNCABrwk",
        "colab": {
          "base_uri": "https://localhost:8080/"
        },
        "outputId": "d62255dc-405f-489b-c25e-96ad80957c61"
      },
      "source": [
        "pos_tag(word_tokenize(\"John's big idea isn't all that bad.\"),tagset='universal')"
      ],
      "execution_count": 58,
      "outputs": [
        {
          "output_type": "execute_result",
          "data": {
            "text/plain": [
              "[('John', 'NOUN'),\n",
              " (\"'s\", 'PRT'),\n",
              " ('big', 'ADJ'),\n",
              " ('idea', 'NOUN'),\n",
              " ('is', 'VERB'),\n",
              " (\"n't\", 'ADV'),\n",
              " ('all', 'DET'),\n",
              " ('that', 'DET'),\n",
              " ('bad', 'ADJ'),\n",
              " ('.', '.')]"
            ]
          },
          "metadata": {},
          "execution_count": 58
        }
      ]
    },
    {
      "cell_type": "markdown",
      "metadata": {
        "id": "Oh60rZ8NIijA"
      },
      "source": [
        "De/Para do POS Tag com o tagset='universal':\n",
        "\n",
        "- NOUN (nouns / substantivos)\n",
        "- VERB (verbs / verbos)\n",
        "- ADJ (adjectives / adjetivos)\n",
        "- ADV (adverbs / advérbios)\n",
        "- PRON (pronouns / pronomes)\n",
        "- DET (determiners and articles / determinantes e artigos)\n",
        "- ADP (adpositions - prepositions and postpositions / adições - preposições e postposições)\n",
        "- NUM (numerals / numerais)\n",
        "- CONJ (conjunctions / conjunções)\n",
        "- PRT (particles / partículas)\n",
        "- . (punctuation marks / sinais de pontuação)\n",
        "- X (a catch-all for other categories such as abbreviations or foreign words / um exemplo geral para outras categorias, como abreviações ou palavras estrangeiras)"
      ]
    },
    {
      "cell_type": "code",
      "metadata": {
        "id": "lEkLwe40E71L",
        "colab": {
          "base_uri": "https://localhost:8080/"
        },
        "outputId": "6038d183-b1b2-4694-b202-c44efb21e4cc"
      },
      "source": [
        "import nltk\n",
        "nltk.download('punkt')\n",
        "nltk.download('averaged_perceptron_tagger')\n",
        "nltk.download('universal_tagset')"
      ],
      "execution_count": 59,
      "outputs": [
        {
          "output_type": "stream",
          "name": "stderr",
          "text": [
            "[nltk_data] Downloading package punkt to /root/nltk_data...\n",
            "[nltk_data]   Package punkt is already up-to-date!\n",
            "[nltk_data] Downloading package averaged_perceptron_tagger to\n",
            "[nltk_data]     /root/nltk_data...\n",
            "[nltk_data]   Package averaged_perceptron_tagger is already up-to-\n",
            "[nltk_data]       date!\n",
            "[nltk_data] Downloading package universal_tagset to /root/nltk_data...\n",
            "[nltk_data]   Package universal_tagset is already up-to-date!\n"
          ]
        },
        {
          "output_type": "execute_result",
          "data": {
            "text/plain": [
              "True"
            ]
          },
          "metadata": {},
          "execution_count": 59
        }
      ]
    },
    {
      "cell_type": "code",
      "metadata": {
        "id": "7AVtgwMEBk-M",
        "colab": {
          "base_uri": "https://localhost:8080/",
          "height": 112
        },
        "outputId": "4d6440e5-f9ee-41ed-a293-ee4c9ef7465d"
      },
      "source": [
        "# Tokenizxação\n",
        "from nltk.tokenize import word_tokenize\n",
        "\n",
        "df['tokens'] = df.text.apply(word_tokenize)\n",
        "df[[\"tokens\",\"text\"]]"
      ],
      "execution_count": 60,
      "outputs": [
        {
          "output_type": "execute_result",
          "data": {
            "text/plain": [
              "                                              tokens  \\\n",
              "0  [Sobre, MBA, ?, Eu, gostei, muito, do, MBA, da...   \n",
              "1  [O, MBA, da, FIAP, pode, melhorar, ,, não, gos...   \n",
              "\n",
              "                                            text  \n",
              "0      Sobre MBA? Eu gostei muito do MBA da FIAP  \n",
              "1  O MBA da FIAP pode melhorar, não gostei muito  "
            ],
            "text/html": [
              "\n",
              "  <div id=\"df-a1aea63d-4bbc-4aea-b553-7b06411f2514\" class=\"colab-df-container\">\n",
              "    <div>\n",
              "<style scoped>\n",
              "    .dataframe tbody tr th:only-of-type {\n",
              "        vertical-align: middle;\n",
              "    }\n",
              "\n",
              "    .dataframe tbody tr th {\n",
              "        vertical-align: top;\n",
              "    }\n",
              "\n",
              "    .dataframe thead th {\n",
              "        text-align: right;\n",
              "    }\n",
              "</style>\n",
              "<table border=\"1\" class=\"dataframe\">\n",
              "  <thead>\n",
              "    <tr style=\"text-align: right;\">\n",
              "      <th></th>\n",
              "      <th>tokens</th>\n",
              "      <th>text</th>\n",
              "    </tr>\n",
              "  </thead>\n",
              "  <tbody>\n",
              "    <tr>\n",
              "      <th>0</th>\n",
              "      <td>[Sobre, MBA, ?, Eu, gostei, muito, do, MBA, da...</td>\n",
              "      <td>Sobre MBA? Eu gostei muito do MBA da FIAP</td>\n",
              "    </tr>\n",
              "    <tr>\n",
              "      <th>1</th>\n",
              "      <td>[O, MBA, da, FIAP, pode, melhorar, ,, não, gos...</td>\n",
              "      <td>O MBA da FIAP pode melhorar, não gostei muito</td>\n",
              "    </tr>\n",
              "  </tbody>\n",
              "</table>\n",
              "</div>\n",
              "    <div class=\"colab-df-buttons\">\n",
              "\n",
              "  <div class=\"colab-df-container\">\n",
              "    <button class=\"colab-df-convert\" onclick=\"convertToInteractive('df-a1aea63d-4bbc-4aea-b553-7b06411f2514')\"\n",
              "            title=\"Convert this dataframe to an interactive table.\"\n",
              "            style=\"display:none;\">\n",
              "\n",
              "  <svg xmlns=\"http://www.w3.org/2000/svg\" height=\"24px\" viewBox=\"0 -960 960 960\">\n",
              "    <path d=\"M120-120v-720h720v720H120Zm60-500h600v-160H180v160Zm220 220h160v-160H400v160Zm0 220h160v-160H400v160ZM180-400h160v-160H180v160Zm440 0h160v-160H620v160ZM180-180h160v-160H180v160Zm440 0h160v-160H620v160Z\"/>\n",
              "  </svg>\n",
              "    </button>\n",
              "\n",
              "  <style>\n",
              "    .colab-df-container {\n",
              "      display:flex;\n",
              "      gap: 12px;\n",
              "    }\n",
              "\n",
              "    .colab-df-convert {\n",
              "      background-color: #E8F0FE;\n",
              "      border: none;\n",
              "      border-radius: 50%;\n",
              "      cursor: pointer;\n",
              "      display: none;\n",
              "      fill: #1967D2;\n",
              "      height: 32px;\n",
              "      padding: 0 0 0 0;\n",
              "      width: 32px;\n",
              "    }\n",
              "\n",
              "    .colab-df-convert:hover {\n",
              "      background-color: #E2EBFA;\n",
              "      box-shadow: 0px 1px 2px rgba(60, 64, 67, 0.3), 0px 1px 3px 1px rgba(60, 64, 67, 0.15);\n",
              "      fill: #174EA6;\n",
              "    }\n",
              "\n",
              "    .colab-df-buttons div {\n",
              "      margin-bottom: 4px;\n",
              "    }\n",
              "\n",
              "    [theme=dark] .colab-df-convert {\n",
              "      background-color: #3B4455;\n",
              "      fill: #D2E3FC;\n",
              "    }\n",
              "\n",
              "    [theme=dark] .colab-df-convert:hover {\n",
              "      background-color: #434B5C;\n",
              "      box-shadow: 0px 1px 3px 1px rgba(0, 0, 0, 0.15);\n",
              "      filter: drop-shadow(0px 1px 2px rgba(0, 0, 0, 0.3));\n",
              "      fill: #FFFFFF;\n",
              "    }\n",
              "  </style>\n",
              "\n",
              "    <script>\n",
              "      const buttonEl =\n",
              "        document.querySelector('#df-a1aea63d-4bbc-4aea-b553-7b06411f2514 button.colab-df-convert');\n",
              "      buttonEl.style.display =\n",
              "        google.colab.kernel.accessAllowed ? 'block' : 'none';\n",
              "\n",
              "      async function convertToInteractive(key) {\n",
              "        const element = document.querySelector('#df-a1aea63d-4bbc-4aea-b553-7b06411f2514');\n",
              "        const dataTable =\n",
              "          await google.colab.kernel.invokeFunction('convertToInteractive',\n",
              "                                                    [key], {});\n",
              "        if (!dataTable) return;\n",
              "\n",
              "        const docLinkHtml = 'Like what you see? Visit the ' +\n",
              "          '<a target=\"_blank\" href=https://colab.research.google.com/notebooks/data_table.ipynb>data table notebook</a>'\n",
              "          + ' to learn more about interactive tables.';\n",
              "        element.innerHTML = '';\n",
              "        dataTable['output_type'] = 'display_data';\n",
              "        await google.colab.output.renderOutput(dataTable, element);\n",
              "        const docLink = document.createElement('div');\n",
              "        docLink.innerHTML = docLinkHtml;\n",
              "        element.appendChild(docLink);\n",
              "      }\n",
              "    </script>\n",
              "  </div>\n",
              "\n",
              "\n",
              "<div id=\"df-a1e19c4a-a1d5-45d4-8cf4-80d3d48b0242\">\n",
              "  <button class=\"colab-df-quickchart\" onclick=\"quickchart('df-a1e19c4a-a1d5-45d4-8cf4-80d3d48b0242')\"\n",
              "            title=\"Suggest charts\"\n",
              "            style=\"display:none;\">\n",
              "\n",
              "<svg xmlns=\"http://www.w3.org/2000/svg\" height=\"24px\"viewBox=\"0 0 24 24\"\n",
              "     width=\"24px\">\n",
              "    <g>\n",
              "        <path d=\"M19 3H5c-1.1 0-2 .9-2 2v14c0 1.1.9 2 2 2h14c1.1 0 2-.9 2-2V5c0-1.1-.9-2-2-2zM9 17H7v-7h2v7zm4 0h-2V7h2v10zm4 0h-2v-4h2v4z\"/>\n",
              "    </g>\n",
              "</svg>\n",
              "  </button>\n",
              "\n",
              "<style>\n",
              "  .colab-df-quickchart {\n",
              "      --bg-color: #E8F0FE;\n",
              "      --fill-color: #1967D2;\n",
              "      --hover-bg-color: #E2EBFA;\n",
              "      --hover-fill-color: #174EA6;\n",
              "      --disabled-fill-color: #AAA;\n",
              "      --disabled-bg-color: #DDD;\n",
              "  }\n",
              "\n",
              "  [theme=dark] .colab-df-quickchart {\n",
              "      --bg-color: #3B4455;\n",
              "      --fill-color: #D2E3FC;\n",
              "      --hover-bg-color: #434B5C;\n",
              "      --hover-fill-color: #FFFFFF;\n",
              "      --disabled-bg-color: #3B4455;\n",
              "      --disabled-fill-color: #666;\n",
              "  }\n",
              "\n",
              "  .colab-df-quickchart {\n",
              "    background-color: var(--bg-color);\n",
              "    border: none;\n",
              "    border-radius: 50%;\n",
              "    cursor: pointer;\n",
              "    display: none;\n",
              "    fill: var(--fill-color);\n",
              "    height: 32px;\n",
              "    padding: 0;\n",
              "    width: 32px;\n",
              "  }\n",
              "\n",
              "  .colab-df-quickchart:hover {\n",
              "    background-color: var(--hover-bg-color);\n",
              "    box-shadow: 0 1px 2px rgba(60, 64, 67, 0.3), 0 1px 3px 1px rgba(60, 64, 67, 0.15);\n",
              "    fill: var(--button-hover-fill-color);\n",
              "  }\n",
              "\n",
              "  .colab-df-quickchart-complete:disabled,\n",
              "  .colab-df-quickchart-complete:disabled:hover {\n",
              "    background-color: var(--disabled-bg-color);\n",
              "    fill: var(--disabled-fill-color);\n",
              "    box-shadow: none;\n",
              "  }\n",
              "\n",
              "  .colab-df-spinner {\n",
              "    border: 2px solid var(--fill-color);\n",
              "    border-color: transparent;\n",
              "    border-bottom-color: var(--fill-color);\n",
              "    animation:\n",
              "      spin 1s steps(1) infinite;\n",
              "  }\n",
              "\n",
              "  @keyframes spin {\n",
              "    0% {\n",
              "      border-color: transparent;\n",
              "      border-bottom-color: var(--fill-color);\n",
              "      border-left-color: var(--fill-color);\n",
              "    }\n",
              "    20% {\n",
              "      border-color: transparent;\n",
              "      border-left-color: var(--fill-color);\n",
              "      border-top-color: var(--fill-color);\n",
              "    }\n",
              "    30% {\n",
              "      border-color: transparent;\n",
              "      border-left-color: var(--fill-color);\n",
              "      border-top-color: var(--fill-color);\n",
              "      border-right-color: var(--fill-color);\n",
              "    }\n",
              "    40% {\n",
              "      border-color: transparent;\n",
              "      border-right-color: var(--fill-color);\n",
              "      border-top-color: var(--fill-color);\n",
              "    }\n",
              "    60% {\n",
              "      border-color: transparent;\n",
              "      border-right-color: var(--fill-color);\n",
              "    }\n",
              "    80% {\n",
              "      border-color: transparent;\n",
              "      border-right-color: var(--fill-color);\n",
              "      border-bottom-color: var(--fill-color);\n",
              "    }\n",
              "    90% {\n",
              "      border-color: transparent;\n",
              "      border-bottom-color: var(--fill-color);\n",
              "    }\n",
              "  }\n",
              "</style>\n",
              "\n",
              "  <script>\n",
              "    async function quickchart(key) {\n",
              "      const quickchartButtonEl =\n",
              "        document.querySelector('#' + key + ' button');\n",
              "      quickchartButtonEl.disabled = true;  // To prevent multiple clicks.\n",
              "      quickchartButtonEl.classList.add('colab-df-spinner');\n",
              "      try {\n",
              "        const charts = await google.colab.kernel.invokeFunction(\n",
              "            'suggestCharts', [key], {});\n",
              "      } catch (error) {\n",
              "        console.error('Error during call to suggestCharts:', error);\n",
              "      }\n",
              "      quickchartButtonEl.classList.remove('colab-df-spinner');\n",
              "      quickchartButtonEl.classList.add('colab-df-quickchart-complete');\n",
              "    }\n",
              "    (() => {\n",
              "      let quickchartButtonEl =\n",
              "        document.querySelector('#df-a1e19c4a-a1d5-45d4-8cf4-80d3d48b0242 button');\n",
              "      quickchartButtonEl.style.display =\n",
              "        google.colab.kernel.accessAllowed ? 'block' : 'none';\n",
              "    })();\n",
              "  </script>\n",
              "</div>\n",
              "    </div>\n",
              "  </div>\n"
            ]
          },
          "metadata": {},
          "execution_count": 60
        }
      ]
    },
    {
      "cell_type": "code",
      "metadata": {
        "id": "aRuCY82SXnQV",
        "colab": {
          "base_uri": "https://localhost:8080/",
          "height": 36
        },
        "outputId": "0056a48c-e494-439e-e918-a44ebdb15253"
      },
      "source": [
        "# Rotular parte do discurso\n",
        "from nltk.tag import pos_tag\n",
        "\n",
        "df['tags'] = df.tokens.apply(pos_tag, tagset='universal')\n",
        "\n",
        "df.tags\n",
        "df.tags[1][0][1]\n"
      ],
      "execution_count": 61,
      "outputs": [
        {
          "output_type": "execute_result",
          "data": {
            "text/plain": [
              "'NOUN'"
            ],
            "application/vnd.google.colaboratory.intrinsic+json": {
              "type": "string"
            }
          },
          "metadata": {},
          "execution_count": 61
        }
      ]
    },
    {
      "cell_type": "markdown",
      "source": [
        "**Importante:** O NLTK só tem suporte para inglês com POS-Tagger nativo!"
      ],
      "metadata": {
        "id": "84XosDJRFxgj"
      }
    },
    {
      "cell_type": "markdown",
      "source": [
        "###**Como resolver isso usando o NLTK?**\n",
        "\n",
        "---\n",
        "\n",
        "Podemos criar nosso próprio pos-tag usando o NLTK através de uma base de dados já “tageada“ (ex.: Floresta) e treinar um modelo de classificação recursivo do NLTK.\n"
      ],
      "metadata": {
        "id": "0USVMuYSG7xU"
      }
    },
    {
      "cell_type": "markdown",
      "source": [
        "## POS-TAG em Português"
      ],
      "metadata": {
        "id": "6_sKG2tHoNEa"
      }
    },
    {
      "cell_type": "markdown",
      "source": [
        "###com o NLTK"
      ],
      "metadata": {
        "id": "8dcSHDfuIYUs"
      }
    },
    {
      "cell_type": "markdown",
      "metadata": {
        "id": "PGbw2K4UTdon"
      },
      "source": [
        "#### **Sobre o corpus Floresta**\n",
        "\n",
        "---\n",
        "Conhecido como \"Floresta Sintática\". Conjunto de frases já analisadas sintáticamente e tageadas.\n",
        "\n",
        "https://www.linguateca.pt/Floresta/\n",
        "\n",
        "https://www.linguateca.pt/floresta/doc/VISLsymbolset-manual.html\n"
      ]
    },
    {
      "cell_type": "code",
      "execution_count": null,
      "metadata": {
        "id": "QUaRMWflTWwM"
      },
      "outputs": [],
      "source": [
        "import nltk\n",
        "nltk.download('floresta')\n",
        "from nltk.corpus import floresta\n",
        "\n",
        "floresta.tagged_words()"
      ]
    },
    {
      "cell_type": "code",
      "execution_count": null,
      "metadata": {
        "id": "8Yb82GcsTWwM"
      },
      "outputs": [],
      "source": [
        "def simplify_tag(t):\n",
        "  if \"+\" in t:\n",
        "    return t.split(\"+\")[1]\n",
        "  return t\n",
        "\n",
        "twords = nltk.corpus.floresta.tagged_words()\n",
        "twords = [(w.lower(),simplify_tag(t)) for (w,t) in twords]\n",
        "twords[:10]"
      ]
    },
    {
      "cell_type": "code",
      "execution_count": null,
      "metadata": {
        "id": "zmMEN7hbTWwM"
      },
      "outputs": [],
      "source": [
        "print(nltk.corpus.floresta.readme())"
      ]
    },
    {
      "cell_type": "markdown",
      "metadata": {
        "id": "qr55lHtbTWwM"
      },
      "source": [
        "#### Default Tagger"
      ]
    },
    {
      "cell_type": "code",
      "source": [
        "import nltk\n",
        "nltk.download('punkt')"
      ],
      "metadata": {
        "id": "vCOcNY_eHJf5"
      },
      "execution_count": null,
      "outputs": []
    },
    {
      "cell_type": "code",
      "execution_count": null,
      "metadata": {
        "id": "QLSBAuoATWwN"
      },
      "outputs": [],
      "source": [
        "tags = [tag for (word, tag) in twords]\n",
        "nltk.FreqDist(tags).max()"
      ]
    },
    {
      "cell_type": "code",
      "execution_count": null,
      "metadata": {
        "id": "shjNnXCITWwN"
      },
      "outputs": [],
      "source": [
        "raw = 'Esse é um exemplo utilizando o marcador padrão'\n",
        "tokens = nltk.word_tokenize(raw)\n",
        "default_tagger = nltk.DefaultTagger('n')\n",
        "default_tagger.tag(tokens)"
      ]
    },
    {
      "cell_type": "code",
      "metadata": {
        "id": "VCbf1QPT1InW"
      },
      "source": [
        "# Contagem das tags e mantendo a estruturas das sentenças do corpus floresta\n",
        "from nltk.corpus import floresta\n",
        "from collections import Counter\n",
        "\n",
        "def simplifica_tag(t):\n",
        "  if \"+\" in t:\n",
        "    return t.split(\"+\")[1]\n",
        "  return t\n",
        "\n",
        "counter = Counter()\n",
        "\n",
        "tag_sents = floresta.tagged_sents()\n",
        "tag_new_sents = []\n",
        "for sent in tag_sents:\n",
        "  new_sent = []\n",
        "  for (w,t) in sent:\n",
        "    tag = simplifica_tag(t)\n",
        "    new_sent.append((w.lower(), tag))\n",
        "    counter[tag] += 1\n",
        "  tag_new_sents.append(new_sent)\n",
        "\n",
        "#tag_sents[0]\n",
        "#tag_new_sents[0]"
      ],
      "execution_count": null,
      "outputs": []
    },
    {
      "cell_type": "code",
      "metadata": {
        "id": "DNc4oyTTRzrs"
      },
      "source": [
        "#new_sent\n",
        "tag_new_sents[:2]"
      ],
      "execution_count": null,
      "outputs": []
    },
    {
      "cell_type": "code",
      "metadata": {
        "id": "nNmXhgOw1t7k"
      },
      "source": [
        "counter.most_common(5)"
      ],
      "execution_count": null,
      "outputs": []
    },
    {
      "cell_type": "code",
      "metadata": {
        "id": "r6mPWpv62Z0l"
      },
      "source": [
        "# % dos substantivos\n",
        "counter.get('n') / sum(counter.values())"
      ],
      "execution_count": null,
      "outputs": []
    },
    {
      "cell_type": "markdown",
      "source": [
        "Treinando o \"motor\" de classificação"
      ],
      "metadata": {
        "id": "XY8E9Cllqv56"
      }
    },
    {
      "cell_type": "code",
      "execution_count": null,
      "metadata": {
        "id": "JbQRjl1HTWwN"
      },
      "outputs": [],
      "source": [
        "tsents = floresta.tagged_sents()\n",
        "tsents = [[(w.lower(),simplify_tag(t)) for (w,t) in sent] for sent in tsents if sent]\n",
        "train = tsents[1000:]\n",
        "test = tsents[:1000]\n",
        "tsents[1:3]"
      ]
    },
    {
      "cell_type": "code",
      "execution_count": null,
      "metadata": {
        "id": "4eobH58XTWwN"
      },
      "outputs": [],
      "source": [
        "tsents[1:3]"
      ]
    },
    {
      "cell_type": "code",
      "execution_count": null,
      "metadata": {
        "id": "pwAq0CnaTWwO"
      },
      "outputs": [],
      "source": [
        "tagger0 = nltk.DefaultTagger('n')\n",
        "print(tagger0.evaluate(test))"
      ]
    },
    {
      "cell_type": "markdown",
      "metadata": {
        "id": "4g_TJ_hfTWwO"
      },
      "source": [
        "#### Unigram Tagger"
      ]
    },
    {
      "cell_type": "code",
      "execution_count": null,
      "metadata": {
        "id": "sEGvOxVuTWwO"
      },
      "outputs": [],
      "source": [
        "tagger1 = nltk.UnigramTagger(train)\n",
        "print(tagger1.evaluate(test))"
      ]
    },
    {
      "cell_type": "markdown",
      "metadata": {
        "id": "42DAHgjdTWwP"
      },
      "source": [
        "#### Bigram Tagger"
      ]
    },
    {
      "cell_type": "code",
      "execution_count": null,
      "metadata": {
        "id": "_6mDGOMhTWwP"
      },
      "outputs": [],
      "source": [
        "tagger2 = nltk.BigramTagger(train)\n",
        "print(tagger2.evaluate(test))"
      ]
    },
    {
      "cell_type": "markdown",
      "metadata": {
        "id": "4YY9L1HkTWwQ"
      },
      "source": [
        "#### Combinação de Tagger"
      ]
    },
    {
      "cell_type": "code",
      "execution_count": null,
      "metadata": {
        "id": "3JuIDxcQTWwQ"
      },
      "outputs": [],
      "source": [
        "tagger1 = nltk.UnigramTagger(train, backoff=tagger0)\n",
        "print('tagger1: ',tagger1.evaluate(test))\n",
        "tagger2 = nltk.BigramTagger(train, backoff=tagger1)\n",
        "print('tagger2: ',tagger2.evaluate(test))"
      ]
    },
    {
      "cell_type": "markdown",
      "metadata": {
        "id": "5e4lHBKC9xUB"
      },
      "source": [
        "\n",
        "Documentação dos métodos tag:\n",
        "  - https://www.nltk.org/api/nltk.tag.html\n",
        "\n",
        "Nos baseamos no métodos da documentação abaixo:\n",
        "  - Capítulo 5 - N-Gram Tagging: http://www.nltk.org/book/ch05.html\n",
        "  - Exemplo em português: http://www.nltk.org/howto/portuguese_en.html\n",
        "  - Outros corpus tageados: https://www.nltk.org/book/ch02.html\n"
      ]
    },
    {
      "cell_type": "markdown",
      "metadata": {
        "id": "jQaeffQeTWwQ"
      },
      "source": [
        "#### Salvando Tagger"
      ]
    },
    {
      "cell_type": "code",
      "source": [
        "#!pip install pickle"
      ],
      "metadata": {
        "id": "mRasYj5grhyf"
      },
      "execution_count": null,
      "outputs": []
    },
    {
      "cell_type": "code",
      "source": [
        "import pickle\n",
        "\n",
        "pickle.dump(tagger2, open('tagger.pkl', 'wb'))"
      ],
      "metadata": {
        "id": "7h5Cul9qrgM1"
      },
      "execution_count": null,
      "outputs": []
    },
    {
      "cell_type": "code",
      "metadata": {
        "id": "_DE_UGqF1tI8"
      },
      "source": [
        "!ls -la"
      ],
      "execution_count": null,
      "outputs": []
    },
    {
      "cell_type": "code",
      "source": [
        "tagger = pickle.load(open('tagger.pkl', 'rb'))"
      ],
      "metadata": {
        "id": "7wuo8N75rypK"
      },
      "execution_count": null,
      "outputs": []
    },
    {
      "cell_type": "code",
      "execution_count": null,
      "metadata": {
        "id": "8hBJLWH8TWwR"
      },
      "outputs": [],
      "source": [
        "text1 = \"Isso é para você.\"\n",
        "text2 = \"para com isso\"\n",
        "tokens1 = text1.split()\n",
        "tokens2 = text2.split()\n",
        "print('text1: ',tagger.tag(tokens1))\n",
        "print('text2: ',tagger.tag(tokens2))"
      ]
    },
    {
      "cell_type": "markdown",
      "source": [
        "###**com o Spacy**"
      ],
      "metadata": {
        "id": "IHjacpYPIc2b"
      }
    },
    {
      "cell_type": "code",
      "source": [
        "#!pip install spacy\n",
        "#!python -m spacy download pt_core_news_sm"
      ],
      "metadata": {
        "id": "VjGzqwQ7IuSx"
      },
      "execution_count": 28,
      "outputs": []
    },
    {
      "cell_type": "code",
      "execution_count": 62,
      "metadata": {
        "colab": {
          "base_uri": "https://localhost:8080/"
        },
        "outputId": "29fd8171-9921-4d9d-c63b-c1500ab58a37",
        "id": "n4uCUAvNIsk4"
      },
      "outputs": [
        {
          "output_type": "stream",
          "name": "stdout",
          "text": [
            "['Ayrton', 'Senna', 'foi', 'o', 'melhor', 'piloto', 'de', 'Fórmula', '1', 'que', 'já', 'existiu']\n"
          ]
        }
      ],
      "source": [
        "import spacy\n",
        "nlp = spacy.load('pt_core_news_sm')\n",
        "\n",
        "doc = nlp(u'Ayrton Senna foi o melhor piloto de Fórmula 1 que já existiu')\n",
        "\n",
        "print([token.orth_ for token in doc])"
      ]
    },
    {
      "cell_type": "code",
      "execution_count": 63,
      "metadata": {
        "colab": {
          "base_uri": "https://localhost:8080/"
        },
        "outputId": "cc8c1a08-56d6-4214-bb0f-7d3eb66ca8e4",
        "id": "6-_UPu4lIsk5"
      },
      "outputs": [
        {
          "output_type": "execute_result",
          "data": {
            "text/plain": [
              "[('Ayrton', 'PROPN'),\n",
              " ('Senna', 'PROPN'),\n",
              " ('foi', 'AUX'),\n",
              " ('o', 'DET'),\n",
              " ('melhor', 'ADJ'),\n",
              " ('piloto', 'NOUN'),\n",
              " ('de', 'ADP'),\n",
              " ('Fórmula', 'PROPN'),\n",
              " ('1', 'PROPN'),\n",
              " ('que', 'PRON'),\n",
              " ('já', 'ADV'),\n",
              " ('existiu', 'VERB')]"
            ]
          },
          "metadata": {},
          "execution_count": 63
        }
      ],
      "source": [
        "[(token.orth_, token.pos_) for token in doc]"
      ]
    },
    {
      "cell_type": "markdown",
      "metadata": {
        "id": "Z13WSsHDJMOH"
      },
      "source": [
        "De/Para do POS Tag com o tagset='universal':\n",
        "\n",
        "- NOUN (nouns / substantivos)\n",
        "- VERB (verbs / verbos)\n",
        "- ADJ (adjectives / adjetivos)\n",
        "- ADV (adverbs / advérbios)\n",
        "- PRON (pronouns / pronomes)\n",
        "- DET (determiners and articles / determinantes e artigos)\n",
        "- ADP (adpositions - prepositions and postpositions / adições - preposições e postposições)\n",
        "- NUM (numerals / numerais)\n",
        "- CONJ (conjunctions / conjunções)\n",
        "- PRT (particles / partículas)\n",
        "- . (punctuation marks / sinais de pontuação)\n",
        "- X (a catch-all for other categories such as abbreviations or foreign words / um exemplo geral para outras categorias, como abreviações ou palavras estrangeiras)"
      ]
    },
    {
      "cell_type": "markdown",
      "metadata": {
        "id": "kzUHnWEPTWwS"
      },
      "source": [
        "## Pos-Tag + Lematização com **SpaCy**"
      ]
    },
    {
      "cell_type": "code",
      "execution_count": 64,
      "metadata": {
        "id": "QdERTRbhTWwS",
        "colab": {
          "base_uri": "https://localhost:8080/"
        },
        "outputId": "585921bd-afa1-4bf3-ab90-2a286016c20f"
      },
      "outputs": [
        {
          "output_type": "stream",
          "name": "stdout",
          "text": [
            "['Ayrton', 'Senna', 'foi', 'o', 'melhor', 'piloto', 'de', 'Fórmula', '1', 'que', 'já', 'existiu']\n"
          ]
        }
      ],
      "source": [
        "import spacy\n",
        "bla = spacy.load('pt_core_news_sm')\n",
        "\n",
        "doc = bla(u'Ayrton Senna foi o melhor piloto de Fórmula 1 que já existiu')\n",
        "\n",
        "print([token.orth_ for token in doc])"
      ]
    },
    {
      "cell_type": "code",
      "execution_count": 65,
      "metadata": {
        "id": "RPgEQMfmTWwS",
        "colab": {
          "base_uri": "https://localhost:8080/"
        },
        "outputId": "35a33424-3cf2-42ec-cff5-5888d0865918"
      },
      "outputs": [
        {
          "output_type": "execute_result",
          "data": {
            "text/plain": [
              "[('Ayrton', 'PROPN'),\n",
              " ('Senna', 'PROPN'),\n",
              " ('foi', 'AUX'),\n",
              " ('o', 'DET'),\n",
              " ('melhor', 'ADJ'),\n",
              " ('piloto', 'NOUN'),\n",
              " ('de', 'ADP'),\n",
              " ('Fórmula', 'PROPN'),\n",
              " ('1', 'PROPN'),\n",
              " ('que', 'PRON'),\n",
              " ('já', 'ADV'),\n",
              " ('existiu', 'VERB')]"
            ]
          },
          "metadata": {},
          "execution_count": 65
        }
      ],
      "source": [
        "[(token.orth_, token.pos_) for token in doc]"
      ]
    },
    {
      "cell_type": "code",
      "execution_count": 66,
      "metadata": {
        "id": "nfH4jV7CTWwS",
        "colab": {
          "base_uri": "https://localhost:8080/"
        },
        "outputId": "2c3038f6-8d7b-43f1-f4fc-34aa4d3067a6"
      },
      "outputs": [
        {
          "output_type": "stream",
          "name": "stdout",
          "text": [
            "filtrando apenas verbos: \n",
            "['existir']\n"
          ]
        }
      ],
      "source": [
        "print('filtrando apenas verbos: ')\n",
        "print([token.lemma_ for token in doc if token.pos_ == 'VERB'])\n"
      ]
    },
    {
      "cell_type": "code",
      "source": [
        "print([token.lemma_ for token in doc])"
      ],
      "metadata": {
        "id": "VtF8svs02beX",
        "colab": {
          "base_uri": "https://localhost:8080/"
        },
        "outputId": "30f34ac7-22e3-47ff-dba8-ff795beb40e4"
      },
      "execution_count": 67,
      "outputs": [
        {
          "output_type": "stream",
          "name": "stdout",
          "text": [
            "['Ayrton', 'Senna', 'ser', 'o', 'bom', 'piloto', 'de', 'Fórmula', '1', 'que', 'já', 'existir']\n"
          ]
        }
      ]
    },
    {
      "cell_type": "markdown",
      "source": [
        "Outras funcionalidades do Spacy"
      ],
      "metadata": {
        "id": "XUohxSWsJrr7"
      }
    },
    {
      "cell_type": "code",
      "source": [
        "import spacy\n",
        "nlp = spacy.load('pt_core_news_sm')\n",
        "\n",
        "print('identificação de entidades: ')\n",
        "\n",
        "doc1 = nlp(u'Machado de Assis um dos melhores escritores do Brasil, \\\n",
        "foi o primeiro presidente da Academia Brasileira de Letras')\n",
        "\n",
        "print(doc1.ents)"
      ],
      "metadata": {
        "id": "NYmBgaeUcj_N",
        "colab": {
          "base_uri": "https://localhost:8080/"
        },
        "outputId": "0a3b4c21-1259-40db-9df0-fb4ab8c1d0bd"
      },
      "execution_count": 68,
      "outputs": [
        {
          "output_type": "stream",
          "name": "stdout",
          "text": [
            "identificação de entidades: \n",
            "(Machado de Assis, Brasil, Academia Brasileira de Letras)\n"
          ]
        }
      ]
    },
    {
      "cell_type": "markdown",
      "source": [
        "**Desafio para proxíma aula:**\n",
        "\n",
        "Crie uma função que aplique a lematização em verbos. Essa função deve receber um texto e ter como output o texto com verbos lematizado. Use o Spacy!"
      ],
      "metadata": {
        "id": "Qmp1dt_7tlp5"
      }
    },
    {
      "cell_type": "code",
      "source": [
        "# resposta"
      ],
      "metadata": {
        "id": "6pX5kzzRtlE6"
      },
      "execution_count": null,
      "outputs": []
    },
    {
      "cell_type": "markdown",
      "metadata": {
        "id": "DtgBsetcTWwR"
      },
      "source": [
        "## TextBlob"
      ]
    },
    {
      "cell_type": "code",
      "execution_count": null,
      "metadata": {
        "id": "s93sUORTTWwR"
      },
      "outputs": [],
      "source": [
        "#!pip install textblob"
      ]
    },
    {
      "cell_type": "code",
      "execution_count": 69,
      "metadata": {
        "id": "-3Ej0o0aTWwR",
        "colab": {
          "base_uri": "https://localhost:8080/"
        },
        "outputId": "87c32481-729b-47f6-8b41-c5d6181c9f13"
      },
      "outputs": [
        {
          "output_type": "stream",
          "name": "stderr",
          "text": [
            "[nltk_data] Downloading package movie_reviews to /root/nltk_data...\n",
            "[nltk_data]   Unzipping corpora/movie_reviews.zip.\n"
          ]
        },
        {
          "output_type": "execute_result",
          "data": {
            "text/plain": [
              "Sentiment(classification='neg', p_pos=0.3205526272161921, p_neg=0.6794473727838077)"
            ]
          },
          "metadata": {},
          "execution_count": 69
        }
      ],
      "source": [
        "from textblob import TextBlob\n",
        "from textblob.sentiments import NaiveBayesAnalyzer\n",
        "\n",
        "nltk.download('movie_reviews')\n",
        "opinion = TextBlob(\"This movie was horrible!\", analyzer=NaiveBayesAnalyzer())\n",
        "opinion.sentiment"
      ]
    },
    {
      "cell_type": "code",
      "metadata": {
        "id": "DJeCWBioc6Wu",
        "colab": {
          "base_uri": "https://localhost:8080/"
        },
        "outputId": "4e0ad723-e456-45fb-ed67-b160356b0cec"
      },
      "source": [
        "text = \"As aulas da USP são muito chatas\"\n",
        "\n",
        "tblob = TextBlob(text)\n",
        "\n",
        "en_text = tblob.translate(from_lang='pt', to='en')\n",
        "\n",
        "en_text"
      ],
      "execution_count": 70,
      "outputs": [
        {
          "output_type": "execute_result",
          "data": {
            "text/plain": [
              "TextBlob(\"USP classes are very boring\")"
            ]
          },
          "metadata": {},
          "execution_count": 70
        }
      ]
    },
    {
      "cell_type": "code",
      "metadata": {
        "id": "Z_pip7sRdLV0",
        "colab": {
          "base_uri": "https://localhost:8080/"
        },
        "outputId": "0bf6ace6-a036-4981-83ce-4b93db7c88e7"
      },
      "source": [
        "en = TextBlob(en_text.string, analyzer=NaiveBayesAnalyzer())\n",
        "\n",
        "en.sentiment"
      ],
      "execution_count": 71,
      "outputs": [
        {
          "output_type": "execute_result",
          "data": {
            "text/plain": [
              "Sentiment(classification='neg', p_pos=0.2782420508972421, p_neg=0.7217579491027579)"
            ]
          },
          "metadata": {},
          "execution_count": 71
        }
      ]
    },
    {
      "cell_type": "code",
      "metadata": {
        "id": "i66U-_tP3Yv8",
        "colab": {
          "base_uri": "https://localhost:8080/"
        },
        "outputId": "25b209a3-b6af-4185-baeb-35868b57ec75"
      },
      "source": [
        "# Exemplo com uma forma de deixar todo o texto no mesmo indioma\n",
        "en_text = \"As aulas da USP são muito chatas. My god!\"\n",
        "\n",
        "#Exemplo 1\n",
        "tblob = TextBlob(en_text)\n",
        "pt_text = tblob.translate(from_lang='en', to='pt')\n",
        "\n",
        "pt_text"
      ],
      "execution_count": 72,
      "outputs": [
        {
          "output_type": "execute_result",
          "data": {
            "text/plain": [
              "TextBlob(\"Como Aulas da USP São Muito Chatas. Meu Deus!\")"
            ]
          },
          "metadata": {},
          "execution_count": 72
        }
      ]
    },
    {
      "cell_type": "code",
      "source": [
        "# Exemplo com uma forma de deixar todo o texto no mesmo indioma\n",
        "en_text = \"John's big idea isn't all that bad.\"\n",
        "\n",
        "#Exemplo 1\n",
        "tblob = TextBlob(en_text)\n",
        "pt_text = tblob.translate(from_lang='en', to='pt')\n",
        "\n",
        "pt_text"
      ],
      "metadata": {
        "colab": {
          "base_uri": "https://localhost:8080/"
        },
        "id": "vHYKAXxDGFJ1",
        "outputId": "d6100f8e-a786-45ae-d164-592314071ccb"
      },
      "execution_count": 73,
      "outputs": [
        {
          "output_type": "execute_result",
          "data": {
            "text/plain": [
              "TextBlob(\"A grande ideia de John não é tão ruim assim.\")"
            ]
          },
          "metadata": {},
          "execution_count": 73
        }
      ]
    }
  ]
}
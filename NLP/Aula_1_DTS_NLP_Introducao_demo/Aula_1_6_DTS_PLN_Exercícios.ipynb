{
  "nbformat": 4,
  "nbformat_minor": 0,
  "metadata": {
    "colab": {
      "provenance": []
    },
    "kernelspec": {
      "name": "python3",
      "display_name": "Python 3"
    },
    "language_info": {
      "name": "python"
    }
  },
  "cells": [
    {
      "cell_type": "markdown",
      "metadata": {
        "id": "1FdxZAH6TWPH"
      },
      "source": [
        "#**Exercícios - Aula 1**"
      ]
    },
    {
      "cell_type": "markdown",
      "source": [
        "## 1) Dado o dataset de produtos [1]:\n",
        "\n",
        "[1] - https://dados-ml-pln.s3-sa-east-1.amazonaws.com/produtos.csv"
      ],
      "metadata": {
        "id": "fXEgdkBma6Qq"
      }
    },
    {
      "cell_type": "code",
      "source": [
        "import pandas as pd\n",
        "\n",
        "df = pd.read_csv(\n",
        "    \"https://dados-ml-pln.s3-sa-east-1.amazonaws.com/produtos.csv\",\n",
        "    delimiter=\";\",\n",
        "    encoding='utf-8' )"
      ],
      "metadata": {
        "id": "b3xBLIOPIyCj"
      },
      "execution_count": 1,
      "outputs": []
    },
    {
      "cell_type": "markdown",
      "source": [
        "#### 1.1. Analise o % de valores nulos no dataset"
      ],
      "metadata": {
        "id": "EFdExcLpyvJn"
      }
    },
    {
      "cell_type": "code",
      "source": [
        "# resposta"
      ],
      "metadata": {
        "id": "HE0C9l8fyoE6"
      },
      "execution_count": null,
      "outputs": []
    },
    {
      "cell_type": "markdown",
      "source": [
        "#### 1.2. Remova os registros/linhas com valores nulos, se houver"
      ],
      "metadata": {
        "id": "dUP31qMIzJF_"
      }
    },
    {
      "cell_type": "code",
      "source": [
        "# resposta"
      ],
      "metadata": {
        "id": "OVcrSplkzRex"
      },
      "execution_count": null,
      "outputs": []
    },
    {
      "cell_type": "markdown",
      "source": [
        "#### 1.3. Analise a distribuição das “categorias”"
      ],
      "metadata": {
        "id": "OscRtUY3zRRI"
      }
    },
    {
      "cell_type": "code",
      "source": [
        "# resposta"
      ],
      "metadata": {
        "id": "ZOfPrW97zRCQ"
      },
      "execution_count": null,
      "outputs": []
    },
    {
      "cell_type": "markdown",
      "source": [
        "#### 1.4 Crie uma nova coluna chamada \"texto“, concatenando as colunas \"nome\" e \"descricao\"\n"
      ],
      "metadata": {
        "id": "L-CbfxHHypAN"
      }
    },
    {
      "cell_type": "code",
      "source": [
        "# resposta"
      ],
      "metadata": {
        "id": "NMp70mZubnoZ"
      },
      "execution_count": null,
      "outputs": []
    },
    {
      "cell_type": "markdown",
      "source": [
        "#### 1.5 Descubra as 10 palavras que mais ocorrem nessa nova coluna “texto”"
      ],
      "metadata": {
        "id": "jxDRBAZAIDLn"
      }
    },
    {
      "cell_type": "code",
      "source": [
        "# exemplo de referência para montar a lógica\n",
        "from collections import Counter\n",
        "counter = Counter()\n",
        "counter['a'] += 1\n",
        "counter\n",
        "counter.most_common()\n",
        "\n",
        "counter.update('a')\n",
        "counter.update('b')"
      ],
      "metadata": {
        "id": "rYSU_nBZbnfN",
        "colab": {
          "base_uri": "https://localhost:8080/"
        },
        "outputId": "ef8c8df3-1c39-4845-91cc-6409292bcf93"
      },
      "execution_count": 3,
      "outputs": [
        {
          "output_type": "execute_result",
          "data": {
            "text/plain": [
              "Counter({'a': 2, 'b': 1})"
            ]
          },
          "metadata": {},
          "execution_count": 3
        }
      ]
    },
    {
      "cell_type": "markdown",
      "source": [
        "### **Bônus!** Monte uma nuvem de palavras"
      ],
      "metadata": {
        "id": "JMpQLGqtINgu"
      }
    },
    {
      "cell_type": "code",
      "source": [
        "# resposta"
      ],
      "metadata": {
        "id": "lbs_nO4TIQ7o"
      },
      "execution_count": null,
      "outputs": []
    },
    {
      "cell_type": "markdown",
      "metadata": {
        "id": "Gz6d4AqXTWPL"
      },
      "source": [
        "## 2) Utilizando o dataset de produtos [1]:"
      ]
    },
    {
      "cell_type": "code",
      "source": [
        "import pandas as pd\n",
        "\n",
        "df = pd.read_csv(\n",
        "    \"https://dados-ml-pln.s3-sa-east-1.amazonaws.com/produtos.csv\",\n",
        "    delimiter=\";\",\n",
        "    encoding='utf-8' )"
      ],
      "metadata": {
        "id": "ZPHVrmEcIe0-"
      },
      "execution_count": 4,
      "outputs": []
    },
    {
      "cell_type": "markdown",
      "metadata": {
        "id": "s32ceDVmTWPL"
      },
      "source": [
        "#### 2.1. Elimine linhas com valores nulos"
      ]
    },
    {
      "cell_type": "code",
      "execution_count": null,
      "metadata": {
        "id": "KatXy-7hTWPL"
      },
      "outputs": [],
      "source": [
        "# resposta"
      ]
    },
    {
      "cell_type": "markdown",
      "metadata": {
        "id": "lvcsAfnBTWPL"
      },
      "source": [
        "#### 2.2. Adicione uma nova coluna chamada texto, formada pela composição das colunas nome e descrição"
      ]
    },
    {
      "cell_type": "code",
      "execution_count": null,
      "metadata": {
        "id": "3H0Y6M2eTWPM"
      },
      "outputs": [],
      "source": [
        "# resposta"
      ]
    },
    {
      "cell_type": "markdown",
      "metadata": {
        "id": "jX3VZnUVTWPM"
      },
      "source": [
        "#### 2.3. Conte quantos Unigramas existem antes e depois de remover stopwords (use a coluna texto)"
      ]
    },
    {
      "cell_type": "code",
      "execution_count": null,
      "metadata": {
        "id": "DyrqTNfSTWPM"
      },
      "outputs": [],
      "source": [
        "# resposta"
      ]
    },
    {
      "cell_type": "markdown",
      "metadata": {
        "id": "a87hK5PtTWPM"
      },
      "source": [
        "#### 2.4. Conte quantos Bigramas existem antes e depois de remover stopwords (use a coluna texto)"
      ]
    },
    {
      "cell_type": "code",
      "execution_count": null,
      "metadata": {
        "id": "tarAbm3VTWPM"
      },
      "outputs": [],
      "source": [
        "# resposta"
      ]
    },
    {
      "cell_type": "markdown",
      "metadata": {
        "id": "39tU4nHuTWPN"
      },
      "source": [
        "#### 2.5. Conte quantos Trigramas existem antes e depois de remover stopwords (use a coluna texto)"
      ]
    },
    {
      "cell_type": "code",
      "execution_count": null,
      "metadata": {
        "id": "VtS19R-CTWPN"
      },
      "outputs": [],
      "source": [
        "# resposta"
      ]
    },
    {
      "cell_type": "markdown",
      "metadata": {
        "id": "HcTMZN5fTWPN"
      },
      "source": [
        "#### 2.6. Conte quantos unigramas existem na coluna texto após aplicar Stemmer (utilize rslp)"
      ]
    },
    {
      "cell_type": "code",
      "execution_count": null,
      "metadata": {
        "id": "cl9_xQpZTWPN"
      },
      "outputs": [],
      "source": [
        "# resposta"
      ]
    }
  ]
}
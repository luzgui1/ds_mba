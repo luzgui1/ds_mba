{
 "cells": [
  {
   "cell_type": "markdown",
   "id": "dc0bf912-789c-4279-a2f7-9928254a8208",
   "metadata": {},
   "source": [
    "# Regression Trees"
   ]
  },
  {
   "cell_type": "code",
   "execution_count": 7,
   "id": "35d2ceb0-431e-4f98-8420-5a71ce8a7537",
   "metadata": {},
   "outputs": [],
   "source": [
    "import numpy as np\n",
    "import pandas as pd\n",
    "import matplotlib.pyplot as plt\n",
    "from sklearn.tree import DecisionTreeRegressor\n",
    "from sklearn.model_selection import train_test_split\n"
   ]
  },
  {
   "cell_type": "code",
   "execution_count": 2,
   "id": "08a0ffaf-43e9-4fa1-8e87-6e19e8df3816",
   "metadata": {},
   "outputs": [
    {
     "data": {
      "text/html": [
       "<div>\n",
       "<style scoped>\n",
       "    .dataframe tbody tr th:only-of-type {\n",
       "        vertical-align: middle;\n",
       "    }\n",
       "\n",
       "    .dataframe tbody tr th {\n",
       "        vertical-align: top;\n",
       "    }\n",
       "\n",
       "    .dataframe thead th {\n",
       "        text-align: right;\n",
       "    }\n",
       "</style>\n",
       "<table border=\"1\" class=\"dataframe\">\n",
       "  <thead>\n",
       "    <tr style=\"text-align: right;\">\n",
       "      <th></th>\n",
       "      <th>R&amp;D Spend</th>\n",
       "      <th>Administration</th>\n",
       "      <th>Marketing Spend</th>\n",
       "      <th>State</th>\n",
       "      <th>Profit</th>\n",
       "    </tr>\n",
       "  </thead>\n",
       "  <tbody>\n",
       "    <tr>\n",
       "      <th>0</th>\n",
       "      <td>165349.20</td>\n",
       "      <td>136897.80</td>\n",
       "      <td>471784.10</td>\n",
       "      <td>New York</td>\n",
       "      <td>192261.83</td>\n",
       "    </tr>\n",
       "    <tr>\n",
       "      <th>1</th>\n",
       "      <td>162597.70</td>\n",
       "      <td>151377.59</td>\n",
       "      <td>443898.53</td>\n",
       "      <td>California</td>\n",
       "      <td>191792.06</td>\n",
       "    </tr>\n",
       "    <tr>\n",
       "      <th>2</th>\n",
       "      <td>153441.51</td>\n",
       "      <td>101145.55</td>\n",
       "      <td>407934.54</td>\n",
       "      <td>Florida</td>\n",
       "      <td>191050.39</td>\n",
       "    </tr>\n",
       "    <tr>\n",
       "      <th>3</th>\n",
       "      <td>144372.41</td>\n",
       "      <td>118671.85</td>\n",
       "      <td>383199.62</td>\n",
       "      <td>New York</td>\n",
       "      <td>182901.99</td>\n",
       "    </tr>\n",
       "    <tr>\n",
       "      <th>4</th>\n",
       "      <td>142107.34</td>\n",
       "      <td>91391.77</td>\n",
       "      <td>366168.42</td>\n",
       "      <td>Florida</td>\n",
       "      <td>166187.94</td>\n",
       "    </tr>\n",
       "  </tbody>\n",
       "</table>\n",
       "</div>"
      ],
      "text/plain": [
       "   R&D Spend  Administration  Marketing Spend       State     Profit\n",
       "0  165349.20       136897.80        471784.10    New York  192261.83\n",
       "1  162597.70       151377.59        443898.53  California  191792.06\n",
       "2  153441.51       101145.55        407934.54     Florida  191050.39\n",
       "3  144372.41       118671.85        383199.62    New York  182901.99\n",
       "4  142107.34        91391.77        366168.42     Florida  166187.94"
      ]
     },
     "execution_count": 2,
     "metadata": {},
     "output_type": "execute_result"
    }
   ],
   "source": [
    "dataset = pd.read_csv('bases/50_Startups.csv')\n",
    "dataset.head()"
   ]
  },
  {
   "cell_type": "markdown",
   "id": "a74ceea4-21e0-46a0-b474-50360bb42ed3",
   "metadata": {},
   "source": [
    "### TODO 1\n",
    "\n",
    "Remova as colunas Administration e State do dataset"
   ]
  },
  {
   "cell_type": "code",
   "execution_count": 4,
   "id": "987ce02e-bba7-4753-9e5c-84712b0a5299",
   "metadata": {
    "tags": []
   },
   "outputs": [],
   "source": [
    "#resposta\n",
    "\n",
    "dataset.drop(columns=['State','Administration'],inplace=True)"
   ]
  },
  {
   "cell_type": "markdown",
   "id": "bc99a3a5-94ba-4608-a086-e87c9ff0bfdc",
   "metadata": {},
   "source": [
    "### TODO 2\n",
    "Separe o dataset em vetor de características e variável meta"
   ]
  },
  {
   "cell_type": "code",
   "execution_count": 8,
   "id": "6f890b50-345e-410a-abbc-bc04c52a3620",
   "metadata": {
    "tags": []
   },
   "outputs": [],
   "source": [
    "#resposta\n",
    "\n",
    "X = dataset[['R&D Spend','Marketing Spend']]\n",
    "y = dataset['Profit']\n",
    "\n",
    "\n",
    "X_train, X_test, y_train, y_test = train_test_split(\n",
    "    X, y, test_size=0.3, random_state=42)"
   ]
  },
  {
   "cell_type": "markdown",
   "id": "ae42eb97-7449-4021-beb1-fadea5456c62",
   "metadata": {},
   "source": [
    "### TODO 3\n",
    "Treine um modelo de regressão usando Regression Tree"
   ]
  },
  {
   "cell_type": "code",
   "execution_count": null,
   "id": "11e60604-8068-4f05-8963-a08ebefffde9",
   "metadata": {
    "tags": []
   },
   "outputs": [],
   "source": [
    "#resposta\n",
    "\n"
   ]
  },
  {
   "cell_type": "markdown",
   "id": "39ab4360-8c19-4fac-9f89-a602e677a3d0",
   "metadata": {},
   "source": [
    "### TODO 4\n",
    "Suponha que a empresa tenha um orçamento de R$ 500.000,00.\n",
    "\n",
    "Eles estão considerando três opções:\n",
    "\n",
    "> R&D: 300.000,00 ; Marketing: 200.000,00\n",
    "\n",
    "> R&D: 200.000,00 ; Marketing: 300.000,00\n",
    "\n",
    "> R&D: 100.000,00 ; Marketing: 400.000,00\n",
    "\n",
    "Qual opção irá, a partir do modelo treinado, retornar o maior lucro?"
   ]
  },
  {
   "cell_type": "code",
   "execution_count": null,
   "id": "2a25251e-c1cc-46c3-894a-d2ef03b9a9ee",
   "metadata": {
    "tags": []
   },
   "outputs": [],
   "source": [
    "# resposta"
   ]
  },
  {
   "cell_type": "markdown",
   "id": "a3f1b76a-7fbc-4e2c-bbe9-aea58cfac9c0",
   "metadata": {},
   "source": [
    "# Decision Trees"
   ]
  },
  {
   "cell_type": "code",
   "execution_count": null,
   "id": "cross-application",
   "metadata": {},
   "outputs": [],
   "source": [
    "from sklearn import datasets\n",
    "from sklearn.model_selection import train_test_split\n",
    "from sklearn.tree import DecisionTreeClassifier\n",
    "from sklearn.metrics import confusion_matrix\n",
    "from sklearn import metrics"
   ]
  },
  {
   "cell_type": "code",
   "execution_count": null,
   "id": "resident-killer",
   "metadata": {},
   "outputs": [],
   "source": [
    "#fazendo o download dos dados direto dos datasets presente na scikit-learn\n",
    "data = datasets.load_breast_cancer()\n",
    "data.feature_names"
   ]
  },
  {
   "cell_type": "code",
   "execution_count": null,
   "id": "bizarre-india",
   "metadata": {},
   "outputs": [],
   "source": [
    "#variável meta (target) -> aquilos que estamos tentando prever\n",
    "#no caso: cancer benigno ou maligno\n",
    "data.target_names"
   ]
  },
  {
   "cell_type": "code",
   "execution_count": null,
   "id": "falling-insurance",
   "metadata": {},
   "outputs": [],
   "source": [
    "#linhas x colunas\n",
    "data.data.shape"
   ]
  },
  {
   "cell_type": "code",
   "execution_count": null,
   "id": "respected-preference",
   "metadata": {},
   "outputs": [],
   "source": [
    "#visualizando as 5 primeiras amostras\n",
    "data.data[0:5]"
   ]
  },
  {
   "cell_type": "markdown",
   "id": "0b8e0244-1743-42ba-9129-b4838d4e0937",
   "metadata": {},
   "source": [
    "## TODO 1\n",
    "> Separe o dataset em conjunto de treino e teste, sendo 70% para treino e 30% para teste"
   ]
  },
  {
   "cell_type": "code",
   "execution_count": null,
   "id": "rubber-manitoba",
   "metadata": {},
   "outputs": [],
   "source": [
    "#resposta\n"
   ]
  },
  {
   "cell_type": "markdown",
   "id": "09d9cfdf-548f-4a31-8c48-2187a7dcd7f8",
   "metadata": {},
   "source": [
    "## TODO 2\n",
    "> Treine uma Árvore de Decisão. Teste com diferentes valores de max_depth e compare os resultados"
   ]
  },
  {
   "cell_type": "code",
   "execution_count": null,
   "id": "induced-sharp",
   "metadata": {},
   "outputs": [],
   "source": [
    "#resposta\n"
   ]
  },
  {
   "cell_type": "markdown",
   "id": "cf989080-bc4a-44f6-8859-c7d6981b5b94",
   "metadata": {},
   "source": [
    "## TODO 3\n",
    "> Faça a predição para o conjunto de teste "
   ]
  },
  {
   "cell_type": "code",
   "execution_count": null,
   "id": "valued-resident",
   "metadata": {},
   "outputs": [],
   "source": [
    "#resposta\n"
   ]
  },
  {
   "cell_type": "markdown",
   "id": "c1ee03f9-6591-4693-8963-be8b678c8e63",
   "metadata": {},
   "source": [
    "## TODO 4\n",
    "\n",
    "> Imprima a matriz de confusão (usando a Scikit-Learn)\n",
    "\n",
    "> Obtenha a Acurácia, Precision, Recall e F1-Score"
   ]
  },
  {
   "cell_type": "code",
   "execution_count": null,
   "id": "fifteen-species",
   "metadata": {},
   "outputs": [],
   "source": [
    "#resposta\n"
   ]
  },
  {
   "cell_type": "code",
   "execution_count": null,
   "id": "martial-handbook",
   "metadata": {},
   "outputs": [],
   "source": [
    "#resposta"
   ]
  }
 ],
 "metadata": {
  "kernelspec": {
   "display_name": "Python 3 (ipykernel)",
   "language": "python",
   "name": "python3"
  },
  "language_info": {
   "codemirror_mode": {
    "name": "ipython",
    "version": 3
   },
   "file_extension": ".py",
   "mimetype": "text/x-python",
   "name": "python",
   "nbconvert_exporter": "python",
   "pygments_lexer": "ipython3",
   "version": "3.12.4"
  }
 },
 "nbformat": 4,
 "nbformat_minor": 5
}

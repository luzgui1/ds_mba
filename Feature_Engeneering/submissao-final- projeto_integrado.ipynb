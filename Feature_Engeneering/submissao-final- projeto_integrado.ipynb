{
  "cells": [
    {
      "cell_type": "markdown",
      "metadata": {
        "id": "vHUjOPJjRkfz"
      },
      "source": [
        "# **Projeto Integrado Feature Engineering**\n",
        "\n",
        "\n",
        "\n"
      ]
    },
    {
      "cell_type": "code",
      "execution_count": 1,
      "metadata": {
        "id": "8NfgQdCfRkf1"
      },
      "outputs": [],
      "source": [
        "# Importação das bibliotecas necessárias para manipulação de dados, visualização e técnicas de machine learning.\n",
        "import numpy as np\n",
        "import pandas as pd"
      ]
    },
    {
      "cell_type": "code",
      "execution_count": 2,
      "metadata": {
        "colab": {
          "base_uri": "https://localhost:8080/"
        },
        "id": "eIgUZuEMRkf3",
        "outputId": "24f75a20-5f28-4b7b-ea42-2efcdd284445"
      },
      "outputs": [
        {
          "name": "stderr",
          "output_type": "stream",
          "text": [
            "/var/folders/93/n9092syd3gdczp37n2zvfxdr0000gn/T/ipykernel_26847/3281864338.py:3: DtypeWarning: Columns (51,52) have mixed types. Specify dtype option on import or set low_memory=False.\n",
            "  dataset = pd.read_csv(\"./dataset.txt\", sep=\"\\t\", encoding=\"latin1\")\n"
          ]
        }
      ],
      "source": [
        "# Carregando o conjunto de dados que será utilizado para o projeto.\n",
        "df_descritivo = pd.read_excel(r\"descritivo_características.xlsx\",engine='openpyxl')\n",
        "dataset = pd.read_csv(\"./dataset.txt\", sep=\"\\t\", encoding=\"latin1\")\n",
        "dataset.columns = df_descritivo['Característica'].tolist()"
      ]
    },
    {
      "cell_type": "markdown",
      "metadata": {
        "id": "rG5PZlb_kaye"
      },
      "source": [
        "## **Modelo Baseline**"
      ]
    },
    {
      "cell_type": "code",
      "execution_count": 3,
      "metadata": {
        "id": "UMXEqYoVkedj"
      },
      "outputs": [],
      "source": [
        "#Importando bibliotecas necessárias para o modelo\n",
        "from sklearn.model_selection import train_test_split\n",
        "from sklearn.preprocessing import StandardScaler\n",
        "from sklearn.neighbors import KNeighborsClassifier\n",
        "from sklearn.metrics import accuracy_score, classification_report, confusion_matrix"
      ]
    },
    {
      "cell_type": "code",
      "execution_count": 4,
      "metadata": {
        "id": "E8h6tkNMtTt-"
      },
      "outputs": [],
      "source": [
        "# Criar um novo dataset apenas com as colunas que não possuem nenhum valor nulo\n",
        "dataset_sem_nulos = dataset.dropna(axis=1, how='any')"
      ]
    },
    {
      "cell_type": "code",
      "execution_count": 5,
      "metadata": {
        "id": "16r1hxvQtTt-"
      },
      "outputs": [],
      "source": [
        "# Separando o dataset entre treino e teste\n",
        "# A critério de um baseline, não iremos utilizar as variáveis categóricas\n",
        "\n",
        "X = dataset_sem_nulos.drop(columns=['ROTULO_ALVO_MAU=1'])\n",
        "X = X.select_dtypes(include=['int64', 'float64'])\n",
        "y = dataset_sem_nulos['ROTULO_ALVO_MAU=1']\n",
        "\n",
        "X_train, X_test, y_train, y_test = train_test_split(X, y, test_size=0.3, random_state=42)"
      ]
    },
    {
      "cell_type": "code",
      "execution_count": 6,
      "metadata": {
        "id": "UUhN5St9tTt_"
      },
      "outputs": [],
      "source": [
        "# Normalizando as variaveis numéricas\n",
        "scaler = StandardScaler()\n",
        "X_train = scaler.fit_transform(X_train)\n",
        "X_test = scaler.transform(X_test)"
      ]
    },
    {
      "cell_type": "code",
      "execution_count": 7,
      "metadata": {
        "colab": {
          "base_uri": "https://localhost:8080/"
        },
        "id": "yKBoFY4ttTt_",
        "outputId": "bdb307fd-4d68-4b35-a64d-a38610dd8470"
      },
      "outputs": [
        {
          "name": "stdout",
          "output_type": "stream",
          "text": [
            "Top 10 melhores valores de K:\n",
            "K = 46, Acurácia = 0.7418\n",
            "K = 36, Acurácia = 0.7416\n",
            "K = 48, Acurácia = 0.7415\n",
            "K = 47, Acurácia = 0.7415\n",
            "K = 44, Acurácia = 0.7413\n",
            "K = 45, Acurácia = 0.7412\n",
            "K = 34, Acurácia = 0.7410\n",
            "K = 32, Acurácia = 0.7409\n",
            "K = 40, Acurácia = 0.7409\n",
            "K = 42, Acurácia = 0.7409\n",
            "K = 49, Acurácia = 0.7409\n",
            "K = 38, Acurácia = 0.7408\n",
            "K = 41, Acurácia = 0.7407\n",
            "K = 43, Acurácia = 0.7407\n",
            "K = 37, Acurácia = 0.7406\n",
            "K = 30, Acurácia = 0.7402\n",
            "K = 39, Acurácia = 0.7401\n",
            "K = 26, Acurácia = 0.7400\n",
            "K = 33, Acurácia = 0.7399\n",
            "K = 35, Acurácia = 0.7399\n",
            "K = 28, Acurácia = 0.7397\n",
            "K = 31, Acurácia = 0.7392\n",
            "K = 24, Acurácia = 0.7389\n",
            "K = 22, Acurácia = 0.7387\n",
            "K = 20, Acurácia = 0.7382\n",
            "K = 27, Acurácia = 0.7382\n",
            "K = 29, Acurácia = 0.7380\n",
            "K = 18, Acurácia = 0.7368\n",
            "K = 25, Acurácia = 0.7368\n",
            "K = 23, Acurácia = 0.7363\n",
            "K = 21, Acurácia = 0.7356\n",
            "K = 16, Acurácia = 0.7348\n",
            "K = 14, Acurácia = 0.7335\n",
            "K = 19, Acurácia = 0.7335\n",
            "K = 17, Acurácia = 0.7307\n",
            "K = 10, Acurácia = 0.7305\n",
            "K = 12, Acurácia = 0.7305\n",
            "K = 15, Acurácia = 0.7282\n",
            "K = 8, Acurácia = 0.7269\n",
            "K = 13, Acurácia = 0.7250\n",
            "K = 6, Acurácia = 0.7233\n",
            "K = 11, Acurácia = 0.7213\n",
            "K = 4, Acurácia = 0.7195\n",
            "K = 9, Acurácia = 0.7157\n",
            "K = 2, Acurácia = 0.7150\n",
            "K = 7, Acurácia = 0.7047\n",
            "K = 5, Acurácia = 0.6963\n",
            "K = 3, Acurácia = 0.6719\n",
            "K = 1, Acurácia = 0.6335\n",
            "\n",
            "Melhor K value: 46\n",
            "Melhor Acurácia: 0.7418\n",
            "\n",
            "Relatório de Classificação para o melhor K:\n",
            "              precision    recall  f1-score   support\n",
            "\n",
            "           0       0.74      1.00      0.85     11132\n",
            "           1       0.43      0.00      0.01      3868\n",
            "\n",
            "    accuracy                           0.74     15000\n",
            "   macro avg       0.59      0.50      0.43     15000\n",
            "weighted avg       0.66      0.74      0.63     15000\n",
            "\n",
            "Matriz de Confusão para o melhor K:\n",
            "[[11112    20]\n",
            " [ 3853    15]]\n"
          ]
        }
      ],
      "source": [
        "# Definir o KNN Classifier\n",
        "knn = KNeighborsClassifier()\n",
        "\n",
        "# Definir o range de K\n",
        "k_values = range(1, 50)\n",
        "\n",
        "# Criação das listas para armazenar o resultado\n",
        "accuracies = []\n",
        "reports = []\n",
        "matrices = []\n",
        "\n",
        "# Loop para cada valor de K value e avaliação do modelo\n",
        "for k in k_values:\n",
        "    knn.set_params(n_neighbors=k)\n",
        "    knn.fit(X_train, y_train)\n",
        "    y_pred = knn.predict(X_test)\n",
        "    \n",
        "    # Cálculo de acurácia\n",
        "    accuracy = accuracy_score(y_test, y_pred)\n",
        "    accuracies.append(accuracy)\n",
        "    \n",
        "    # Geração do reporte de classificação\n",
        "    report = classification_report(y_test, y_pred)\n",
        "    reports.append(report)\n",
        "    \n",
        "    # Geração da matriz de confusão\n",
        "    matrix = confusion_matrix(y_test, y_pred)\n",
        "    matrices.append(matrix)\n",
        "\n",
        "# Criando uma lista de tuplas (k, accuracy) e ordenando-a\n",
        "k_accuracy_pairs = sorted(zip(k_values, accuracies), key=lambda x: x[1], reverse=True)\n",
        "\n",
        "# Pegando os top 10 melhores Ks\n",
        "top_50_k = k_accuracy_pairs[:50]\n",
        "\n",
        "print(\"Top 10 melhores valores de K:\")\n",
        "for k, accuracy in top_50_k:\n",
        "    print(f\"K = {k}, Acurácia = {accuracy:.4f}\")\n",
        "\n",
        "# Buscando o K com maior acurácia\n",
        "best_k, best_accuracy = top_50_k[0]\n",
        "\n",
        "print(f\"\\nMelhor K value: {best_k}\")\n",
        "print(f\"Melhor Acurácia: {best_accuracy:.4f}\")\n",
        "print(\"\\nRelatório de Classificação para o melhor K:\")\n",
        "print(reports[k_values.index(best_k)])\n",
        "print(\"Matriz de Confusão para o melhor K:\")\n",
        "print(matrices[k_values.index(best_k)])"
      ]
    },
    {
      "cell_type": "code",
      "execution_count": 9,
      "metadata": {
        "id": "sCq6vBNsJu_i"
      },
      "outputs": [
        {
          "data": {
            "image/png": "[encoded data removed]",
            "text/plain": [
              "<Figure size 640x480 with 1 Axes>"
            ]
          },
          "metadata": {},
          "output_type": "display_data"
        }
      ],
      "source": [
        "import matplotlib.pyplot as plt\n",
        "# Plotar o gráfico de acurácia vs. K\n",
        "plt.plot(k_values, accuracies)\n",
        "plt.xlabel(\"Valor de K\")\n",
        "plt.ylabel(\"Acurácia\")\n",
        "plt.title(\"Acurácia do KNN para diferentes valores de K\")\n",
        "plt.show()\n"
      ]
    },
    {
      "cell_type": "code",
      "execution_count": 49,
      "metadata": {
        "id": "xQdjl6W0Ki-8"
      },
      "outputs": [
        {
          "data": {
            "image/png": "[encoded data removed]",
            "text/plain": [
              "<Figure size 800x600 with 2 Axes>"
            ]
          },
          "metadata": {},
          "output_type": "display_data"
        }
      ],
      "source": [
        "import seaborn as sns\n",
        "\n",
        "#A partir da análise dos 50 K diferentes, decidimos selecionar o K = 10, visto que não há uma diferença tão grande\n",
        "# da acurácia com valores de K muito maiores, e que um valor de K mais baixo nos ajudará a generalizar melhor o modelo.\n",
        "knn.set_params(n_neighbors=10)\n",
        "knn.fit(X_train, y_train)\n",
        "y_pred = knn.predict(X_test)\n",
        "\n",
        "# Calcula a matriz de confusão\n",
        "cm = confusion_matrix(y_test, y_pred)\n",
        "\n",
        "# Plota a matriz de confusão\n",
        "plt.figure(figsize=(8, 6))\n",
        "sns.heatmap(cm, annot=True, fmt='d', cmap='Blues',\n",
        "            xticklabels=['Classe 0', 'Classe 1'],\n",
        "            yticklabels=['Classe 0', 'Classe 1'])\n",
        "plt.xlabel('Predição')\n",
        "plt.ylabel('Valor Real')\n",
        "plt.title('Matriz de Confusão (K=10)')\n",
        "plt.show()\n"
      ]
    },
    {
      "cell_type": "markdown",
      "metadata": {
        "id": "zN0u6nBftTuA"
      },
      "source": [
        "O modelo sem dados nulos apresentou 74% de assertividade, porém uma grande dificuldade de mapear maus credores, com assertividade de apenas 43%."
      ]
    },
    {
      "cell_type": "markdown",
      "metadata": {
        "id": "-OMwNyTVRkf4"
      },
      "source": [
        "## **Data Understanding & Cleaning**"
      ]
    },
    {
      "cell_type": "code",
      "execution_count": 11,
      "metadata": {
        "colab": {
          "base_uri": "https://localhost:8080/"
        },
        "id": "pyXCyMftYEif",
        "outputId": "977b76aa-39e5-492a-e33b-2653bb539ea3"
      },
      "outputs": [
        {
          "name": "stdout",
          "output_type": "stream",
          "text": [
            "<class 'pandas.core.frame.DataFrame'>\n",
            "RangeIndex: 49999 entries, 0 to 49998\n",
            "Data columns (total 54 columns):\n",
            " #   Column                             Non-Null Count  Dtype  \n",
            "---  ------                             --------------  -----  \n",
            " 0   ID_CLIENTE                         49999 non-null  int64  \n",
            " 1   TIPO_FUNCIONARIO                   49999 non-null  object \n",
            " 2   DIA_PAGAMENTO                      49999 non-null  int64  \n",
            " 3   TIPO_ENVIO_APLICACAO               49999 non-null  object \n",
            " 4   QUANT_CARTOES_ADICIONAIS           49999 non-null  int64  \n",
            " 5   TIPO_ENDERECO_POSTAL               49999 non-null  int64  \n",
            " 6   SEXO                               49999 non-null  object \n",
            " 7   ESTADO_CIVIL                       49999 non-null  int64  \n",
            " 8   QUANT_DEPENDENTES                  49999 non-null  int64  \n",
            " 9   NIVEL_EDUCACIONAL                  49999 non-null  int64  \n",
            " 10  ESTADO_NASCIMENTO                  49999 non-null  object \n",
            " 11  CIDADE_NASCIMENTO                  49999 non-null  object \n",
            " 12  NACIONALIDADE                      49999 non-null  int64  \n",
            " 13  ESTADO_RESIDENCIAL                 49999 non-null  object \n",
            " 14  CIDADE_RESIDENCIAL                 49999 non-null  object \n",
            " 15  BAIRRO_RESIDENCIAL                 49999 non-null  object \n",
            " 16  FLAG_TELEFONE_RESIDENCIAL          49999 non-null  object \n",
            " 17  CODIGO_AREA_TELEFONE_RESIDENCIAL   49999 non-null  object \n",
            " 18  TIPO_RESIDENCIA                    48650 non-null  float64\n",
            " 19  MESES_RESIDENCIA                   46222 non-null  float64\n",
            " 20  FLAG_TELEFONE_MOVEL                49999 non-null  object \n",
            " 21  FLAG_EMAIL                         49999 non-null  int64  \n",
            " 22  RENDA_PESSOAL_MENSAL               49999 non-null  float64\n",
            " 23  OUTRAS_RENDAS                      49999 non-null  float64\n",
            " 24  FLAG_VISA                          49999 non-null  int64  \n",
            " 25  FLAG_MASTERCARD                    49999 non-null  int64  \n",
            " 26  FLAG_DINERS                        49999 non-null  int64  \n",
            " 27  FLAG_AMERICAN_EXPRESS              49999 non-null  int64  \n",
            " 28  FLAG_OUTROS_CARTOES                49999 non-null  int64  \n",
            " 29  QUANT_CONTAS_BANCARIAS             49999 non-null  int64  \n",
            " 30  QUANT_CONTAS_BANCARIAS_ESPECIAIS   49999 non-null  int64  \n",
            " 31  VALOR_PATRIMONIO_PESSOAL           49999 non-null  float64\n",
            " 32  QUANT_CARROS                       49999 non-null  int64  \n",
            " 33  EMPRESA                            49999 non-null  object \n",
            " 34  ESTADO_PROFISSIONAL                49999 non-null  object \n",
            " 35  CIDADE_PROFISSIONAL                16217 non-null  object \n",
            " 36  BAIRRO_PROFISSIONAL                16217 non-null  object \n",
            " 37  FLAG_TELEFONE_PROFISSIONAL         49999 non-null  object \n",
            " 38  CODIGO_AREA_TELEFONE_PROFISSIONAL  49999 non-null  object \n",
            " 39  MESES_NO_TRABALHO                  49999 non-null  int64  \n",
            " 40  CODIGO_PROFISSAO                   42243 non-null  float64\n",
            " 41  TIPO_OCUPACAO                      42686 non-null  float64\n",
            " 42  CODIGO_PROFISSAO_CONJUGE           21116 non-null  float64\n",
            " 43  NIVEL_EDUCACIONAL_CONJUGE          17662 non-null  float64\n",
            " 44  FLAG_DOCUMENTO_RESIDENCIAL         49999 non-null  int64  \n",
            " 45  FLAG_RG                            49999 non-null  int64  \n",
            " 46  FLAG_CPF                           49999 non-null  int64  \n",
            " 47  FLAG_COMPROVANTE_RENDA             49999 non-null  int64  \n",
            " 48  PRODUTO                            49999 non-null  int64  \n",
            " 49  FLAG_REGISTRO_ACSP                 49999 non-null  object \n",
            " 50  IDADE                              49999 non-null  int64  \n",
            " 51  CEP_RESIDENCIAL_3                  49999 non-null  object \n",
            " 52  CEP_PROFISSIONAL_3                 49999 non-null  object \n",
            " 53  ROTULO_ALVO_MAU=1                  49999 non-null  int64  \n",
            "dtypes: float64(9), int64(25), object(20)\n",
            "memory usage: 20.6+ MB\n"
          ]
        }
      ],
      "source": [
        "dataset.info()"
      ]
    },
    {
      "cell_type": "code",
      "execution_count": 12,
      "metadata": {
        "colab": {
          "base_uri": "https://localhost:8080/",
          "height": 256
        },
        "id": "Asx0srzuTTNq",
        "outputId": "938ba4c4-c2e1-4be5-fab4-6f648bc60b3b"
      },
      "outputs": [
        {
          "data": {
            "text/html": [
              "<div>\n",
              "<style scoped>\n",
              "    .dataframe tbody tr th:only-of-type {\n",
              "        vertical-align: middle;\n",
              "    }\n",
              "\n",
              "    .dataframe tbody tr th {\n",
              "        vertical-align: top;\n",
              "    }\n",
              "\n",
              "    .dataframe thead th {\n",
              "        text-align: right;\n",
              "    }\n",
              "</style>\n",
              "<table border=\"1\" class=\"dataframe\">\n",
              "  <thead>\n",
              "    <tr style=\"text-align: right;\">\n",
              "      <th></th>\n",
              "      <th>ID_CLIENTE</th>\n",
              "      <th>TIPO_FUNCIONARIO</th>\n",
              "      <th>DIA_PAGAMENTO</th>\n",
              "      <th>TIPO_ENVIO_APLICACAO</th>\n",
              "      <th>QUANT_CARTOES_ADICIONAIS</th>\n",
              "      <th>TIPO_ENDERECO_POSTAL</th>\n",
              "      <th>SEXO</th>\n",
              "      <th>ESTADO_CIVIL</th>\n",
              "      <th>QUANT_DEPENDENTES</th>\n",
              "      <th>NIVEL_EDUCACIONAL</th>\n",
              "      <th>...</th>\n",
              "      <th>FLAG_DOCUMENTO_RESIDENCIAL</th>\n",
              "      <th>FLAG_RG</th>\n",
              "      <th>FLAG_CPF</th>\n",
              "      <th>FLAG_COMPROVANTE_RENDA</th>\n",
              "      <th>PRODUTO</th>\n",
              "      <th>FLAG_REGISTRO_ACSP</th>\n",
              "      <th>IDADE</th>\n",
              "      <th>CEP_RESIDENCIAL_3</th>\n",
              "      <th>CEP_PROFISSIONAL_3</th>\n",
              "      <th>ROTULO_ALVO_MAU=1</th>\n",
              "    </tr>\n",
              "  </thead>\n",
              "  <tbody>\n",
              "    <tr>\n",
              "      <th>0</th>\n",
              "      <td>2</td>\n",
              "      <td>C</td>\n",
              "      <td>15</td>\n",
              "      <td>Carga</td>\n",
              "      <td>0</td>\n",
              "      <td>1</td>\n",
              "      <td>F</td>\n",
              "      <td>2</td>\n",
              "      <td>0</td>\n",
              "      <td>0</td>\n",
              "      <td>...</td>\n",
              "      <td>0</td>\n",
              "      <td>0</td>\n",
              "      <td>0</td>\n",
              "      <td>0</td>\n",
              "      <td>1</td>\n",
              "      <td>N</td>\n",
              "      <td>34</td>\n",
              "      <td>230</td>\n",
              "      <td>230</td>\n",
              "      <td>1</td>\n",
              "    </tr>\n",
              "    <tr>\n",
              "      <th>1</th>\n",
              "      <td>3</td>\n",
              "      <td>C</td>\n",
              "      <td>5</td>\n",
              "      <td>Web</td>\n",
              "      <td>0</td>\n",
              "      <td>1</td>\n",
              "      <td>F</td>\n",
              "      <td>2</td>\n",
              "      <td>0</td>\n",
              "      <td>0</td>\n",
              "      <td>...</td>\n",
              "      <td>0</td>\n",
              "      <td>0</td>\n",
              "      <td>0</td>\n",
              "      <td>0</td>\n",
              "      <td>1</td>\n",
              "      <td>N</td>\n",
              "      <td>27</td>\n",
              "      <td>591</td>\n",
              "      <td>591</td>\n",
              "      <td>0</td>\n",
              "    </tr>\n",
              "    <tr>\n",
              "      <th>2</th>\n",
              "      <td>4</td>\n",
              "      <td>C</td>\n",
              "      <td>20</td>\n",
              "      <td>Web</td>\n",
              "      <td>0</td>\n",
              "      <td>1</td>\n",
              "      <td>F</td>\n",
              "      <td>2</td>\n",
              "      <td>0</td>\n",
              "      <td>0</td>\n",
              "      <td>...</td>\n",
              "      <td>0</td>\n",
              "      <td>0</td>\n",
              "      <td>0</td>\n",
              "      <td>0</td>\n",
              "      <td>1</td>\n",
              "      <td>N</td>\n",
              "      <td>61</td>\n",
              "      <td>545</td>\n",
              "      <td>545</td>\n",
              "      <td>0</td>\n",
              "    </tr>\n",
              "    <tr>\n",
              "      <th>3</th>\n",
              "      <td>5</td>\n",
              "      <td>C</td>\n",
              "      <td>10</td>\n",
              "      <td>Web</td>\n",
              "      <td>0</td>\n",
              "      <td>1</td>\n",
              "      <td>M</td>\n",
              "      <td>2</td>\n",
              "      <td>0</td>\n",
              "      <td>0</td>\n",
              "      <td>...</td>\n",
              "      <td>0</td>\n",
              "      <td>0</td>\n",
              "      <td>0</td>\n",
              "      <td>0</td>\n",
              "      <td>1</td>\n",
              "      <td>N</td>\n",
              "      <td>48</td>\n",
              "      <td>235</td>\n",
              "      <td>235</td>\n",
              "      <td>1</td>\n",
              "    </tr>\n",
              "    <tr>\n",
              "      <th>4</th>\n",
              "      <td>6</td>\n",
              "      <td>C</td>\n",
              "      <td>10</td>\n",
              "      <td>0</td>\n",
              "      <td>0</td>\n",
              "      <td>1</td>\n",
              "      <td>M</td>\n",
              "      <td>2</td>\n",
              "      <td>0</td>\n",
              "      <td>0</td>\n",
              "      <td>...</td>\n",
              "      <td>0</td>\n",
              "      <td>0</td>\n",
              "      <td>0</td>\n",
              "      <td>0</td>\n",
              "      <td>2</td>\n",
              "      <td>N</td>\n",
              "      <td>40</td>\n",
              "      <td>371</td>\n",
              "      <td>371</td>\n",
              "      <td>1</td>\n",
              "    </tr>\n",
              "  </tbody>\n",
              "</table>\n",
              "<p>5 rows × 54 columns</p>\n",
              "</div>"
            ],
            "text/plain": [
              "   ID_CLIENTE TIPO_FUNCIONARIO  DIA_PAGAMENTO TIPO_ENVIO_APLICACAO  \\\n",
              "0           2                C             15                Carga   \n",
              "1           3                C              5                  Web   \n",
              "2           4                C             20                  Web   \n",
              "3           5                C             10                  Web   \n",
              "4           6                C             10                    0   \n",
              "\n",
              "   QUANT_CARTOES_ADICIONAIS  TIPO_ENDERECO_POSTAL SEXO  ESTADO_CIVIL  \\\n",
              "0                         0                     1    F             2   \n",
              "1                         0                     1    F             2   \n",
              "2                         0                     1    F             2   \n",
              "3                         0                     1    M             2   \n",
              "4                         0                     1    M             2   \n",
              "\n",
              "   QUANT_DEPENDENTES  NIVEL_EDUCACIONAL  ... FLAG_DOCUMENTO_RESIDENCIAL  \\\n",
              "0                  0                  0  ...                          0   \n",
              "1                  0                  0  ...                          0   \n",
              "2                  0                  0  ...                          0   \n",
              "3                  0                  0  ...                          0   \n",
              "4                  0                  0  ...                          0   \n",
              "\n",
              "  FLAG_RG  FLAG_CPF FLAG_COMPROVANTE_RENDA PRODUTO FLAG_REGISTRO_ACSP IDADE  \\\n",
              "0       0         0                      0       1                  N    34   \n",
              "1       0         0                      0       1                  N    27   \n",
              "2       0         0                      0       1                  N    61   \n",
              "3       0         0                      0       1                  N    48   \n",
              "4       0         0                      0       2                  N    40   \n",
              "\n",
              "  CEP_RESIDENCIAL_3  CEP_PROFISSIONAL_3  ROTULO_ALVO_MAU=1  \n",
              "0               230                 230                  1  \n",
              "1               591                 591                  0  \n",
              "2               545                 545                  0  \n",
              "3               235                 235                  1  \n",
              "4               371                 371                  1  \n",
              "\n",
              "[5 rows x 54 columns]"
            ]
          },
          "execution_count": 12,
          "metadata": {},
          "output_type": "execute_result"
        }
      ],
      "source": [
        "dataset.head()"
      ]
    },
    {
      "cell_type": "code",
      "execution_count": 13,
      "metadata": {
        "colab": {
          "base_uri": "https://localhost:8080/",
          "height": 350
        },
        "id": "kaqNLIZQU-_m",
        "outputId": "77653079-024c-487f-fc94-6990837ad3ab"
      },
      "outputs": [
        {
          "data": {
            "text/html": [
              "<div>\n",
              "<style scoped>\n",
              "    .dataframe tbody tr th:only-of-type {\n",
              "        vertical-align: middle;\n",
              "    }\n",
              "\n",
              "    .dataframe tbody tr th {\n",
              "        vertical-align: top;\n",
              "    }\n",
              "\n",
              "    .dataframe thead th {\n",
              "        text-align: right;\n",
              "    }\n",
              "</style>\n",
              "<table border=\"1\" class=\"dataframe\">\n",
              "  <thead>\n",
              "    <tr style=\"text-align: right;\">\n",
              "      <th></th>\n",
              "      <th>ID_CLIENTE</th>\n",
              "      <th>DIA_PAGAMENTO</th>\n",
              "      <th>QUANT_CARTOES_ADICIONAIS</th>\n",
              "      <th>TIPO_ENDERECO_POSTAL</th>\n",
              "      <th>ESTADO_CIVIL</th>\n",
              "      <th>QUANT_DEPENDENTES</th>\n",
              "      <th>NIVEL_EDUCACIONAL</th>\n",
              "      <th>NACIONALIDADE</th>\n",
              "      <th>TIPO_RESIDENCIA</th>\n",
              "      <th>MESES_RESIDENCIA</th>\n",
              "      <th>...</th>\n",
              "      <th>TIPO_OCUPACAO</th>\n",
              "      <th>CODIGO_PROFISSAO_CONJUGE</th>\n",
              "      <th>NIVEL_EDUCACIONAL_CONJUGE</th>\n",
              "      <th>FLAG_DOCUMENTO_RESIDENCIAL</th>\n",
              "      <th>FLAG_RG</th>\n",
              "      <th>FLAG_CPF</th>\n",
              "      <th>FLAG_COMPROVANTE_RENDA</th>\n",
              "      <th>PRODUTO</th>\n",
              "      <th>IDADE</th>\n",
              "      <th>ROTULO_ALVO_MAU=1</th>\n",
              "    </tr>\n",
              "  </thead>\n",
              "  <tbody>\n",
              "    <tr>\n",
              "      <th>count</th>\n",
              "      <td>49999.000000</td>\n",
              "      <td>49999.000000</td>\n",
              "      <td>49999.0</td>\n",
              "      <td>49999.000000</td>\n",
              "      <td>49999.000000</td>\n",
              "      <td>49999.000000</td>\n",
              "      <td>49999.0</td>\n",
              "      <td>49999.000000</td>\n",
              "      <td>48650.000000</td>\n",
              "      <td>46222.000000</td>\n",
              "      <td>...</td>\n",
              "      <td>42686.000000</td>\n",
              "      <td>21116.000000</td>\n",
              "      <td>17662.000000</td>\n",
              "      <td>49999.0</td>\n",
              "      <td>49999.0</td>\n",
              "      <td>49999.0</td>\n",
              "      <td>49999.0</td>\n",
              "      <td>49999.000000</td>\n",
              "      <td>49999.000000</td>\n",
              "      <td>49999.000000</td>\n",
              "    </tr>\n",
              "    <tr>\n",
              "      <th>mean</th>\n",
              "      <td>25001.000000</td>\n",
              "      <td>12.870077</td>\n",
              "      <td>0.0</td>\n",
              "      <td>1.006540</td>\n",
              "      <td>2.148323</td>\n",
              "      <td>0.650513</td>\n",
              "      <td>0.0</td>\n",
              "      <td>0.961599</td>\n",
              "      <td>1.252230</td>\n",
              "      <td>9.727035</td>\n",
              "      <td>...</td>\n",
              "      <td>2.484281</td>\n",
              "      <td>3.797926</td>\n",
              "      <td>0.296003</td>\n",
              "      <td>0.0</td>\n",
              "      <td>0.0</td>\n",
              "      <td>0.0</td>\n",
              "      <td>0.0</td>\n",
              "      <td>1.275706</td>\n",
              "      <td>43.248745</td>\n",
              "      <td>0.260805</td>\n",
              "    </tr>\n",
              "    <tr>\n",
              "      <th>std</th>\n",
              "      <td>14433.612391</td>\n",
              "      <td>6.608357</td>\n",
              "      <td>0.0</td>\n",
              "      <td>0.080607</td>\n",
              "      <td>1.322751</td>\n",
              "      <td>1.193666</td>\n",
              "      <td>0.0</td>\n",
              "      <td>0.202107</td>\n",
              "      <td>0.867841</td>\n",
              "      <td>10.668928</td>\n",
              "      <td>...</td>\n",
              "      <td>1.532262</td>\n",
              "      <td>5.212168</td>\n",
              "      <td>0.955688</td>\n",
              "      <td>0.0</td>\n",
              "      <td>0.0</td>\n",
              "      <td>0.0</td>\n",
              "      <td>0.0</td>\n",
              "      <td>0.988295</td>\n",
              "      <td>14.989115</td>\n",
              "      <td>0.439078</td>\n",
              "    </tr>\n",
              "    <tr>\n",
              "      <th>min</th>\n",
              "      <td>2.000000</td>\n",
              "      <td>1.000000</td>\n",
              "      <td>0.0</td>\n",
              "      <td>1.000000</td>\n",
              "      <td>0.000000</td>\n",
              "      <td>0.000000</td>\n",
              "      <td>0.0</td>\n",
              "      <td>0.000000</td>\n",
              "      <td>0.000000</td>\n",
              "      <td>0.000000</td>\n",
              "      <td>...</td>\n",
              "      <td>0.000000</td>\n",
              "      <td>0.000000</td>\n",
              "      <td>0.000000</td>\n",
              "      <td>0.0</td>\n",
              "      <td>0.0</td>\n",
              "      <td>0.0</td>\n",
              "      <td>0.0</td>\n",
              "      <td>1.000000</td>\n",
              "      <td>6.000000</td>\n",
              "      <td>0.000000</td>\n",
              "    </tr>\n",
              "    <tr>\n",
              "      <th>25%</th>\n",
              "      <td>12501.500000</td>\n",
              "      <td>10.000000</td>\n",
              "      <td>0.0</td>\n",
              "      <td>1.000000</td>\n",
              "      <td>1.000000</td>\n",
              "      <td>0.000000</td>\n",
              "      <td>0.0</td>\n",
              "      <td>1.000000</td>\n",
              "      <td>1.000000</td>\n",
              "      <td>1.000000</td>\n",
              "      <td>...</td>\n",
              "      <td>1.000000</td>\n",
              "      <td>0.000000</td>\n",
              "      <td>0.000000</td>\n",
              "      <td>0.0</td>\n",
              "      <td>0.0</td>\n",
              "      <td>0.0</td>\n",
              "      <td>0.0</td>\n",
              "      <td>1.000000</td>\n",
              "      <td>31.000000</td>\n",
              "      <td>0.000000</td>\n",
              "    </tr>\n",
              "    <tr>\n",
              "      <th>50%</th>\n",
              "      <td>25001.000000</td>\n",
              "      <td>10.000000</td>\n",
              "      <td>0.0</td>\n",
              "      <td>1.000000</td>\n",
              "      <td>2.000000</td>\n",
              "      <td>0.000000</td>\n",
              "      <td>0.0</td>\n",
              "      <td>1.000000</td>\n",
              "      <td>1.000000</td>\n",
              "      <td>6.000000</td>\n",
              "      <td>...</td>\n",
              "      <td>2.000000</td>\n",
              "      <td>0.000000</td>\n",
              "      <td>0.000000</td>\n",
              "      <td>0.0</td>\n",
              "      <td>0.0</td>\n",
              "      <td>0.0</td>\n",
              "      <td>0.0</td>\n",
              "      <td>1.000000</td>\n",
              "      <td>41.000000</td>\n",
              "      <td>0.000000</td>\n",
              "    </tr>\n",
              "    <tr>\n",
              "      <th>75%</th>\n",
              "      <td>37500.500000</td>\n",
              "      <td>15.000000</td>\n",
              "      <td>0.0</td>\n",
              "      <td>1.000000</td>\n",
              "      <td>2.000000</td>\n",
              "      <td>1.000000</td>\n",
              "      <td>0.0</td>\n",
              "      <td>1.000000</td>\n",
              "      <td>1.000000</td>\n",
              "      <td>15.000000</td>\n",
              "      <td>...</td>\n",
              "      <td>4.000000</td>\n",
              "      <td>11.000000</td>\n",
              "      <td>0.000000</td>\n",
              "      <td>0.0</td>\n",
              "      <td>0.0</td>\n",
              "      <td>0.0</td>\n",
              "      <td>0.0</td>\n",
              "      <td>1.000000</td>\n",
              "      <td>53.000000</td>\n",
              "      <td>1.000000</td>\n",
              "    </tr>\n",
              "    <tr>\n",
              "      <th>max</th>\n",
              "      <td>50000.000000</td>\n",
              "      <td>25.000000</td>\n",
              "      <td>0.0</td>\n",
              "      <td>2.000000</td>\n",
              "      <td>7.000000</td>\n",
              "      <td>53.000000</td>\n",
              "      <td>0.0</td>\n",
              "      <td>2.000000</td>\n",
              "      <td>5.000000</td>\n",
              "      <td>228.000000</td>\n",
              "      <td>...</td>\n",
              "      <td>5.000000</td>\n",
              "      <td>17.000000</td>\n",
              "      <td>5.000000</td>\n",
              "      <td>0.0</td>\n",
              "      <td>0.0</td>\n",
              "      <td>0.0</td>\n",
              "      <td>0.0</td>\n",
              "      <td>7.000000</td>\n",
              "      <td>106.000000</td>\n",
              "      <td>1.000000</td>\n",
              "    </tr>\n",
              "  </tbody>\n",
              "</table>\n",
              "<p>8 rows × 34 columns</p>\n",
              "</div>"
            ],
            "text/plain": [
              "         ID_CLIENTE  DIA_PAGAMENTO  QUANT_CARTOES_ADICIONAIS  \\\n",
              "count  49999.000000   49999.000000                   49999.0   \n",
              "mean   25001.000000      12.870077                       0.0   \n",
              "std    14433.612391       6.608357                       0.0   \n",
              "min        2.000000       1.000000                       0.0   \n",
              "25%    12501.500000      10.000000                       0.0   \n",
              "50%    25001.000000      10.000000                       0.0   \n",
              "75%    37500.500000      15.000000                       0.0   \n",
              "max    50000.000000      25.000000                       0.0   \n",
              "\n",
              "       TIPO_ENDERECO_POSTAL  ESTADO_CIVIL  QUANT_DEPENDENTES  \\\n",
              "count          49999.000000  49999.000000       49999.000000   \n",
              "mean               1.006540      2.148323           0.650513   \n",
              "std                0.080607      1.322751           1.193666   \n",
              "min                1.000000      0.000000           0.000000   \n",
              "25%                1.000000      1.000000           0.000000   \n",
              "50%                1.000000      2.000000           0.000000   \n",
              "75%                1.000000      2.000000           1.000000   \n",
              "max                2.000000      7.000000          53.000000   \n",
              "\n",
              "       NIVEL_EDUCACIONAL  NACIONALIDADE  TIPO_RESIDENCIA  MESES_RESIDENCIA  \\\n",
              "count            49999.0   49999.000000     48650.000000      46222.000000   \n",
              "mean                 0.0       0.961599         1.252230          9.727035   \n",
              "std                  0.0       0.202107         0.867841         10.668928   \n",
              "min                  0.0       0.000000         0.000000          0.000000   \n",
              "25%                  0.0       1.000000         1.000000          1.000000   \n",
              "50%                  0.0       1.000000         1.000000          6.000000   \n",
              "75%                  0.0       1.000000         1.000000         15.000000   \n",
              "max                  0.0       2.000000         5.000000        228.000000   \n",
              "\n",
              "       ...  TIPO_OCUPACAO  CODIGO_PROFISSAO_CONJUGE  \\\n",
              "count  ...   42686.000000              21116.000000   \n",
              "mean   ...       2.484281                  3.797926   \n",
              "std    ...       1.532262                  5.212168   \n",
              "min    ...       0.000000                  0.000000   \n",
              "25%    ...       1.000000                  0.000000   \n",
              "50%    ...       2.000000                  0.000000   \n",
              "75%    ...       4.000000                 11.000000   \n",
              "max    ...       5.000000                 17.000000   \n",
              "\n",
              "       NIVEL_EDUCACIONAL_CONJUGE  FLAG_DOCUMENTO_RESIDENCIAL  FLAG_RG  \\\n",
              "count               17662.000000                     49999.0  49999.0   \n",
              "mean                    0.296003                         0.0      0.0   \n",
              "std                     0.955688                         0.0      0.0   \n",
              "min                     0.000000                         0.0      0.0   \n",
              "25%                     0.000000                         0.0      0.0   \n",
              "50%                     0.000000                         0.0      0.0   \n",
              "75%                     0.000000                         0.0      0.0   \n",
              "max                     5.000000                         0.0      0.0   \n",
              "\n",
              "       FLAG_CPF  FLAG_COMPROVANTE_RENDA       PRODUTO         IDADE  \\\n",
              "count   49999.0                 49999.0  49999.000000  49999.000000   \n",
              "mean        0.0                     0.0      1.275706     43.248745   \n",
              "std         0.0                     0.0      0.988295     14.989115   \n",
              "min         0.0                     0.0      1.000000      6.000000   \n",
              "25%         0.0                     0.0      1.000000     31.000000   \n",
              "50%         0.0                     0.0      1.000000     41.000000   \n",
              "75%         0.0                     0.0      1.000000     53.000000   \n",
              "max         0.0                     0.0      7.000000    106.000000   \n",
              "\n",
              "       ROTULO_ALVO_MAU=1  \n",
              "count       49999.000000  \n",
              "mean            0.260805  \n",
              "std             0.439078  \n",
              "min             0.000000  \n",
              "25%             0.000000  \n",
              "50%             0.000000  \n",
              "75%             1.000000  \n",
              "max             1.000000  \n",
              "\n",
              "[8 rows x 34 columns]"
            ]
          },
          "execution_count": 13,
          "metadata": {},
          "output_type": "execute_result"
        }
      ],
      "source": [
        "dataset.describe()"
      ]
    },
    {
      "cell_type": "code",
      "execution_count": 14,
      "metadata": {
        "colab": {
          "base_uri": "https://localhost:8080/",
          "height": 758
        },
        "id": "fgISG8GLwvex",
        "outputId": "63ccc450-c332-41d5-aaa0-0cc056420436"
      },
      "outputs": [
        {
          "data": {
            "image/png": "[encoded data removed]",
            "text/plain": [
              "<Figure size 1500x800 with 1 Axes>"
            ]
          },
          "metadata": {},
          "output_type": "display_data"
        }
      ],
      "source": [
        "import matplotlib.pyplot as plt\n",
        "\n",
        "# Selecionar apenas as colunas numéricas\n",
        "numerical_cols = dataset.select_dtypes(include=['number'])\n",
        "\n",
        "# Calcular o desvio padrão para cada coluna numérica\n",
        "std_devs = numerical_cols.std()\n",
        "\n",
        "# Calcular a média para cada coluna numérica\n",
        "means = numerical_cols.mean()\n",
        "\n",
        "# Calcular o desvio padrão em percentual da média\n",
        "std_devs_percent = (std_devs / means) * 100\n",
        "\n",
        "# Criar um gráfico de barras com a distribuição do desvio padrão em percentual\n",
        "plt.figure(figsize=(15, 8))  # Ajustar o tamanho da figura conforme necessário\n",
        "plt.bar(std_devs_percent.index, std_devs_percent.values)\n",
        "plt.xlabel('Colunas')\n",
        "plt.ylabel('Desvio Padrão (%)')\n",
        "plt.title('Distribuição do Desvio Padrão das Colunas (em % da média)')\n",
        "plt.xticks(rotation=90)  # Rotacionar os rótulos do eixo x para melhor visualização\n",
        "plt.ylim(0, 100)  # Definir o limite do eixo y entre 0 e 100%\n",
        "plt.tight_layout()  # Ajustar o layout para evitar sobreposição de elementos\n",
        "plt.show()\n"
      ]
    },
    {
      "cell_type": "code",
      "execution_count": 15,
      "metadata": {
        "colab": {
          "base_uri": "https://localhost:8080/",
          "height": 607
        },
        "id": "xYzxk5IU0Cso",
        "outputId": "1421e041-a328-4d92-86f8-f95e14245650"
      },
      "outputs": [
        {
          "data": {
            "image/png": "[encoded data removed]",
            "text/plain": [
              "<Figure size 1000x600 with 1 Axes>"
            ]
          },
          "metadata": {},
          "output_type": "display_data"
        }
      ],
      "source": [
        "# Contar a quantidade de linhas para cada tipo de estado civil\n",
        "estado_civil_counts = dataset['ESTADO_CIVIL'].value_counts()\n",
        "\n",
        "# Criar um gráfico de barras mostrando a quantidade absoluta e o percentual de linhas\n",
        "fig, ax1 = plt.subplots(figsize=(10, 6))\n",
        "\n",
        "# Gráfico de barras para a quantidade absoluta\n",
        "ax1.bar(estado_civil_counts.index, estado_civil_counts.values, color='blue')\n",
        "ax1.set_xlabel('Estado Civil')\n",
        "ax1.set_ylabel('Quantidade Absoluta', color='blue')\n",
        "ax1.tick_params(axis='y', labelcolor='blue')\n",
        "\n",
        "\n",
        "# Configuração do título e legendas\n",
        "plt.title('Quantidade de pessoas por Estado Civil')\n",
        "plt.xticks(rotation=45, ha='right')\n",
        "\n",
        "# Mostrar o gráfico\n",
        "plt.tight_layout()\n",
        "plt.show()\n"
      ]
    },
    {
      "cell_type": "markdown",
      "metadata": {
        "id": "iurU_lv-VMzx"
      },
      "source": [
        "A partir da descrição estatística das variáveis, é possível notar que as variáveis quantitativas \"QUANT_CARTOES_ADICIONAIS\", \"NIVEL_EDUCACIONAL\", \"FLAG_DOCUMENTO_RESIDENCIAL\", \"FLAG_RG\", \"FLAG_CPF\", \"FLAG_COMPROVANTE_RENDA\" estão com todos seus valores nulos, e, portanto, serão descartadas.\n",
        "Outras colunas como ID_CLIENTE, não agregam nada ao modelo e também será descartada\n",
        "\n",
        "Também estamos removendo ESTADO_CIVIL, pois existem 7 valores diferentes para estado civil, quando na realidade não existem mais do que 5 de acordo com a legislação brasileira: Solteiro(a), Casado(a), Separado(a), Divorciado(a), Viúvo(a), além do fato de não haver informação sobre esta codificação disponível no dataset."
      ]
    },
    {
      "cell_type": "code",
      "execution_count": 16,
      "metadata": {
        "id": "yVgRPPg9VLg9"
      },
      "outputs": [],
      "source": [
        "#Retirar as colunas \"QUANT_CARTOES_ADICIONAIS\", \"NIVEL_EDUCACIONAL\", \"FLAG_DOCUMENTO_RESIDENCIAL\", \"FLAG_RG\"\n",
        "#\"FLAG_CPF\", \"FLAG_COMPROVANTE_RENDA\" do dataset\n",
        "\n",
        "columns_to_drop = [\"ID_CLIENTE\",\"QUANT_CARTOES_ADICIONAIS\", \"NIVEL_EDUCACIONAL\", \"FLAG_DOCUMENTO_RESIDENCIAL\", \"FLAG_RG\", \"FLAG_CPF\", \"FLAG_COMPROVANTE_RENDA\", \"ESTADO_CIVIL\"]\n",
        "dataset = dataset.drop(columns=columns_to_drop)\n"
      ]
    },
    {
      "cell_type": "code",
      "execution_count": 17,
      "metadata": {
        "colab": {
          "base_uri": "https://localhost:8080/"
        },
        "id": "hKhkirEyWxJ4",
        "outputId": "a085f877-69bb-4eec-9150-0d0c1cdc14ae"
      },
      "outputs": [
        {
          "name": "stdout",
          "output_type": "stream",
          "text": [
            "Coluna: TIPO_FUNCIONARIO, Número de valores distintos: 1\n",
            "Coluna: TIPO_ENVIO_APLICACAO, Número de valores distintos: 3\n",
            "Coluna: SEXO, Número de valores distintos: 4\n",
            "Coluna: ESTADO_NASCIMENTO, Número de valores distintos: 29\n",
            "Coluna: CIDADE_NASCIMENTO, Número de valores distintos: 9910\n",
            "Coluna: ESTADO_RESIDENCIAL, Número de valores distintos: 27\n",
            "Coluna: CIDADE_RESIDENCIAL, Número de valores distintos: 3528\n",
            "Coluna: BAIRRO_RESIDENCIAL, Número de valores distintos: 14511\n",
            "Coluna: FLAG_TELEFONE_RESIDENCIAL, Número de valores distintos: 2\n",
            "Coluna: CODIGO_AREA_TELEFONE_RESIDENCIAL, Número de valores distintos: 102\n",
            "Coluna: FLAG_TELEFONE_MOVEL, Número de valores distintos: 1\n",
            "Coluna: EMPRESA, Número de valores distintos: 2\n",
            "Coluna: ESTADO_PROFISSIONAL, Número de valores distintos: 28\n",
            "Coluna: CIDADE_PROFISSIONAL, Número de valores distintos: 2236\n",
            "Coluna: BAIRRO_PROFISSIONAL, Número de valores distintos: 5057\n",
            "Coluna: FLAG_TELEFONE_PROFISSIONAL, Número de valores distintos: 2\n",
            "Coluna: CODIGO_AREA_TELEFONE_PROFISSIONAL, Número de valores distintos: 87\n",
            "Coluna: FLAG_REGISTRO_ACSP, Número de valores distintos: 1\n",
            "Coluna: CEP_RESIDENCIAL_3, Número de valores distintos: 1481\n",
            "Coluna: CEP_PROFISSIONAL_3, Número de valores distintos: 1481\n"
          ]
        }
      ],
      "source": [
        "# Analisar quantos valores distintos existem para as colunas categoricas\n",
        "\n",
        "# Selecionar apenas as colunas categóricas\n",
        "categorical_columns = dataset.select_dtypes(include=['object']).columns\n",
        "\n",
        "# Iterar sobre as colunas categóricas e imprimir o número de valores distintos\n",
        "for column in categorical_columns:\n",
        "  print(f\"Coluna: {column}, Número de valores distintos: {dataset[column].nunique()}\")\n"
      ]
    },
    {
      "cell_type": "markdown",
      "metadata": {
        "id": "TnyxY9l2XhlL"
      },
      "source": [
        "A partir da contagem de valores distintos das variáveis categoricas, é possível notar que as colunas \"TIPO_FUNCIONARIO\", \"FLAG_TELEFONE_MOVEL\", \"FLAG_REGISTRO_ACSP\" estão com todos seus valores iguais, e, portanto, serão descartadas."
      ]
    },
    {
      "cell_type": "code",
      "execution_count": 18,
      "metadata": {
        "colab": {
          "base_uri": "https://localhost:8080/",
          "height": 607
        },
        "id": "XzhXrEs_2gA6",
        "outputId": "f0a21ea2-c422-408b-cb8e-4a700ba70f6c"
      },
      "outputs": [
        {
          "data": {
            "image/png": "[encoded data removed]",
            "text/plain": [
              "<Figure size 1000x600 with 1 Axes>"
            ]
          },
          "metadata": {},
          "output_type": "display_data"
        }
      ],
      "source": [
        "import matplotlib.pyplot as plt\n",
        "\n",
        "# Selecionar apenas as colunas categóricas\n",
        "categorical_columns = dataset.select_dtypes(include=['object']).columns\n",
        "\n",
        "# Criar uma lista para armazenar os números de valores distintos\n",
        "unique_values_counts = []\n",
        "\n",
        "# Iterar sobre as colunas categóricas e armazenar o número de valores distintos\n",
        "for column in categorical_columns:\n",
        "  unique_values_counts.append(dataset[column].nunique())\n",
        "\n",
        "# Criar o gráfico de barras\n",
        "plt.figure(figsize=(10, 6))\n",
        "plt.bar(categorical_columns, unique_values_counts)\n",
        "plt.xlabel('Colunas Categóricas')\n",
        "plt.ylabel('Número de Valores Distintos')\n",
        "plt.title('Número de Valores Distintos por Coluna Categórica')\n",
        "plt.xticks(rotation=45, ha='right')\n",
        "plt.ylim(0, 10)  # Definir o limite do eixo y entre 0 e 10\n",
        "plt.tight_layout()\n",
        "plt.show()\n"
      ]
    },
    {
      "cell_type": "code",
      "execution_count": 19,
      "metadata": {
        "id": "DTf_Es2WXxtK"
      },
      "outputs": [],
      "source": [
        "columns_cat_to_drop = [\"TIPO_FUNCIONARIO\", \"FLAG_TELEFONE_MOVEL\", \"FLAG_REGISTRO_ACSP\"]\n",
        "dataset = dataset.drop(columns=columns_cat_to_drop)"
      ]
    },
    {
      "cell_type": "markdown",
      "metadata": {
        "id": "G6hYFg3ZtTuE"
      },
      "source": [
        "Agora avaliaremos se existem dados vazios, nulos ou NaN nas features 'CEP_PROFISSIONAL_3' e 'CEP_RESIDENCIAL_3', dada a redundância de features relacionadas à localização Residencial e Profissional."
      ]
    },
    {
      "cell_type": "code",
      "execution_count": 20,
      "metadata": {
        "colab": {
          "base_uri": "https://localhost:8080/"
        },
        "id": "6_9I9el2tTuE",
        "outputId": "e8714e5a-12ae-491a-d9e8-57ad12e2e1a5"
      },
      "outputs": [
        {
          "name": "stdout",
          "output_type": "stream",
          "text": [
            "\n",
            "Column: CEP_PROFISSIONAL_3\n",
            "Null values: 0\n",
            "Empty values: 0\n",
            "NaN values: 0\n",
            "No problematic values found.\n",
            "\n",
            "Column: CEP_RESIDENCIAL_3\n",
            "Null values: 0\n",
            "Empty values: 0\n",
            "NaN values: 0\n",
            "No problematic values found.\n",
            "\n",
            "Column: CEP_PROFISSIONAL_3\n",
            "Rows with values: 49999\n",
            "Total rows: 49999\n",
            "Percentage of rows with values: 100.00%\n",
            "\n",
            "Column: CEP_RESIDENCIAL_3\n",
            "Rows with values: 49999\n",
            "Total rows: 49999\n",
            "Percentage of rows with values: 100.00%\n"
          ]
        }
      ],
      "source": [
        "#Verificar os valores Nulos, Vazios ou NaN em CEP_PROFISSIONAL_3 and CEP_RESIDENCIAL_3\n",
        "cep_columns = ['CEP_PROFISSIONAL_3', 'CEP_RESIDENCIAL_3']\n",
        "\n",
        "for column in cep_columns:\n",
        "    null_count = dataset[column].isnull().sum()\n",
        "    empty_count = (dataset[column].astype(str).str.strip() == '').sum()\n",
        "    nan_count = dataset[column].isna().sum()\n",
        "\n",
        "    print(f\"\\nColumn: {column}\")\n",
        "    print(f\"Null values: {null_count}\")\n",
        "    print(f\"Empty values: {empty_count}\")\n",
        "    print(f\"NaN values: {nan_count}\")\n",
        "\n",
        "    if null_count > 0 or empty_count > 0 or nan_count > 0:\n",
        "        print(f\"Total problematic values: {null_count + empty_count + nan_count}\")\n",
        "        print(f\"Percentage of problematic values: {((null_count + empty_count + nan_count) / len(dataset)) * 100:.2f}%\")\n",
        "    else:\n",
        "        print(\"No problematic values found.\")\n",
        "\n",
        "\n",
        "#Contar o número de células com qualquer valor dentro de 'CEP_PROFISSIONAL_3' and 'CEP_RESIDENCIAL_3'\n",
        "cep_columns = ['CEP_PROFISSIONAL_3', 'CEP_RESIDENCIAL_3']\n",
        "\n",
        "for column in cep_columns:\n",
        "    non_empty_count = dataset[column].notna().sum()\n",
        "    total_rows = len(dataset)\n",
        "    percentage = (non_empty_count / total_rows) * 100\n",
        "\n",
        "    print(f\"\\nColumn: {column}\")\n",
        "    print(f\"Rows with values: {non_empty_count}\")\n",
        "    print(f\"Total rows: {total_rows}\")\n",
        "    print(f\"Percentage of rows with values: {percentage:.2f}%\")"
      ]
    },
    {
      "cell_type": "code",
      "execution_count": 21,
      "metadata": {
        "id": "ELbL7wdOtTuE"
      },
      "outputs": [],
      "source": [
        "# Drop nas colunas relacionadas a localização residencial e profissional\n",
        "columns_loc_to_drop = [\n",
        "    'ESTADO_PROFISSIONAL', 'CIDADE_PROFISSIONAL', 'BAIRRO_PROFISSIONAL',\n",
        "    'ESTADO_RESIDENCIAL', 'CIDADE_RESIDENCIAL', 'BAIRRO_RESIDENCIAL'\n",
        "]\n",
        "\n",
        "dataset = dataset.drop(columns=columns_loc_to_drop)\n",
        "\n"
      ]
    },
    {
      "cell_type": "code",
      "execution_count": 22,
      "metadata": {
        "id": "fZnN8ewg87ZR"
      },
      "outputs": [],
      "source": [
        "# Criar uma coluna contendo o primeiro dígito da coluna CEP_PROFISSIONAL_3 e chamar de ESTADO_PROFISSIONAL\n",
        "dataset['REGIAO_PROFISSIONAL'] = dataset['CEP_PROFISSIONAL_3'].astype(str).str[0]\n",
        "\n",
        "# Criar uma coluna contendo o primeiro dígito da coluna CEP_RESIDENCIAL_3 e chamar de ESTADO_RESIDENCIAL\n",
        "dataset['REGIAO_RESIDENCIAL'] = dataset['CEP_RESIDENCIAL_3'].astype(str).str[0]\n"
      ]
    },
    {
      "cell_type": "code",
      "execution_count": 23,
      "metadata": {
        "id": "CS9CBdDstTuE"
      },
      "outputs": [],
      "source": [
        "#Drop nas colunas relacionadas a informação de nascimento\n",
        "columns_nascimento_e_nacionalidade_to_drop = [\n",
        "    'ESTADO_NASCIMENTO','CIDADE_NASCIMENTO', 'NACIONALIDADE'\n",
        "]\n",
        "dataset = dataset.drop(columns=columns_nascimento_e_nacionalidade_to_drop)"
      ]
    },
    {
      "cell_type": "code",
      "execution_count": 24,
      "metadata": {
        "colab": {
          "base_uri": "https://localhost:8080/",
          "height": 256
        },
        "id": "cJ6mAJwyaDOn",
        "outputId": "4cacfbb4-e189-4b5d-a064-c1df362a56f3"
      },
      "outputs": [
        {
          "data": {
            "text/html": [
              "<div>\n",
              "<style scoped>\n",
              "    .dataframe tbody tr th:only-of-type {\n",
              "        vertical-align: middle;\n",
              "    }\n",
              "\n",
              "    .dataframe tbody tr th {\n",
              "        vertical-align: top;\n",
              "    }\n",
              "\n",
              "    .dataframe thead th {\n",
              "        text-align: right;\n",
              "    }\n",
              "</style>\n",
              "<table border=\"1\" class=\"dataframe\">\n",
              "  <thead>\n",
              "    <tr style=\"text-align: right;\">\n",
              "      <th></th>\n",
              "      <th>DIA_PAGAMENTO</th>\n",
              "      <th>TIPO_ENVIO_APLICACAO</th>\n",
              "      <th>TIPO_ENDERECO_POSTAL</th>\n",
              "      <th>SEXO</th>\n",
              "      <th>QUANT_DEPENDENTES</th>\n",
              "      <th>FLAG_TELEFONE_RESIDENCIAL</th>\n",
              "      <th>CODIGO_AREA_TELEFONE_RESIDENCIAL</th>\n",
              "      <th>TIPO_RESIDENCIA</th>\n",
              "      <th>MESES_RESIDENCIA</th>\n",
              "      <th>FLAG_EMAIL</th>\n",
              "      <th>...</th>\n",
              "      <th>TIPO_OCUPACAO</th>\n",
              "      <th>CODIGO_PROFISSAO_CONJUGE</th>\n",
              "      <th>NIVEL_EDUCACIONAL_CONJUGE</th>\n",
              "      <th>PRODUTO</th>\n",
              "      <th>IDADE</th>\n",
              "      <th>CEP_RESIDENCIAL_3</th>\n",
              "      <th>CEP_PROFISSIONAL_3</th>\n",
              "      <th>ROTULO_ALVO_MAU=1</th>\n",
              "      <th>REGIAO_PROFISSIONAL</th>\n",
              "      <th>REGIAO_RESIDENCIAL</th>\n",
              "    </tr>\n",
              "  </thead>\n",
              "  <tbody>\n",
              "    <tr>\n",
              "      <th>0</th>\n",
              "      <td>15</td>\n",
              "      <td>Carga</td>\n",
              "      <td>1</td>\n",
              "      <td>F</td>\n",
              "      <td>0</td>\n",
              "      <td>Y</td>\n",
              "      <td>20</td>\n",
              "      <td>1.0</td>\n",
              "      <td>1.0</td>\n",
              "      <td>1</td>\n",
              "      <td>...</td>\n",
              "      <td>4.0</td>\n",
              "      <td>11.0</td>\n",
              "      <td>NaN</td>\n",
              "      <td>1</td>\n",
              "      <td>34</td>\n",
              "      <td>230</td>\n",
              "      <td>230</td>\n",
              "      <td>1</td>\n",
              "      <td>2</td>\n",
              "      <td>2</td>\n",
              "    </tr>\n",
              "    <tr>\n",
              "      <th>1</th>\n",
              "      <td>5</td>\n",
              "      <td>Web</td>\n",
              "      <td>1</td>\n",
              "      <td>F</td>\n",
              "      <td>0</td>\n",
              "      <td>Y</td>\n",
              "      <td>105</td>\n",
              "      <td>1.0</td>\n",
              "      <td>NaN</td>\n",
              "      <td>1</td>\n",
              "      <td>...</td>\n",
              "      <td>NaN</td>\n",
              "      <td>NaN</td>\n",
              "      <td>NaN</td>\n",
              "      <td>1</td>\n",
              "      <td>27</td>\n",
              "      <td>591</td>\n",
              "      <td>591</td>\n",
              "      <td>0</td>\n",
              "      <td>5</td>\n",
              "      <td>5</td>\n",
              "    </tr>\n",
              "    <tr>\n",
              "      <th>2</th>\n",
              "      <td>20</td>\n",
              "      <td>Web</td>\n",
              "      <td>1</td>\n",
              "      <td>F</td>\n",
              "      <td>0</td>\n",
              "      <td>N</td>\n",
              "      <td></td>\n",
              "      <td>NaN</td>\n",
              "      <td>NaN</td>\n",
              "      <td>1</td>\n",
              "      <td>...</td>\n",
              "      <td>NaN</td>\n",
              "      <td>NaN</td>\n",
              "      <td>NaN</td>\n",
              "      <td>1</td>\n",
              "      <td>61</td>\n",
              "      <td>545</td>\n",
              "      <td>545</td>\n",
              "      <td>0</td>\n",
              "      <td>5</td>\n",
              "      <td>5</td>\n",
              "    </tr>\n",
              "    <tr>\n",
              "      <th>3</th>\n",
              "      <td>10</td>\n",
              "      <td>Web</td>\n",
              "      <td>1</td>\n",
              "      <td>M</td>\n",
              "      <td>0</td>\n",
              "      <td>Y</td>\n",
              "      <td>20</td>\n",
              "      <td>1.0</td>\n",
              "      <td>12.0</td>\n",
              "      <td>1</td>\n",
              "      <td>...</td>\n",
              "      <td>5.0</td>\n",
              "      <td>NaN</td>\n",
              "      <td>NaN</td>\n",
              "      <td>1</td>\n",
              "      <td>48</td>\n",
              "      <td>235</td>\n",
              "      <td>235</td>\n",
              "      <td>1</td>\n",
              "      <td>2</td>\n",
              "      <td>2</td>\n",
              "    </tr>\n",
              "    <tr>\n",
              "      <th>4</th>\n",
              "      <td>10</td>\n",
              "      <td>0</td>\n",
              "      <td>1</td>\n",
              "      <td>M</td>\n",
              "      <td>0</td>\n",
              "      <td>Y</td>\n",
              "      <td>33</td>\n",
              "      <td>1.0</td>\n",
              "      <td>4.0</td>\n",
              "      <td>1</td>\n",
              "      <td>...</td>\n",
              "      <td>2.0</td>\n",
              "      <td>0.0</td>\n",
              "      <td>0.0</td>\n",
              "      <td>2</td>\n",
              "      <td>40</td>\n",
              "      <td>371</td>\n",
              "      <td>371</td>\n",
              "      <td>1</td>\n",
              "      <td>3</td>\n",
              "      <td>3</td>\n",
              "    </tr>\n",
              "  </tbody>\n",
              "</table>\n",
              "<p>5 rows × 36 columns</p>\n",
              "</div>"
            ],
            "text/plain": [
              "   DIA_PAGAMENTO TIPO_ENVIO_APLICACAO  TIPO_ENDERECO_POSTAL SEXO  \\\n",
              "0             15                Carga                     1    F   \n",
              "1              5                  Web                     1    F   \n",
              "2             20                  Web                     1    F   \n",
              "3             10                  Web                     1    M   \n",
              "4             10                    0                     1    M   \n",
              "\n",
              "   QUANT_DEPENDENTES FLAG_TELEFONE_RESIDENCIAL  \\\n",
              "0                  0                         Y   \n",
              "1                  0                         Y   \n",
              "2                  0                         N   \n",
              "3                  0                         Y   \n",
              "4                  0                         Y   \n",
              "\n",
              "  CODIGO_AREA_TELEFONE_RESIDENCIAL  TIPO_RESIDENCIA  MESES_RESIDENCIA  \\\n",
              "0                               20              1.0               1.0   \n",
              "1                              105              1.0               NaN   \n",
              "2                                               NaN               NaN   \n",
              "3                               20              1.0              12.0   \n",
              "4                               33              1.0               4.0   \n",
              "\n",
              "   FLAG_EMAIL  ...  TIPO_OCUPACAO  CODIGO_PROFISSAO_CONJUGE  \\\n",
              "0           1  ...            4.0                      11.0   \n",
              "1           1  ...            NaN                       NaN   \n",
              "2           1  ...            NaN                       NaN   \n",
              "3           1  ...            5.0                       NaN   \n",
              "4           1  ...            2.0                       0.0   \n",
              "\n",
              "   NIVEL_EDUCACIONAL_CONJUGE  PRODUTO  IDADE  CEP_RESIDENCIAL_3  \\\n",
              "0                        NaN        1     34                230   \n",
              "1                        NaN        1     27                591   \n",
              "2                        NaN        1     61                545   \n",
              "3                        NaN        1     48                235   \n",
              "4                        0.0        2     40                371   \n",
              "\n",
              "   CEP_PROFISSIONAL_3  ROTULO_ALVO_MAU=1  REGIAO_PROFISSIONAL  \\\n",
              "0                 230                  1                    2   \n",
              "1                 591                  0                    5   \n",
              "2                 545                  0                    5   \n",
              "3                 235                  1                    2   \n",
              "4                 371                  1                    3   \n",
              "\n",
              "   REGIAO_RESIDENCIAL  \n",
              "0                   2  \n",
              "1                   5  \n",
              "2                   5  \n",
              "3                   2  \n",
              "4                   3  \n",
              "\n",
              "[5 rows x 36 columns]"
            ]
          },
          "execution_count": 24,
          "metadata": {},
          "output_type": "execute_result"
        }
      ],
      "source": [
        "dataset.head()"
      ]
    },
    {
      "cell_type": "markdown",
      "metadata": {
        "id": "tuLjoNKXk3ET"
      },
      "source": [
        "**Após a limpeza inicial de dados saimos de 53 variáveis para 35 sem considerar a variável alvo (ROTULO_ALVO_MAU=1). Os próximos passos serão tratar, de forma simples e rápida, os dados nulos e os dados existentes para aplicar um modelo baseline**"
      ]
    },
    {
      "cell_type": "markdown",
      "metadata": {
        "id": "boXsCM05Zjp6"
      },
      "source": [
        "### **Análise de Dados Nulos**"
      ]
    },
    {
      "cell_type": "code",
      "execution_count": 25,
      "metadata": {
        "colab": {
          "base_uri": "https://localhost:8080/"
        },
        "id": "ru9Q8d38aO3m",
        "outputId": "f79db0c1-e937-4167-a1cb-cf60548385c5"
      },
      "outputs": [
        {
          "name": "stdout",
          "output_type": "stream",
          "text": [
            "Colunas com valores nulos:\n",
            "                           Quantidade de Nulos  Porcentagem de Nulos (%)\n",
            "TIPO_RESIDENCIA                           1349                  2.698054\n",
            "MESES_RESIDENCIA                          3777                  7.554151\n",
            "TIPO_OCUPACAO                             7313                 14.626293\n",
            "CODIGO_PROFISSAO                          7756                 15.512310\n",
            "CODIGO_PROFISSAO_CONJUGE                 28883                 57.767155\n",
            "NIVEL_EDUCACIONAL_CONJUGE                32337                 64.675294\n"
          ]
        }
      ],
      "source": [
        "# Calcula a quantidade de valores nulos para cada coluna\n",
        "null_counts = dataset.isnull().sum()\n",
        "\n",
        "# Filtra apenas as colunas que possuem pelo menos um valor nulo\n",
        "columns_with_nulls = null_counts[null_counts > 0]\n",
        "\n",
        "# Cria um novo DataFrame com as colunas que possuem valores nulos\n",
        "df_nulls = pd.DataFrame({'Quantidade de Nulos': columns_with_nulls})\n",
        "\n",
        "# Calcula a porcentagem de valores nulos para cada coluna\n",
        "df_nulls['Porcentagem de Nulos (%)'] = (df_nulls['Quantidade de Nulos'] / len(dataset)) * 100\n",
        "\n",
        "# Organiza df_nulls em ordem crescente da coluna 'Quantidade de Nulos'\n",
        "df_nulls = df_nulls.sort_values(by='Quantidade de Nulos')\n",
        "\n",
        "\n",
        "# Imprime o DataFrame com a quantidade e a porcentagem de valores nulos para cada coluna\n",
        "print(\"Colunas com valores nulos:\")\n",
        "print(df_nulls)\n"
      ]
    },
    {
      "cell_type": "markdown",
      "metadata": {
        "id": "UcYzCtUjRkf5"
      },
      "source": [
        "Nota-se que 6 variáveis apresentam valores nulos"
      ]
    },
    {
      "cell_type": "markdown",
      "metadata": {
        "id": "cpNyPlRftTuF"
      },
      "source": [
        "#### Tratativa para colunas com menos de 10% de valores nulls"
      ]
    },
    {
      "cell_type": "code",
      "execution_count": 26,
      "metadata": {
        "colab": {
          "base_uri": "https://localhost:8080/"
        },
        "id": "9nw5b0DHtTuG",
        "outputId": "02e1538c-f067-49bd-b13c-bf59730c909d"
      },
      "outputs": [
        {
          "name": "stdout",
          "output_type": "stream",
          "text": [
            "Tipos de valores únicos em TIPO_RESIDENCIA:\n",
            "[ 1. nan  2.  5.  0.  3.  4.]\n",
            "\n",
            "Contagem de cada tipo de valor:\n",
            "TIPO_RESIDENCIA\n",
            "1.0    41571\n",
            "2.0     3884\n",
            "5.0     1983\n",
            "NaN     1349\n",
            "0.0      760\n",
            "4.0      311\n",
            "3.0      141\n",
            "Name: count, dtype: int64\n",
            "Tratamento de valores nulos para TIPO_RESIDENCIA concluído.\n",
            "Moda utilizada para preenchimento: 1.0\n",
            "Quantidade de valores nulos restantes em TIPO_RESIDENCIA: 0\n",
            "Tipos de valores únicos em TIPO_OCUPACAO:\n",
            "[ 4. nan  5.  2.  1.  0.  3.]\n",
            "\n",
            "Contagem de cada tipo de valor:\n",
            "TIPO_OCUPACAO\n",
            "2.0    16947\n",
            "1.0     8742\n",
            "NaN     7313\n",
            "4.0     6999\n",
            "5.0     6891\n",
            "0.0     2788\n",
            "3.0      319\n",
            "Name: count, dtype: int64\n",
            "Tratamento de valores nulos para MESES_RESIDENCIA e TIPO_OCUPACAO concluído.\n",
            "Mediana utilizada para preenchimento de TIPO_OCUPACAO: 2.0\n",
            "Quantidade de valores nulos restantes em TIPO_OCUPACAO: 0\n"
          ]
        }
      ],
      "source": [
        "# Imprimindo os diferentes tipos de valores em 'TIPO_RESIDENCIA'\n",
        "print(\"Tipos de valores únicos em TIPO_RESIDENCIA:\")\n",
        "print(dataset['TIPO_RESIDENCIA'].unique())\n",
        "print(\"\\nContagem de cada tipo de valor:\")\n",
        "print(dataset['TIPO_RESIDENCIA'].value_counts(dropna=False))\n",
        "\n",
        "# Tratamento de valores nulos para TIPO_RESIDENCIA usando a moda\n",
        "tipo_residencia_mode = dataset['TIPO_RESIDENCIA'].mode()[0]\n",
        "dataset['TIPO_RESIDENCIA'] = dataset['TIPO_RESIDENCIA'].fillna(tipo_residencia_mode)\n",
        "print(\"Tratamento de valores nulos para TIPO_RESIDENCIA concluído.\")\n",
        "print(\"Moda utilizada para preenchimento:\", tipo_residencia_mode)\n",
        "print(\"Quantidade de valores nulos restantes em TIPO_RESIDENCIA:\", dataset['TIPO_RESIDENCIA'].isnull().sum())\n",
        "\n",
        "print(\"Tipos de valores únicos em TIPO_OCUPACAO:\")\n",
        "print(dataset['TIPO_OCUPACAO'].unique())\n",
        "print(\"\\nContagem de cada tipo de valor:\")\n",
        "print(dataset['TIPO_OCUPACAO'].value_counts(dropna=False))\n",
        "\n",
        "# Tratamento de valores nulos para TIPO_OCUPACAO usando a moda\n",
        "tipo_ocupacao_mode = dataset['TIPO_OCUPACAO'].mode()[0]\n",
        "dataset['TIPO_OCUPACAO'] = dataset['TIPO_OCUPACAO'].fillna(tipo_ocupacao_mode)\n",
        "print(\"Tratamento de valores nulos para MESES_RESIDENCIA e TIPO_OCUPACAO concluído.\")\n",
        "print(\"Mediana utilizada para preenchimento de TIPO_OCUPACAO:\", tipo_ocupacao_mode)\n",
        "print(\"Quantidade de valores nulos restantes em TIPO_OCUPACAO:\", dataset['TIPO_OCUPACAO'].isnull().sum())\n"
      ]
    },
    {
      "cell_type": "code",
      "execution_count": 27,
      "metadata": {
        "colab": {
          "base_uri": "https://localhost:8080/"
        },
        "id": "Cyr1FdsFtTuG",
        "outputId": "db3eadea-2e5f-44e0-f33b-028948aba85c"
      },
      "outputs": [
        {
          "name": "stdout",
          "output_type": "stream",
          "text": [
            "Tratamento de valores nulos para MESES_RESIDENCIA concluído.\n",
            "Mediana utilizada para preenchimento de MESES_RESIDENCIA: 6.0\n",
            "Quantidade de valores nulos restantes em MESES_RESIDENCIA: 0\n"
          ]
        }
      ],
      "source": [
        "# Tratamento de valores nulos para MESES_RESIDENCIA usando a mediana\n",
        "meses_residencia_median = dataset['MESES_RESIDENCIA'].median()\n",
        "dataset['MESES_RESIDENCIA'] = dataset['MESES_RESIDENCIA'].fillna(meses_residencia_median)\n",
        "print(\"Tratamento de valores nulos para MESES_RESIDENCIA concluído.\")\n",
        "print(\"Mediana utilizada para preenchimento de MESES_RESIDENCIA:\", meses_residencia_median)\n",
        "print(\"Quantidade de valores nulos restantes em MESES_RESIDENCIA:\", dataset['MESES_RESIDENCIA'].isnull().sum())\n"
      ]
    },
    {
      "cell_type": "markdown",
      "metadata": {
        "id": "uL4KA6hVtTuH"
      },
      "source": [
        "#### Tratamento de Valores Nulos em Variáveis Categóricas"
      ]
    },
    {
      "cell_type": "markdown",
      "metadata": {
        "id": "dgYDDBFPtTuH"
      },
      "source": [
        "Colunas tratadas:\n",
        "- TIPO_OCUPACAO\n",
        "- CODIGO_PROFISSAO\n",
        "- CODIGO_PROFISSAO_CONJUGE\n",
        "- NIVEL_EDUCACIONAL_CONJUGE\n",
        "- BAIRRO_PROFISSIONAL\n",
        "- CIDADE_PROFISSIONAL"
      ]
    },
    {
      "cell_type": "code",
      "execution_count": 28,
      "metadata": {
        "id": "SPCVHZfvtTuH"
      },
      "outputs": [],
      "source": [
        "# Substituindo valores nulos por 999 para colunas numéricas\n",
        "colunas_numericas = ['CODIGO_PROFISSAO', 'CODIGO_PROFISSAO_CONJUGE', 'NIVEL_EDUCACIONAL_CONJUGE']\n",
        "for coluna in colunas_numericas:\n",
        "    dataset[coluna] = dataset[coluna].fillna(999)"
      ]
    },
    {
      "cell_type": "code",
      "execution_count": 29,
      "metadata": {
        "colab": {
          "base_uri": "https://localhost:8080/"
        },
        "id": "0_Q8qwIctTuH",
        "outputId": "c8888e8f-193f-4c8c-a3c4-d6b4e94ae8af"
      },
      "outputs": [
        {
          "name": "stdout",
          "output_type": "stream",
          "text": [
            "Colunas com valores nulos:\n",
            "Empty DataFrame\n",
            "Columns: [Quantidade de Nulos, Porcentagem de Nulos (%)]\n",
            "Index: []\n"
          ]
        }
      ],
      "source": [
        "# Calcula a quantidade de valores nulos para cada coluna\n",
        "null_counts = dataset.isnull().sum()\n",
        "\n",
        "# Filtra apenas as colunas que possuem pelo menos um valor nulo\n",
        "columns_with_nulls = null_counts[null_counts > 0]\n",
        "\n",
        "# Cria um novo DataFrame com as colunas que possuem valores nulos\n",
        "df_nulls = pd.DataFrame({'Quantidade de Nulos': columns_with_nulls})\n",
        "\n",
        "# Calcula a porcentagem de valores nulos para cada coluna\n",
        "df_nulls['Porcentagem de Nulos (%)'] = (df_nulls['Quantidade de Nulos'] / len(dataset)) * 100\n",
        "\n",
        "# Organiza df_nulls em ordem crescente da coluna 'Quantidade de Nulos'\n",
        "df_nulls = df_nulls.sort_values(by='Quantidade de Nulos')\n",
        "\n",
        "\n",
        "# Imprime o DataFrame com a quantidade e a porcentagem de valores nulos para cada coluna\n",
        "print(\"Colunas com valores nulos:\")\n",
        "print(df_nulls)"
      ]
    },
    {
      "cell_type": "code",
      "execution_count": 30,
      "metadata": {
        "colab": {
          "base_uri": "https://localhost:8080/"
        },
        "id": "DSJKIxNZDS5s",
        "outputId": "e431d534-e4b8-48db-825c-d6db62709a36"
      },
      "outputs": [
        {
          "name": "stdout",
          "output_type": "stream",
          "text": [
            "<class 'pandas.core.frame.DataFrame'>\n",
            "RangeIndex: 49999 entries, 0 to 49998\n",
            "Data columns (total 36 columns):\n",
            " #   Column                             Non-Null Count  Dtype  \n",
            "---  ------                             --------------  -----  \n",
            " 0   DIA_PAGAMENTO                      49999 non-null  int64  \n",
            " 1   TIPO_ENVIO_APLICACAO               49999 non-null  object \n",
            " 2   TIPO_ENDERECO_POSTAL               49999 non-null  int64  \n",
            " 3   SEXO                               49999 non-null  object \n",
            " 4   QUANT_DEPENDENTES                  49999 non-null  int64  \n",
            " 5   FLAG_TELEFONE_RESIDENCIAL          49999 non-null  object \n",
            " 6   CODIGO_AREA_TELEFONE_RESIDENCIAL   49999 non-null  object \n",
            " 7   TIPO_RESIDENCIA                    49999 non-null  float64\n",
            " 8   MESES_RESIDENCIA                   49999 non-null  float64\n",
            " 9   FLAG_EMAIL                         49999 non-null  int64  \n",
            " 10  RENDA_PESSOAL_MENSAL               49999 non-null  float64\n",
            " 11  OUTRAS_RENDAS                      49999 non-null  float64\n",
            " 12  FLAG_VISA                          49999 non-null  int64  \n",
            " 13  FLAG_MASTERCARD                    49999 non-null  int64  \n",
            " 14  FLAG_DINERS                        49999 non-null  int64  \n",
            " 15  FLAG_AMERICAN_EXPRESS              49999 non-null  int64  \n",
            " 16  FLAG_OUTROS_CARTOES                49999 non-null  int64  \n",
            " 17  QUANT_CONTAS_BANCARIAS             49999 non-null  int64  \n",
            " 18  QUANT_CONTAS_BANCARIAS_ESPECIAIS   49999 non-null  int64  \n",
            " 19  VALOR_PATRIMONIO_PESSOAL           49999 non-null  float64\n",
            " 20  QUANT_CARROS                       49999 non-null  int64  \n",
            " 21  EMPRESA                            49999 non-null  object \n",
            " 22  FLAG_TELEFONE_PROFISSIONAL         49999 non-null  object \n",
            " 23  CODIGO_AREA_TELEFONE_PROFISSIONAL  49999 non-null  object \n",
            " 24  MESES_NO_TRABALHO                  49999 non-null  int64  \n",
            " 25  CODIGO_PROFISSAO                   49999 non-null  float64\n",
            " 26  TIPO_OCUPACAO                      49999 non-null  float64\n",
            " 27  CODIGO_PROFISSAO_CONJUGE           49999 non-null  float64\n",
            " 28  NIVEL_EDUCACIONAL_CONJUGE          49999 non-null  float64\n",
            " 29  PRODUTO                            49999 non-null  int64  \n",
            " 30  IDADE                              49999 non-null  int64  \n",
            " 31  CEP_RESIDENCIAL_3                  49999 non-null  object \n",
            " 32  CEP_PROFISSIONAL_3                 49999 non-null  object \n",
            " 33  ROTULO_ALVO_MAU=1                  49999 non-null  int64  \n",
            " 34  REGIAO_PROFISSIONAL                49999 non-null  object \n",
            " 35  REGIAO_RESIDENCIAL                 49999 non-null  object \n",
            "dtypes: float64(9), int64(16), object(11)\n",
            "memory usage: 13.7+ MB\n"
          ]
        }
      ],
      "source": [
        "dataset.info()"
      ]
    },
    {
      "cell_type": "markdown",
      "metadata": {
        "id": "RHzkldfwblei"
      },
      "source": [
        "### **Análise dos Dados Existentes**"
      ]
    },
    {
      "cell_type": "markdown",
      "metadata": {
        "id": "zFiYuBEVhyXC"
      },
      "source": [
        "_Para as variáveis onde há todos os dados, é necessário entender se os dados existentes fazem sentido_"
      ]
    },
    {
      "cell_type": "markdown",
      "metadata": {
        "id": "R9FKjm-bjQr2"
      },
      "source": [
        "Vamos começar analisando as variáveis binárias e categoricas. Variáveis como renda e patrimônio possuem muitos valores possíveis e sua coerência será analisada posteriormente a partir de análises de outliers. Enquanto as variáveis de texto como cidade e bairro não serão analisadas por existir inumeras possibilidades. As variáveis e CEP serão analisadas isoladamente"
      ]
    },
    {
      "cell_type": "markdown",
      "metadata": {
        "id": "jAT1TK6bj8fx"
      },
      "source": [
        "#### **Análise Binárias e Categoricas**"
      ]
    },
    {
      "cell_type": "markdown",
      "metadata": {
        "id": "a6wC0w0rtTuJ"
      },
      "source": [
        "_Aqui buscamos entender os tipos de dados únicos existentes para variáveis binárias e categóricas_"
      ]
    },
    {
      "cell_type": "code",
      "execution_count": 31,
      "metadata": {
        "id": "UardH5VBfw2v"
      },
      "outputs": [],
      "source": [
        "columns_to_drop_x = [\"CIDADE_NASCIMENTO\", \"CIDADE_RESIDENCIAL\", \"BAIRRO_RESIDENCIAL\", \"RENDA_PESSOAL_MENSAL\", \"OUTRAS_RENDAS\", \"VALOR_PATRIMONIO_PESSOAL\", \"CEP_RESIDENCIAL_3\", \"CEP_PROFISSIONAL_3\"]\n",
        "columns_without_nulls = dataset_sem_nulos.drop(columns=columns_to_drop_x)"
      ]
    },
    {
      "cell_type": "code",
      "execution_count": 32,
      "metadata": {
        "colab": {
          "base_uri": "https://localhost:8080/"
        },
        "id": "n61iFehhitOt",
        "outputId": "f743e077-3abf-41e1-b834-f40fb88daa0d"
      },
      "outputs": [
        {
          "name": "stdout",
          "output_type": "stream",
          "text": [
            "Coluna: ID_CLIENTE\n",
            "[    2     3     4 ... 49998 49999 50000]\n",
            "--------------------\n",
            "Coluna: TIPO_FUNCIONARIO\n",
            "['C']\n",
            "--------------------\n",
            "Coluna: DIA_PAGAMENTO\n",
            "[15  5 20 10 25  1]\n",
            "--------------------\n",
            "Coluna: TIPO_ENVIO_APLICACAO\n",
            "['Carga' 'Web' '0']\n",
            "--------------------\n",
            "Coluna: QUANT_CARTOES_ADICIONAIS\n",
            "[0]\n",
            "--------------------\n",
            "Coluna: TIPO_ENDERECO_POSTAL\n",
            "[1 2]\n",
            "--------------------\n",
            "Coluna: SEXO\n",
            "['F' 'M' 'N' ' ']\n",
            "--------------------\n",
            "Coluna: ESTADO_CIVIL\n",
            "[2 1 5 3 7 4 6 0]\n",
            "--------------------\n",
            "Coluna: QUANT_DEPENDENTES\n",
            "[ 0  2  1  3  4  5  6  7 10  8 13 11  9 12 14 15 53]\n",
            "--------------------\n",
            "Coluna: NIVEL_EDUCACIONAL\n",
            "[0]\n",
            "--------------------\n",
            "Coluna: ESTADO_NASCIMENTO\n",
            "['RJ' 'RN' 'PE' 'MG' 'BA' 'SP' 'RS' 'CE' 'PA' 'PB' 'MA' ' ' 'GO' 'AC' 'MT'\n",
            " 'AL' 'AP' 'TO' 'SC' 'PR' 'MS' 'DF' 'PI' 'RO' 'ES' 'AM' 'SE' 'RR' 'XX']\n",
            "--------------------\n",
            "Coluna: NACIONALIDADE\n",
            "[1 0 2]\n",
            "--------------------\n",
            "Coluna: ESTADO_RESIDENCIAL\n",
            "['RJ' 'RN' 'PE' 'MG' 'BA' 'SP' 'RS' 'CE' 'AP' 'MS' 'DF' 'PB' 'MA' 'PA'\n",
            " 'GO' 'PR' 'MT' 'AL' 'ES' 'SC' 'AM' 'RO' 'PI' 'RR' 'TO' 'SE' 'AC']\n",
            "--------------------\n",
            "Coluna: FLAG_TELEFONE_RESIDENCIAL\n",
            "['Y' 'N']\n",
            "--------------------\n",
            "Coluna: CODIGO_AREA_TELEFONE_RESIDENCIAL\n",
            "['20' '105' ' ' '33' '81' '12' '54' '107' '32' '39' '5' '24' '123' '75'\n",
            " '66' '103' '112' '125' '58' '69' '40' '97' '71' '86' '119' '100' '27'\n",
            " '120' '16' '67' '50' '46' '14' '41' '117' '84' '18' '10' '111' '118'\n",
            " '126' '15' '30' '22' '43' '44' '48' '29' '77' '90' '62' '110' '61' '25'\n",
            " '68' '114' '73' '9' '85' '91' '13' '52' '122' '38' '76' '47' '121' '1'\n",
            " '79' '31' '124' '35' '82' '70' '11' '6' '109' '99' '98' '17' '93' '8'\n",
            " '113' '3' '21' '102' '59' '83' '89' '60' '56' '49' '95' '101' '34' '57'\n",
            " '2' '64' '45' '106' '80' '36']\n",
            "--------------------\n",
            "Coluna: FLAG_TELEFONE_MOVEL\n",
            "['N']\n",
            "--------------------\n",
            "Coluna: FLAG_EMAIL\n",
            "[1 0]\n",
            "--------------------\n",
            "Coluna: FLAG_VISA\n",
            "[0 1]\n",
            "--------------------\n",
            "Coluna: FLAG_MASTERCARD\n",
            "[0 1]\n",
            "--------------------\n",
            "Coluna: FLAG_DINERS\n",
            "[0 1]\n",
            "--------------------\n",
            "Coluna: FLAG_AMERICAN_EXPRESS\n",
            "[0 1]\n",
            "--------------------\n",
            "Coluna: FLAG_OUTROS_CARTOES\n",
            "[0 1]\n",
            "--------------------\n",
            "Coluna: QUANT_CONTAS_BANCARIAS\n",
            "[0 1 2]\n",
            "--------------------\n",
            "Coluna: QUANT_CONTAS_BANCARIAS_ESPECIAIS\n",
            "[0 1 2]\n",
            "--------------------\n",
            "Coluna: QUANT_CARROS\n",
            "[0 1]\n",
            "--------------------\n",
            "Coluna: EMPRESA\n",
            "['Y' 'N']\n",
            "--------------------\n",
            "Coluna: ESTADO_PROFISSIONAL\n",
            "[' ' 'MG' 'SP' 'RS' 'RN' 'CE' 'RJ' 'MS' 'PB' 'AL' 'ES' 'GO' 'BA' 'PR' 'PA'\n",
            " 'MT' 'SC' 'PE' 'PI' 'AP' 'DF' 'TO' 'RO' 'AM' 'SE' 'MA' 'AC' 'RR']\n",
            "--------------------\n",
            "Coluna: FLAG_TELEFONE_PROFISSIONAL\n",
            "['N' 'Y']\n",
            "--------------------\n",
            "Coluna: CODIGO_AREA_TELEFONE_PROFISSIONAL\n",
            "[' ' '5' '54' '32' '105' '107' '24' '75' '66' '103' '33' '100' '69' '58'\n",
            " '46' '81' '71' '111' '84' '15' '97' '73' '86' '12' '30' '44' '22' '29'\n",
            " '18' '90' '61' '20' '27' '119' '117' '67' '68' '77' '118' '85' '62' '50'\n",
            " '16' '40' '110' '91' '123' '14' '13' '125' '25' '41' '120' '38' '52' '39'\n",
            " '76' '48' '10' '122' '9' '126' '112' '43' '31' '124' '74' '47' '37' '72'\n",
            " '19' '114' '96' '94' '7' '6' '4' '55' '53' '3' '78' '116' '1' '104' '115'\n",
            " '2' '17']\n",
            "--------------------\n",
            "Coluna: MESES_NO_TRABALHO\n",
            "[ 0  9  2  4  1  5 15 27 19  3 14 10 30  8  7 32 18 26 35 12  6]\n",
            "--------------------\n",
            "Coluna: FLAG_DOCUMENTO_RESIDENCIAL\n",
            "[0]\n",
            "--------------------\n",
            "Coluna: FLAG_RG\n",
            "[0]\n",
            "--------------------\n",
            "Coluna: FLAG_CPF\n",
            "[0]\n",
            "--------------------\n",
            "Coluna: FLAG_COMPROVANTE_RENDA\n",
            "[0]\n",
            "--------------------\n",
            "Coluna: PRODUTO\n",
            "[1 2 7]\n",
            "--------------------\n",
            "Coluna: FLAG_REGISTRO_ACSP\n",
            "['N']\n",
            "--------------------\n",
            "Coluna: IDADE\n",
            "[ 34  27  61  48  40  28  31  41  36  29  19  49  32  58  69  39  42  47\n",
            "  30  26  60  45  56  71  38  53  79  22  37  55  25  67  21  50  51  84\n",
            "  43  44  57  33  20  63  62  24  54  64  92  65  73  91  35  76  80  59\n",
            "  46  70  66  52  23  77  68  18  74  72  75  78  83  81  98  97  85  90\n",
            "  87  82  17  86  94  89  88  96 106  95  99 101  93   6 100   7  14]\n",
            "--------------------\n",
            "Coluna: ROTULO_ALVO_MAU=1\n",
            "[1 0]\n",
            "--------------------\n"
          ]
        }
      ],
      "source": [
        "# Iterar sobre as colunas e imprimir os valores distintos\n",
        "for column in columns_without_nulls.columns:\n",
        "    print(f\"Coluna: {column}\")\n",
        "    print(columns_without_nulls[column].unique())\n",
        "    print(\"-\" * 20)"
      ]
    },
    {
      "cell_type": "markdown",
      "metadata": {
        "id": "rlYuGn2CtTuK"
      },
      "source": [
        "### Organizando os tipos de dados\n"
      ]
    },
    {
      "cell_type": "code",
      "execution_count": 33,
      "metadata": {
        "colab": {
          "base_uri": "https://localhost:8080/"
        },
        "id": "ZuZbQsactTuK",
        "outputId": "93cd6149-651c-4a11-ae9c-e7b98e0cbb38"
      },
      "outputs": [
        {
          "data": {
            "text/plain": [
              "['DIA_PAGAMENTO',\n",
              " 'TIPO_ENVIO_APLICACAO',\n",
              " 'TIPO_ENDERECO_POSTAL',\n",
              " 'SEXO',\n",
              " 'QUANT_DEPENDENTES',\n",
              " 'FLAG_TELEFONE_RESIDENCIAL',\n",
              " 'CODIGO_AREA_TELEFONE_RESIDENCIAL',\n",
              " 'TIPO_RESIDENCIA',\n",
              " 'MESES_RESIDENCIA',\n",
              " 'FLAG_EMAIL',\n",
              " 'RENDA_PESSOAL_MENSAL',\n",
              " 'OUTRAS_RENDAS',\n",
              " 'FLAG_VISA',\n",
              " 'FLAG_MASTERCARD',\n",
              " 'FLAG_DINERS',\n",
              " 'FLAG_AMERICAN_EXPRESS',\n",
              " 'FLAG_OUTROS_CARTOES',\n",
              " 'QUANT_CONTAS_BANCARIAS',\n",
              " 'QUANT_CONTAS_BANCARIAS_ESPECIAIS',\n",
              " 'VALOR_PATRIMONIO_PESSOAL',\n",
              " 'QUANT_CARROS',\n",
              " 'EMPRESA',\n",
              " 'FLAG_TELEFONE_PROFISSIONAL',\n",
              " 'CODIGO_AREA_TELEFONE_PROFISSIONAL',\n",
              " 'MESES_NO_TRABALHO',\n",
              " 'CODIGO_PROFISSAO',\n",
              " 'TIPO_OCUPACAO',\n",
              " 'CODIGO_PROFISSAO_CONJUGE',\n",
              " 'NIVEL_EDUCACIONAL_CONJUGE',\n",
              " 'PRODUTO',\n",
              " 'IDADE',\n",
              " 'CEP_RESIDENCIAL_3',\n",
              " 'CEP_PROFISSIONAL_3',\n",
              " 'ROTULO_ALVO_MAU=1',\n",
              " 'REGIAO_PROFISSIONAL',\n",
              " 'REGIAO_RESIDENCIAL']"
            ]
          },
          "execution_count": 33,
          "metadata": {},
          "output_type": "execute_result"
        }
      ],
      "source": [
        "dataset.columns.tolist()"
      ]
    },
    {
      "cell_type": "code",
      "execution_count": 34,
      "metadata": {
        "id": "s5RsejLNtTuL"
      },
      "outputs": [],
      "source": [
        "datatypes = {\n",
        "    'DIA_PAGAMENTO': object,\n",
        "    'TIPO_ENVIO_APLICACAO': object,\n",
        "    'TIPO_ENDERECO_POSTAL': object,\n",
        "    'SEXO': object,\n",
        "    'QUANT_DEPENDENTES': int,\n",
        "    'FLAG_TELEFONE_RESIDENCIAL': bool,\n",
        "    'CODIGO_AREA_TELEFONE_RESIDENCIAL': object,\n",
        "    'TIPO_RESIDENCIA': object,\n",
        "    'MESES_RESIDENCIA': int,\n",
        "    'FLAG_EMAIL': bool,\n",
        "    'RENDA_PESSOAL_MENSAL': float,\n",
        "    'OUTRAS_RENDAS': float,\n",
        "    'FLAG_VISA': bool,\n",
        "    'FLAG_MASTERCARD': bool,\n",
        "    'FLAG_DINERS': bool,\n",
        "    'FLAG_AMERICAN_EXPRESS': bool,\n",
        "    'FLAG_OUTROS_CARTOES': bool,\n",
        "    'QUANT_CONTAS_BANCARIAS': int,\n",
        "    'QUANT_CONTAS_BANCARIAS_ESPECIAIS': int,\n",
        "    'VALOR_PATRIMONIO_PESSOAL': float,\n",
        "    'QUANT_CARROS': int,\n",
        "    'EMPRESA': bool,\n",
        "    'FLAG_TELEFONE_PROFISSIONAL': bool,\n",
        "    'CODIGO_AREA_TELEFONE_PROFISSIONAL': object,\n",
        "    'MESES_NO_TRABALHO': int,\n",
        "    'CODIGO_PROFISSAO': object,\n",
        "    'TIPO_OCUPACAO': object,\n",
        "    'CODIGO_PROFISSAO_CONJUGE': object,\n",
        "    'NIVEL_EDUCACIONAL_CONJUGE': object,\n",
        "    'PRODUTO': object,\n",
        "    'IDADE': int,\n",
        "    'CEP_RESIDENCIAL_3': str,\n",
        "    'CEP_PROFISSIONAL_3': str,\n",
        "    'ROTULO_ALVO_MAU=1': bool\n",
        "}"
      ]
    },
    {
      "cell_type": "code",
      "execution_count": 35,
      "metadata": {
        "id": "zFSZCVoxtTuL"
      },
      "outputs": [],
      "source": [
        "dataset = dataset.astype(datatypes)\n"
      ]
    },
    {
      "cell_type": "markdown",
      "metadata": {
        "id": "rUAoI0edkDPv"
      },
      "source": [
        "#### **Análise dados numéricos**"
      ]
    },
    {
      "cell_type": "code",
      "execution_count": 36,
      "metadata": {
        "colab": {
          "base_uri": "https://localhost:8080/",
          "height": 1000
        },
        "id": "LOpzIhINjwfk",
        "outputId": "0e2cfce0-e817-43a8-a983-e0fe1ed3e9b1"
      },
      "outputs": [
        {
          "data": {
            "text/plain": [
              "DIA_PAGAMENTO                         object\n",
              "TIPO_ENVIO_APLICACAO                  object\n",
              "TIPO_ENDERECO_POSTAL                  object\n",
              "SEXO                                  object\n",
              "QUANT_DEPENDENTES                      int64\n",
              "FLAG_TELEFONE_RESIDENCIAL               bool\n",
              "CODIGO_AREA_TELEFONE_RESIDENCIAL      object\n",
              "TIPO_RESIDENCIA                       object\n",
              "MESES_RESIDENCIA                       int64\n",
              "FLAG_EMAIL                              bool\n",
              "RENDA_PESSOAL_MENSAL                 float64\n",
              "OUTRAS_RENDAS                        float64\n",
              "FLAG_VISA                               bool\n",
              "FLAG_MASTERCARD                         bool\n",
              "FLAG_DINERS                             bool\n",
              "FLAG_AMERICAN_EXPRESS                   bool\n",
              "FLAG_OUTROS_CARTOES                     bool\n",
              "QUANT_CONTAS_BANCARIAS                 int64\n",
              "QUANT_CONTAS_BANCARIAS_ESPECIAIS       int64\n",
              "VALOR_PATRIMONIO_PESSOAL             float64\n",
              "QUANT_CARROS                           int64\n",
              "EMPRESA                                 bool\n",
              "FLAG_TELEFONE_PROFISSIONAL              bool\n",
              "CODIGO_AREA_TELEFONE_PROFISSIONAL     object\n",
              "MESES_NO_TRABALHO                      int64\n",
              "CODIGO_PROFISSAO                      object\n",
              "TIPO_OCUPACAO                         object\n",
              "CODIGO_PROFISSAO_CONJUGE              object\n",
              "NIVEL_EDUCACIONAL_CONJUGE             object\n",
              "PRODUTO                               object\n",
              "IDADE                                  int64\n",
              "CEP_RESIDENCIAL_3                     object\n",
              "CEP_PROFISSIONAL_3                    object\n",
              "ROTULO_ALVO_MAU=1                       bool\n",
              "REGIAO_PROFISSIONAL                   object\n",
              "REGIAO_RESIDENCIAL                    object\n",
              "dtype: object"
            ]
          },
          "execution_count": 36,
          "metadata": {},
          "output_type": "execute_result"
        }
      ],
      "source": [
        "dataset.dtypes"
      ]
    },
    {
      "cell_type": "markdown",
      "metadata": {
        "id": "r8MiOjkAtTuL"
      },
      "source": [
        "Avaliar quantidade de outliers e distrivuição para tomada de decisão de tratamento e tipo de escalonamento"
      ]
    },
    {
      "cell_type": "markdown",
      "metadata": {
        "id": "Oz7mYrQGtTuM"
      },
      "source": [
        "_Inputando valroes medianos para variáveis nulas_"
      ]
    },
    {
      "cell_type": "code",
      "execution_count": 37,
      "metadata": {
        "id": "tVzJOKnptTuM"
      },
      "outputs": [],
      "source": [
        "from sklearn.preprocessing import StandardScaler\n",
        "from sklearn.impute import SimpleImputer\n",
        "\n",
        "num_dataset = dataset.select_dtypes(exclude='object').drop(columns=['ROTULO_ALVO_MAU=1'])\n",
        "\n",
        "# criar um objeto Imputer com a estratégia 'mediana'\n",
        "imputer = SimpleImputer(missing_values=np.nan, strategy='median')\n",
        "\n",
        "# ajustar o imputer ao conjunto de dados\n",
        "imputer = imputer.fit(num_dataset)\n",
        "\n",
        "# transformar o conjunto de dados para preencher valores ausentes\n",
        "dataset_filled = imputer.transform(num_dataset)\n",
        "\n",
        "# criar um novo dataframe com os valores preenchidos\n",
        "dataset_filled = pd.DataFrame(dataset_filled, columns=num_dataset.columns)"
      ]
    },
    {
      "cell_type": "markdown",
      "metadata": {
        "id": "JPa9qVkNtTuM"
      },
      "source": [
        "_Escalonamento das variáveis numéricas_"
      ]
    },
    {
      "cell_type": "code",
      "execution_count": 38,
      "metadata": {
        "id": "vHv4lx-3tTuN"
      },
      "outputs": [],
      "source": [
        "from sklearn.preprocessing import StandardScaler\n",
        "\n",
        "# criar um objeto StandardScaler\n",
        "scaler = StandardScaler()\n",
        "\n",
        "# ajustar o scaler ao conjunto de dados\n",
        "scaler.fit(dataset_filled)\n",
        "\n",
        "# transformar o conjunto de dados para escalonar os dados\n",
        "dataset_scaled = scaler.transform(dataset_filled)\n",
        "\n",
        "# criar um novo dataframe com os valores escalonados\n",
        "dataset_scaled = pd.DataFrame(dataset_scaled, columns=dataset_filled.columns)"
      ]
    },
    {
      "cell_type": "markdown",
      "metadata": {
        "id": "s6EP0yN2tTuN"
      },
      "source": [
        "_Criando o dataframe final para inclusão no modelo_"
      ]
    },
    {
      "cell_type": "code",
      "execution_count": 39,
      "metadata": {
        "colab": {
          "base_uri": "https://localhost:8080/",
          "height": 256
        },
        "id": "V9F9d2g_tTuN",
        "outputId": "93b5ff9f-0187-4c45-a235-350a697d573c"
      },
      "outputs": [
        {
          "data": {
            "text/html": [
              "<div>\n",
              "<style scoped>\n",
              "    .dataframe tbody tr th:only-of-type {\n",
              "        vertical-align: middle;\n",
              "    }\n",
              "\n",
              "    .dataframe tbody tr th {\n",
              "        vertical-align: top;\n",
              "    }\n",
              "\n",
              "    .dataframe thead th {\n",
              "        text-align: right;\n",
              "    }\n",
              "</style>\n",
              "<table border=\"1\" class=\"dataframe\">\n",
              "  <thead>\n",
              "    <tr style=\"text-align: right;\">\n",
              "      <th></th>\n",
              "      <th>DIA_PAGAMENTO_5</th>\n",
              "      <th>DIA_PAGAMENTO_10</th>\n",
              "      <th>DIA_PAGAMENTO_15</th>\n",
              "      <th>DIA_PAGAMENTO_20</th>\n",
              "      <th>DIA_PAGAMENTO_25</th>\n",
              "      <th>TIPO_ENVIO_APLICACAO_Carga</th>\n",
              "      <th>TIPO_ENVIO_APLICACAO_Web</th>\n",
              "      <th>TIPO_ENDERECO_POSTAL_2</th>\n",
              "      <th>SEXO_F</th>\n",
              "      <th>SEXO_M</th>\n",
              "      <th>...</th>\n",
              "      <th>FLAG_OUTROS_CARTOES</th>\n",
              "      <th>QUANT_CONTAS_BANCARIAS</th>\n",
              "      <th>QUANT_CONTAS_BANCARIAS_ESPECIAIS</th>\n",
              "      <th>VALOR_PATRIMONIO_PESSOAL</th>\n",
              "      <th>QUANT_CARROS</th>\n",
              "      <th>EMPRESA</th>\n",
              "      <th>FLAG_TELEFONE_PROFISSIONAL</th>\n",
              "      <th>MESES_NO_TRABALHO</th>\n",
              "      <th>IDADE</th>\n",
              "      <th>ROTULO_ALVO_MAU=1</th>\n",
              "    </tr>\n",
              "  </thead>\n",
              "  <tbody>\n",
              "    <tr>\n",
              "      <th>0</th>\n",
              "      <td>False</td>\n",
              "      <td>False</td>\n",
              "      <td>True</td>\n",
              "      <td>False</td>\n",
              "      <td>False</td>\n",
              "      <td>True</td>\n",
              "      <td>False</td>\n",
              "      <td>False</td>\n",
              "      <td>True</td>\n",
              "      <td>False</td>\n",
              "      <td>...</td>\n",
              "      <td>-0.045213</td>\n",
              "      <td>-0.745592</td>\n",
              "      <td>-0.745592</td>\n",
              "      <td>-0.054828</td>\n",
              "      <td>-0.711588</td>\n",
              "      <td>0.0</td>\n",
              "      <td>0.0</td>\n",
              "      <td>-0.024306</td>\n",
              "      <td>-0.617037</td>\n",
              "      <td>True</td>\n",
              "    </tr>\n",
              "    <tr>\n",
              "      <th>1</th>\n",
              "      <td>True</td>\n",
              "      <td>False</td>\n",
              "      <td>False</td>\n",
              "      <td>False</td>\n",
              "      <td>False</td>\n",
              "      <td>False</td>\n",
              "      <td>True</td>\n",
              "      <td>False</td>\n",
              "      <td>True</td>\n",
              "      <td>False</td>\n",
              "      <td>...</td>\n",
              "      <td>-0.045213</td>\n",
              "      <td>-0.745592</td>\n",
              "      <td>-0.745592</td>\n",
              "      <td>-0.054828</td>\n",
              "      <td>-0.711588</td>\n",
              "      <td>0.0</td>\n",
              "      <td>0.0</td>\n",
              "      <td>-0.024306</td>\n",
              "      <td>-1.084047</td>\n",
              "      <td>False</td>\n",
              "    </tr>\n",
              "    <tr>\n",
              "      <th>2</th>\n",
              "      <td>False</td>\n",
              "      <td>False</td>\n",
              "      <td>False</td>\n",
              "      <td>True</td>\n",
              "      <td>False</td>\n",
              "      <td>False</td>\n",
              "      <td>True</td>\n",
              "      <td>False</td>\n",
              "      <td>True</td>\n",
              "      <td>False</td>\n",
              "      <td>...</td>\n",
              "      <td>-0.045213</td>\n",
              "      <td>-0.745592</td>\n",
              "      <td>-0.745592</td>\n",
              "      <td>-0.054828</td>\n",
              "      <td>-0.711588</td>\n",
              "      <td>0.0</td>\n",
              "      <td>0.0</td>\n",
              "      <td>-0.024306</td>\n",
              "      <td>1.184288</td>\n",
              "      <td>False</td>\n",
              "    </tr>\n",
              "    <tr>\n",
              "      <th>3</th>\n",
              "      <td>False</td>\n",
              "      <td>True</td>\n",
              "      <td>False</td>\n",
              "      <td>False</td>\n",
              "      <td>False</td>\n",
              "      <td>False</td>\n",
              "      <td>True</td>\n",
              "      <td>False</td>\n",
              "      <td>False</td>\n",
              "      <td>True</td>\n",
              "      <td>...</td>\n",
              "      <td>-0.045213</td>\n",
              "      <td>-0.745592</td>\n",
              "      <td>-0.745592</td>\n",
              "      <td>-0.054828</td>\n",
              "      <td>-0.711588</td>\n",
              "      <td>0.0</td>\n",
              "      <td>0.0</td>\n",
              "      <td>-0.024306</td>\n",
              "      <td>0.316984</td>\n",
              "      <td>True</td>\n",
              "    </tr>\n",
              "    <tr>\n",
              "      <th>4</th>\n",
              "      <td>False</td>\n",
              "      <td>True</td>\n",
              "      <td>False</td>\n",
              "      <td>False</td>\n",
              "      <td>False</td>\n",
              "      <td>False</td>\n",
              "      <td>False</td>\n",
              "      <td>False</td>\n",
              "      <td>False</td>\n",
              "      <td>True</td>\n",
              "      <td>...</td>\n",
              "      <td>-0.045213</td>\n",
              "      <td>1.337956</td>\n",
              "      <td>1.337956</td>\n",
              "      <td>-0.054828</td>\n",
              "      <td>1.405308</td>\n",
              "      <td>0.0</td>\n",
              "      <td>0.0</td>\n",
              "      <td>-0.024306</td>\n",
              "      <td>-0.216742</td>\n",
              "      <td>True</td>\n",
              "    </tr>\n",
              "  </tbody>\n",
              "</table>\n",
              "<p>5 rows × 1877 columns</p>\n",
              "</div>"
            ],
            "text/plain": [
              "   DIA_PAGAMENTO_5  DIA_PAGAMENTO_10  DIA_PAGAMENTO_15  DIA_PAGAMENTO_20  \\\n",
              "0            False             False              True             False   \n",
              "1             True             False             False             False   \n",
              "2            False             False             False              True   \n",
              "3            False              True             False             False   \n",
              "4            False              True             False             False   \n",
              "\n",
              "   DIA_PAGAMENTO_25  TIPO_ENVIO_APLICACAO_Carga  TIPO_ENVIO_APLICACAO_Web  \\\n",
              "0             False                        True                     False   \n",
              "1             False                       False                      True   \n",
              "2             False                       False                      True   \n",
              "3             False                       False                      True   \n",
              "4             False                       False                     False   \n",
              "\n",
              "   TIPO_ENDERECO_POSTAL_2  SEXO_F  SEXO_M  ...  FLAG_OUTROS_CARTOES  \\\n",
              "0                   False    True   False  ...            -0.045213   \n",
              "1                   False    True   False  ...            -0.045213   \n",
              "2                   False    True   False  ...            -0.045213   \n",
              "3                   False   False    True  ...            -0.045213   \n",
              "4                   False   False    True  ...            -0.045213   \n",
              "\n",
              "   QUANT_CONTAS_BANCARIAS  QUANT_CONTAS_BANCARIAS_ESPECIAIS  \\\n",
              "0               -0.745592                         -0.745592   \n",
              "1               -0.745592                         -0.745592   \n",
              "2               -0.745592                         -0.745592   \n",
              "3               -0.745592                         -0.745592   \n",
              "4                1.337956                          1.337956   \n",
              "\n",
              "   VALOR_PATRIMONIO_PESSOAL  QUANT_CARROS  EMPRESA  \\\n",
              "0                 -0.054828     -0.711588      0.0   \n",
              "1                 -0.054828     -0.711588      0.0   \n",
              "2                 -0.054828     -0.711588      0.0   \n",
              "3                 -0.054828     -0.711588      0.0   \n",
              "4                 -0.054828      1.405308      0.0   \n",
              "\n",
              "   FLAG_TELEFONE_PROFISSIONAL  MESES_NO_TRABALHO     IDADE  ROTULO_ALVO_MAU=1  \n",
              "0                         0.0          -0.024306 -0.617037               True  \n",
              "1                         0.0          -0.024306 -1.084047              False  \n",
              "2                         0.0          -0.024306  1.184288              False  \n",
              "3                         0.0          -0.024306  0.316984               True  \n",
              "4                         0.0          -0.024306 -0.216742               True  \n",
              "\n",
              "[5 rows x 1877 columns]"
            ]
          },
          "execution_count": 39,
          "metadata": {},
          "output_type": "execute_result"
        }
      ],
      "source": [
        "# Criando dummies\n",
        "# Concatenando dataframe final\n",
        "\n",
        "cat_columns = dataset.select_dtypes(include='object')\n",
        "\n",
        "# Geracao de dummies com One Hot Encoding\n",
        "dummies = pd.get_dummies(dataset[cat_columns.columns], drop_first=True, prefix=cat_columns.columns)\n",
        "\n",
        "\n",
        "final_dataset = pd.concat([dummies,dataset_scaled,dataset['ROTULO_ALVO_MAU=1']],axis=1)\n",
        "\n",
        "final_dataset.reset_index(drop=True)\n",
        "\n",
        "final_dataset.head()"
      ]
    },
    {
      "cell_type": "markdown",
      "metadata": {
        "id": "z_IuwsvBtTuO"
      },
      "source": [
        "### Modelo final"
      ]
    },
    {
      "cell_type": "code",
      "execution_count": 40,
      "metadata": {
        "id": "wYXxaYOetTuO"
      },
      "outputs": [],
      "source": [
        "# Separando o dataset entre treino e teste\n",
        "# A critério de um baseline, não iremos utilizar as variáveis categóricas\n",
        "\n",
        "X = final_dataset.drop(columns=['ROTULO_ALVO_MAU=1'])\n",
        "\n",
        "y = final_dataset['ROTULO_ALVO_MAU=1']\n",
        "\n",
        "X_train, X_test, y_train, y_test = train_test_split(X, y, test_size=0.3, random_state=42)"
      ]
    },
    {
      "cell_type": "code",
      "execution_count": 41,
      "metadata": {
        "colab": {
          "base_uri": "https://localhost:8080/",
          "height": 241
        },
        "id": "A3SmFa2MtTuO",
        "outputId": "4bbd60ba-7746-401b-a5cb-2e38e3e6928a"
      },
      "outputs": [
        {
          "data": {
            "text/plain": [
              "0     True\n",
              "1    False\n",
              "2    False\n",
              "3     True\n",
              "4     True\n",
              "Name: ROTULO_ALVO_MAU=1, dtype: bool"
            ]
          },
          "execution_count": 41,
          "metadata": {},
          "output_type": "execute_result"
        }
      ],
      "source": [
        "y.head()"
      ]
    },
    {
      "cell_type": "code",
      "execution_count": 51,
      "metadata": {
        "colab": {
          "base_uri": "https://localhost:8080/"
        },
        "id": "YCgDcF62tTuO",
        "outputId": "104f919c-e417-4633-f13a-6bb867b3385a"
      },
      "outputs": [
        {
          "name": "stdout",
          "output_type": "stream",
          "text": [
            "K value: 10\n",
            "Acurácia: 0.7319333333333333\n",
            "              precision    recall  f1-score   support\n",
            "\n",
            "       False       0.75      0.97      0.84     11132\n",
            "        True       0.37      0.06      0.10      3868\n",
            "\n",
            "    accuracy                           0.73     15000\n",
            "   macro avg       0.56      0.51      0.47     15000\n",
            "weighted avg       0.65      0.73      0.65     15000\n",
            "\n",
            "[[10761   371]\n",
            " [ 3650   218]]\n"
          ]
        }
      ],
      "source": [
        "# Define o KNN Classifier com K fixo em 10\n",
        "knn = KNeighborsClassifier(n_neighbors=10)\n",
        "\n",
        "# Treina o modelo\n",
        "knn.fit(X_train, y_train)\n",
        "\n",
        "# Faz as previsões\n",
        "y_pred = knn.predict(X_test)\n",
        "\n",
        "# Cálculo de acurácia\n",
        "accuracy = accuracy_score(y_test, y_pred)\n",
        "\n",
        "# Geração do reporte de classificação\n",
        "report = classification_report(y_test, y_pred)\n",
        "\n",
        "# Geração da matriz de confusão\n",
        "matrix = confusion_matrix(y_test, y_pred)\n",
        "\n",
        "print(f\"K value: 10\")\n",
        "print(f\"Acurácia: {accuracy}\")\n",
        "print(report)\n",
        "print(matrix)"
      ]
    },
    {
      "cell_type": "code",
      "execution_count": 52,
      "metadata": {
        "colab": {
          "base_uri": "https://localhost:8080/",
          "height": 81
        },
        "id": "49yz4Hv6tTuP",
        "outputId": "64310382-b44d-40ea-85c1-d0db4b9c7cae"
      },
      "outputs": [
        {
          "data": {
            "text/html": [
              "<style>#sk-container-id-2 {\n",
              "  /* Definition of color scheme common for light and dark mode */\n",
              "  --sklearn-color-text: black;\n",
              "  --sklearn-color-line: gray;\n",
              "  /* Definition of color scheme for unfitted estimators */\n",
              "  --sklearn-color-unfitted-level-0: #fff5e6;\n",
              "  --sklearn-color-unfitted-level-1: #f6e4d2;\n",
              "  --sklearn-color-unfitted-level-2: #ffe0b3;\n",
              "  --sklearn-color-unfitted-level-3: chocolate;\n",
              "  /* Definition of color scheme for fitted estimators */\n",
              "  --sklearn-color-fitted-level-0: #f0f8ff;\n",
              "  --sklearn-color-fitted-level-1: #d4ebff;\n",
              "  --sklearn-color-fitted-level-2: #b3dbfd;\n",
              "  --sklearn-color-fitted-level-3: cornflowerblue;\n",
              "\n",
              "  /* Specific color for light theme */\n",
              "  --sklearn-color-text-on-default-background: var(--sg-text-color, var(--theme-code-foreground, var(--jp-content-font-color1, black)));\n",
              "  --sklearn-color-background: var(--sg-background-color, var(--theme-background, var(--jp-layout-color0, white)));\n",
              "  --sklearn-color-border-box: var(--sg-text-color, var(--theme-code-foreground, var(--jp-content-font-color1, black)));\n",
              "  --sklearn-color-icon: #696969;\n",
              "\n",
              "  @media (prefers-color-scheme: dark) {\n",
              "    /* Redefinition of color scheme for dark theme */\n",
              "    --sklearn-color-text-on-default-background: var(--sg-text-color, var(--theme-code-foreground, var(--jp-content-font-color1, white)));\n",
              "    --sklearn-color-background: var(--sg-background-color, var(--theme-background, var(--jp-layout-color0, #111)));\n",
              "    --sklearn-color-border-box: var(--sg-text-color, var(--theme-code-foreground, var(--jp-content-font-color1, white)));\n",
              "    --sklearn-color-icon: #878787;\n",
              "  }\n",
              "}\n",
              "\n",
              "#sk-container-id-2 {\n",
              "  color: var(--sklearn-color-text);\n",
              "}\n",
              "\n",
              "#sk-container-id-2 pre {\n",
              "  padding: 0;\n",
              "}\n",
              "\n",
              "#sk-container-id-2 input.sk-hidden--visually {\n",
              "  border: 0;\n",
              "  clip: rect(1px 1px 1px 1px);\n",
              "  clip: rect(1px, 1px, 1px, 1px);\n",
              "  height: 1px;\n",
              "  margin: -1px;\n",
              "  overflow: hidden;\n",
              "  padding: 0;\n",
              "  position: absolute;\n",
              "  width: 1px;\n",
              "}\n",
              "\n",
              "#sk-container-id-2 div.sk-dashed-wrapped {\n",
              "  border: 1px dashed var(--sklearn-color-line);\n",
              "  margin: 0 0.4em 0.5em 0.4em;\n",
              "  box-sizing: border-box;\n",
              "  padding-bottom: 0.4em;\n",
              "  background-color: var(--sklearn-color-background);\n",
              "}\n",
              "\n",
              "#sk-container-id-2 div.sk-container {\n",
              "  /* jupyter's `normalize.less` sets `[hidden] { display: none; }`\n",
              "     but bootstrap.min.css set `[hidden] { display: none !important; }`\n",
              "     so we also need the `!important` here to be able to override the\n",
              "     default hidden behavior on the sphinx rendered scikit-learn.org.\n",
              "     See: https://github.com/scikit-learn/scikit-learn/issues/21755 */\n",
              "  display: inline-block !important;\n",
              "  position: relative;\n",
              "}\n",
              "\n",
              "#sk-container-id-2 div.sk-text-repr-fallback {\n",
              "  display: none;\n",
              "}\n",
              "\n",
              "div.sk-parallel-item,\n",
              "div.sk-serial,\n",
              "div.sk-item {\n",
              "  /* draw centered vertical line to link estimators */\n",
              "  background-image: linear-gradient(var(--sklearn-color-text-on-default-background), var(--sklearn-color-text-on-default-background));\n",
              "  background-size: 2px 100%;\n",
              "  background-repeat: no-repeat;\n",
              "  background-position: center center;\n",
              "}\n",
              "\n",
              "/* Parallel-specific style estimator block */\n",
              "\n",
              "#sk-container-id-2 div.sk-parallel-item::after {\n",
              "  content: \"\";\n",
              "  width: 100%;\n",
              "  border-bottom: 2px solid var(--sklearn-color-text-on-default-background);\n",
              "  flex-grow: 1;\n",
              "}\n",
              "\n",
              "#sk-container-id-2 div.sk-parallel {\n",
              "  display: flex;\n",
              "  align-items: stretch;\n",
              "  justify-content: center;\n",
              "  background-color: var(--sklearn-color-background);\n",
              "  position: relative;\n",
              "}\n",
              "\n",
              "#sk-container-id-2 div.sk-parallel-item {\n",
              "  display: flex;\n",
              "  flex-direction: column;\n",
              "}\n",
              "\n",
              "#sk-container-id-2 div.sk-parallel-item:first-child::after {\n",
              "  align-self: flex-end;\n",
              "  width: 50%;\n",
              "}\n",
              "\n",
              "#sk-container-id-2 div.sk-parallel-item:last-child::after {\n",
              "  align-self: flex-start;\n",
              "  width: 50%;\n",
              "}\n",
              "\n",
              "#sk-container-id-2 div.sk-parallel-item:only-child::after {\n",
              "  width: 0;\n",
              "}\n",
              "\n",
              "/* Serial-specific style estimator block */\n",
              "\n",
              "#sk-container-id-2 div.sk-serial {\n",
              "  display: flex;\n",
              "  flex-direction: column;\n",
              "  align-items: center;\n",
              "  background-color: var(--sklearn-color-background);\n",
              "  padding-right: 1em;\n",
              "  padding-left: 1em;\n",
              "}\n",
              "\n",
              "\n",
              "/* Toggleable style: style used for estimator/Pipeline/ColumnTransformer box that is\n",
              "clickable and can be expanded/collapsed.\n",
              "- Pipeline and ColumnTransformer use this feature and define the default style\n",
              "- Estimators will overwrite some part of the style using the `sk-estimator` class\n",
              "*/\n",
              "\n",
              "/* Pipeline and ColumnTransformer style (default) */\n",
              "\n",
              "#sk-container-id-2 div.sk-toggleable {\n",
              "  /* Default theme specific background. It is overwritten whether we have a\n",
              "  specific estimator or a Pipeline/ColumnTransformer */\n",
              "  background-color: var(--sklearn-color-background);\n",
              "}\n",
              "\n",
              "/* Toggleable label */\n",
              "#sk-container-id-2 label.sk-toggleable__label {\n",
              "  cursor: pointer;\n",
              "  display: block;\n",
              "  width: 100%;\n",
              "  margin-bottom: 0;\n",
              "  padding: 0.5em;\n",
              "  box-sizing: border-box;\n",
              "  text-align: center;\n",
              "}\n",
              "\n",
              "#sk-container-id-2 label.sk-toggleable__label-arrow:before {\n",
              "  /* Arrow on the left of the label */\n",
              "  content: \"▸\";\n",
              "  float: left;\n",
              "  margin-right: 0.25em;\n",
              "  color: var(--sklearn-color-icon);\n",
              "}\n",
              "\n",
              "#sk-container-id-2 label.sk-toggleable__label-arrow:hover:before {\n",
              "  color: var(--sklearn-color-text);\n",
              "}\n",
              "\n",
              "/* Toggleable content - dropdown */\n",
              "\n",
              "#sk-container-id-2 div.sk-toggleable__content {\n",
              "  max-height: 0;\n",
              "  max-width: 0;\n",
              "  overflow: hidden;\n",
              "  text-align: left;\n",
              "  /* unfitted */\n",
              "  background-color: var(--sklearn-color-unfitted-level-0);\n",
              "}\n",
              "\n",
              "#sk-container-id-2 div.sk-toggleable__content.fitted {\n",
              "  /* fitted */\n",
              "  background-color: var(--sklearn-color-fitted-level-0);\n",
              "}\n",
              "\n",
              "#sk-container-id-2 div.sk-toggleable__content pre {\n",
              "  margin: 0.2em;\n",
              "  border-radius: 0.25em;\n",
              "  color: var(--sklearn-color-text);\n",
              "  /* unfitted */\n",
              "  background-color: var(--sklearn-color-unfitted-level-0);\n",
              "}\n",
              "\n",
              "#sk-container-id-2 div.sk-toggleable__content.fitted pre {\n",
              "  /* unfitted */\n",
              "  background-color: var(--sklearn-color-fitted-level-0);\n",
              "}\n",
              "\n",
              "#sk-container-id-2 input.sk-toggleable__control:checked~div.sk-toggleable__content {\n",
              "  /* Expand drop-down */\n",
              "  max-height: 200px;\n",
              "  max-width: 100%;\n",
              "  overflow: auto;\n",
              "}\n",
              "\n",
              "#sk-container-id-2 input.sk-toggleable__control:checked~label.sk-toggleable__label-arrow:before {\n",
              "  content: \"▾\";\n",
              "}\n",
              "\n",
              "/* Pipeline/ColumnTransformer-specific style */\n",
              "\n",
              "#sk-container-id-2 div.sk-label input.sk-toggleable__control:checked~label.sk-toggleable__label {\n",
              "  color: var(--sklearn-color-text);\n",
              "  background-color: var(--sklearn-color-unfitted-level-2);\n",
              "}\n",
              "\n",
              "#sk-container-id-2 div.sk-label.fitted input.sk-toggleable__control:checked~label.sk-toggleable__label {\n",
              "  background-color: var(--sklearn-color-fitted-level-2);\n",
              "}\n",
              "\n",
              "/* Estimator-specific style */\n",
              "\n",
              "/* Colorize estimator box */\n",
              "#sk-container-id-2 div.sk-estimator input.sk-toggleable__control:checked~label.sk-toggleable__label {\n",
              "  /* unfitted */\n",
              "  background-color: var(--sklearn-color-unfitted-level-2);\n",
              "}\n",
              "\n",
              "#sk-container-id-2 div.sk-estimator.fitted input.sk-toggleable__control:checked~label.sk-toggleable__label {\n",
              "  /* fitted */\n",
              "  background-color: var(--sklearn-color-fitted-level-2);\n",
              "}\n",
              "\n",
              "#sk-container-id-2 div.sk-label label.sk-toggleable__label,\n",
              "#sk-container-id-2 div.sk-label label {\n",
              "  /* The background is the default theme color */\n",
              "  color: var(--sklearn-color-text-on-default-background);\n",
              "}\n",
              "\n",
              "/* On hover, darken the color of the background */\n",
              "#sk-container-id-2 div.sk-label:hover label.sk-toggleable__label {\n",
              "  color: var(--sklearn-color-text);\n",
              "  background-color: var(--sklearn-color-unfitted-level-2);\n",
              "}\n",
              "\n",
              "/* Label box, darken color on hover, fitted */\n",
              "#sk-container-id-2 div.sk-label.fitted:hover label.sk-toggleable__label.fitted {\n",
              "  color: var(--sklearn-color-text);\n",
              "  background-color: var(--sklearn-color-fitted-level-2);\n",
              "}\n",
              "\n",
              "/* Estimator label */\n",
              "\n",
              "#sk-container-id-2 div.sk-label label {\n",
              "  font-family: monospace;\n",
              "  font-weight: bold;\n",
              "  display: inline-block;\n",
              "  line-height: 1.2em;\n",
              "}\n",
              "\n",
              "#sk-container-id-2 div.sk-label-container {\n",
              "  text-align: center;\n",
              "}\n",
              "\n",
              "/* Estimator-specific */\n",
              "#sk-container-id-2 div.sk-estimator {\n",
              "  font-family: monospace;\n",
              "  border: 1px dotted var(--sklearn-color-border-box);\n",
              "  border-radius: 0.25em;\n",
              "  box-sizing: border-box;\n",
              "  margin-bottom: 0.5em;\n",
              "  /* unfitted */\n",
              "  background-color: var(--sklearn-color-unfitted-level-0);\n",
              "}\n",
              "\n",
              "#sk-container-id-2 div.sk-estimator.fitted {\n",
              "  /* fitted */\n",
              "  background-color: var(--sklearn-color-fitted-level-0);\n",
              "}\n",
              "\n",
              "/* on hover */\n",
              "#sk-container-id-2 div.sk-estimator:hover {\n",
              "  /* unfitted */\n",
              "  background-color: var(--sklearn-color-unfitted-level-2);\n",
              "}\n",
              "\n",
              "#sk-container-id-2 div.sk-estimator.fitted:hover {\n",
              "  /* fitted */\n",
              "  background-color: var(--sklearn-color-fitted-level-2);\n",
              "}\n",
              "\n",
              "/* Specification for estimator info (e.g. \"i\" and \"?\") */\n",
              "\n",
              "/* Common style for \"i\" and \"?\" */\n",
              "\n",
              ".sk-estimator-doc-link,\n",
              "a:link.sk-estimator-doc-link,\n",
              "a:visited.sk-estimator-doc-link {\n",
              "  float: right;\n",
              "  font-size: smaller;\n",
              "  line-height: 1em;\n",
              "  font-family: monospace;\n",
              "  background-color: var(--sklearn-color-background);\n",
              "  border-radius: 1em;\n",
              "  height: 1em;\n",
              "  width: 1em;\n",
              "  text-decoration: none !important;\n",
              "  margin-left: 1ex;\n",
              "  /* unfitted */\n",
              "  border: var(--sklearn-color-unfitted-level-1) 1pt solid;\n",
              "  color: var(--sklearn-color-unfitted-level-1);\n",
              "}\n",
              "\n",
              ".sk-estimator-doc-link.fitted,\n",
              "a:link.sk-estimator-doc-link.fitted,\n",
              "a:visited.sk-estimator-doc-link.fitted {\n",
              "  /* fitted */\n",
              "  border: var(--sklearn-color-fitted-level-1) 1pt solid;\n",
              "  color: var(--sklearn-color-fitted-level-1);\n",
              "}\n",
              "\n",
              "/* On hover */\n",
              "div.sk-estimator:hover .sk-estimator-doc-link:hover,\n",
              ".sk-estimator-doc-link:hover,\n",
              "div.sk-label-container:hover .sk-estimator-doc-link:hover,\n",
              ".sk-estimator-doc-link:hover {\n",
              "  /* unfitted */\n",
              "  background-color: var(--sklearn-color-unfitted-level-3);\n",
              "  color: var(--sklearn-color-background);\n",
              "  text-decoration: none;\n",
              "}\n",
              "\n",
              "div.sk-estimator.fitted:hover .sk-estimator-doc-link.fitted:hover,\n",
              ".sk-estimator-doc-link.fitted:hover,\n",
              "div.sk-label-container:hover .sk-estimator-doc-link.fitted:hover,\n",
              ".sk-estimator-doc-link.fitted:hover {\n",
              "  /* fitted */\n",
              "  background-color: var(--sklearn-color-fitted-level-3);\n",
              "  color: var(--sklearn-color-background);\n",
              "  text-decoration: none;\n",
              "}\n",
              "\n",
              "/* Span, style for the box shown on hovering the info icon */\n",
              ".sk-estimator-doc-link span {\n",
              "  display: none;\n",
              "  z-index: 9999;\n",
              "  position: relative;\n",
              "  font-weight: normal;\n",
              "  right: .2ex;\n",
              "  padding: .5ex;\n",
              "  margin: .5ex;\n",
              "  width: min-content;\n",
              "  min-width: 20ex;\n",
              "  max-width: 50ex;\n",
              "  color: var(--sklearn-color-text);\n",
              "  box-shadow: 2pt 2pt 4pt #999;\n",
              "  /* unfitted */\n",
              "  background: var(--sklearn-color-unfitted-level-0);\n",
              "  border: .5pt solid var(--sklearn-color-unfitted-level-3);\n",
              "}\n",
              "\n",
              ".sk-estimator-doc-link.fitted span {\n",
              "  /* fitted */\n",
              "  background: var(--sklearn-color-fitted-level-0);\n",
              "  border: var(--sklearn-color-fitted-level-3);\n",
              "}\n",
              "\n",
              ".sk-estimator-doc-link:hover span {\n",
              "  display: block;\n",
              "}\n",
              "\n",
              "/* \"?\"-specific style due to the `<a>` HTML tag */\n",
              "\n",
              "#sk-container-id-2 a.estimator_doc_link {\n",
              "  float: right;\n",
              "  font-size: 1rem;\n",
              "  line-height: 1em;\n",
              "  font-family: monospace;\n",
              "  background-color: var(--sklearn-color-background);\n",
              "  border-radius: 1rem;\n",
              "  height: 1rem;\n",
              "  width: 1rem;\n",
              "  text-decoration: none;\n",
              "  /* unfitted */\n",
              "  color: var(--sklearn-color-unfitted-level-1);\n",
              "  border: var(--sklearn-color-unfitted-level-1) 1pt solid;\n",
              "}\n",
              "\n",
              "#sk-container-id-2 a.estimator_doc_link.fitted {\n",
              "  /* fitted */\n",
              "  border: var(--sklearn-color-fitted-level-1) 1pt solid;\n",
              "  color: var(--sklearn-color-fitted-level-1);\n",
              "}\n",
              "\n",
              "/* On hover */\n",
              "#sk-container-id-2 a.estimator_doc_link:hover {\n",
              "  /* unfitted */\n",
              "  background-color: var(--sklearn-color-unfitted-level-3);\n",
              "  color: var(--sklearn-color-background);\n",
              "  text-decoration: none;\n",
              "}\n",
              "\n",
              "#sk-container-id-2 a.estimator_doc_link.fitted:hover {\n",
              "  /* fitted */\n",
              "  background-color: var(--sklearn-color-fitted-level-3);\n",
              "}\n",
              "</style><div id=\"sk-container-id-2\" class=\"sk-top-container\"><div class=\"sk-text-repr-fallback\"><pre>KNeighborsClassifier(n_neighbors=10)</pre><b>In a Jupyter environment, please rerun this cell to show the HTML representation or trust the notebook. <br />On GitHub, the HTML representation is unable to render, please try loading this page with nbviewer.org.</b></div><div class=\"sk-container\" hidden><div class=\"sk-item\"><div class=\"sk-estimator fitted sk-toggleable\"><input class=\"sk-toggleable__control sk-hidden--visually\" id=\"sk-estimator-id-2\" type=\"checkbox\" checked><label for=\"sk-estimator-id-2\" class=\"sk-toggleable__label fitted sk-toggleable__label-arrow fitted\">&nbsp;&nbsp;KNeighborsClassifier<a class=\"sk-estimator-doc-link fitted\" rel=\"noreferrer\" target=\"_blank\" href=\"https://scikit-learn.org/1.4/modules/generated/sklearn.neighbors.KNeighborsClassifier.html\">?<span>Documentation for KNeighborsClassifier</span></a><span class=\"sk-estimator-doc-link fitted\">i<span>Fitted</span></span></label><div class=\"sk-toggleable__content fitted\"><pre>KNeighborsClassifier(n_neighbors=10)</pre></div> </div></div></div></div>"
            ],
            "text/plain": [
              "KNeighborsClassifier(n_neighbors=10)"
            ]
          },
          "execution_count": 52,
          "metadata": {},
          "output_type": "execute_result"
        }
      ],
      "source": [
        "# Treino do KNN com o melhor valor de k\n",
        "knn = KNeighborsClassifier(n_neighbors=10)\n",
        "knn.fit(X_train, y_train)"
      ]
    },
    {
      "cell_type": "markdown",
      "metadata": {
        "id": "96ei4KO-tTuP"
      },
      "source": [
        "O modelo não teve uma melhora significativa em relação ao baseline.\n",
        "O recall para flag=1 se manteve zerado.\n",
        "Indicando que o modelo quase nunca identifica a classe 1 corretamente.\n",
        "\n",
        "Para correção podemos utilizar técnicas de resampling."
      ]
    },
    {
      "cell_type": "markdown",
      "metadata": {
        "id": "GBBTLj7UtTuP"
      },
      "source": [
        "### Reavaliação"
      ]
    },
    {
      "cell_type": "code",
      "execution_count": 53,
      "metadata": {
        "id": "ixG4hI1BtTuP"
      },
      "outputs": [],
      "source": [
        "#Aplicação de SMOTE para balancear as classes\n",
        "\n",
        "from imblearn.over_sampling import SMOTE\n",
        "\n",
        "\n",
        "X = final_dataset.drop(columns=['ROTULO_ALVO_MAU=1'])\n",
        "\n",
        "y = final_dataset['ROTULO_ALVO_MAU=1']\n",
        "\n",
        "X_train, X_test, y_train, y_test = train_test_split(X, y, test_size=0.3, random_state=42)\n",
        "\n",
        "# Apply SMOTE to balance classes\n",
        "sm = SMOTE(random_state=42)\n",
        "X_train_sm, y_train_sm = sm.fit_resample(X_train, y_train)"
      ]
    },
    {
      "cell_type": "code",
      "execution_count": 50,
      "metadata": {
        "colab": {
          "base_uri": "https://localhost:8080/"
        },
        "id": "zG6K-LvatTuQ",
        "outputId": "a34976d8-0d8a-48e3-c6a7-1c2e910bbae2"
      },
      "outputs": [
        {
          "name": "stdout",
          "output_type": "stream",
          "text": [
            "              precision    recall  f1-score   support\n",
            "\n",
            "       False       0.76      0.80      0.78     11132\n",
            "        True       0.32      0.28      0.30      3868\n",
            "\n",
            "    accuracy                           0.66     15000\n",
            "   macro avg       0.54      0.54      0.54     15000\n",
            "weighted avg       0.65      0.66      0.65     15000\n",
            "\n",
            "[[8865 2267]\n",
            " [2791 1077]]\n"
          ]
        }
      ],
      "source": [
        "knn = KNeighborsClassifier(n_neighbors=49)\n",
        "knn.fit(X_train_sm, y_train_sm)\n",
        "\n",
        "# Predição\n",
        "y_pred = knn.predict(X_test)\n",
        "\n",
        "# Avaliaçnao\n",
        "print(classification_report(y_test, y_pred))\n",
        "print(confusion_matrix(y_test, y_pred))"
      ]
    },
    {
      "cell_type": "code",
      "execution_count": 54,
      "metadata": {
        "colab": {
          "base_uri": "https://localhost:8080/",
          "height": 564
        },
        "id": "PY_SxDW1I2L6",
        "outputId": "3f5a829a-c821-4b89-ac36-581d006b7918"
      },
      "outputs": [
        {
          "data": {
            "image/png": "[encoded data removed]",
            "text/plain": [
              "<Figure size 800x600 with 2 Axes>"
            ]
          },
          "metadata": {},
          "output_type": "display_data"
        }
      ],
      "source": [
        "import matplotlib.pyplot as plt\n",
        "import seaborn as sns\n",
        "from sklearn.metrics import confusion_matrix\n",
        "\n",
        "# Assumindo que y_test e y_pred já são definidos pelos códigos passados\n",
        "\n",
        "cm = confusion_matrix(y_test, y_pred)\n",
        "\n",
        "plt.figure(figsize=(8, 6))\n",
        "sns.heatmap(cm, annot=True, fmt='d', cmap='Blues',\n",
        "            xticklabels=['Predicted 0', 'Predicted 1'],\n",
        "            yticklabels=['Actual 0', 'Actual 1'])\n",
        "plt.title('Confusion Matrix')\n",
        "plt.xlabel('Predicted Label')\n",
        "plt.ylabel('True Label')\n",
        "plt.show()\n"
      ]
    },
    {
      "cell_type": "markdown",
      "metadata": {
        "id": "emMhnPEDtTuQ"
      },
      "source": [
        "Com o uso do SMOTE (Synthetic Minority Over-sampling Technique), caímos em acurácia, mas melhoramos significativamente em recall.\n",
        "Porém, com recall ainda baixo."
      ]
    }
  ],
  "metadata": {
    "colab": {
      "provenance": [],
      "toc_visible": true
    },
    "kernelspec": {
      "display_name": "ai-env",
      "language": "python",
      "name": "python3"
    },
    "language_info": {
      "codemirror_mode": {
        "name": "ipython",
        "version": 3
      },
      "file_extension": ".py",
      "mimetype": "text/x-python",
      "name": "python",
      "nbconvert_exporter": "python",
      "pygments_lexer": "ipython3",
      "version": "3.12.4"
    }
  },
  "nbformat": 4,
  "nbformat_minor": 0
}

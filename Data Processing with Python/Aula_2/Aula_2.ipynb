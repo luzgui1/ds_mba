{
 "cells": [
  {
   "cell_type": "markdown",
   "metadata": {},
   "source": [
    "# Aula 2"
   ]
  },
  {
   "cell_type": "markdown",
   "metadata": {},
   "source": [
    "## Funções"
   ]
  },
  {
   "cell_type": "code",
   "execution_count": 45,
   "metadata": {},
   "outputs": [],
   "source": [
    "#implementação recursiva\n",
    "def fatorial(num):\n",
    "    \"\"\"\n",
    "    EXEMPLO DE DOCSTRING\n",
    "    Esta função calcula o fatorial de um número\n",
    "    usando implementação recursiva\n",
    "    \n",
    "    args: num (int) - número a partir do qual \n",
    "    será calculado o fatorial\n",
    "    \n",
    "    return: o fatorial de num\n",
    "    \"\"\"\n",
    "    if (num <= 1):\n",
    "        return 1\n",
    "    else:\n",
    "        return(num * fatorial(num - 1))"
   ]
  },
  {
   "cell_type": "code",
   "execution_count": 47,
   "metadata": {},
   "outputs": [
    {
     "name": "stdout",
     "output_type": "stream",
     "text": [
      "Help on function fatorial in module __main__:\n",
      "\n",
      "fatorial(num)\n",
      "    EXEMPLO DE DOCSTRING\n",
      "    Esta função calcula o fatorial de um número\n",
      "    usando implementação recursiva\n",
      "    \n",
      "    args: num (int) - número a partir do qual \n",
      "    será calculado o fatorial\n",
      "    \n",
      "    return: o fatorial de num\n",
      "\n"
     ]
    }
   ],
   "source": [
    "# EXEMPLO DE DOCSTRING\n",
    "help(fatorial)"
   ]
  },
  {
   "cell_type": "code",
   "execution_count": 8,
   "metadata": {},
   "outputs": [
    {
     "data": {
      "text/plain": [
       "6"
      ]
     },
     "execution_count": 8,
     "metadata": {},
     "output_type": "execute_result"
    }
   ],
   "source": [
    "y = fatorial(3)\n",
    "y"
   ]
  },
  {
   "cell_type": "code",
   "execution_count": 14,
   "metadata": {},
   "outputs": [],
   "source": [
    "# Verifica se um número é par\n",
    "def numero_par(num):\n",
    "    resto = num % 2\n",
    "    if (resto == 0):\n",
    "        return True\n",
    "    else:\n",
    "        return False"
   ]
  },
  {
   "cell_type": "code",
   "execution_count": 15,
   "metadata": {},
   "outputs": [
    {
     "name": "stdout",
     "output_type": "stream",
     "text": [
      "False\n"
     ]
    }
   ],
   "source": [
    "print(numero_par(3))"
   ]
  },
  {
   "cell_type": "markdown",
   "metadata": {},
   "source": [
    "### Lambda"
   ]
  },
  {
   "cell_type": "code",
   "execution_count": 38,
   "metadata": {},
   "outputs": [
    {
     "data": {
      "text/plain": [
       "50"
      ]
     },
     "execution_count": 38,
     "metadata": {},
     "output_type": "execute_result"
    }
   ],
   "source": [
    "# Exemplo\n",
    "f = lambda x, y, z : x + y + z\n",
    "\n",
    "f(10,20,20)"
   ]
  },
  {
   "cell_type": "code",
   "execution_count": 41,
   "metadata": {},
   "outputs": [
    {
     "name": "stdout",
     "output_type": "stream",
     "text": [
      "Vagner Macedo\n",
      "Felicity Jones\n"
     ]
    }
   ],
   "source": [
    "# Podemos ter expressões lambdas com múltiplas entradas\n",
    "nome_completo = lambda nome, sobrenome: nome.strip().title() + ' ' + sobrenome.strip().title()\n",
    "\n",
    "print(nome_completo(' vagner', 'MACEDO'))\n",
    "print(nome_completo('  FELICITY       ', ' jones '))\n"
   ]
  },
  {
   "cell_type": "code",
   "execution_count": 43,
   "metadata": {},
   "outputs": [
    {
     "name": "stdout",
     "output_type": "stream",
     "text": [
      "Vagner Macedo\n",
      "Vagner X\n",
      "Vagner Santos\n"
     ]
    }
   ],
   "source": [
    "# VALOR DEFAULT\n",
    "nome_completo = lambda nome, sobrenome=\"X\": nome.strip().title() + ' ' + sobrenome.strip().title()\n",
    "\n",
    "print(nome_completo(' vagner', 'MACEDO'))\n",
    "print(nome_completo(' vagner'))\n",
    "print(nome_completo(' vagner','sANTOS'))\n"
   ]
  },
  {
   "cell_type": "markdown",
   "metadata": {},
   "source": [
    "## TODO Section"
   ]
  },
  {
   "cell_type": "markdown",
   "metadata": {},
   "source": [
    "### 1)\n",
    "TODO: Crie uma função que retorne na forma de um dicionário as seguintes informações do texto abaixo: \n",
    "número de palavras, número de números e número de frases.\n",
    "\n",
    "Dica: a função isdigit() pode ser útil para determinar o tipo de \n",
    "caracter;\n",
    "Dica: split() usa um caracter (a ser inserido dentro dos parenteses) para separar uma string"
   ]
  },
  {
   "cell_type": "markdown",
   "metadata": {},
   "source": [
    "### Texto\n",
    "\n",
    "Brasil, oficialmente República Federativa do Brasil é o maior país da América do Sul e da região da América Latina, sendo o quinto maior do mundo em área territorial (equivalente a 47 porcento do território sul-americano) e sexto em população (com mais de 200 milhões de habitantes). É o único país na América onde se fala majoritariamente a língua portuguesa e o maior país lusófono do planeta, além de ser uma das nações mais multiculturais e etnicamente diversas, em decorrência da forte imigração oriunda de variados locais do mundo."
   ]
  },
  {
   "cell_type": "code",
   "execution_count": null,
   "metadata": {},
   "outputs": [],
   "source": [
    "# Resposta 1\n"
   ]
  },
  {
   "cell_type": "markdown",
   "metadata": {},
   "source": [
    "### 2)\n",
    "\n",
    "TODO: implemente uma função que recebe uma lista com 100 números, de 0 a 99, e retorne outra lista contendo apenas números primos.\n",
    "\n",
    "Dica: use o método arange() para gerar uma lista. [arange](https://numpy.org/doc/stable/reference/generated/numpy.arange.html)"
   ]
  },
  {
   "cell_type": "code",
   "execution_count": null,
   "metadata": {},
   "outputs": [],
   "source": [
    "# Resposta 2"
   ]
  },
  {
   "cell_type": "markdown",
   "metadata": {},
   "source": [
    "### Chamando um módulo"
   ]
  },
  {
   "cell_type": "code",
   "execution_count": 26,
   "metadata": {},
   "outputs": [
    {
     "ename": "AttributeError",
     "evalue": "module 'calc' has no attribute 'media'",
     "output_type": "error",
     "traceback": [
      "\u001b[1;31m---------------------------------------------------------------------------\u001b[0m",
      "\u001b[1;31mAttributeError\u001b[0m                            Traceback (most recent call last)",
      "Cell \u001b[1;32mIn[26], line 4\u001b[0m\n\u001b[0;32m      2\u001b[0m \u001b[38;5;28;01mimport\u001b[39;00m \u001b[38;5;21;01mcalc\u001b[39;00m\n\u001b[0;32m      3\u001b[0m l \u001b[38;5;241m=\u001b[39m [\u001b[38;5;241m23\u001b[39m, \u001b[38;5;241m54\u001b[39m, \u001b[38;5;241m31\u001b[39m, \u001b[38;5;241m77\u001b[39m, \u001b[38;5;241m12\u001b[39m, \u001b[38;5;241m34\u001b[39m]\n\u001b[1;32m----> 4\u001b[0m \u001b[38;5;28mprint\u001b[39m (\u001b[43mcalc\u001b[49m\u001b[38;5;241;43m.\u001b[39;49m\u001b[43mmedia\u001b[49m(l))\n",
      "\u001b[1;31mAttributeError\u001b[0m: module 'calc' has no attribute 'media'"
     ]
    }
   ],
   "source": [
    "# Criando o seu pacote\n",
    "import calc\n",
    "l = [23, 54, 31, 77, 12, 34]\n",
    "print (calc.media(l))"
   ]
  },
  {
   "cell_type": "code",
   "execution_count": 18,
   "metadata": {},
   "outputs": [
    {
     "name": "stdout",
     "output_type": "stream",
     "text": [
      "130\n"
     ]
    }
   ],
   "source": [
    "import calc\n",
    "l = [23, 57, 21, 9, 12, 8]\n",
    "print (calc.soma(l))"
   ]
  },
  {
   "cell_type": "markdown",
   "metadata": {},
   "source": [
    "## Arquivos e I/O"
   ]
  },
  {
   "cell_type": "code",
   "execution_count": null,
   "metadata": {},
   "outputs": [],
   "source": [
    "import sys\n",
    "# Criando um objeto do tipo file\n",
    "temp = open('temp.txt', 'w')\n",
    "# Escrevendo no arquivo\n",
    "for i in range(100):\n",
    "    temp.write('%03d\\n' % i)\n",
    "# Fechando\n",
    "temp.close()\n",
    "temp = open('temp.txt')\n",
    "# Escrevendo no terminal\n",
    "for x in temp:\n",
    "    #import pdb; pdb.set_trace()\n",
    "    # Escrever em sys.stdout envia o texto para a saída padrão\n",
    "    sys.stdout.write(x)\n",
    "temp.close()"
   ]
  },
  {
   "cell_type": "code",
   "execution_count": null,
   "metadata": {},
   "outputs": [],
   "source": [
    "import sys\n",
    "import os.path\n",
    "# input() retorna a string digitada\n",
    "fn = input('Nome do arquivo: ').strip() #remove espaço em branco extra do nome do arquivo\n",
    "if not os.path.exists(fn):\n",
    "    print ('Tente outra vez...')\n",
    "    sys.exit() # pare a execução do programa\n",
    "# Numerando as linhas\n",
    "for i, s in enumerate(open(fn)):\n",
    "    print (i + 1, s,)"
   ]
  },
  {
   "cell_type": "code",
   "execution_count": null,
   "metadata": {},
   "outputs": [],
   "source": [
    "# Imprime uma lista contendo linhas do arquivo\n",
    "print (open('temp.txt').readlines())"
   ]
  },
  {
   "cell_type": "markdown",
   "metadata": {},
   "source": [
    "## Trabalhando com Tempo"
   ]
  },
  {
   "cell_type": "code",
   "execution_count": 30,
   "metadata": {},
   "outputs": [
    {
     "name": "stdout",
     "output_type": "stream",
     "text": [
      "['_STRUCT_TM_ITEMS', '__doc__', '__loader__', '__name__', '__package__', '__spec__', 'altzone', 'asctime', 'ctime', 'daylight', 'get_clock_info', 'gmtime', 'localtime', 'mktime', 'monotonic', 'monotonic_ns', 'perf_counter', 'perf_counter_ns', 'process_time', 'process_time_ns', 'sleep', 'strftime', 'strptime', 'struct_time', 'thread_time', 'thread_time_ns', 'time', 'time_ns', 'timezone', 'tzname']\n"
     ]
    }
   ],
   "source": [
    "import time\n",
    "\n",
    "print(dir(time))"
   ]
  },
  {
   "cell_type": "code",
   "execution_count": 27,
   "metadata": {},
   "outputs": [
    {
     "name": "stdout",
     "output_type": "stream",
     "text": [
      "time.struct_time(tm_year=2024, tm_mon=4, tm_mday=19, tm_hour=21, tm_min=24, tm_sec=46, tm_wday=4, tm_yday=110, tm_isdst=0)\n",
      "Fri Apr 19 21:24:46 2024\n",
      "Espera 3 segundos e imprime na tela\n",
      "\n",
      "Espera 3 segundos e imprime na tela\n",
      "\n",
      "Espera 3 segundos e imprime na tela\n",
      "\n",
      "Espera 3 segundos e imprime na tela\n",
      "\n",
      "Espera 3 segundos e imprime na tela\n",
      "\n"
     ]
    }
   ],
   "source": [
    "print (time.localtime()) #imprime como uma estrutura\n",
    "print (time.asctime()) #imprime como string\n",
    "for x in range(5):\n",
    "    time.sleep(3)\n",
    "    print('Espera 3 segundos e imprime na tela\\n')"
   ]
  },
  {
   "cell_type": "code",
   "execution_count": 32,
   "metadata": {},
   "outputs": [
    {
     "name": "stdout",
     "output_type": "stream",
     "text": [
      "499999500000\n",
      "tempo decorrido:  0.07277226448059082 segundos\n"
     ]
    }
   ],
   "source": [
    "start_time = time.time()\n",
    "\n",
    "x = 0\n",
    "for i in range(0,1000000):\n",
    "    x += i\n",
    "\n",
    "end_time = time.time()\n",
    "\n",
    "print(x)\n",
    "print('tempo decorrido: ',end_time-start_time, 'segundos')"
   ]
  },
  {
   "cell_type": "code",
   "execution_count": 33,
   "metadata": {},
   "outputs": [
    {
     "name": "stdout",
     "output_type": "stream",
     "text": [
      "Data atual: 2024-04-19 21:44:15.664439\n",
      "Data daqui a 7 dias: 2024-04-26 21:44:15.664439\n",
      "Data há 7 dias: 2024-04-12 21:44:15.664439\n"
     ]
    }
   ],
   "source": [
    "from datetime import datetime, timedelta\n",
    "\n",
    "# Obtendo a data atual\n",
    "data_atual = datetime.now()\n",
    "print(\"Data atual:\", data_atual)\n",
    "\n",
    "# Definindo um intervalo de tempo de 7 dias\n",
    "intervalo = timedelta(days=7)\n",
    "\n",
    "# Calculando uma data 7 dias no futuro\n",
    "data_futura = data_atual + intervalo\n",
    "print(\"Data daqui a 7 dias:\", data_futura)\n",
    "\n",
    "# Calculando uma data 7 dias no passado\n",
    "data_passada = data_atual - intervalo\n",
    "print(\"Data há 7 dias:\", data_passada)\n"
   ]
  },
  {
   "cell_type": "markdown",
   "metadata": {},
   "source": [
    "## Regex - Expressões Regulares"
   ]
  },
  {
   "cell_type": "code",
   "execution_count": 35,
   "metadata": {},
   "outputs": [
    {
     "name": "stdout",
     "output_type": "stream",
     "text": [
      "Queen, Aerosmith & Beatles -> ['Queen', 'Aerosmith', 'Beatles']\n",
      "Phone Num :  2004-959-559 \n",
      "Phone Num :  2004959559\n"
     ]
    }
   ],
   "source": [
    "import re\n",
    "rex = re.compile('\\w+') #qualquer caracter alfanumérico - compilado\n",
    "\n",
    "bandas = 'Queen, Aerosmith & Beatles'\n",
    "print (bandas, '->', rex.findall(bandas))\n",
    "\n",
    "phone = \"2004-959-559 # This is Phone Number\"\n",
    "\n",
    "num = re.sub('#.*$', \"\", phone) #elimina tudo após #\n",
    "print (\"Phone Num : \", num)\n",
    "\n",
    "num = re.sub(r'\\D', \"\", phone)# só deixa número\n",
    "print (\"Phone Num : \", num)"
   ]
  },
  {
   "cell_type": "code",
   "execution_count": 36,
   "metadata": {},
   "outputs": [
    {
     "name": "stdout",
     "output_type": "stream",
     "text": [
      "O número (123) 4567-8901 é válido.\n",
      "O número (987) 6543-2109 é válido.\n",
      "O número 1234567890 não é válido.\n",
      "O número (555) 123-4567 não é válido.\n"
     ]
    }
   ],
   "source": [
    "# Outro Exemplo\n",
    "import re\n",
    "\n",
    "# Definindo um padrão de expressão regular para validar o número de telefone\n",
    "padrao_telefone = r\"\\(\\d{3}\\) \\d{4}-\\d{4}\"\n",
    "\n",
    "# Lista de números de telefone para validação\n",
    "numeros_telefone = [\n",
    "    \"(123) 4567-8901\",\n",
    "    \"(987) 6543-2109\",\n",
    "    \"1234567890\",\n",
    "    \"(555) 123-4567\",\n",
    "]\n",
    "\n",
    "# Validando os números de telefone usando expressões regulares\n",
    "for numero in numeros_telefone:\n",
    "    if re.match(padrao_telefone, numero):\n",
    "        print(f\"O número {numero} é válido.\")\n",
    "    else:\n",
    "        print(f\"O número {numero} não é válido.\")\n"
   ]
  },
  {
   "cell_type": "markdown",
   "metadata": {},
   "source": [
    "## TODO Section"
   ]
  },
  {
   "cell_type": "markdown",
   "metadata": {},
   "source": [
    "### 3)\n",
    "Crie uma função que receba uma data no formato yyyy-mm-dd e, usando Regex,retorne essa data no formato dd-mm-yyyy"
   ]
  },
  {
   "cell_type": "code",
   "execution_count": null,
   "metadata": {},
   "outputs": [],
   "source": [
    "# Resposta"
   ]
  },
  {
   "cell_type": "markdown",
   "metadata": {},
   "source": [
    "### 4)\n",
    "\n",
    "Escreva uma função que receba duas datas (formato datetime '%Y-%m-%d %H:%M:%S') e retorne a diferença entre elas em dias, horas, minutos e segundos\n",
    "\n",
    "Dica: a função divmod() pode ser útil: [link](https://www.programiz.com/python-programming/methods/built-in/divmod)"
   ]
  },
  {
   "cell_type": "code",
   "execution_count": null,
   "metadata": {},
   "outputs": [],
   "source": [
    "# Resposta"
   ]
  }
 ],
 "metadata": {
  "kernelspec": {
   "display_name": "Python 3 (ipykernel)",
   "language": "python",
   "name": "python3"
  },
  "language_info": {
   "codemirror_mode": {
    "name": "ipython",
    "version": 3
   },
   "file_extension": ".py",
   "mimetype": "text/x-python",
   "name": "python",
   "nbconvert_exporter": "python",
   "pygments_lexer": "ipython3",
   "version": "3.11.4"
  }
 },
 "nbformat": 4,
 "nbformat_minor": 4
}

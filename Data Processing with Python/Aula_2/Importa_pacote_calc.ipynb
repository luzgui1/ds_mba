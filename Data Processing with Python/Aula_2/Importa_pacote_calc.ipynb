{
  "nbformat": 4,
  "nbformat_minor": 0,
  "metadata": {
    "colab": {
      "provenance": []
    },
    "kernelspec": {
      "name": "python3",
      "display_name": "Python 3"
    },
    "language_info": {
      "name": "python"
    }
  },
  "cells": [
    {
      "cell_type": "code",
      "execution_count": null,
      "metadata": {
        "colab": {
          "base_uri": "https://localhost:8080/"
        },
        "id": "nqmym7U-LUgP",
        "outputId": "50da4b27-8482-4410-cbe7-63e1a0afac57"
      },
      "outputs": [
        {
          "output_type": "stream",
          "name": "stdout",
          "text": [
            "/content\n"
          ]
        }
      ],
      "source": [
        "!pwd"
      ]
    },
    {
      "cell_type": "code",
      "source": [
        "!ls -la\n",
        "#!cat __pycache__/calc.cpython-310.pyc"
      ],
      "metadata": {
        "colab": {
          "base_uri": "https://localhost:8080/"
        },
        "id": "QTdyzos7Me-N",
        "outputId": "86ca163c-2d19-4b64-8b7b-e14c35eaa95a"
      },
      "execution_count": null,
      "outputs": [
        {
          "output_type": "stream",
          "name": "stdout",
          "text": [
            "total 28\n",
            "drwxr-xr-x 1 root root 4096 Apr 19 11:55 .\n",
            "drwxr-xr-x 1 root root 4096 Apr 19 11:48 ..\n",
            "-rw-r--r-- 1 root root  114 Apr 19 11:55 calc.py\n",
            "drwxr-xr-x 4 root root 4096 Apr 17 13:29 .config\n",
            "drwxr-xr-x 2 root root 4096 Apr 19 11:53 .ipynb_checkpoints\n",
            "drwxr-xr-x 2 root root 4096 Apr 19 11:58 __pycache__\n",
            "drwxr-xr-x 1 root root 4096 Apr 17 13:29 sample_data\n"
          ]
        }
      ]
    },
    {
      "cell_type": "code",
      "source": [
        "# Criando o seu pacote\n",
        "import calc\n",
        "l = [23, 54, 31, 77, 12, 34]\n",
        "print (calc.media(l))"
      ],
      "metadata": {
        "colab": {
          "base_uri": "https://localhost:8080/"
        },
        "id": "3MsGrX86Mr9h",
        "outputId": "29e4a868-6a94-44a6-c511-f83992eb6499"
      },
      "execution_count": null,
      "outputs": [
        {
          "output_type": "stream",
          "name": "stdout",
          "text": [
            "32.5\n"
          ]
        }
      ]
    },
    {
      "cell_type": "code",
      "source": [
        "l = [23, 57, 21, 9, 12, 8]\n",
        "print (calc.soma(l))"
      ],
      "metadata": {
        "colab": {
          "base_uri": "https://localhost:8080/"
        },
        "id": "IiSIgruvMyYg",
        "outputId": "8c57d6d6-a77c-4ad2-964c-118f275196eb"
      },
      "execution_count": null,
      "outputs": [
        {
          "output_type": "stream",
          "name": "stdout",
          "text": [
            "130\n"
          ]
        }
      ]
    },
    {
      "cell_type": "code",
      "source": [
        "!ls -la __pycache__/"
      ],
      "metadata": {
        "colab": {
          "base_uri": "https://localhost:8080/"
        },
        "id": "GmWwk1UTNzat",
        "outputId": "14b563c7-68d1-414e-9a68-cb44ded76d1f"
      },
      "execution_count": null,
      "outputs": [
        {
          "output_type": "stream",
          "name": "stdout",
          "text": [
            "total 12\n",
            "drwxr-xr-x 2 root root 4096 Apr 19 12:01 .\n",
            "drwxr-xr-x 1 root root 4096 Apr 19 11:55 ..\n",
            "-rw-r--r-- 1 root root  357 Apr 19 12:01 calc.cpython-310.pyc\n"
          ]
        }
      ]
    },
    {
      "cell_type": "code",
      "source": [
        "!ls -la"
      ],
      "metadata": {
        "colab": {
          "base_uri": "https://localhost:8080/"
        },
        "id": "WkhfZCjmOK2h",
        "outputId": "665073f8-bf74-4fcc-9743-30066a27c82e"
      },
      "execution_count": null,
      "outputs": [
        {
          "output_type": "stream",
          "name": "stdout",
          "text": [
            "total 28\n",
            "drwxr-xr-x 1 root root 4096 Apr 19 11:55 .\n",
            "drwxr-xr-x 1 root root 4096 Apr 19 11:48 ..\n",
            "-rw-r--r-- 1 root root  114 Apr 19 11:55 calc.py\n",
            "drwxr-xr-x 4 root root 4096 Apr 17 13:29 .config\n",
            "drwxr-xr-x 2 root root 4096 Apr 19 11:53 .ipynb_checkpoints\n",
            "drwxr-xr-x 2 root root 4096 Apr 19 11:58 __pycache__\n",
            "drwxr-xr-x 1 root root 4096 Apr 17 13:29 sample_data\n"
          ]
        }
      ]
    },
    {
      "cell_type": "code",
      "source": [
        "#7c406d07fddb\n",
        "!uname -a"
      ],
      "metadata": {
        "colab": {
          "base_uri": "https://localhost:8080/"
        },
        "id": "-c6ks2nsOTi5",
        "outputId": "f2e8506e-ead9-4218-8242-53a039b485f4"
      },
      "execution_count": null,
      "outputs": [
        {
          "output_type": "stream",
          "name": "stdout",
          "text": [
            "Linux 934127ba6c8c 6.1.58+ #1 SMP PREEMPT_DYNAMIC Sat Nov 18 15:31:17 UTC 2023 x86_64 x86_64 x86_64 GNU/Linux\n"
          ]
        }
      ]
    },
    {
      "cell_type": "code",
      "source": [],
      "metadata": {
        "id": "jKYE7addQmmE"
      },
      "execution_count": null,
      "outputs": []
    }
  ]
}
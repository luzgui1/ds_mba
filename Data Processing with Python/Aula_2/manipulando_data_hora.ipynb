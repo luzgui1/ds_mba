{
  "nbformat": 4,
  "nbformat_minor": 0,
  "metadata": {
    "colab": {
      "provenance": []
    },
    "kernelspec": {
      "name": "python3",
      "display_name": "Python 3"
    },
    "language_info": {
      "name": "python"
    }
  },
  "cells": [
    {
      "cell_type": "code",
      "execution_count": 2,
      "metadata": {
        "colab": {
          "base_uri": "https://localhost:8080/",
          "height": 54
        },
        "id": "MTTugzZJoRU_",
        "outputId": "930f2deb-a203-4f2d-c00e-494856ce0f73"
      },
      "outputs": [
        {
          "output_type": "execute_result",
          "data": {
            "text/plain": [
              "'\\nManipulando Data e Hora\\n\\nPython tem um módulo built-in (integrado) para se trabalhar com data e hora\\nchamado datetime\\n\\n2018-12-21 15:36:38.056382\\n'"
            ],
            "application/vnd.google.colaboratory.intrinsic+json": {
              "type": "string"
            }
          },
          "metadata": {},
          "execution_count": 2
        }
      ],
      "source": [
        "\"\"\"\n",
        "Manipulando Data e Hora\n",
        "\n",
        "Python tem um módulo built-in (integrado) para se trabalhar com data e hora\n",
        "chamado datetime\n",
        "\n",
        "2018-12-21 15:36:38.056382\n",
        "\"\"\""
      ]
    },
    {
      "cell_type": "code",
      "source": [
        "print(dir(datetime))"
      ],
      "metadata": {
        "colab": {
          "base_uri": "https://localhost:8080/"
        },
        "id": "jqqzBXmyo5wK",
        "outputId": "e74a9ca7-c416-4faf-b230-d8530002901d"
      },
      "execution_count": 5,
      "outputs": [
        {
          "output_type": "stream",
          "name": "stdout",
          "text": [
            "['MAXYEAR', 'MINYEAR', '__all__', '__builtins__', '__cached__', '__doc__', '__file__', '__loader__', '__name__', '__package__', '__spec__', 'date', 'datetime', 'datetime_CAPI', 'sys', 'time', 'timedelta', 'timezone', 'tzinfo']\n"
          ]
        }
      ]
    },
    {
      "cell_type": "code",
      "source": [
        "import datetime\n",
        "\n",
        "print(datetime.MAXYEAR)\n",
        "\n",
        "print(datetime.MINYEAR)\n"
      ],
      "metadata": {
        "colab": {
          "base_uri": "https://localhost:8080/"
        },
        "id": "I5KUclJModke",
        "outputId": "501a8c81-ca90-444b-8fea-b6f0a2c0a08d"
      },
      "execution_count": 6,
      "outputs": [
        {
          "output_type": "stream",
          "name": "stdout",
          "text": [
            "9999\n",
            "1\n"
          ]
        }
      ]
    },
    {
      "cell_type": "code",
      "source": [
        "# Retorna a data e hora corrente\n",
        "print(datetime.datetime.now())"
      ],
      "metadata": {
        "colab": {
          "base_uri": "https://localhost:8080/"
        },
        "id": "6FUPMVW7onIE",
        "outputId": "c1df7673-3846-41be-963b-19aa2881f0d3"
      },
      "execution_count": 7,
      "outputs": [
        {
          "output_type": "stream",
          "name": "stdout",
          "text": [
            "2024-04-19 23:14:59.383276\n"
          ]
        }
      ]
    },
    {
      "cell_type": "code",
      "source": [
        "# Return the canonical string representation of the object.\n",
        "print(repr(datetime.datetime.now()))     # datetime.datetime(year, month, day, hour, minute, second, microsecond)"
      ],
      "metadata": {
        "colab": {
          "base_uri": "https://localhost:8080/"
        },
        "id": "kYrCSfB4pEQS",
        "outputId": "a9ca5482-06ed-4251-a9f1-f8a6a182cfef"
      },
      "execution_count": 10,
      "outputs": [
        {
          "output_type": "stream",
          "name": "stdout",
          "text": [
            "datetime.datetime(2024, 4, 19, 23, 16, 28, 827328)\n"
          ]
        }
      ]
    },
    {
      "cell_type": "code",
      "source": [
        "# replace() para fazer ajustes na data/hora\n",
        "\n",
        "inicio = datetime.datetime.now()\n",
        "\n",
        "print(inicio)\n"
      ],
      "metadata": {
        "colab": {
          "base_uri": "https://localhost:8080/"
        },
        "id": "_HTPSu6IpIyY",
        "outputId": "e4e36e1b-e49d-4ca2-8ebd-7fef85a39ca1"
      },
      "execution_count": 11,
      "outputs": [
        {
          "output_type": "stream",
          "name": "stdout",
          "text": [
            "2024-04-19 23:17:18.880087\n"
          ]
        }
      ]
    },
    {
      "cell_type": "code",
      "source": [
        "# Alterar o horário para 16 horas, 0 minuto, 0 segund, 0 microsegundo\n",
        "inicio = inicio.replace(year=2023, hour=16, minute=0, second=0, microsecond=0)\n",
        "\n",
        "print(inicio)"
      ],
      "metadata": {
        "colab": {
          "base_uri": "https://localhost:8080/"
        },
        "id": "meN1k-YVpmTt",
        "outputId": "52df4371-46c1-44d0-a228-be3744f2a56e"
      },
      "execution_count": 12,
      "outputs": [
        {
          "output_type": "stream",
          "name": "stdout",
          "text": [
            "2023-04-19 16:00:00\n"
          ]
        }
      ]
    },
    {
      "cell_type": "code",
      "source": [
        "nascimento = input('Informa sua data de nascimento (dd/mm/yyy): ')\n",
        "\n",
        "print(type(nascimento))\n",
        "\n",
        "nascimento = nascimento.split('/')\n",
        "\n",
        "nascimento = datetime.datetime(int(nascimento[2]), int(nascimento[1]), int(nascimento[0]))\n",
        "\n",
        "print(nascimento)\n",
        "\n",
        "print(type(nascimento))"
      ],
      "metadata": {
        "colab": {
          "base_uri": "https://localhost:8080/"
        },
        "id": "C_J8dYUupo6n",
        "outputId": "6e80fbec-0510-442e-db22-1dae07955e80"
      },
      "execution_count": 16,
      "outputs": [
        {
          "output_type": "stream",
          "name": "stdout",
          "text": [
            "Informa sua data de nascimento (dd/mm/yyy): 30/12/1973\n",
            "<class 'str'>\n",
            "1973-12-30 00:00:00\n",
            "<class 'datetime.datetime'>\n"
          ]
        }
      ]
    },
    {
      "cell_type": "code",
      "source": [
        "evento = datetime.datetime.now()\n",
        "\n",
        "# Acessa individual dos elementos de data e hora\n",
        "\n",
        "print(evento.year)  # ano\n",
        "print(evento.month)  # mês\n",
        "print(evento.day)  # dia\n",
        "print(evento.hour)  # hora\n",
        "print(evento.minute)  # minuto\n",
        "print(evento.second)  # segundo\n",
        "print(evento.microsecond)  # microsegundo\n",
        "\n",
        "print(dir(evento))\n"
      ],
      "metadata": {
        "colab": {
          "base_uri": "https://localhost:8080/"
        },
        "id": "tTh8GprkptC-",
        "outputId": "dbd59b85-52c3-44ca-c003-58770fb7aed3"
      },
      "execution_count": 18,
      "outputs": [
        {
          "output_type": "stream",
          "name": "stdout",
          "text": [
            "2024\n",
            "4\n",
            "19\n",
            "23\n",
            "20\n",
            "31\n",
            "11424\n",
            "['__add__', '__class__', '__delattr__', '__dir__', '__doc__', '__eq__', '__format__', '__ge__', '__getattribute__', '__gt__', '__hash__', '__init__', '__init_subclass__', '__le__', '__lt__', '__ne__', '__new__', '__radd__', '__reduce__', '__reduce_ex__', '__repr__', '__rsub__', '__setattr__', '__sizeof__', '__str__', '__sub__', '__subclasshook__', 'astimezone', 'combine', 'ctime', 'date', 'day', 'dst', 'fold', 'fromisocalendar', 'fromisoformat', 'fromordinal', 'fromtimestamp', 'hour', 'isocalendar', 'isoformat', 'isoweekday', 'max', 'microsecond', 'min', 'minute', 'month', 'now', 'replace', 'resolution', 'second', 'strftime', 'strptime', 'time', 'timestamp', 'timetuple', 'timetz', 'today', 'toordinal', 'tzinfo', 'tzname', 'utcfromtimestamp', 'utcnow', 'utcoffset', 'utctimetuple', 'weekday', 'year']\n"
          ]
        }
      ]
    },
    {
      "cell_type": "code",
      "source": [],
      "metadata": {
        "id": "X-561mVBqSQh"
      },
      "execution_count": null,
      "outputs": []
    }
  ]
}